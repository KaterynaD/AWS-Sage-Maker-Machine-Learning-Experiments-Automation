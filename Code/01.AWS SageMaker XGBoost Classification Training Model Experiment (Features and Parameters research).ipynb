{
 "cells": [
  {
   "cell_type": "markdown",
   "metadata": {},
   "source": [
    "### AWS SageMaker XGBoost Classification Training Model Experiment (Features and Parameters research)\n",
    "Purpose: Based on the configured list of features and/or parameters train several models to compare results. CV folds are not used in the script below. See code 02 and 03 for implemeting cross-validation.\n",
    "\n",
    "The idea is to do a **quick** comparison models with the same method (XGBoost Classification), target variable and dataset but different sets of features and/or parameters. \n",
    "\n",
    "The models can be trained in parallel and even with a large dataste, the result is available relatively soon comparing to sequntial run on a local server.\n",
    "\n",
    "The output is not just a model and score (ROC-AUC) but also feature importance, test dataset evaluation score  and training/validation errors to analyze overfitting.\n",
    "\n",
    "OpenSource XGBoost is used in the script but it can be easily replaced with SageMaker built-in XGBoost.\n",
    "\n",
    "Main steps:\n",
    "\n",
    "1. Experiment configuration. Instead of hardcoding datafile name, target variable, featuresets and parameters sets directly in the code I use an Excel file. Each tab with a predefined name contains featuresets for each model or parameter sets, etc. At the end, the code records the results back into the same excel file. Excel is used as an UI to easily configure experiment. \n",
    "\n",
    "AWS SageMaker Experiment is used also but I did not find it's very useful to track the featuresets and process and visaulaize the results (available in SageMaker notebook).\n",
    "\n",
    "2. Preparing training and validation datasets (data preprocessing) in S3 in a format suitable for AWS Sagemaker. SKLearnProcessor and a processing job are used to create all datasets for all models in one process but the same can be done directly in the script and only the result can be moved to S3. If the datasets can be re-used from a previous experiment, only S3 location to the files can be configured instead.\n",
    "Usually, testing different featuretests requires creation individual datasets per testing model and different parameters can be tested on the same dataset.\n",
    "\n",
    "3. Training each model is done in parallel. The number of simultaneously running training jobs is contolled by a parameter (MaxNumOfRunningModels).\n",
    "\n",
    "4. Extracting results, visualization and saving to an experiment log file.\n",
    "\n",
    "Known issues:\n",
    "1. Warnings after upgrading SageMaker to version 2:\n",
    "INFO:sagemaker.image_uris:Defaulting to the only supported framework/algorithm version: latest.\n",
    "INFO:sagemaker.image_uris:Ignoring unnecessary instance type: None.\n",
    "Looks like warnings from XGBoost open-source estimator. No clear information about the parameters\n",
    "2. All models artifacts (debugging info) are saved into output_path provided as a parameter to the estimator (expected only model.tar.gz) except source/sourcedir.tar.gz which is saved into root of a bucket from output_path. Previously everything except model.tar.gz was saved into default bucket. This is entry_point (training) script and the path is defined in SM_MODULE_DIR environment variable but there is no clue how to change it. "
   ]
  },
  {
   "cell_type": "code",
   "execution_count": 1,
   "metadata": {},
   "outputs": [],
   "source": [
    "temp_folder='/home/kate/Research/YearBuilt/Notebooks/Experiments_v2/tmp/'\n",
    "Experiment_name='subsample'\n",
    "#Experiments log file\n",
    "Experiments_file='/home/kate/Research/YearBuilt/Experiments/DevExperiments.xlsx'\n",
    "#AllExperiments_tab is a table with a list of all experiments included in the log\n",
    "#Mandatory columns: Experiment (Experiment_name), Dataset(data file name), Target(target column name from Dataset)\n",
    "#The rest of the columns are not use in the code below. I usually add in a free form: objective,status,result,notebook name used to conduct the experiment\n",
    "AllExperiments_tab='Experiments'\n",
    "#Experiment configuration:\n",
    "#1.Experiment_Features_tab: differenet datasets to try\n",
    "#each line in the tab contains a model name and set of features to built a dataset for SageMaker\n",
    "#a feature can be an exact column name from the Dataset column in AllExperiments_tab or a calculation based on exact column names and eval pandas function\n",
    "#if the experiment objective is to try different parameters sets, all models (if more then 1) can have the same feature sets.\n",
    "Experiment_Features_tab='%s Features'%Experiment_name\n",
    "#2. Alternatively a set of data files with preprocessed data in S3 can be provided in a form:\n",
    "#Model,Training_data,Validation_data[, Testing_data, Testing_labels]\n",
    "Experiment_InputData_tab='%s InputData'%Experiment_name\n",
    "#3. Experiment_Params_tab: each line in the tab contains a model name and set of XGBoost parametersto apply to a model\n",
    "#the set of models should be consistent in Experiment_Features_tab and Experiment_Params_tab\n",
    "#parameters can be the same for all models or specific in each model\n",
    "Experiment_Params_tab='%s Params'%Experiment_name\n",
    "\n",
    "#Trial names in AWS Sage Maker experiment\n",
    "Trial_name_preprocessing='%s-PreparingTrainValidData'%Experiment_name\n",
    "Trial_name_training='%s-TrainingModels'%Experiment_name\n",
    "\n",
    "#everything stored in\n",
    "bucket='kdproperty'\n",
    "\n",
    "path_to_data='Data'\n",
    "path_to_training_data='Data/Experiments/%s/training'%Experiment_name\n",
    "path_to_validation_data='Data/Experiments/%s/validation'%Experiment_name\n",
    "path_to_testing_data='Data/Experiments/%s/testing'%Experiment_name\n",
    "path_to_testing_labels='Data/Experiments/%s/labels'%Experiment_name\n",
    "path_to_configuration='Config'\n",
    "path_to_models='Models/Experiments/%s'%Experiment_name\n",
    "\n",
    "#preprocessing parameters\n",
    "split_year='2020'\n",
    "val_size='0.25'\n",
    "\n",
    "#level of details returning from model training\n",
    "#any Y return models from a best iteration\n",
    "#FeatureImportance Y/N\n",
    "GetFIFlg='Y'\n",
    "#Scores for Test data (should be provided in fit \"test\" input) Y/N\n",
    "GetTestScoreFlg='Y'\n",
    "#Prediction of Test data (should be provided in fit \"test\" input) Y/N\n",
    "GetTestPredFlg='N' \n",
    "\n",
    "preprocessing_instance_type='ml.t3.large'\n",
    "preprocessing_instance_count=1\n",
    "\n",
    "#Training parameters\n",
    "training_instance_type='ml.c5.xlarge'\n",
    "training_instance_count=1\n",
    "\n",
    "#How many simultaneously running training jobs we want to see in the system\n",
    "MaxNumOfRunningModels = 30\n",
    "#when a job is completes/failed or stopped a new one can be added Jobs status is checked periodically\n",
    "check_training_job_every_sec=10\n",
    "\n",
    "#What to do with teh experiment (rest of running jobs) if a training job failed or stopped\n",
    "StopOnFailedModel = True"
   ]
  },
  {
   "cell_type": "code",
   "execution_count": 2,
   "metadata": {},
   "outputs": [],
   "source": [
    "import sys\n",
    "import time\n",
    "import os\n",
    "\n",
    "import re\n",
    "\n",
    "import pandas as pd\n",
    "import numpy as np\n",
    "\n",
    "import boto3\n",
    "\n",
    "import s3fs\n",
    "import tarfile\n",
    "\n",
    "from sagemaker.sklearn.processing import SKLearnProcessor\n",
    "from sagemaker.processing import ProcessingInput, ProcessingOutput\n",
    "\n",
    "import sagemaker\n",
    "from sagemaker.session import TrainingInput\n",
    "from sagemaker.xgboost.estimator import XGBoost\n",
    "\n",
    "\n",
    "\n",
    "import matplotlib.pyplot as plt\n",
    "\n",
    "\n",
    "from sagemaker.analytics import ExperimentAnalytics"
   ]
  },
  {
   "cell_type": "code",
   "execution_count": 3,
   "metadata": {},
   "outputs": [],
   "source": [
    "#should be run as a first step\n",
    "#role arn is used when run from a local machine\n",
    "sagemaker_execution_role = 'arn:aws:iam::757107622481:role/service-role/AmazonSageMaker-ExecutionRole-20200819T131882'\n",
    "\n",
    "region = boto3.session.Session().region_name\n",
    "sagemaker_session = sagemaker.session.Session()\n",
    "s3 = s3fs.S3FileSystem()\n"
   ]
  },
  {
   "cell_type": "markdown",
   "metadata": {},
   "source": [
    "## Experiment\n",
    "Experiment is configured in an experiment log file (Excel file, in my case,  in different tabs)"
   ]
  },
  {
   "cell_type": "markdown",
   "metadata": {},
   "source": [
    "1. Reading an experiment configuration (Experiment_name) from an experiment log file (Experiments_file). Target and Dataset columns in AllExperiments_tab contain data file name used and target column"
   ]
  },
  {
   "cell_type": "code",
   "execution_count": 4,
   "metadata": {},
   "outputs": [],
   "source": [
    "experiments = pd.read_excel(open(Experiments_file, 'rb'), sheet_name=AllExperiments_tab)"
   ]
  },
  {
   "cell_type": "code",
   "execution_count": 5,
   "metadata": {},
   "outputs": [
    {
     "name": "stdout",
     "output_type": "stream",
     "text": [
      "Target of models in subsample experiment is hasclaim_water\n",
      "Datafile used in subsample experiment is dwelling_basedata_v4.csv\n"
     ]
    }
   ],
   "source": [
    "target=experiments[experiments['Experiment']==Experiment_name]['Target'].values[0]\n",
    "print('Target of models in %s experiment is %s'%(Experiment_name,target))\n",
    "data_file=experiments[experiments['Experiment']==Experiment_name]['Dataset'].values[0]\n",
    "print('Datafile used in %s experiment is %s'%(Experiment_name,data_file))"
   ]
  },
  {
   "cell_type": "markdown",
   "metadata": {},
   "source": [
    "2. Models based on individual datasets to be created, trained and compared in the experiment (Experiment_Features_tab) is a table with first column Model name (should be unique) and next columns [1:51] features to train the model. Feature is the exact column name from the dataset or a calculation based on exact column names and eval pandas function\n",
    "\n",
    "This configuration will be used to preprocess data and also need to be moved to S3 in csv format for easy reading in a preprocessing script if we use AWS SKLearnProcessor/job/instances"
   ]
  },
  {
   "cell_type": "code",
   "execution_count": 6,
   "metadata": {},
   "outputs": [
    {
     "data": {
      "text/html": [
       "<div>\n",
       "<style scoped>\n",
       "    .dataframe tbody tr th:only-of-type {\n",
       "        vertical-align: middle;\n",
       "    }\n",
       "\n",
       "    .dataframe tbody tr th {\n",
       "        vertical-align: top;\n",
       "    }\n",
       "\n",
       "    .dataframe thead th {\n",
       "        text-align: right;\n",
       "    }\n",
       "</style>\n",
       "<table border=\"1\" class=\"dataframe\">\n",
       "  <thead>\n",
       "    <tr style=\"text-align: right;\">\n",
       "      <th></th>\n",
       "      <th>Model</th>\n",
       "      <th>F1</th>\n",
       "      <th>F2</th>\n",
       "      <th>F3</th>\n",
       "      <th>F4</th>\n",
       "      <th>F5</th>\n",
       "      <th>F6</th>\n",
       "    </tr>\n",
       "  </thead>\n",
       "  <tbody>\n",
       "    <tr>\n",
       "      <th>0</th>\n",
       "      <td>BaseModel</td>\n",
       "      <td>usagetype_encd</td>\n",
       "      <td>cova_deductible</td>\n",
       "      <td>cova_limit</td>\n",
       "      <td>sqft</td>\n",
       "      <td>yearbuilt</td>\n",
       "      <td>landlordind</td>\n",
       "    </tr>\n",
       "  </tbody>\n",
       "</table>\n",
       "</div>"
      ],
      "text/plain": [
       "       Model              F1               F2           F3    F4         F5  \\\n",
       "0  BaseModel  usagetype_encd  cova_deductible  cova_limit   sqft  yearbuilt   \n",
       "\n",
       "            F6  \n",
       "0  landlordind  "
      ]
     },
     "execution_count": 6,
     "metadata": {},
     "output_type": "execute_result"
    }
   ],
   "source": [
    "model_features = pd.read_excel(open(Experiments_file, 'rb'), sheet_name=Experiment_Features_tab)\n",
    "model_features  "
   ]
  },
  {
   "cell_type": "code",
   "execution_count": 7,
   "metadata": {},
   "outputs": [],
   "source": [
    "#we may need to get mapping between f0 - fN features in the dataset and feature importance output based on Modelname\n",
    "def GetMap(model):\n",
    "    feature_map={}\n",
    "    df=model_features[model_features['Model']==model].loc[:, model_features.columns != 'Model']\n",
    "    for i,c in enumerate(df.columns):\n",
    "        feature_map['f%s'%i]=df[c].values[0]\n",
    "    return feature_map"
   ]
  },
  {
   "cell_type": "raw",
   "metadata": {},
   "source": [
    "2a.Preprocessed data may already exists in an S3. Experiment configuration can provide the list of files per model. In this case (len(preprocessed_data)==0) the code skips all steps to preprocess data"
   ]
  },
  {
   "cell_type": "code",
   "execution_count": 8,
   "metadata": {},
   "outputs": [],
   "source": [
    "try:\n",
    "    preprocessed_data = pd.read_excel(open(Experiments_file, 'rb'), sheet_name=Experiment_InputData_tab)\n",
    "except:\n",
    "    preprocessed_data = pd.DataFrame()"
   ]
  },
  {
   "cell_type": "markdown",
   "metadata": {},
   "source": [
    "2b.Saving into S3 models configurations (sets of features) to be used in data preprocessing"
   ]
  },
  {
   "cell_type": "code",
   "execution_count": 9,
   "metadata": {},
   "outputs": [],
   "source": [
    "if len(preprocessed_data)==0:\n",
    "    Model_Config_file='%s.csv'%Experiment_name\n",
    "    Models_Config_path = os.path.join(temp_folder, Model_Config_file) \n",
    "\n",
    "    model_features.to_csv(Models_Config_path, header=True, index=False)\n",
    "\n",
    "\n",
    "    input_code = sagemaker_session.upload_data(\n",
    "        Models_Config_path,\n",
    "        bucket=bucket,\n",
    "        key_prefix=path_to_configuration\n",
    "    )"
   ]
  },
  {
   "cell_type": "markdown",
   "metadata": {},
   "source": [
    "3. Model params to be used in training is a table with first column Model name (should be unique and corresponds to models in Experiment_Features_tab) and next columns are XGBoost parameters\n",
    "In a general case, all models can have the same parameters"
   ]
  },
  {
   "cell_type": "code",
   "execution_count": 10,
   "metadata": {},
   "outputs": [
    {
     "data": {
      "text/html": [
       "<div>\n",
       "<style scoped>\n",
       "    .dataframe tbody tr th:only-of-type {\n",
       "        vertical-align: middle;\n",
       "    }\n",
       "\n",
       "    .dataframe tbody tr th {\n",
       "        vertical-align: top;\n",
       "    }\n",
       "\n",
       "    .dataframe thead th {\n",
       "        text-align: right;\n",
       "    }\n",
       "</style>\n",
       "<table border=\"1\" class=\"dataframe\">\n",
       "  <thead>\n",
       "    <tr style=\"text-align: right;\">\n",
       "      <th></th>\n",
       "      <th>Model</th>\n",
       "      <th>objective</th>\n",
       "      <th>eval_metric</th>\n",
       "      <th>booster</th>\n",
       "      <th>scale_pos_weight</th>\n",
       "      <th>colsample_bylevel</th>\n",
       "      <th>colsample_bytree</th>\n",
       "      <th>eta</th>\n",
       "      <th>max_depth</th>\n",
       "      <th>num_round</th>\n",
       "      <th>subsample</th>\n",
       "    </tr>\n",
       "  </thead>\n",
       "  <tbody>\n",
       "    <tr>\n",
       "      <th>0</th>\n",
       "      <td>BaseModel</td>\n",
       "      <td>binary:logistic</td>\n",
       "      <td>auc</td>\n",
       "      <td>gbtree</td>\n",
       "      <td>0.3</td>\n",
       "      <td>0.2</td>\n",
       "      <td>0.8</td>\n",
       "      <td>0.02</td>\n",
       "      <td>3</td>\n",
       "      <td>5000</td>\n",
       "      <td>0.2</td>\n",
       "    </tr>\n",
       "    <tr>\n",
       "      <th>1</th>\n",
       "      <td>BaseModel</td>\n",
       "      <td>binary:logistic</td>\n",
       "      <td>auc</td>\n",
       "      <td>gbtree</td>\n",
       "      <td>0.3</td>\n",
       "      <td>0.3</td>\n",
       "      <td>0.8</td>\n",
       "      <td>0.02</td>\n",
       "      <td>3</td>\n",
       "      <td>5000</td>\n",
       "      <td>0.3</td>\n",
       "    </tr>\n",
       "    <tr>\n",
       "      <th>2</th>\n",
       "      <td>BaseModel</td>\n",
       "      <td>binary:logistic</td>\n",
       "      <td>auc</td>\n",
       "      <td>gbtree</td>\n",
       "      <td>0.3</td>\n",
       "      <td>0.4</td>\n",
       "      <td>0.8</td>\n",
       "      <td>0.02</td>\n",
       "      <td>3</td>\n",
       "      <td>5000</td>\n",
       "      <td>0.4</td>\n",
       "    </tr>\n",
       "    <tr>\n",
       "      <th>3</th>\n",
       "      <td>BaseModel</td>\n",
       "      <td>binary:logistic</td>\n",
       "      <td>auc</td>\n",
       "      <td>gbtree</td>\n",
       "      <td>0.3</td>\n",
       "      <td>0.5</td>\n",
       "      <td>0.8</td>\n",
       "      <td>0.02</td>\n",
       "      <td>3</td>\n",
       "      <td>5000</td>\n",
       "      <td>0.5</td>\n",
       "    </tr>\n",
       "    <tr>\n",
       "      <th>4</th>\n",
       "      <td>BaseModel</td>\n",
       "      <td>binary:logistic</td>\n",
       "      <td>auc</td>\n",
       "      <td>gbtree</td>\n",
       "      <td>0.3</td>\n",
       "      <td>0.6</td>\n",
       "      <td>0.8</td>\n",
       "      <td>0.02</td>\n",
       "      <td>3</td>\n",
       "      <td>5000</td>\n",
       "      <td>0.6</td>\n",
       "    </tr>\n",
       "    <tr>\n",
       "      <th>5</th>\n",
       "      <td>BaseModel</td>\n",
       "      <td>binary:logistic</td>\n",
       "      <td>auc</td>\n",
       "      <td>gbtree</td>\n",
       "      <td>0.3</td>\n",
       "      <td>0.7</td>\n",
       "      <td>0.8</td>\n",
       "      <td>0.02</td>\n",
       "      <td>3</td>\n",
       "      <td>5000</td>\n",
       "      <td>0.7</td>\n",
       "    </tr>\n",
       "    <tr>\n",
       "      <th>6</th>\n",
       "      <td>BaseModel</td>\n",
       "      <td>binary:logistic</td>\n",
       "      <td>auc</td>\n",
       "      <td>gbtree</td>\n",
       "      <td>0.3</td>\n",
       "      <td>0.8</td>\n",
       "      <td>0.8</td>\n",
       "      <td>0.02</td>\n",
       "      <td>3</td>\n",
       "      <td>5000</td>\n",
       "      <td>0.8</td>\n",
       "    </tr>\n",
       "    <tr>\n",
       "      <th>7</th>\n",
       "      <td>BaseModel</td>\n",
       "      <td>binary:logistic</td>\n",
       "      <td>auc</td>\n",
       "      <td>gbtree</td>\n",
       "      <td>0.3</td>\n",
       "      <td>0.9</td>\n",
       "      <td>0.8</td>\n",
       "      <td>0.02</td>\n",
       "      <td>3</td>\n",
       "      <td>5000</td>\n",
       "      <td>1.0</td>\n",
       "    </tr>\n",
       "  </tbody>\n",
       "</table>\n",
       "</div>"
      ],
      "text/plain": [
       "       Model        objective eval_metric booster  scale_pos_weight  \\\n",
       "0  BaseModel  binary:logistic         auc  gbtree               0.3   \n",
       "1  BaseModel  binary:logistic         auc  gbtree               0.3   \n",
       "2  BaseModel  binary:logistic         auc  gbtree               0.3   \n",
       "3  BaseModel  binary:logistic         auc  gbtree               0.3   \n",
       "4  BaseModel  binary:logistic         auc  gbtree               0.3   \n",
       "5  BaseModel  binary:logistic         auc  gbtree               0.3   \n",
       "6  BaseModel  binary:logistic         auc  gbtree               0.3   \n",
       "7  BaseModel  binary:logistic         auc  gbtree               0.3   \n",
       "\n",
       "   colsample_bylevel  colsample_bytree   eta  max_depth  num_round  subsample  \n",
       "0                0.2               0.8  0.02          3       5000        0.2  \n",
       "1                0.3               0.8  0.02          3       5000        0.3  \n",
       "2                0.4               0.8  0.02          3       5000        0.4  \n",
       "3                0.5               0.8  0.02          3       5000        0.5  \n",
       "4                0.6               0.8  0.02          3       5000        0.6  \n",
       "5                0.7               0.8  0.02          3       5000        0.7  \n",
       "6                0.8               0.8  0.02          3       5000        0.8  \n",
       "7                0.9               0.8  0.02          3       5000        1.0  "
      ]
     },
     "execution_count": 10,
     "metadata": {},
     "output_type": "execute_result"
    }
   ],
   "source": [
    "model_params = pd.read_excel(open(Experiments_file, 'rb'), sheet_name=Experiment_Params_tab)\n",
    "model_params"
   ]
  },
  {
   "cell_type": "markdown",
   "metadata": {},
   "source": [
    "4.Verification if we have the same set of models in both configurations"
   ]
  },
  {
   "cell_type": "code",
   "execution_count": 11,
   "metadata": {},
   "outputs": [],
   "source": [
    "models_from_model_features=model_features['Model'].tolist()\n",
    "models_from_model_params=model_params['Model'].tolist()\n",
    "if len([x for x in models_from_model_features if x not in models_from_model_params])!=0:\n",
    "    raise Exception('Different set of models in featuresets and parametersets!')\n",
    "if len(preprocessed_data)>0:\n",
    "    models_from_preprocessed_data=preprocessed_data['Model'].tolist()\n",
    "    if len([x for x in models_from_preprocessed_data if x not in models_from_model_params])!=0:\n",
    "        raise Exception('Different set of models in input data and parametersets!')"
   ]
  },
  {
   "cell_type": "markdown",
   "metadata": {},
   "source": [
    "5.Creating experiments and trials in SageMaker"
   ]
  },
  {
   "cell_type": "code",
   "execution_count": 12,
   "metadata": {},
   "outputs": [],
   "source": [
    "#sys.path.append('/home/kate/Research/YearBuilt/Notebooks/Experiments')\n",
    "import ExperimentsUtils as eu"
   ]
  },
  {
   "cell_type": "code",
   "execution_count": 13,
   "metadata": {},
   "outputs": [
    {
     "name": "stderr",
     "output_type": "stream",
     "text": [
      "INFO:botocore.credentials:Found credentials in shared credentials file: ~/.aws/credentials\n",
      "INFO:botocore.credentials:Found credentials in shared credentials file: ~/.aws/credentials\n",
      "INFO:botocore.credentials:Found credentials in shared credentials file: ~/.aws/credentials\n",
      "INFO:botocore.credentials:Found credentials in shared credentials file: ~/.aws/credentials\n",
      "INFO:botocore.credentials:Found credentials in shared credentials file: ~/.aws/credentials\n",
      "INFO:botocore.credentials:Found credentials in shared credentials file: ~/.aws/credentials\n",
      "INFO:botocore.credentials:Found credentials in shared credentials file: ~/.aws/credentials\n",
      "INFO:botocore.credentials:Found credentials in shared credentials file: ~/.aws/credentials\n",
      "INFO:botocore.credentials:Found credentials in shared credentials file: ~/.aws/credentials\n",
      "INFO:botocore.credentials:Found credentials in shared credentials file: ~/.aws/credentials\n",
      "INFO:botocore.credentials:Found credentials in shared credentials file: ~/.aws/credentials\n",
      "INFO:botocore.credentials:Found credentials in shared credentials file: ~/.aws/credentials\n",
      "INFO:botocore.credentials:Found credentials in shared credentials file: ~/.aws/credentials\n",
      "INFO:botocore.credentials:Found credentials in shared credentials file: ~/.aws/credentials\n"
     ]
    }
   ],
   "source": [
    "eu.cleanup_experiment(Experiment_name)\n",
    "eu.create_experiment(Experiment_name)\n",
    "eu.create_trial(Experiment_name,Trial_name_preprocessing)\n",
    "eu.create_trial(Experiment_name,Trial_name_training)"
   ]
  },
  {
   "cell_type": "markdown",
   "metadata": {},
   "source": [
    "## Data preprocessing"
   ]
  },
  {
   "cell_type": "markdown",
   "metadata": {},
   "source": [
    "1. We may not need an AWS SKLearnProcessor/job/instances for relatively small and medium datasets (unless our data are already in S3 and it takes time and money to download)\n",
    "What's important is to save the prepared datasets in a predefined S3 location to be used in training.\n",
    "In a case of really huge datasets and instensive, time consuming preprocessing, a separate SKLearnProcessor/job for each model can be created with more then 1 powerful instance.\n",
    "\n",
    "Preprocessing script below reads the data from the input dataset, model configurations (desired featuresets), seprate 2020 (split_year) as a test dataset (not used in the experiment, because the data may be not complete developed in the year) and split the rest of the data to training and validation datasets. \n",
    "\n",
    "Training and validation datasets are saved in AWS SageMaker form (first column is a target, no header) in csv format. The location and filenames are based on model names: folder name is a model name and file names also contain a model name."
   ]
  },
  {
   "cell_type": "code",
   "execution_count": 14,
   "metadata": {},
   "outputs": [
    {
     "name": "stdout",
     "output_type": "stream",
     "text": [
      "Overwriting preprocessing_for_all_models.py\n"
     ]
    }
   ],
   "source": [
    "%%writefile preprocessing_for_all_models.py\n",
    "\n",
    "#Training and Validation dataset for SageMaker are the same structure: no headers, the first column is a target and the rest are features\n",
    "\n",
    "\n",
    "import argparse\n",
    "import os\n",
    "import pandas as pd\n",
    "import numpy as np\n",
    "from sklearn.model_selection import train_test_split\n",
    "\n",
    "if __name__=='__main__':\n",
    "    \n",
    "    parser = argparse.ArgumentParser()\n",
    "    parser.add_argument('--data_file', type=str)\n",
    "    parser.add_argument('--split_year', type=int)     \n",
    "    parser.add_argument('--val_size', type=float)     \n",
    "    parser.add_argument('--target', type=str)      \n",
    "    parser.add_argument('--config_file', type=str)     \n",
    "    args, _ = parser.parse_known_args()    \n",
    "    print('Received arguments {}'.format(args))\n",
    "    \n",
    "   \n",
    "    target_column=args.target\n",
    "    input_data_path = os.path.join('/opt/ml/processing/input', args.data_file)\n",
    "    config_data_path = os.path.join('/opt/ml/processing/config', args.config_file)\n",
    "    \n",
    "    print('Reading input data from {}'.format(input_data_path))\n",
    "    dataset = pd.read_csv(input_data_path, error_bad_lines=False, index_col=False)\n",
    "    dataset_test=dataset[(dataset.cal_year == args.split_year)]\n",
    "    dataset=dataset[(dataset.cal_year < args.split_year)]    \n",
    "    \n",
    "\n",
    "    print('Reading config data from {}'.format(config_data_path))\n",
    "    models = pd.read_csv(config_data_path, error_bad_lines=False, index_col=False)    \n",
    "    \n",
    "\n",
    "    #iterating thru config file with models and featureset\n",
    "    for index, row in models.iterrows():\n",
    "        model=row['Model']\n",
    "        print (index, ': Creating datasets for model %s'%model)\n",
    "        featureset=row[1:51].tolist()\n",
    "        featureset=[x for x in featureset if str(x) != 'nan']\n",
    "        print(','.join(featureset))\n",
    "        \n",
    "        #creating dataset for a model according to configured dataset\n",
    "        X = pd.DataFrame()\n",
    "        X_test = pd.DataFrame()        \n",
    "        for f in featureset:\n",
    "            X[f]=dataset.eval(f)\n",
    "            X_test[f]=dataset_test.eval(f)            \n",
    "        y=dataset.eval(target_column)\n",
    "        y_test=dataset_test.eval(target_column) \n",
    "        \n",
    "        print('Testing data...')\n",
    "        test_data_output_path = '/opt/ml/processing/output/testing_data/%s/'%model              \n",
    "        if not os.path.exists(test_data_output_path):\n",
    "            os.makedirs(test_data_output_path)       \n",
    "        test_data_output_path = os.path.join(test_data_output_path,  'testing_%s.csv'%(model))     \n",
    "        test_dataset=pd.DataFrame({target_column:y_test}).join(X_test)\n",
    "        test_dataset.to_csv(test_data_output_path, header=False, index=False)\n",
    "\n",
    "        \n",
    "        \n",
    "        #separating training and validation \n",
    "        X_train, X_val, y_train, y_val = train_test_split(X, y, test_size=args.val_size, random_state=42)\n",
    "        \n",
    "        print('Train data...')        \n",
    "        if not os.path.exists('/opt/ml/processing/output/training_data/%s'%model):\n",
    "            os.makedirs('/opt/ml/processing/output/training_data/%s'%model)\n",
    "        train_data_output_path = os.path.join('/opt/ml/processing/output/training_data/%s'%model, 'training_%s.csv'%model) \n",
    "        \n",
    "        training_dataset=pd.DataFrame({target_column:y_train}).join(X_train)\n",
    "        training_dataset.to_csv(train_data_output_path, header=False, index=False)\n",
    "\n",
    "        print('Validation data...')                \n",
    "        if not os.path.exists('/opt/ml/processing/output/validation_data/%s'%model):\n",
    "            os.makedirs('/opt/ml/processing/output/validation_data/%s'%model)\n",
    "        validation_data_output_path = os.path.join('/opt/ml/processing/output/validation_data/%s'%model, 'validation_%s.csv'%model)        \n",
    "        \n",
    "        validation_dataset=pd.DataFrame({target_column:y_val}).join(X_val)   \n",
    "        validation_dataset.to_csv(validation_data_output_path, header=False, index=False)"
   ]
  },
  {
   "cell_type": "markdown",
   "metadata": {},
   "source": [
    "2. Preprocessing output (training and validation datasets) are saved separately for each model in a folder with the same name as a models name configured in the experiment"
   ]
  },
  {
   "cell_type": "code",
   "execution_count": 15,
   "metadata": {},
   "outputs": [
    {
     "name": "stdout",
     "output_type": "stream",
     "text": [
      "Data already preprocessed in S3\n"
     ]
    }
   ],
   "source": [
    "if len(preprocessed_data)==0:\n",
    "    data_processor = SKLearnProcessor(framework_version='0.20.0',\n",
    "                                     role=sagemaker_execution_role,\n",
    "                                     instance_type=preprocessing_instance_type,\n",
    "                                     instance_count=preprocessing_instance_count)    \n",
    "    data_processor.run(code='preprocessing_for_all_models.py',\n",
    "                            inputs=[ProcessingInput(input_name='data',source='s3://%s/%s/%s'%(bucket,path_to_data,data_file),destination='/opt/ml/processing/input'),\n",
    "            ProcessingInput(input_name='config',source='s3://%s/%s/%s'%(bucket,path_to_configuration,Model_Config_file),destination='/opt/ml/processing/config'),\n",
    "                                   ],\n",
    "                        outputs=[ProcessingOutput(output_name='training_data', source='/opt/ml/processing/output/training_data',destination='s3://%s/%s/'%(bucket,path_to_training_data)),                                 \n",
    "                                 ProcessingOutput(output_name='validation_data', source='/opt/ml/processing/output/validation_data',destination='s3://%s/%s/'%(bucket,path_to_validation_data)),                                      \n",
    "                                 ProcessingOutput(output_name='testing_data', source='/opt/ml/processing/output/testing_data',destination='s3://%s/%s/'%(bucket,path_to_testing_data))\n",
    "                                ],\n",
    "                        arguments=['--data_file',data_file,\n",
    "                                 '--split_year',split_year,\n",
    "                                 '--target',target,                                    \n",
    "                                 '--config_file',Model_Config_file],\n",
    "                        experiment_config = {\n",
    "        'ExperimentName': Experiment_name ,\n",
    "        'TrialName' : Trial_name_preprocessing,\n",
    "        'TrialComponentDisplayName' : '%s-%s'%(Trial_name_preprocessing,'-'+time.strftime(\"%Y-%m-%d-%H-%M-%S\", time.gmtime())),},\n",
    "                    wait=True\n",
    "                     )\n",
    "else:\n",
    "    print('Data already preprocessed in S3')"
   ]
  },
  {
   "cell_type": "code",
   "execution_count": 16,
   "metadata": {},
   "outputs": [],
   "source": [
    "#in a case a previous step started preprocesing (nothing provided in InputData) Stop the execution if there is an issue with creating input data for the models\n",
    "if len(preprocessed_data)==0:\n",
    "    job_name=data_processor.jobs[-1].describe()['ProcessingJobName']\n",
    "    if not(sagemaker_session.was_processing_job_successful(job_name)):\n",
    "        raise Exception('Preprocessing job Failed!')    "
   ]
  },
  {
   "cell_type": "markdown",
   "metadata": {},
   "source": [
    "3. The created output is saved in the experiment log. The log will be used to create training jobs. It's also possible to re-use already created training and validation files in other experiments. In this case, instead of feature sets per model just provide the table in a form:Model, Training_data, Validation_data for further processing"
   ]
  },
  {
   "cell_type": "code",
   "execution_count": 17,
   "metadata": {},
   "outputs": [],
   "source": [
    "#was not tested on more then 1 row in model_feature\n",
    "if len(preprocessed_data)==0:\n",
    "    preprocessed_data = pd.DataFrame(columns=['Model', 'Training_data', 'Validation_data', 'Testing_data'])\n",
    "    for index, row in model_features.iterrows():\n",
    "        model=row['Model']\n",
    "        train_input = 's3://%s/%s/%s/'%(bucket,path_to_training_data,model)\n",
    "        validation_input = 's3://%s/%s/%s/'%(bucket,path_to_validation_data,model)\n",
    "        test_data = 's3://%s/%s/%s/testing_%s.csv'%(bucket,path_to_testing_data,model,model) \n",
    "        preprocessed_data.loc[index]=[model, train_input,validation_input,test_data]\n",
    "    #preprocessed_data = pd.concat([preprocessed_data,model_features.drop('Model',axis=1)], axis=1)\n",
    "    #Saving into the Experiment log file names of created training and validation datasets in S3\n",
    "    eu.SaveToExperimentLog(Experiments_file, '%s InputData'%Experiment_name, preprocessed_data)"
   ]
  },
  {
   "cell_type": "code",
   "execution_count": 18,
   "metadata": {},
   "outputs": [
    {
     "data": {
      "text/html": [
       "<div>\n",
       "<style scoped>\n",
       "    .dataframe tbody tr th:only-of-type {\n",
       "        vertical-align: middle;\n",
       "    }\n",
       "\n",
       "    .dataframe tbody tr th {\n",
       "        vertical-align: top;\n",
       "    }\n",
       "\n",
       "    .dataframe thead th {\n",
       "        text-align: right;\n",
       "    }\n",
       "</style>\n",
       "<table border=\"1\" class=\"dataframe\">\n",
       "  <thead>\n",
       "    <tr style=\"text-align: right;\">\n",
       "      <th></th>\n",
       "      <th>Model</th>\n",
       "      <th>Training_data</th>\n",
       "      <th>Validation_data</th>\n",
       "      <th>Testing_data</th>\n",
       "      <th>F1</th>\n",
       "      <th>F2</th>\n",
       "      <th>F3</th>\n",
       "      <th>F4</th>\n",
       "      <th>F5</th>\n",
       "      <th>F6</th>\n",
       "    </tr>\n",
       "  </thead>\n",
       "  <tbody>\n",
       "    <tr>\n",
       "      <th>0</th>\n",
       "      <td>BaseModel</td>\n",
       "      <td>s3://kdproperty/Data/Experiments/bylevel/train...</td>\n",
       "      <td>s3://kdproperty/Data/Experiments/bylevel/valid...</td>\n",
       "      <td>s3://kdproperty/Data/Experiments/bylevel/testi...</td>\n",
       "      <td>usagetype_encd</td>\n",
       "      <td>cova_deductible</td>\n",
       "      <td>cova_limit</td>\n",
       "      <td>sqft</td>\n",
       "      <td>yearbuilt</td>\n",
       "      <td>landlordind</td>\n",
       "    </tr>\n",
       "  </tbody>\n",
       "</table>\n",
       "</div>"
      ],
      "text/plain": [
       "       Model                                      Training_data  \\\n",
       "0  BaseModel  s3://kdproperty/Data/Experiments/bylevel/train...   \n",
       "\n",
       "                                     Validation_data  \\\n",
       "0  s3://kdproperty/Data/Experiments/bylevel/valid...   \n",
       "\n",
       "                                        Testing_data              F1  \\\n",
       "0  s3://kdproperty/Data/Experiments/bylevel/testi...  usagetype_encd   \n",
       "\n",
       "                F2           F3    F4         F5           F6  \n",
       "0  cova_deductible  cova_limit   sqft  yearbuilt  landlordind  "
      ]
     },
     "execution_count": 18,
     "metadata": {},
     "output_type": "execute_result"
    }
   ],
   "source": [
    "preprocessed_data"
   ]
  },
  {
   "cell_type": "markdown",
   "metadata": {},
   "source": [
    "## Model training"
   ]
  },
  {
   "cell_type": "markdown",
   "metadata": {},
   "source": [
    "1. Custom script to train a model. It's requred for open-source SageMaker XGBoost container used further in the notebook. The script returns some additional information (feature importance, test dataset scores and train/validation errors) from training for custom processing. The custom output is saved in output.tar.gz."
   ]
  },
  {
   "cell_type": "code",
   "execution_count": 19,
   "metadata": {},
   "outputs": [
    {
     "name": "stdout",
     "output_type": "stream",
     "text": [
      "Writing ModelTraining1.py\n"
     ]
    }
   ],
   "source": [
    "%%writefile ModelTraining.py\n",
    "\n",
    "#  Copyright 2018 Amazon.com, Inc. or its affiliates. All Rights Reserved.\n",
    "#\n",
    "#  Licensed under the Apache License, Version 2.0 (the \"License\").\n",
    "#  You may not use this file except in compliance with the License.\n",
    "#  A copy of the License is located at\n",
    "#\n",
    "#      http://www.apache.org/licenses/LICENSE-2.0\n",
    "#\n",
    "#  or in the \"license\" file accompanying this file. This file is distributed\n",
    "#  on an \"AS IS\" BASIS, WITHOUT WARRANTIES OR CONDITIONS OF ANY KIND, either\n",
    "#  express or implied. See the License for the specific language governing\n",
    "#  permissions and limitations under the License.\n",
    "from __future__ import print_function\n",
    "\n",
    "import argparse\n",
    "import json\n",
    "import logging\n",
    "import os\n",
    "import pandas as pd\n",
    "import pickle as pkl\n",
    "\n",
    "from sagemaker_containers import entry_point\n",
    "from sagemaker_xgboost_container.data_utils import get_dmatrix\n",
    "from sagemaker_xgboost_container import distributed\n",
    "\n",
    "import xgboost as xgb\n",
    "\n",
    "import pandas as pd\n",
    "import numpy as np\n",
    "\n",
    "from sklearn.metrics import roc_auc_score\n",
    "\n",
    "def _xgb_train(params, dtrain, evals, num_boost_round, early_stopping_rounds, model_dir, output_data_dir, GetFIFlg,GetTestScoreFlg,GetTestPredFlg, is_master):\n",
    "    \"\"\"Run xgb train on arguments given with rabit initialized.\n",
    "\n",
    "    This is our rabit execution function.\n",
    "\n",
    "    :param args_dict: Argument dictionary used to run xgb.train().\n",
    "    :param is_master: True if current node is master host in distributed training,\n",
    "                        or is running single node training job.\n",
    "                        Note that rabit_run will include this argument.\n",
    "    \"\"\"\n",
    "    progress = dict()\n",
    "    booster = xgb.train(params=params,\n",
    "                        dtrain=dtrain,\n",
    "                        evals=evals,\n",
    "                        maximize=True,\n",
    "                        num_boost_round=num_boost_round,\n",
    "                        early_stopping_rounds=early_stopping_rounds,\n",
    "                        evals_result=progress,\n",
    "                        verbose_eval=100)\n",
    "    \n",
    "    print('Eval results')    \n",
    "    train_error=progress['train']['auc']\n",
    "    eval_error=progress['validation']['auc']\n",
    "    results_pd=pd.DataFrame({'train':train_error,'valid':eval_error},columns=['train','valid'])\n",
    "    \n",
    "    \n",
    "    #feature importance\n",
    "    if GetFIFlg=='Y':\n",
    "        fi_weight =booster.get_score(importance_type='weight')\n",
    "        fi_gain = booster.get_score(importance_type='gain')\n",
    "        fi_cover= booster.get_score(importance_type='cover')\n",
    "        fi_weight_pd = pd.DataFrame(fi_weight.items(),columns=['feature','weight'])\n",
    "        fi_gain_pd = pd.DataFrame(fi_gain.items(),columns=['feature','gain'])\n",
    "        fi_cover_pd = pd.DataFrame(fi_cover.items(),columns=['feature','cover'])\n",
    "        fi_pd=pd.merge(fi_gain_pd, fi_weight_pd, on='feature', how='inner')\n",
    "        fi_pd=pd.merge(fi_pd, fi_cover_pd, on='feature', how='inner')\n",
    "\n",
    "    #Prediction on test data ...\n",
    "    if 'Y' in (GetTestScoreFlg,GetTestPredFlg):\n",
    "        df_prediction=pd.DataFrame()\n",
    "        df_prediction['actual']=dtest.get_label()\n",
    "        df_prediction['pred']=booster.predict(dtest)\n",
    "   \n",
    "        #Test scores from test prediction   \n",
    "        df_score = pd.DataFrame()\n",
    "        df_score['roc-auc-test']=[roc_auc_score(df_prediction['actual'], df_prediction['pred'])]\n",
    "    \n",
    "    if is_master:\n",
    "        model_location = model_dir + '/xgboost-model'\n",
    "        pkl.dump(booster, open(model_location, 'wb'))\n",
    "        logging.info(\"Stored trained model at {}\".format(model_location))\n",
    "        \n",
    "        if not os.path.exists(output_data_dir):\n",
    "            os.makedirs(output_data_dir)\n",
    "\n",
    "        result_location = os.path.join(output_data_dir, 'eval_results.csv')\n",
    "        print('Saving eval results at {}'.format(result_location))\n",
    "        logging.info('Saving eval results at {}'.format(result_location))\n",
    "        results_pd.to_csv(result_location, header=True, index=False)\n",
    "        \n",
    "        if GetFIFlg=='Y':\n",
    "            fi_location = os.path.join(output_data_dir, 'fi.csv')\n",
    "            print('Saving feature importance at {}'.format(fi_location))\n",
    "            logging.info('Saving feature importance at {}'.format(fi_location))\n",
    "            fi_pd.to_csv(fi_location, header=True, index=False)\n",
    "        \n",
    "        if GetTestPredFlg=='Y':\n",
    "            predictions_location = os.path.join(output_data_dir, 'test_predictions.csv')\n",
    "            print('Saving test predictions at {}'.format(predictions_location))\n",
    "            logging.info('Saving test predictions at {}'.format(predictions_location))\n",
    "            df_prediction.to_csv(predictions_location, header=True, index=False)\n",
    "            \n",
    "        if GetTestScoreFlg=='Y':        \n",
    "            test_score_location = os.path.join(output_data_dir, 'test_score.csv')\n",
    "            print('Saving test score  at {}'.format(test_score_location))\n",
    "            logging.info('Saving test score  at {}'.format(test_score_location))        \n",
    "            df_score.to_csv(test_score_location, header=True, index=False)\n",
    "\n",
    "if __name__ == '__main__':\n",
    "    parser = argparse.ArgumentParser()\n",
    "\n",
    "    # Hyperparameters are described here.\n",
    "    parser.add_argument('--max_depth', type=int,)\n",
    "    parser.add_argument('--eta', type=float)\n",
    "    parser.add_argument('--objective', type=str)\n",
    "    parser.add_argument('--num_round', type=int)\n",
    "\n",
    "    parser.add_argument('--early_stopping_rounds', type=int)\n",
    "    parser.add_argument('--booster', type=str)\n",
    "    parser.add_argument('--eval_metric', type=str)\n",
    "    parser.add_argument('--seed', type=int, default=42)\n",
    "    parser.add_argument('--scale_pos_weight', type=float)\n",
    "    parser.add_argument('--colsample_bylevel', type=float)\n",
    "    parser.add_argument('--colsample_bytree', type=float)\n",
    "    parser.add_argument('--subsample', type=float)\n",
    "    parser.add_argument('--max_delta_step', type=int)\n",
    "    \n",
    "    \n",
    "    parser.add_argument('--GetFIFlg', type=str, default='N')\n",
    "    parser.add_argument('--GetTestScoreFlg', type=str, default='N')\n",
    "    parser.add_argument('--GetTestPredFlg', type=str, default='N')            \n",
    "            \n",
    "\n",
    "    # Sagemaker specific arguments. Defaults are set in the environment variables.\n",
    "    \n",
    "    parser.add_argument('--output_data_dir', type=str, default=os.environ.get('SM_OUTPUT_DATA_DIR'))\n",
    "    parser.add_argument('--model_dir', type=str, default=os.environ.get('SM_MODEL_DIR'))\n",
    "    parser.add_argument('--train', type=str, default=os.environ.get('SM_CHANNEL_TRAIN'))\n",
    "    parser.add_argument('--validation', type=str, default=os.environ.get('SM_CHANNEL_VALIDATION'))\n",
    "    parser.add_argument('--test', type=str, default=os.environ.get('SM_CHANNEL_TEST'))\n",
    "    parser.add_argument('--sm_hosts', type=str, default=os.environ.get('SM_HOSTS'))\n",
    "    parser.add_argument('--sm_current_host', type=str, default=os.environ.get('SM_CURRENT_HOST'))\n",
    "\n",
    "    args, _ = parser.parse_known_args()\n",
    "\n",
    "    # Get SageMaker host information from runtime environment variables\n",
    "    sm_hosts = json.loads(args.sm_hosts)\n",
    "    sm_current_host = args.sm_current_host\n",
    "\n",
    "    dtrain = get_dmatrix(args.train, 'csv')\n",
    "    dval = get_dmatrix(args.validation, 'csv')\n",
    "    watchlist = [(dtrain, 'train'), (dval, 'validation')] if dval is not None else [(dtrain, 'train')]\n",
    "\n",
    "      \n",
    "    dtest = get_dmatrix(args.test, 'csv')\n",
    "    if not(dtest):\n",
    "        if ((args.GetTestScoreFlg=='Y') | (args.GetTestPredFlg=='Y')):\n",
    "            raise Exception('Please provide test data in a test channel for prediction and scores or set GetTestScoreFlg and GetTestPredFlg to N')\n",
    "            \n",
    "    train_hp = {\n",
    "        'max_depth': args.max_depth,\n",
    "        'eta': args.eta,\n",
    "        'objective': args.objective,\n",
    "        'booster': args.booster,\n",
    "        'seed': args.seed,\n",
    "        'eval_metric':args.eval_metric,\n",
    "        'scale_pos_weight':args.scale_pos_weight,\n",
    "        'colsample_bylevel': args.colsample_bylevel,\n",
    "        'colsample_bytree': args.colsample_bytree,\n",
    "        'subsample': args.subsample,\n",
    "        'max_delta_step':args.max_delta_step\n",
    "        }\n",
    "\n",
    "    xgb_train_args = dict(\n",
    "        params=train_hp,\n",
    "        dtrain=dtrain,\n",
    "        evals=watchlist,\n",
    "        num_boost_round=args.num_round,\n",
    "        early_stopping_rounds=args.early_stopping_rounds,\n",
    "        model_dir=args.model_dir,\n",
    "        output_data_dir=args.output_data_dir,\n",
    "        GetFIFlg=args.GetFIFlg,\n",
    "        GetTestScoreFlg=args.GetTestScoreFlg,\n",
    "        GetTestPredFlg=args.GetTestPredFlg)\n",
    "\n",
    "    if len(sm_hosts) > 1:\n",
    "        # Wait until all hosts are able to find each other\n",
    "        entry_point._wait_hostname_resolution()\n",
    "\n",
    "        # Execute training function after initializing rabit.\n",
    "        distributed.rabit_run(\n",
    "            exec_fun=_xgb_train,\n",
    "            args=xgb_train_args,\n",
    "            include_in_training=(dtrain is not None),\n",
    "            hosts=sm_hosts,\n",
    "            current_host=sm_current_host,\n",
    "            update_rabit_args=True\n",
    "        )\n",
    "    else:\n",
    "        # If single node training, call training method directly.\n",
    "        if dtrain:\n",
    "            xgb_train_args['is_master'] = True\n",
    "            _xgb_train(**xgb_train_args)\n",
    "        else:\n",
    "            raise ValueError(\"Training channel must have data to train model.\")\n",
    "\n",
    "#not clear what's this for multi-node training?\n",
    "def model_fn(model_dir):\n",
    "    \"\"\"Deserialize and return fitted model.\n",
    "\n",
    "    Note that this should have the same name as the serialized model in the _xgb_train method\n",
    "    \"\"\"\n",
    "    model_file = 'xgboost-model'\n",
    "    booster = pkl.load(open(os.path.join(model_dir, model_file), 'rb'))\n",
    "    return booster"
   ]
  },
  {
   "cell_type": "markdown",
   "metadata": {},
   "source": [
    "2. For each parameter set we create an estimator and train it using training and validation datasets created in previous step and saved in a predefined location \n",
    "based on Model name. \n",
    "\n",
    "The train and valid files locations are saved in preprocessed_data dataframe. \n",
    "\n",
    "Since we built our training jobs based on preconfigured parameters and train/valid locations the data in 2 configuration must be consistent (the same model names).\n",
    "\n",
    "Only configured number (MaxNumOfRunningModels) of models is running at the same time. The process starts initial MaxNumOfRunningModels models and waits till \n",
    "one of them Complete, Failed or Stopped (StopOnFailedModel=False only).\n",
    "If a model training job Failed or Stopped and StopOnFailedModel is True, the whole process is broken"
   ]
  },
  {
   "cell_type": "code",
   "execution_count": 20,
   "metadata": {},
   "outputs": [
    {
     "data": {
      "text/html": [
       "<div>\n",
       "<style scoped>\n",
       "    .dataframe tbody tr th:only-of-type {\n",
       "        vertical-align: middle;\n",
       "    }\n",
       "\n",
       "    .dataframe tbody tr th {\n",
       "        vertical-align: top;\n",
       "    }\n",
       "\n",
       "    .dataframe thead th {\n",
       "        text-align: right;\n",
       "    }\n",
       "</style>\n",
       "<table border=\"1\" class=\"dataframe\">\n",
       "  <thead>\n",
       "    <tr style=\"text-align: right;\">\n",
       "      <th></th>\n",
       "      <th>Model</th>\n",
       "      <th>objective</th>\n",
       "      <th>eval_metric</th>\n",
       "      <th>booster</th>\n",
       "      <th>scale_pos_weight</th>\n",
       "      <th>colsample_bylevel</th>\n",
       "      <th>colsample_bytree</th>\n",
       "      <th>eta</th>\n",
       "      <th>max_depth</th>\n",
       "      <th>num_round</th>\n",
       "      <th>subsample</th>\n",
       "      <th>Training_data</th>\n",
       "      <th>Validation_data</th>\n",
       "      <th>Testing_data</th>\n",
       "      <th>F1</th>\n",
       "      <th>F2</th>\n",
       "      <th>F3</th>\n",
       "      <th>F4</th>\n",
       "      <th>F5</th>\n",
       "      <th>F6</th>\n",
       "    </tr>\n",
       "  </thead>\n",
       "  <tbody>\n",
       "    <tr>\n",
       "      <th>0</th>\n",
       "      <td>BaseModel</td>\n",
       "      <td>binary:logistic</td>\n",
       "      <td>auc</td>\n",
       "      <td>gbtree</td>\n",
       "      <td>0.3</td>\n",
       "      <td>0.2</td>\n",
       "      <td>0.8</td>\n",
       "      <td>0.02</td>\n",
       "      <td>3</td>\n",
       "      <td>5000</td>\n",
       "      <td>0.2</td>\n",
       "      <td>s3://kdproperty/Data/Experiments/bylevel/train...</td>\n",
       "      <td>s3://kdproperty/Data/Experiments/bylevel/valid...</td>\n",
       "      <td>s3://kdproperty/Data/Experiments/bylevel/testi...</td>\n",
       "      <td>usagetype_encd</td>\n",
       "      <td>cova_deductible</td>\n",
       "      <td>cova_limit</td>\n",
       "      <td>sqft</td>\n",
       "      <td>yearbuilt</td>\n",
       "      <td>landlordind</td>\n",
       "    </tr>\n",
       "    <tr>\n",
       "      <th>1</th>\n",
       "      <td>BaseModel</td>\n",
       "      <td>binary:logistic</td>\n",
       "      <td>auc</td>\n",
       "      <td>gbtree</td>\n",
       "      <td>0.3</td>\n",
       "      <td>0.3</td>\n",
       "      <td>0.8</td>\n",
       "      <td>0.02</td>\n",
       "      <td>3</td>\n",
       "      <td>5000</td>\n",
       "      <td>0.3</td>\n",
       "      <td>s3://kdproperty/Data/Experiments/bylevel/train...</td>\n",
       "      <td>s3://kdproperty/Data/Experiments/bylevel/valid...</td>\n",
       "      <td>s3://kdproperty/Data/Experiments/bylevel/testi...</td>\n",
       "      <td>usagetype_encd</td>\n",
       "      <td>cova_deductible</td>\n",
       "      <td>cova_limit</td>\n",
       "      <td>sqft</td>\n",
       "      <td>yearbuilt</td>\n",
       "      <td>landlordind</td>\n",
       "    </tr>\n",
       "    <tr>\n",
       "      <th>2</th>\n",
       "      <td>BaseModel</td>\n",
       "      <td>binary:logistic</td>\n",
       "      <td>auc</td>\n",
       "      <td>gbtree</td>\n",
       "      <td>0.3</td>\n",
       "      <td>0.4</td>\n",
       "      <td>0.8</td>\n",
       "      <td>0.02</td>\n",
       "      <td>3</td>\n",
       "      <td>5000</td>\n",
       "      <td>0.4</td>\n",
       "      <td>s3://kdproperty/Data/Experiments/bylevel/train...</td>\n",
       "      <td>s3://kdproperty/Data/Experiments/bylevel/valid...</td>\n",
       "      <td>s3://kdproperty/Data/Experiments/bylevel/testi...</td>\n",
       "      <td>usagetype_encd</td>\n",
       "      <td>cova_deductible</td>\n",
       "      <td>cova_limit</td>\n",
       "      <td>sqft</td>\n",
       "      <td>yearbuilt</td>\n",
       "      <td>landlordind</td>\n",
       "    </tr>\n",
       "    <tr>\n",
       "      <th>3</th>\n",
       "      <td>BaseModel</td>\n",
       "      <td>binary:logistic</td>\n",
       "      <td>auc</td>\n",
       "      <td>gbtree</td>\n",
       "      <td>0.3</td>\n",
       "      <td>0.5</td>\n",
       "      <td>0.8</td>\n",
       "      <td>0.02</td>\n",
       "      <td>3</td>\n",
       "      <td>5000</td>\n",
       "      <td>0.5</td>\n",
       "      <td>s3://kdproperty/Data/Experiments/bylevel/train...</td>\n",
       "      <td>s3://kdproperty/Data/Experiments/bylevel/valid...</td>\n",
       "      <td>s3://kdproperty/Data/Experiments/bylevel/testi...</td>\n",
       "      <td>usagetype_encd</td>\n",
       "      <td>cova_deductible</td>\n",
       "      <td>cova_limit</td>\n",
       "      <td>sqft</td>\n",
       "      <td>yearbuilt</td>\n",
       "      <td>landlordind</td>\n",
       "    </tr>\n",
       "    <tr>\n",
       "      <th>4</th>\n",
       "      <td>BaseModel</td>\n",
       "      <td>binary:logistic</td>\n",
       "      <td>auc</td>\n",
       "      <td>gbtree</td>\n",
       "      <td>0.3</td>\n",
       "      <td>0.6</td>\n",
       "      <td>0.8</td>\n",
       "      <td>0.02</td>\n",
       "      <td>3</td>\n",
       "      <td>5000</td>\n",
       "      <td>0.6</td>\n",
       "      <td>s3://kdproperty/Data/Experiments/bylevel/train...</td>\n",
       "      <td>s3://kdproperty/Data/Experiments/bylevel/valid...</td>\n",
       "      <td>s3://kdproperty/Data/Experiments/bylevel/testi...</td>\n",
       "      <td>usagetype_encd</td>\n",
       "      <td>cova_deductible</td>\n",
       "      <td>cova_limit</td>\n",
       "      <td>sqft</td>\n",
       "      <td>yearbuilt</td>\n",
       "      <td>landlordind</td>\n",
       "    </tr>\n",
       "    <tr>\n",
       "      <th>5</th>\n",
       "      <td>BaseModel</td>\n",
       "      <td>binary:logistic</td>\n",
       "      <td>auc</td>\n",
       "      <td>gbtree</td>\n",
       "      <td>0.3</td>\n",
       "      <td>0.7</td>\n",
       "      <td>0.8</td>\n",
       "      <td>0.02</td>\n",
       "      <td>3</td>\n",
       "      <td>5000</td>\n",
       "      <td>0.7</td>\n",
       "      <td>s3://kdproperty/Data/Experiments/bylevel/train...</td>\n",
       "      <td>s3://kdproperty/Data/Experiments/bylevel/valid...</td>\n",
       "      <td>s3://kdproperty/Data/Experiments/bylevel/testi...</td>\n",
       "      <td>usagetype_encd</td>\n",
       "      <td>cova_deductible</td>\n",
       "      <td>cova_limit</td>\n",
       "      <td>sqft</td>\n",
       "      <td>yearbuilt</td>\n",
       "      <td>landlordind</td>\n",
       "    </tr>\n",
       "    <tr>\n",
       "      <th>6</th>\n",
       "      <td>BaseModel</td>\n",
       "      <td>binary:logistic</td>\n",
       "      <td>auc</td>\n",
       "      <td>gbtree</td>\n",
       "      <td>0.3</td>\n",
       "      <td>0.8</td>\n",
       "      <td>0.8</td>\n",
       "      <td>0.02</td>\n",
       "      <td>3</td>\n",
       "      <td>5000</td>\n",
       "      <td>0.8</td>\n",
       "      <td>s3://kdproperty/Data/Experiments/bylevel/train...</td>\n",
       "      <td>s3://kdproperty/Data/Experiments/bylevel/valid...</td>\n",
       "      <td>s3://kdproperty/Data/Experiments/bylevel/testi...</td>\n",
       "      <td>usagetype_encd</td>\n",
       "      <td>cova_deductible</td>\n",
       "      <td>cova_limit</td>\n",
       "      <td>sqft</td>\n",
       "      <td>yearbuilt</td>\n",
       "      <td>landlordind</td>\n",
       "    </tr>\n",
       "    <tr>\n",
       "      <th>7</th>\n",
       "      <td>BaseModel</td>\n",
       "      <td>binary:logistic</td>\n",
       "      <td>auc</td>\n",
       "      <td>gbtree</td>\n",
       "      <td>0.3</td>\n",
       "      <td>0.9</td>\n",
       "      <td>0.8</td>\n",
       "      <td>0.02</td>\n",
       "      <td>3</td>\n",
       "      <td>5000</td>\n",
       "      <td>1.0</td>\n",
       "      <td>s3://kdproperty/Data/Experiments/bylevel/train...</td>\n",
       "      <td>s3://kdproperty/Data/Experiments/bylevel/valid...</td>\n",
       "      <td>s3://kdproperty/Data/Experiments/bylevel/testi...</td>\n",
       "      <td>usagetype_encd</td>\n",
       "      <td>cova_deductible</td>\n",
       "      <td>cova_limit</td>\n",
       "      <td>sqft</td>\n",
       "      <td>yearbuilt</td>\n",
       "      <td>landlordind</td>\n",
       "    </tr>\n",
       "  </tbody>\n",
       "</table>\n",
       "</div>"
      ],
      "text/plain": [
       "       Model        objective eval_metric booster  scale_pos_weight  \\\n",
       "0  BaseModel  binary:logistic         auc  gbtree               0.3   \n",
       "1  BaseModel  binary:logistic         auc  gbtree               0.3   \n",
       "2  BaseModel  binary:logistic         auc  gbtree               0.3   \n",
       "3  BaseModel  binary:logistic         auc  gbtree               0.3   \n",
       "4  BaseModel  binary:logistic         auc  gbtree               0.3   \n",
       "5  BaseModel  binary:logistic         auc  gbtree               0.3   \n",
       "6  BaseModel  binary:logistic         auc  gbtree               0.3   \n",
       "7  BaseModel  binary:logistic         auc  gbtree               0.3   \n",
       "\n",
       "   colsample_bylevel  colsample_bytree   eta  max_depth  num_round  subsample  \\\n",
       "0                0.2               0.8  0.02          3       5000        0.2   \n",
       "1                0.3               0.8  0.02          3       5000        0.3   \n",
       "2                0.4               0.8  0.02          3       5000        0.4   \n",
       "3                0.5               0.8  0.02          3       5000        0.5   \n",
       "4                0.6               0.8  0.02          3       5000        0.6   \n",
       "5                0.7               0.8  0.02          3       5000        0.7   \n",
       "6                0.8               0.8  0.02          3       5000        0.8   \n",
       "7                0.9               0.8  0.02          3       5000        1.0   \n",
       "\n",
       "                                       Training_data  \\\n",
       "0  s3://kdproperty/Data/Experiments/bylevel/train...   \n",
       "1  s3://kdproperty/Data/Experiments/bylevel/train...   \n",
       "2  s3://kdproperty/Data/Experiments/bylevel/train...   \n",
       "3  s3://kdproperty/Data/Experiments/bylevel/train...   \n",
       "4  s3://kdproperty/Data/Experiments/bylevel/train...   \n",
       "5  s3://kdproperty/Data/Experiments/bylevel/train...   \n",
       "6  s3://kdproperty/Data/Experiments/bylevel/train...   \n",
       "7  s3://kdproperty/Data/Experiments/bylevel/train...   \n",
       "\n",
       "                                     Validation_data  \\\n",
       "0  s3://kdproperty/Data/Experiments/bylevel/valid...   \n",
       "1  s3://kdproperty/Data/Experiments/bylevel/valid...   \n",
       "2  s3://kdproperty/Data/Experiments/bylevel/valid...   \n",
       "3  s3://kdproperty/Data/Experiments/bylevel/valid...   \n",
       "4  s3://kdproperty/Data/Experiments/bylevel/valid...   \n",
       "5  s3://kdproperty/Data/Experiments/bylevel/valid...   \n",
       "6  s3://kdproperty/Data/Experiments/bylevel/valid...   \n",
       "7  s3://kdproperty/Data/Experiments/bylevel/valid...   \n",
       "\n",
       "                                        Testing_data              F1  \\\n",
       "0  s3://kdproperty/Data/Experiments/bylevel/testi...  usagetype_encd   \n",
       "1  s3://kdproperty/Data/Experiments/bylevel/testi...  usagetype_encd   \n",
       "2  s3://kdproperty/Data/Experiments/bylevel/testi...  usagetype_encd   \n",
       "3  s3://kdproperty/Data/Experiments/bylevel/testi...  usagetype_encd   \n",
       "4  s3://kdproperty/Data/Experiments/bylevel/testi...  usagetype_encd   \n",
       "5  s3://kdproperty/Data/Experiments/bylevel/testi...  usagetype_encd   \n",
       "6  s3://kdproperty/Data/Experiments/bylevel/testi...  usagetype_encd   \n",
       "7  s3://kdproperty/Data/Experiments/bylevel/testi...  usagetype_encd   \n",
       "\n",
       "                F2           F3    F4         F5           F6  \n",
       "0  cova_deductible  cova_limit   sqft  yearbuilt  landlordind  \n",
       "1  cova_deductible  cova_limit   sqft  yearbuilt  landlordind  \n",
       "2  cova_deductible  cova_limit   sqft  yearbuilt  landlordind  \n",
       "3  cova_deductible  cova_limit   sqft  yearbuilt  landlordind  \n",
       "4  cova_deductible  cova_limit   sqft  yearbuilt  landlordind  \n",
       "5  cova_deductible  cova_limit   sqft  yearbuilt  landlordind  \n",
       "6  cova_deductible  cova_limit   sqft  yearbuilt  landlordind  \n",
       "7  cova_deductible  cova_limit   sqft  yearbuilt  landlordind  "
      ]
     },
     "execution_count": 20,
     "metadata": {},
     "output_type": "execute_result"
    }
   ],
   "source": [
    "models_from_preprocessed_data=preprocessed_data['Model'].tolist()\n",
    "models_from_model_params=model_params['Model'].tolist()\n",
    "if len([x for x in models_from_preprocessed_data if x not in models_from_model_params])!=0:\n",
    "    raise Exception('Different set of models in preprocessed_data and parametersets!')\n",
    "#using merge because, in general, we can have different number of rows in each dataframe - folds in data and different sets of params\n",
    "data_for_training=pd.merge(model_params, preprocessed_data, on='Model', how='inner')"
   ]
  },
  {
   "cell_type": "code",
   "execution_count": 21,
   "metadata": {},
   "outputs": [
    {
     "name": "stdout",
     "output_type": "stream",
     "text": [
      "BaseModel-0\n"
     ]
    },
    {
     "name": "stderr",
     "output_type": "stream",
     "text": [
      "INFO:botocore.credentials:Found credentials in shared credentials file: ~/.aws/credentials\n",
      "INFO:sagemaker.image_uris:Ignoring unnecessary Python version: py3.\n",
      "INFO:sagemaker.image_uris:Ignoring unnecessary instance type: ml.c5.xlarge.\n",
      "INFO:sagemaker.image_uris:Defaulting to the only supported framework/algorithm version: latest.\n",
      "INFO:sagemaker.image_uris:Ignoring unnecessary instance type: None.\n"
     ]
    },
    {
     "name": "stdout",
     "output_type": "stream",
     "text": [
      "Creating training job for  BaseModel-0 model\n",
      "{'early_stopping_rounds': 100, 'seed': 42, 'GetFIFlg': 'Y', 'GetTestScoreFlg': 'Y', 'GetTestPredFlg': 'N', 'objective': 'binary:logistic', 'eval_metric': 'auc', 'booster': 'gbtree', 'scale_pos_weight': 0.3, 'colsample_bylevel': 0.2, 'colsample_bytree': 0.8, 'eta': 0.02, 'max_depth': 3, 'num_round': 5000, 'subsample': 0.2}\n"
     ]
    },
    {
     "name": "stderr",
     "output_type": "stream",
     "text": [
      "INFO:sagemaker:Creating training-job with name: BaseModel-0-2021-02-08-17-01-22\n"
     ]
    },
    {
     "name": "stdout",
     "output_type": "stream",
     "text": [
      "BaseModel-1\n"
     ]
    },
    {
     "name": "stderr",
     "output_type": "stream",
     "text": [
      "INFO:botocore.credentials:Found credentials in shared credentials file: ~/.aws/credentials\n",
      "INFO:sagemaker.image_uris:Ignoring unnecessary Python version: py3.\n",
      "INFO:sagemaker.image_uris:Ignoring unnecessary instance type: ml.c5.xlarge.\n",
      "INFO:sagemaker.image_uris:Defaulting to the only supported framework/algorithm version: latest.\n",
      "INFO:sagemaker.image_uris:Ignoring unnecessary instance type: None.\n"
     ]
    },
    {
     "name": "stdout",
     "output_type": "stream",
     "text": [
      "Creating training job for  BaseModel-1 model\n",
      "{'early_stopping_rounds': 100, 'seed': 42, 'GetFIFlg': 'Y', 'GetTestScoreFlg': 'Y', 'GetTestPredFlg': 'N', 'objective': 'binary:logistic', 'eval_metric': 'auc', 'booster': 'gbtree', 'scale_pos_weight': 0.3, 'colsample_bylevel': 0.3, 'colsample_bytree': 0.8, 'eta': 0.02, 'max_depth': 3, 'num_round': 5000, 'subsample': 0.3}\n"
     ]
    },
    {
     "name": "stderr",
     "output_type": "stream",
     "text": [
      "INFO:sagemaker:Creating training-job with name: BaseModel-1-2021-02-08-17-01-24\n"
     ]
    },
    {
     "name": "stdout",
     "output_type": "stream",
     "text": [
      "BaseModel-2\n"
     ]
    },
    {
     "name": "stderr",
     "output_type": "stream",
     "text": [
      "INFO:botocore.credentials:Found credentials in shared credentials file: ~/.aws/credentials\n",
      "INFO:sagemaker.image_uris:Ignoring unnecessary Python version: py3.\n",
      "INFO:sagemaker.image_uris:Ignoring unnecessary instance type: ml.c5.xlarge.\n",
      "INFO:sagemaker.image_uris:Defaulting to the only supported framework/algorithm version: latest.\n",
      "INFO:sagemaker.image_uris:Ignoring unnecessary instance type: None.\n"
     ]
    },
    {
     "name": "stdout",
     "output_type": "stream",
     "text": [
      "Creating training job for  BaseModel-2 model\n",
      "{'early_stopping_rounds': 100, 'seed': 42, 'GetFIFlg': 'Y', 'GetTestScoreFlg': 'Y', 'GetTestPredFlg': 'N', 'objective': 'binary:logistic', 'eval_metric': 'auc', 'booster': 'gbtree', 'scale_pos_weight': 0.3, 'colsample_bylevel': 0.4, 'colsample_bytree': 0.8, 'eta': 0.02, 'max_depth': 3, 'num_round': 5000, 'subsample': 0.4}\n"
     ]
    },
    {
     "name": "stderr",
     "output_type": "stream",
     "text": [
      "INFO:sagemaker:Creating training-job with name: BaseModel-2-2021-02-08-17-01-26\n"
     ]
    },
    {
     "name": "stdout",
     "output_type": "stream",
     "text": [
      "BaseModel-3\n"
     ]
    },
    {
     "name": "stderr",
     "output_type": "stream",
     "text": [
      "INFO:botocore.credentials:Found credentials in shared credentials file: ~/.aws/credentials\n",
      "INFO:sagemaker.image_uris:Ignoring unnecessary Python version: py3.\n",
      "INFO:sagemaker.image_uris:Ignoring unnecessary instance type: ml.c5.xlarge.\n",
      "INFO:sagemaker.image_uris:Defaulting to the only supported framework/algorithm version: latest.\n",
      "INFO:sagemaker.image_uris:Ignoring unnecessary instance type: None.\n"
     ]
    },
    {
     "name": "stdout",
     "output_type": "stream",
     "text": [
      "Creating training job for  BaseModel-3 model\n",
      "{'early_stopping_rounds': 100, 'seed': 42, 'GetFIFlg': 'Y', 'GetTestScoreFlg': 'Y', 'GetTestPredFlg': 'N', 'objective': 'binary:logistic', 'eval_metric': 'auc', 'booster': 'gbtree', 'scale_pos_weight': 0.3, 'colsample_bylevel': 0.5, 'colsample_bytree': 0.8, 'eta': 0.02, 'max_depth': 3, 'num_round': 5000, 'subsample': 0.5}\n"
     ]
    },
    {
     "name": "stderr",
     "output_type": "stream",
     "text": [
      "INFO:sagemaker:Creating training-job with name: BaseModel-3-2021-02-08-17-01-27\n"
     ]
    },
    {
     "name": "stdout",
     "output_type": "stream",
     "text": [
      "BaseModel-4\n"
     ]
    },
    {
     "name": "stderr",
     "output_type": "stream",
     "text": [
      "INFO:botocore.credentials:Found credentials in shared credentials file: ~/.aws/credentials\n",
      "INFO:sagemaker.image_uris:Ignoring unnecessary Python version: py3.\n",
      "INFO:sagemaker.image_uris:Ignoring unnecessary instance type: ml.c5.xlarge.\n",
      "INFO:sagemaker.image_uris:Defaulting to the only supported framework/algorithm version: latest.\n",
      "INFO:sagemaker.image_uris:Ignoring unnecessary instance type: None.\n"
     ]
    },
    {
     "name": "stdout",
     "output_type": "stream",
     "text": [
      "Creating training job for  BaseModel-4 model\n",
      "{'early_stopping_rounds': 100, 'seed': 42, 'GetFIFlg': 'Y', 'GetTestScoreFlg': 'Y', 'GetTestPredFlg': 'N', 'objective': 'binary:logistic', 'eval_metric': 'auc', 'booster': 'gbtree', 'scale_pos_weight': 0.3, 'colsample_bylevel': 0.6, 'colsample_bytree': 0.8, 'eta': 0.02, 'max_depth': 3, 'num_round': 5000, 'subsample': 0.6}\n"
     ]
    },
    {
     "name": "stderr",
     "output_type": "stream",
     "text": [
      "INFO:sagemaker:Creating training-job with name: BaseModel-4-2021-02-08-17-01-30\n"
     ]
    },
    {
     "name": "stdout",
     "output_type": "stream",
     "text": [
      "BaseModel-5\n"
     ]
    },
    {
     "name": "stderr",
     "output_type": "stream",
     "text": [
      "INFO:botocore.credentials:Found credentials in shared credentials file: ~/.aws/credentials\n",
      "INFO:sagemaker.image_uris:Ignoring unnecessary Python version: py3.\n",
      "INFO:sagemaker.image_uris:Ignoring unnecessary instance type: ml.c5.xlarge.\n",
      "INFO:sagemaker.image_uris:Defaulting to the only supported framework/algorithm version: latest.\n",
      "INFO:sagemaker.image_uris:Ignoring unnecessary instance type: None.\n"
     ]
    },
    {
     "name": "stdout",
     "output_type": "stream",
     "text": [
      "Creating training job for  BaseModel-5 model\n",
      "{'early_stopping_rounds': 100, 'seed': 42, 'GetFIFlg': 'Y', 'GetTestScoreFlg': 'Y', 'GetTestPredFlg': 'N', 'objective': 'binary:logistic', 'eval_metric': 'auc', 'booster': 'gbtree', 'scale_pos_weight': 0.3, 'colsample_bylevel': 0.7, 'colsample_bytree': 0.8, 'eta': 0.02, 'max_depth': 3, 'num_round': 5000, 'subsample': 0.7}\n"
     ]
    },
    {
     "name": "stderr",
     "output_type": "stream",
     "text": [
      "INFO:sagemaker:Creating training-job with name: BaseModel-5-2021-02-08-17-01-31\n"
     ]
    },
    {
     "name": "stdout",
     "output_type": "stream",
     "text": [
      "BaseModel-6\n"
     ]
    },
    {
     "name": "stderr",
     "output_type": "stream",
     "text": [
      "INFO:botocore.credentials:Found credentials in shared credentials file: ~/.aws/credentials\n",
      "INFO:sagemaker.image_uris:Ignoring unnecessary Python version: py3.\n",
      "INFO:sagemaker.image_uris:Ignoring unnecessary instance type: ml.c5.xlarge.\n",
      "INFO:sagemaker.image_uris:Defaulting to the only supported framework/algorithm version: latest.\n",
      "INFO:sagemaker.image_uris:Ignoring unnecessary instance type: None.\n"
     ]
    },
    {
     "name": "stdout",
     "output_type": "stream",
     "text": [
      "Creating training job for  BaseModel-6 model\n",
      "{'early_stopping_rounds': 100, 'seed': 42, 'GetFIFlg': 'Y', 'GetTestScoreFlg': 'Y', 'GetTestPredFlg': 'N', 'objective': 'binary:logistic', 'eval_metric': 'auc', 'booster': 'gbtree', 'scale_pos_weight': 0.3, 'colsample_bylevel': 0.8, 'colsample_bytree': 0.8, 'eta': 0.02, 'max_depth': 3, 'num_round': 5000, 'subsample': 0.8}\n"
     ]
    },
    {
     "name": "stderr",
     "output_type": "stream",
     "text": [
      "INFO:sagemaker:Creating training-job with name: BaseModel-6-2021-02-08-17-01-35\n"
     ]
    },
    {
     "name": "stdout",
     "output_type": "stream",
     "text": [
      "BaseModel-7\n"
     ]
    },
    {
     "name": "stderr",
     "output_type": "stream",
     "text": [
      "INFO:botocore.credentials:Found credentials in shared credentials file: ~/.aws/credentials\n",
      "INFO:sagemaker.image_uris:Ignoring unnecessary Python version: py3.\n",
      "INFO:sagemaker.image_uris:Ignoring unnecessary instance type: ml.c5.xlarge.\n",
      "INFO:sagemaker.image_uris:Defaulting to the only supported framework/algorithm version: latest.\n",
      "INFO:sagemaker.image_uris:Ignoring unnecessary instance type: None.\n"
     ]
    },
    {
     "name": "stdout",
     "output_type": "stream",
     "text": [
      "Creating training job for  BaseModel-7 model\n",
      "{'early_stopping_rounds': 100, 'seed': 42, 'GetFIFlg': 'Y', 'GetTestScoreFlg': 'Y', 'GetTestPredFlg': 'N', 'objective': 'binary:logistic', 'eval_metric': 'auc', 'booster': 'gbtree', 'scale_pos_weight': 0.3, 'colsample_bylevel': 0.9, 'colsample_bytree': 0.8, 'eta': 0.02, 'max_depth': 3, 'num_round': 5000, 'subsample': 1.0}\n"
     ]
    },
    {
     "name": "stderr",
     "output_type": "stream",
     "text": [
      "INFO:sagemaker:Creating training-job with name: BaseModel-7-2021-02-08-17-01-36\n"
     ]
    }
   ],
   "source": [
    "CntRunningInst = 0\n",
    "\n",
    "processors=list()\n",
    "\n",
    "#regexpression to exclude features (F1..F25) from the list of parameters\n",
    "regex = re.compile('F[ 0-9]')\n",
    "\n",
    "for index, row in data_for_training.iterrows():\n",
    "    model='%s-%s'%(row['Model'],index)\n",
    "    print(model)\n",
    "    #1. Verifying training and validation data exists (were created in preprocessing step or moved manually in a predefined location)\n",
    "\n",
    "    if not(s3.exists(row['Training_data']) & s3.exists(row['Validation_data'])):           \n",
    "        print('Training and Validation data do not exist. Skipping model %s'%(model))\n",
    "        print('Check Training data in %s'%row['Training_data'])\n",
    "        print('Check Validation data in %s'%row['Validation_data'])              \n",
    "        continue\n",
    "    #2. Do we have available instances slots to run the model? It depends on number of allowed in teh account simultaneously running specific instance types,\n",
    "    #number of instance type configured per model and configured number of model running\n",
    "    if CntRunningInst >= MaxNumOfRunningModels * training_instance_count: #not enough slots to add a model\n",
    "        print('There is no slot to train  %s model. Waiting...'%model)\n",
    "        #Waiting till a taining job complete\n",
    "        while CntRunningInst >= MaxNumOfRunningModels * training_instance_count:\n",
    "            print('.', end='')\n",
    "            time.sleep(check_training_job_every_sec)            \n",
    "            for p in processors:\n",
    "                ModelFailed=False\n",
    "                name=p.jobs[-1].describe()['TrainingJobName']\n",
    "                status=p.jobs[-1].describe()['TrainingJobStatus']\n",
    "                dummyFlag=not(StopOnFailedModel)\n",
    "                #job completed, failed or stopped (and do not stop the process) then we a slot is free\n",
    "                if (\n",
    "                    (status=='Completed') | \n",
    "                    ( ((status=='Failed') | \n",
    "                       (status=='Stopped')\n",
    "                      ) & \n",
    "                      dummyFlag\n",
    "                    )\n",
    "                   ):\n",
    "                    print('')\n",
    "                    print('Job %s  is %s'%(name,status))\n",
    "                    print('Continue training...')\n",
    "                    CntRunningInst = CntRunningInst - training_instance_count\n",
    "                    processors.remove(p)\n",
    "                    break\n",
    "                elif ( ((status=='Failed') | (status=='Stopped')) & StopOnFailedModel) :\n",
    "                    raise Exception('Model %s training failed!'%name)\n",
    "    #3. there is a slot to add a model training job\n",
    "    print('Creating training job for  %s model'%model)\n",
    "    #parameters\n",
    "    #techically early_stopping_rounds are not XGBoost parameters but it's an easy way to send them into the training/CV process\n",
    "    hyperparameters = {\n",
    "        'early_stopping_rounds':100,\n",
    "        'seed': 42,\n",
    "        'GetFIFlg':GetFIFlg,\n",
    "        'GetTestScoreFlg':GetTestScoreFlg,\n",
    "        'GetTestPredFlg':GetTestPredFlg \n",
    "    } \n",
    "    for i, param in enumerate(data_for_training.columns):\n",
    "        #skip first column with Model name and dataset names or features\n",
    "        #if do not exclude then they will be added into experiment analytics as parameters but not used in training anyway\n",
    "        if ((param in ('Model','Training_data','Validation_data','Testing_data','Testing_labels')) | (bool(re.match(regex, param)))):\n",
    "            continue\n",
    "        hyperparameters[param] = row[param]\n",
    "    print(hyperparameters)\n",
    "    \n",
    "    #training and validation data from preprocessing\n",
    "    train_input = TrainingInput(row['Training_data'], content_type='text/csv')\n",
    "    validation_input = TrainingInput(row['Validation_data'], content_type='text/csv')\n",
    "    test_input = TrainingInput(row['Testing_data'], content_type='text/csv')\n",
    "    #Estimator\n",
    "\n",
    "    \n",
    "    training_job_name = model+'-'+time.strftime('%Y-%m-%d-%H-%M-%S', time.gmtime())\n",
    "    xgb_script_mode_estimator = XGBoost(\n",
    "        entry_point='ModelTraining.py',\n",
    "        hyperparameters=hyperparameters,\n",
    "        role=sagemaker_execution_role, \n",
    "        instance_count=training_instance_count,\n",
    "        instance_type=training_instance_type,\n",
    "        framework_version='1.2-1',\n",
    "        output_path='s3://%s/%s/'%(bucket,path_to_models)\n",
    "        )\n",
    "    \n",
    "    #Training\n",
    "    xgb_script_mode_estimator.fit({'train': train_input, 'validation': validation_input,'test':test_input}, job_name=training_job_name, wait=False,\n",
    "    experiment_config = {\n",
    "        'ExperimentName': Experiment_name ,\n",
    "        'TrialName' : Trial_name_training,\n",
    "        'TrialComponentDisplayName' : '%s-%s'%(Trial_name_training,model.replace('_','-')),})\n",
    "              \n",
    "    processors.append(xgb_script_mode_estimator)\n",
    "\n",
    "    CntRunningInst = CntRunningInst + training_instance_count\n",
    "    # to prevent throttling\n",
    "    time.sleep(.5)\n",
    "\n",
    "        \n",
    "    \n",
    "    "
   ]
  },
  {
   "cell_type": "code",
   "execution_count": 22,
   "metadata": {},
   "outputs": [
    {
     "name": "stdout",
     "output_type": "stream",
     "text": [
      "Training job BaseModel-0-2021-02-08-17-01-22 status: InProgress\n",
      "Training job BaseModel-1-2021-02-08-17-01-24 status: InProgress\n",
      "Training job BaseModel-2-2021-02-08-17-01-26 status: InProgress\n",
      "Training job BaseModel-3-2021-02-08-17-01-27 status: InProgress\n",
      "Training job BaseModel-4-2021-02-08-17-01-30 status: InProgress\n",
      "Training job BaseModel-5-2021-02-08-17-01-31 status: InProgress\n",
      "Training job BaseModel-6-2021-02-08-17-01-35 status: InProgress\n",
      "Training job BaseModel-7-2021-02-08-17-01-36 status: InProgress\n",
      "Continue waiting...\n",
      "Training job BaseModel-0-2021-02-08-17-01-22 status: InProgress\n",
      "Training job BaseModel-1-2021-02-08-17-01-24 status: InProgress\n",
      "Training job BaseModel-2-2021-02-08-17-01-26 status: InProgress\n",
      "Training job BaseModel-3-2021-02-08-17-01-27 status: InProgress\n",
      "Training job BaseModel-4-2021-02-08-17-01-30 status: InProgress\n",
      "Training job BaseModel-5-2021-02-08-17-01-31 status: InProgress\n",
      "Training job BaseModel-6-2021-02-08-17-01-35 status: InProgress\n",
      "Training job BaseModel-7-2021-02-08-17-01-36 status: InProgress\n",
      "Continue waiting...\n",
      "Training job BaseModel-0-2021-02-08-17-01-22 status: Completed\n",
      "Training job BaseModel-1-2021-02-08-17-01-24 status: Completed\n",
      "Training job BaseModel-2-2021-02-08-17-01-26 status: Completed\n",
      "Training job BaseModel-3-2021-02-08-17-01-27 status: InProgress\n",
      "Training job BaseModel-4-2021-02-08-17-01-30 status: InProgress\n",
      "Training job BaseModel-5-2021-02-08-17-01-31 status: InProgress\n",
      "Training job BaseModel-6-2021-02-08-17-01-35 status: InProgress\n",
      "Training job BaseModel-7-2021-02-08-17-01-36 status: InProgress\n",
      "Continue waiting...\n",
      "Training job BaseModel-0-2021-02-08-17-01-22 status: Completed\n",
      "Training job BaseModel-1-2021-02-08-17-01-24 status: Completed\n",
      "Training job BaseModel-2-2021-02-08-17-01-26 status: Completed\n",
      "Training job BaseModel-3-2021-02-08-17-01-27 status: InProgress\n",
      "Training job BaseModel-4-2021-02-08-17-01-30 status: InProgress\n",
      "Training job BaseModel-5-2021-02-08-17-01-31 status: InProgress\n",
      "Training job BaseModel-6-2021-02-08-17-01-35 status: InProgress\n",
      "Training job BaseModel-7-2021-02-08-17-01-36 status: InProgress\n",
      "Continue waiting...\n",
      "Training job BaseModel-0-2021-02-08-17-01-22 status: Completed\n",
      "Training job BaseModel-1-2021-02-08-17-01-24 status: Completed\n",
      "Training job BaseModel-2-2021-02-08-17-01-26 status: Completed\n",
      "Training job BaseModel-3-2021-02-08-17-01-27 status: InProgress\n",
      "Training job BaseModel-4-2021-02-08-17-01-30 status: Completed\n",
      "Training job BaseModel-5-2021-02-08-17-01-31 status: InProgress\n",
      "Training job BaseModel-6-2021-02-08-17-01-35 status: Completed\n",
      "Training job BaseModel-7-2021-02-08-17-01-36 status: Completed\n",
      "Continue waiting...\n",
      "All Training Jobs are Completed\n"
     ]
    }
   ],
   "source": [
    "#Waiting till the rest of the training jobs are complete\n",
    "eu.wait_training_jobs(processors=processors,check_every_sec=10,print_every_n_output=6,wait_min=60)"
   ]
  },
  {
   "cell_type": "markdown",
   "metadata": {},
   "source": [
    "## Experiment results\n",
    "\n",
    "Reading from AWS SageMaker experiment, saving to an experiment log file and visualization"
   ]
  },
  {
   "cell_type": "code",
   "execution_count": 23,
   "metadata": {},
   "outputs": [],
   "source": [
    "#wait till the data are updated in AWS experiment\n",
    "time.sleep(10)"
   ]
  },
  {
   "cell_type": "code",
   "execution_count": 24,
   "metadata": {},
   "outputs": [
    {
     "name": "stderr",
     "output_type": "stream",
     "text": [
      "INFO:botocore.credentials:Found credentials in shared credentials file: ~/.aws/credentials\n"
     ]
    }
   ],
   "source": [
    "#models training data from experiment \n",
    "trial_component_analytics = ExperimentAnalytics(\n",
    "    experiment_name=Experiment_name   \n",
    ")\n",
    "trial_comp_ds = trial_component_analytics.dataframe()\n",
    "trial_ds=trial_comp_ds[trial_comp_ds['DisplayName'].str.contains(Trial_name_training)].copy()\n",
    "trial_ds['Model']=trial_ds['DisplayName'].str.replace(Trial_name_training+'-','')\n",
    "trial_ds['Model']=trial_ds['Model']"
   ]
  },
  {
   "cell_type": "code",
   "execution_count": 25,
   "metadata": {},
   "outputs": [
    {
     "data": {
      "text/html": [
       "<div>\n",
       "<style scoped>\n",
       "    .dataframe tbody tr th:only-of-type {\n",
       "        vertical-align: middle;\n",
       "    }\n",
       "\n",
       "    .dataframe tbody tr th {\n",
       "        vertical-align: top;\n",
       "    }\n",
       "\n",
       "    .dataframe thead th {\n",
       "        text-align: right;\n",
       "    }\n",
       "</style>\n",
       "<table border=\"1\" class=\"dataframe\">\n",
       "  <thead>\n",
       "    <tr style=\"text-align: right;\">\n",
       "      <th></th>\n",
       "      <th>Model</th>\n",
       "      <th>train:auc</th>\n",
       "      <th>validation:auc</th>\n",
       "      <th>Trial Component</th>\n",
       "      <th>ModelFile</th>\n",
       "      <th>objective</th>\n",
       "      <th>eval_metric</th>\n",
       "      <th>booster</th>\n",
       "      <th>scale_pos_weight</th>\n",
       "      <th>colsample_bylevel</th>\n",
       "      <th>...</th>\n",
       "      <th>subsample</th>\n",
       "      <th>Training_data</th>\n",
       "      <th>Validation_data</th>\n",
       "      <th>Testing_data</th>\n",
       "      <th>F1</th>\n",
       "      <th>F2</th>\n",
       "      <th>F3</th>\n",
       "      <th>F4</th>\n",
       "      <th>F5</th>\n",
       "      <th>F6</th>\n",
       "    </tr>\n",
       "  </thead>\n",
       "  <tbody>\n",
       "    <tr>\n",
       "      <th>0</th>\n",
       "      <td>BaseModel</td>\n",
       "      <td>0.50000</td>\n",
       "      <td>0.50000</td>\n",
       "      <td>subsample-TrainingModels-BaseModel-0</td>\n",
       "      <td>s3://kdproperty/Models/Experiments/subsample/B...</td>\n",
       "      <td>binary:logistic</td>\n",
       "      <td>auc</td>\n",
       "      <td>gbtree</td>\n",
       "      <td>0.3</td>\n",
       "      <td>0.2</td>\n",
       "      <td>...</td>\n",
       "      <td>0.2</td>\n",
       "      <td>s3://kdproperty/Data/Experiments/bylevel/train...</td>\n",
       "      <td>s3://kdproperty/Data/Experiments/bylevel/valid...</td>\n",
       "      <td>s3://kdproperty/Data/Experiments/bylevel/testi...</td>\n",
       "      <td>usagetype_encd</td>\n",
       "      <td>cova_deductible</td>\n",
       "      <td>cova_limit</td>\n",
       "      <td>sqft</td>\n",
       "      <td>yearbuilt</td>\n",
       "      <td>landlordind</td>\n",
       "    </tr>\n",
       "    <tr>\n",
       "      <th>1</th>\n",
       "      <td>BaseModel</td>\n",
       "      <td>0.50000</td>\n",
       "      <td>0.50000</td>\n",
       "      <td>subsample-TrainingModels-BaseModel-1</td>\n",
       "      <td>s3://kdproperty/Models/Experiments/subsample/B...</td>\n",
       "      <td>binary:logistic</td>\n",
       "      <td>auc</td>\n",
       "      <td>gbtree</td>\n",
       "      <td>0.3</td>\n",
       "      <td>0.3</td>\n",
       "      <td>...</td>\n",
       "      <td>0.3</td>\n",
       "      <td>s3://kdproperty/Data/Experiments/bylevel/train...</td>\n",
       "      <td>s3://kdproperty/Data/Experiments/bylevel/valid...</td>\n",
       "      <td>s3://kdproperty/Data/Experiments/bylevel/testi...</td>\n",
       "      <td>usagetype_encd</td>\n",
       "      <td>cova_deductible</td>\n",
       "      <td>cova_limit</td>\n",
       "      <td>sqft</td>\n",
       "      <td>yearbuilt</td>\n",
       "      <td>landlordind</td>\n",
       "    </tr>\n",
       "    <tr>\n",
       "      <th>2</th>\n",
       "      <td>BaseModel</td>\n",
       "      <td>0.50000</td>\n",
       "      <td>0.50000</td>\n",
       "      <td>subsample-TrainingModels-BaseModel-2</td>\n",
       "      <td>s3://kdproperty/Models/Experiments/subsample/B...</td>\n",
       "      <td>binary:logistic</td>\n",
       "      <td>auc</td>\n",
       "      <td>gbtree</td>\n",
       "      <td>0.3</td>\n",
       "      <td>0.4</td>\n",
       "      <td>...</td>\n",
       "      <td>0.4</td>\n",
       "      <td>s3://kdproperty/Data/Experiments/bylevel/train...</td>\n",
       "      <td>s3://kdproperty/Data/Experiments/bylevel/valid...</td>\n",
       "      <td>s3://kdproperty/Data/Experiments/bylevel/testi...</td>\n",
       "      <td>usagetype_encd</td>\n",
       "      <td>cova_deductible</td>\n",
       "      <td>cova_limit</td>\n",
       "      <td>sqft</td>\n",
       "      <td>yearbuilt</td>\n",
       "      <td>landlordind</td>\n",
       "    </tr>\n",
       "    <tr>\n",
       "      <th>3</th>\n",
       "      <td>BaseModel</td>\n",
       "      <td>0.71337</td>\n",
       "      <td>0.67440</td>\n",
       "      <td>subsample-TrainingModels-BaseModel-3</td>\n",
       "      <td>s3://kdproperty/Models/Experiments/subsample/B...</td>\n",
       "      <td>binary:logistic</td>\n",
       "      <td>auc</td>\n",
       "      <td>gbtree</td>\n",
       "      <td>0.3</td>\n",
       "      <td>0.5</td>\n",
       "      <td>...</td>\n",
       "      <td>0.5</td>\n",
       "      <td>s3://kdproperty/Data/Experiments/bylevel/train...</td>\n",
       "      <td>s3://kdproperty/Data/Experiments/bylevel/valid...</td>\n",
       "      <td>s3://kdproperty/Data/Experiments/bylevel/testi...</td>\n",
       "      <td>usagetype_encd</td>\n",
       "      <td>cova_deductible</td>\n",
       "      <td>cova_limit</td>\n",
       "      <td>sqft</td>\n",
       "      <td>yearbuilt</td>\n",
       "      <td>landlordind</td>\n",
       "    </tr>\n",
       "    <tr>\n",
       "      <th>4</th>\n",
       "      <td>BaseModel</td>\n",
       "      <td>0.71448</td>\n",
       "      <td>0.67388</td>\n",
       "      <td>subsample-TrainingModels-BaseModel-4</td>\n",
       "      <td>s3://kdproperty/Models/Experiments/subsample/B...</td>\n",
       "      <td>binary:logistic</td>\n",
       "      <td>auc</td>\n",
       "      <td>gbtree</td>\n",
       "      <td>0.3</td>\n",
       "      <td>0.6</td>\n",
       "      <td>...</td>\n",
       "      <td>0.6</td>\n",
       "      <td>s3://kdproperty/Data/Experiments/bylevel/train...</td>\n",
       "      <td>s3://kdproperty/Data/Experiments/bylevel/valid...</td>\n",
       "      <td>s3://kdproperty/Data/Experiments/bylevel/testi...</td>\n",
       "      <td>usagetype_encd</td>\n",
       "      <td>cova_deductible</td>\n",
       "      <td>cova_limit</td>\n",
       "      <td>sqft</td>\n",
       "      <td>yearbuilt</td>\n",
       "      <td>landlordind</td>\n",
       "    </tr>\n",
       "    <tr>\n",
       "      <th>5</th>\n",
       "      <td>BaseModel</td>\n",
       "      <td>0.71374</td>\n",
       "      <td>0.67460</td>\n",
       "      <td>subsample-TrainingModels-BaseModel-5</td>\n",
       "      <td>s3://kdproperty/Models/Experiments/subsample/B...</td>\n",
       "      <td>binary:logistic</td>\n",
       "      <td>auc</td>\n",
       "      <td>gbtree</td>\n",
       "      <td>0.3</td>\n",
       "      <td>0.7</td>\n",
       "      <td>...</td>\n",
       "      <td>0.7</td>\n",
       "      <td>s3://kdproperty/Data/Experiments/bylevel/train...</td>\n",
       "      <td>s3://kdproperty/Data/Experiments/bylevel/valid...</td>\n",
       "      <td>s3://kdproperty/Data/Experiments/bylevel/testi...</td>\n",
       "      <td>usagetype_encd</td>\n",
       "      <td>cova_deductible</td>\n",
       "      <td>cova_limit</td>\n",
       "      <td>sqft</td>\n",
       "      <td>yearbuilt</td>\n",
       "      <td>landlordind</td>\n",
       "    </tr>\n",
       "    <tr>\n",
       "      <th>6</th>\n",
       "      <td>BaseModel</td>\n",
       "      <td>0.71091</td>\n",
       "      <td>0.67394</td>\n",
       "      <td>subsample-TrainingModels-BaseModel-6</td>\n",
       "      <td>s3://kdproperty/Models/Experiments/subsample/B...</td>\n",
       "      <td>binary:logistic</td>\n",
       "      <td>auc</td>\n",
       "      <td>gbtree</td>\n",
       "      <td>0.3</td>\n",
       "      <td>0.8</td>\n",
       "      <td>...</td>\n",
       "      <td>0.8</td>\n",
       "      <td>s3://kdproperty/Data/Experiments/bylevel/train...</td>\n",
       "      <td>s3://kdproperty/Data/Experiments/bylevel/valid...</td>\n",
       "      <td>s3://kdproperty/Data/Experiments/bylevel/testi...</td>\n",
       "      <td>usagetype_encd</td>\n",
       "      <td>cova_deductible</td>\n",
       "      <td>cova_limit</td>\n",
       "      <td>sqft</td>\n",
       "      <td>yearbuilt</td>\n",
       "      <td>landlordind</td>\n",
       "    </tr>\n",
       "    <tr>\n",
       "      <th>7</th>\n",
       "      <td>BaseModel</td>\n",
       "      <td>0.71303</td>\n",
       "      <td>0.67358</td>\n",
       "      <td>subsample-TrainingModels-BaseModel-7</td>\n",
       "      <td>s3://kdproperty/Models/Experiments/subsample/B...</td>\n",
       "      <td>binary:logistic</td>\n",
       "      <td>auc</td>\n",
       "      <td>gbtree</td>\n",
       "      <td>0.3</td>\n",
       "      <td>0.9</td>\n",
       "      <td>...</td>\n",
       "      <td>1.0</td>\n",
       "      <td>s3://kdproperty/Data/Experiments/bylevel/train...</td>\n",
       "      <td>s3://kdproperty/Data/Experiments/bylevel/valid...</td>\n",
       "      <td>s3://kdproperty/Data/Experiments/bylevel/testi...</td>\n",
       "      <td>usagetype_encd</td>\n",
       "      <td>cova_deductible</td>\n",
       "      <td>cova_limit</td>\n",
       "      <td>sqft</td>\n",
       "      <td>yearbuilt</td>\n",
       "      <td>landlordind</td>\n",
       "    </tr>\n",
       "  </tbody>\n",
       "</table>\n",
       "<p>8 rows × 24 columns</p>\n",
       "</div>"
      ],
      "text/plain": [
       "       Model  train:auc  validation:auc                       Trial Component  \\\n",
       "0  BaseModel    0.50000         0.50000  subsample-TrainingModels-BaseModel-0   \n",
       "1  BaseModel    0.50000         0.50000  subsample-TrainingModels-BaseModel-1   \n",
       "2  BaseModel    0.50000         0.50000  subsample-TrainingModels-BaseModel-2   \n",
       "3  BaseModel    0.71337         0.67440  subsample-TrainingModels-BaseModel-3   \n",
       "4  BaseModel    0.71448         0.67388  subsample-TrainingModels-BaseModel-4   \n",
       "5  BaseModel    0.71374         0.67460  subsample-TrainingModels-BaseModel-5   \n",
       "6  BaseModel    0.71091         0.67394  subsample-TrainingModels-BaseModel-6   \n",
       "7  BaseModel    0.71303         0.67358  subsample-TrainingModels-BaseModel-7   \n",
       "\n",
       "                                           ModelFile        objective  \\\n",
       "0  s3://kdproperty/Models/Experiments/subsample/B...  binary:logistic   \n",
       "1  s3://kdproperty/Models/Experiments/subsample/B...  binary:logistic   \n",
       "2  s3://kdproperty/Models/Experiments/subsample/B...  binary:logistic   \n",
       "3  s3://kdproperty/Models/Experiments/subsample/B...  binary:logistic   \n",
       "4  s3://kdproperty/Models/Experiments/subsample/B...  binary:logistic   \n",
       "5  s3://kdproperty/Models/Experiments/subsample/B...  binary:logistic   \n",
       "6  s3://kdproperty/Models/Experiments/subsample/B...  binary:logistic   \n",
       "7  s3://kdproperty/Models/Experiments/subsample/B...  binary:logistic   \n",
       "\n",
       "  eval_metric booster  scale_pos_weight  colsample_bylevel  ...  subsample  \\\n",
       "0         auc  gbtree               0.3                0.2  ...        0.2   \n",
       "1         auc  gbtree               0.3                0.3  ...        0.3   \n",
       "2         auc  gbtree               0.3                0.4  ...        0.4   \n",
       "3         auc  gbtree               0.3                0.5  ...        0.5   \n",
       "4         auc  gbtree               0.3                0.6  ...        0.6   \n",
       "5         auc  gbtree               0.3                0.7  ...        0.7   \n",
       "6         auc  gbtree               0.3                0.8  ...        0.8   \n",
       "7         auc  gbtree               0.3                0.9  ...        1.0   \n",
       "\n",
       "                                       Training_data  \\\n",
       "0  s3://kdproperty/Data/Experiments/bylevel/train...   \n",
       "1  s3://kdproperty/Data/Experiments/bylevel/train...   \n",
       "2  s3://kdproperty/Data/Experiments/bylevel/train...   \n",
       "3  s3://kdproperty/Data/Experiments/bylevel/train...   \n",
       "4  s3://kdproperty/Data/Experiments/bylevel/train...   \n",
       "5  s3://kdproperty/Data/Experiments/bylevel/train...   \n",
       "6  s3://kdproperty/Data/Experiments/bylevel/train...   \n",
       "7  s3://kdproperty/Data/Experiments/bylevel/train...   \n",
       "\n",
       "                                     Validation_data  \\\n",
       "0  s3://kdproperty/Data/Experiments/bylevel/valid...   \n",
       "1  s3://kdproperty/Data/Experiments/bylevel/valid...   \n",
       "2  s3://kdproperty/Data/Experiments/bylevel/valid...   \n",
       "3  s3://kdproperty/Data/Experiments/bylevel/valid...   \n",
       "4  s3://kdproperty/Data/Experiments/bylevel/valid...   \n",
       "5  s3://kdproperty/Data/Experiments/bylevel/valid...   \n",
       "6  s3://kdproperty/Data/Experiments/bylevel/valid...   \n",
       "7  s3://kdproperty/Data/Experiments/bylevel/valid...   \n",
       "\n",
       "                                        Testing_data              F1  \\\n",
       "0  s3://kdproperty/Data/Experiments/bylevel/testi...  usagetype_encd   \n",
       "1  s3://kdproperty/Data/Experiments/bylevel/testi...  usagetype_encd   \n",
       "2  s3://kdproperty/Data/Experiments/bylevel/testi...  usagetype_encd   \n",
       "3  s3://kdproperty/Data/Experiments/bylevel/testi...  usagetype_encd   \n",
       "4  s3://kdproperty/Data/Experiments/bylevel/testi...  usagetype_encd   \n",
       "5  s3://kdproperty/Data/Experiments/bylevel/testi...  usagetype_encd   \n",
       "6  s3://kdproperty/Data/Experiments/bylevel/testi...  usagetype_encd   \n",
       "7  s3://kdproperty/Data/Experiments/bylevel/testi...  usagetype_encd   \n",
       "\n",
       "                F2           F3    F4         F5           F6  \n",
       "0  cova_deductible  cova_limit   sqft  yearbuilt  landlordind  \n",
       "1  cova_deductible  cova_limit   sqft  yearbuilt  landlordind  \n",
       "2  cova_deductible  cova_limit   sqft  yearbuilt  landlordind  \n",
       "3  cova_deductible  cova_limit   sqft  yearbuilt  landlordind  \n",
       "4  cova_deductible  cova_limit   sqft  yearbuilt  landlordind  \n",
       "5  cova_deductible  cova_limit   sqft  yearbuilt  landlordind  \n",
       "6  cova_deductible  cova_limit   sqft  yearbuilt  landlordind  \n",
       "7  cova_deductible  cova_limit   sqft  yearbuilt  landlordind  \n",
       "\n",
       "[8 rows x 24 columns]"
      ]
     },
     "execution_count": 25,
     "metadata": {},
     "output_type": "execute_result"
    }
   ],
   "source": [
    "ModelsResults = trial_ds[['Model','train:auc - Last','validation:auc - Last','DisplayName','SageMaker.ModelArtifact - Value']].copy()\n",
    "ModelsResults.columns=['Model','train:auc','validation:auc','Trial Component','ModelFile']\n",
    "#index of data_for_training is saved in Model name as the last partition\n",
    "ModelsResults['ind']=pd.to_numeric(ModelsResults['Model'].apply(lambda x: x.rpartition('-')[2]))\n",
    "ModelsResults['Model']=ModelsResults['Model'].apply(lambda x: x.rpartition('-')[0])\n",
    "ModelsResults.sort_values('ind', ascending=True,inplace=True)\n",
    "ModelsResults = ModelsResults.set_index('ind')\n",
    "ModelsResults = pd.concat([ModelsResults, data_for_training.drop('Model',axis=1)], axis=1)\n",
    "ModelsResults"
   ]
  },
  {
   "cell_type": "code",
   "execution_count": 26,
   "metadata": {},
   "outputs": [],
   "source": [
    "#Saving into the Experiment log file models results\n",
    "eu.SaveToExperimentLog(Experiments_file, '%s Results'%Experiment_name, ModelsResults)"
   ]
  },
  {
   "cell_type": "markdown",
   "metadata": {},
   "source": [
    "1. Best scores"
   ]
  },
  {
   "cell_type": "code",
   "execution_count": 27,
   "metadata": {},
   "outputs": [
    {
     "data": {
      "text/plain": [
       "<matplotlib.axes._subplots.AxesSubplot at 0x7ffa004e1b70>"
      ]
     },
     "execution_count": 27,
     "metadata": {},
     "output_type": "execute_result"
    },
    {
     "data": {
      "image/png": "[encoded data removed]",
      "text/plain": [
       "<Figure size 1080x720 with 1 Axes>"
      ]
     },
     "metadata": {
      "needs_background": "light"
     },
     "output_type": "display_data"
    }
   ],
   "source": [
    "ModelsResults=ModelsResults.sort_values('validation:auc', ascending=False)\n",
    "fig = plt.figure()\n",
    "fig.set_size_inches([15, 10])\n",
    "ModelsResults.plot.bar('Model', 'validation:auc',ax=plt.gca())"
   ]
  },
  {
   "cell_type": "code",
   "execution_count": 34,
   "metadata": {},
   "outputs": [
    {
     "data": {
      "text/html": [
       "<div>\n",
       "<style scoped>\n",
       "    .dataframe tbody tr th:only-of-type {\n",
       "        vertical-align: middle;\n",
       "    }\n",
       "\n",
       "    .dataframe tbody tr th {\n",
       "        vertical-align: top;\n",
       "    }\n",
       "\n",
       "    .dataframe thead th {\n",
       "        text-align: right;\n",
       "    }\n",
       "</style>\n",
       "<table border=\"1\" class=\"dataframe\">\n",
       "  <thead>\n",
       "    <tr style=\"text-align: right;\">\n",
       "      <th></th>\n",
       "      <th>Model</th>\n",
       "      <th>train:auc</th>\n",
       "      <th>validation:auc</th>\n",
       "      <th>subsample</th>\n",
       "    </tr>\n",
       "  </thead>\n",
       "  <tbody>\n",
       "    <tr>\n",
       "      <th>5</th>\n",
       "      <td>BaseModel</td>\n",
       "      <td>0.71374</td>\n",
       "      <td>0.67460</td>\n",
       "      <td>0.7</td>\n",
       "    </tr>\n",
       "    <tr>\n",
       "      <th>3</th>\n",
       "      <td>BaseModel</td>\n",
       "      <td>0.71337</td>\n",
       "      <td>0.67440</td>\n",
       "      <td>0.5</td>\n",
       "    </tr>\n",
       "    <tr>\n",
       "      <th>6</th>\n",
       "      <td>BaseModel</td>\n",
       "      <td>0.71091</td>\n",
       "      <td>0.67394</td>\n",
       "      <td>0.8</td>\n",
       "    </tr>\n",
       "    <tr>\n",
       "      <th>4</th>\n",
       "      <td>BaseModel</td>\n",
       "      <td>0.71448</td>\n",
       "      <td>0.67388</td>\n",
       "      <td>0.6</td>\n",
       "    </tr>\n",
       "    <tr>\n",
       "      <th>7</th>\n",
       "      <td>BaseModel</td>\n",
       "      <td>0.71303</td>\n",
       "      <td>0.67358</td>\n",
       "      <td>1.0</td>\n",
       "    </tr>\n",
       "    <tr>\n",
       "      <th>0</th>\n",
       "      <td>BaseModel</td>\n",
       "      <td>0.50000</td>\n",
       "      <td>0.50000</td>\n",
       "      <td>0.2</td>\n",
       "    </tr>\n",
       "    <tr>\n",
       "      <th>1</th>\n",
       "      <td>BaseModel</td>\n",
       "      <td>0.50000</td>\n",
       "      <td>0.50000</td>\n",
       "      <td>0.3</td>\n",
       "    </tr>\n",
       "    <tr>\n",
       "      <th>2</th>\n",
       "      <td>BaseModel</td>\n",
       "      <td>0.50000</td>\n",
       "      <td>0.50000</td>\n",
       "      <td>0.4</td>\n",
       "    </tr>\n",
       "  </tbody>\n",
       "</table>\n",
       "</div>"
      ],
      "text/plain": [
       "       Model  train:auc  validation:auc  subsample\n",
       "5  BaseModel    0.71374         0.67460        0.7\n",
       "3  BaseModel    0.71337         0.67440        0.5\n",
       "6  BaseModel    0.71091         0.67394        0.8\n",
       "4  BaseModel    0.71448         0.67388        0.6\n",
       "7  BaseModel    0.71303         0.67358        1.0\n",
       "0  BaseModel    0.50000         0.50000        0.2\n",
       "1  BaseModel    0.50000         0.50000        0.3\n",
       "2  BaseModel    0.50000         0.50000        0.4"
      ]
     },
     "execution_count": 34,
     "metadata": {},
     "output_type": "execute_result"
    }
   ],
   "source": [
    "ModelsResults[['Model', 'train:auc', 'validation:auc','subsample']]"
   ]
  },
  {
   "cell_type": "code",
   "execution_count": 38,
   "metadata": {},
   "outputs": [
    {
     "name": "stdout",
     "output_type": "stream",
     "text": [
      "BaseModel-5\n",
      "Models/Experiments/subsample/BaseModel-5-2021-02-08-17-01-31/output/output.tar.gz\n",
      "Processing...\n",
      "BaseModel-3\n",
      "Models/Experiments/subsample/BaseModel-3-2021-02-08-17-01-27/output/output.tar.gz\n",
      "Processing...\n",
      "BaseModel-6\n",
      "Models/Experiments/subsample/BaseModel-6-2021-02-08-17-01-35/output/output.tar.gz\n",
      "Processing...\n",
      "BaseModel-4\n",
      "Models/Experiments/subsample/BaseModel-4-2021-02-08-17-01-30/output/output.tar.gz\n",
      "Processing...\n",
      "BaseModel-7\n",
      "Models/Experiments/subsample/BaseModel-7-2021-02-08-17-01-36/output/output.tar.gz\n",
      "Processing...\n",
      "BaseModel-0\n",
      "Models/Experiments/subsample/BaseModel-0-2021-02-08-17-01-22/output/output.tar.gz\n",
      "Processing...\n",
      "BaseModel-1\n",
      "Models/Experiments/subsample/BaseModel-1-2021-02-08-17-01-24/output/output.tar.gz\n"
     ]
    },
    {
     "name": "stderr",
     "output_type": "stream",
     "text": [
      "/home/kate/anaconda/lib/python3.6/site-packages/ipykernel_launcher.py:27: FutureWarning: Sorting because non-concatenation axis is not aligned. A future version\n",
      "of pandas will change to not sort by default.\n",
      "\n",
      "To accept the future behavior, pass 'sort=False'.\n",
      "\n",
      "To retain the current behavior and silence the warning, pass 'sort=True'.\n",
      "\n"
     ]
    },
    {
     "name": "stdout",
     "output_type": "stream",
     "text": [
      "Processing...\n",
      "BaseModel-2\n",
      "Models/Experiments/subsample/BaseModel-2-2021-02-08-17-01-26/output/output.tar.gz\n",
      "Processing...\n"
     ]
    }
   ],
   "source": [
    "#Additional results from training for custom processing: feature importance, evaluation scores of tests data and full model output of training and validation scores\n",
    "ModelEvalResults=pd.DataFrame()\n",
    "FI = pd.DataFrame()\n",
    "ModelsTestScores = pd.DataFrame()\n",
    "for index, row in ModelsResults.iterrows():\n",
    "    print('%s-%s'%(row['Model'],index))\n",
    "    eval_results_file=row['ModelFile'].replace('model.tar.gz','output.tar.gz').replace('s3://%s/'%bucket,'')\n",
    "    print(eval_results_file)\n",
    "    if s3.exists(row['ModelFile'].replace('model.tar.gz','output.tar.gz')):\n",
    "        sagemaker_session.download_data(path=temp_folder, bucket=bucket, key_prefix=eval_results_file)\n",
    "        print('Processing...')\n",
    "        eval_results_file=os.path.join(temp_folder, 'output.tar.gz')\n",
    "        with tarfile.open(eval_results_file) as tar:\n",
    "            tar.extractall(path=temp_folder)\n",
    "        eval_results_file=os.path.join(temp_folder, 'eval_results.csv')\n",
    "        eval_results=pd.read_csv(eval_results_file, error_bad_lines=False, index_col=False)\n",
    "        eval_results['Model']=row['Model']\n",
    "        eval_results['ind']=index\n",
    "        ModelEvalResults = pd.concat([ModelEvalResults,eval_results])\n",
    "        #FI\n",
    "        if (GetFIFlg=='Y'):\n",
    "            fi_model_file=os.path.join(temp_folder, 'fi.csv')     \n",
    "            if (os.path.isfile(fi_model_file)):\n",
    "                fi_model=pd.read_csv(fi_model_file, error_bad_lines=False, index_col=False)\n",
    "                fi_model['feature']=fi_model['feature'].map(GetMap(model))\n",
    "                fi_model['Model']=row['Model']\n",
    "                fi_model['ind']=index     \n",
    "                FI = pd.concat([FI,fi_model])           \n",
    "        #Test Scores \n",
    "        if (GetTestScoreFlg=='Y'):\n",
    "            test_score_file=os.path.join(temp_folder, 'test_score.csv')\n",
    "            if (os.path.isfile(test_score_file)):\n",
    "                test_score=pd.read_csv(test_score_file, error_bad_lines=False, index_col=False)\n",
    "                test_score['Model']=row['Model']\n",
    "                test_score['ind']=index \n",
    "                ModelsTestScores = pd.concat([ModelsTestScores,test_score])       \n",
    "    else:\n",
    "        print('File does not exist')       \n",
    "ModelEvalResults=ModelEvalResults[['Model','ind','train','valid']]  \n",
    "if (GetFIFlg=='Y'):\n",
    "    FI=FI[['Model','ind','feature','gain','weight','cover']]\n",
    "if (GetTestScoreFlg=='Y'):\n",
    "    ModelsTestScores=ModelsTestScores[['Model','ind','roc-auc-test']]"
   ]
  },
  {
   "cell_type": "markdown",
   "metadata": {},
   "source": [
    "2. Feature Importance"
   ]
  },
  {
   "cell_type": "code",
   "execution_count": 39,
   "metadata": {},
   "outputs": [
    {
     "name": "stdout",
     "output_type": "stream",
     "text": [
      "       Model  ind          feature      gain weight        cover\n",
      "0  BaseModel    7        yearbuilt  3.658830   1262  2010.437432\n",
      "1  BaseModel    7  cova_deductible  3.447266    556  2469.986845\n",
      "2  BaseModel    7             sqft  1.678978   1336   836.614528\n",
      "5  BaseModel    7   usagetype_encd  1.611597    354   547.703281\n",
      "4  BaseModel    7      landlordind  1.569687    122   735.945679\n"
     ]
    }
   ],
   "source": [
    "if (GetFIFlg=='Y'):\n",
    "    FI=FI.sort_values(['Model','ind','gain'], ascending=False)\n",
    "    print(FI.head())"
   ]
  },
  {
   "cell_type": "code",
   "execution_count": 40,
   "metadata": {},
   "outputs": [
    {
     "data": {
      "image/png": "[encoded data removed]",
      "text/plain": [
       "<Figure size 1800x360 with 3 Axes>"
      ]
     },
     "metadata": {
      "needs_background": "light"
     },
     "output_type": "display_data"
    },
    {
     "data": {
      "image/png": "[encoded data removed]",
      "text/plain": [
       "<Figure size 1800x360 with 3 Axes>"
      ]
     },
     "metadata": {
      "needs_background": "light"
     },
     "output_type": "display_data"
    },
    {
     "data": {
      "image/png": "[encoded data removed]",
      "text/plain": [
       "<Figure size 1800x360 with 3 Axes>"
      ]
     },
     "metadata": {
      "needs_background": "light"
     },
     "output_type": "display_data"
    },
    {
     "data": {
      "image/png": "[encoded data removed]",
      "text/plain": [
       "<Figure size 1800x360 with 3 Axes>"
      ]
     },
     "metadata": {
      "needs_background": "light"
     },
     "output_type": "display_data"
    },
    {
     "data": {
      "image/png": "[encoded data removed]",
      "text/plain": [
       "<Figure size 1800x360 with 3 Axes>"
      ]
     },
     "metadata": {
      "needs_background": "light"
     },
     "output_type": "display_data"
    }
   ],
   "source": [
    "if (GetFIFlg=='Y'):\n",
    "    for index, row in ModelsResults.iterrows():\n",
    "        if len(FI[( (FI['Model']==row['Model']) & (FI['ind']==index))])>0:\n",
    "            \n",
    "            data=FI[( (FI['Model']==row['Model']) & (FI['ind']==index))]\n",
    "            fig, axs = plt.subplots(nrows=1, ncols=3,figsize=(25,5)) \n",
    "            fig.suptitle('%s %s'%(row['Model'],index))\n",
    "            data=data.sort_values(['Model','ind','gain'], ascending=True)\n",
    "            ax = axs[0]\n",
    "            ax.set_title('Gain')\n",
    "            data.plot.barh('feature', 'gain',ax=axs[0])\n",
    "            \n",
    "            \n",
    "            data=data.sort_values(['Model','ind','weight'], ascending=True)\n",
    "            ax = axs[1]\n",
    "            ax.set_title('Weight')\n",
    "            data.plot.barh('feature', 'weight',ax=axs[1])\n",
    "            \n",
    "            data=data.sort_values(['Model','ind','cover'], ascending=True)\n",
    "            ax = axs[2]\n",
    "            ax.set_title('Cover')\n",
    "            data.plot.barh('feature', 'cover',ax=axs[2])\n"
   ]
  },
  {
   "cell_type": "markdown",
   "metadata": {},
   "source": [
    "3.Test dataset Scores"
   ]
  },
  {
   "cell_type": "code",
   "execution_count": 32,
   "metadata": {},
   "outputs": [
    {
     "name": "stdout",
     "output_type": "stream",
     "text": [
      "         Model  ind  roc-auc-test\n",
      "0  BaseModel-7    5      0.700648\n",
      "0  BaseModel-7    3      0.700162\n",
      "0  BaseModel-7    6      0.701770\n",
      "0  BaseModel-7    4      0.699278\n",
      "0  BaseModel-7    7      0.701575\n",
      "0  BaseModel-7    0      0.500000\n",
      "0  BaseModel-7    1      0.500000\n",
      "0  BaseModel-7    2      0.500000\n"
     ]
    }
   ],
   "source": [
    "if (GetTestScoreFlg=='Y'):\n",
    "    print(ModelsTestScores)"
   ]
  },
  {
   "cell_type": "code",
   "execution_count": 33,
   "metadata": {},
   "outputs": [
    {
     "data": {
      "image/png": "[encoded data removed]",
      "text/plain": [
       "<Figure size 1080x720 with 1 Axes>"
      ]
     },
     "metadata": {
      "needs_background": "light"
     },
     "output_type": "display_data"
    }
   ],
   "source": [
    "if (GetTestScoreFlg=='Y'):\n",
    "    ModelsTestScores=ModelsTestScores.sort_values('roc-auc-test', ascending=False)\n",
    "    fig = plt.figure()\n",
    "    fig.set_size_inches([15, 10])\n",
    "    ModelsTestScores.plot.bar('Model', 'roc-auc-test',ax=plt.gca())"
   ]
  },
  {
   "cell_type": "markdown",
   "metadata": {},
   "source": [
    "4. Training and validation errors (output from the model) to estimate overfitting"
   ]
  },
  {
   "cell_type": "code",
   "execution_count": 41,
   "metadata": {},
   "outputs": [
    {
     "data": {
      "image/png": "[encoded data removed]",
      "text/plain": [
       "<Figure size 432x288 with 1 Axes>"
      ]
     },
     "metadata": {
      "needs_background": "light"
     },
     "output_type": "display_data"
    },
    {
     "data": {
      "image/png": "[encoded data removed]",
      "text/plain": [
       "<Figure size 432x288 with 1 Axes>"
      ]
     },
     "metadata": {
      "needs_background": "light"
     },
     "output_type": "display_data"
    },
    {
     "data": {
      "image/png": "[encoded data removed]",
      "text/plain": [
       "<Figure size 432x288 with 1 Axes>"
      ]
     },
     "metadata": {
      "needs_background": "light"
     },
     "output_type": "display_data"
    },
    {
     "data": {
      "image/png": "[encoded data removed]",
      "text/plain": [
       "<Figure size 432x288 with 1 Axes>"
      ]
     },
     "metadata": {
      "needs_background": "light"
     },
     "output_type": "display_data"
    },
    {
     "data": {
      "image/png": "[encoded data removed]",
      "text/plain": [
       "<Figure size 432x288 with 1 Axes>"
      ]
     },
     "metadata": {
      "needs_background": "light"
     },
     "output_type": "display_data"
    },
    {
     "data": {
      "image/png": "[encoded data removed]",
      "text/plain": [
       "<Figure size 432x288 with 1 Axes>"
      ]
     },
     "metadata": {
      "needs_background": "light"
     },
     "output_type": "display_data"
    },
    {
     "data": {
      "image/png": "[encoded data removed]",
      "text/plain": [
       "<Figure size 432x288 with 1 Axes>"
      ]
     },
     "metadata": {
      "needs_background": "light"
     },
     "output_type": "display_data"
    },
    {
     "data": {
      "image/png": "[encoded data removed]",
      "text/plain": [
       "<Figure size 432x288 with 1 Axes>"
      ]
     },
     "metadata": {
      "needs_background": "light"
     },
     "output_type": "display_data"
    }
   ],
   "source": [
    "for index, row in ModelsResults.iterrows():\n",
    "    if len(ModelEvalResults[( (ModelEvalResults['Model']==row['Model']) & (ModelEvalResults['ind']==index))])>0:\n",
    "        ModelEvalResults[( (ModelEvalResults['Model']==row['Model']) & (ModelEvalResults['ind']==index))][['train','valid']].plot(title=row['Model']+'-'+str(index))"
   ]
  },
  {
   "cell_type": "code",
   "execution_count": null,
   "metadata": {},
   "outputs": [],
   "source": [
    "#Saving into the Experiment log file models results\n",
    "#eu.SaveToExperimentLog(Experiments_file, '%s EvalResults'%Experiment_name, ModelEvalResults)"
   ]
  },
  {
   "cell_type": "code",
   "execution_count": null,
   "metadata": {},
   "outputs": [],
   "source": [
    "#Saving models artifacts into the Experiment Log file\n",
    "#eu.SaveToExperimentLog(Experiments_file, '%s ModelFiles'%Experiment_name, ModelsFiles)"
   ]
  }
 ],
 "metadata": {
  "kernelspec": {
   "display_name": "Python 3",
   "language": "python",
   "name": "python3"
  },
  "language_info": {
   "codemirror_mode": {
    "name": "ipython",
    "version": 3
   },
   "file_extension": ".py",
   "mimetype": "text/x-python",
   "name": "python",
   "nbconvert_exporter": "python",
   "pygments_lexer": "ipython3",
   "version": "3.8.5"
  }
 },
 "nbformat": 4,
 "nbformat_minor": 4
}
