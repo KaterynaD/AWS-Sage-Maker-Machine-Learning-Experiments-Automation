{
 "cells": [
  {
   "cell_type": "code",
   "execution_count": 1,
   "metadata": {},
   "outputs": [],
   "source": [
    "import pandas as pd\n",
    "import numpy as np"
   ]
  },
  {
   "cell_type": "code",
   "execution_count": 2,
   "metadata": {},
   "outputs": [],
   "source": [
    "dataset = pd.read_csv('/home/kate/Research/YearBuilt/Data/property_basedata_v4.csv', error_bad_lines=False, index_col=False)"
   ]
  },
  {
   "cell_type": "code",
   "execution_count": 3,
   "metadata": {},
   "outputs": [
    {
     "data": {
      "text/plain": [
       "1916168"
      ]
     },
     "execution_count": 3,
     "metadata": {},
     "output_type": "execute_result"
    }
   ],
   "source": [
    "len(dataset)"
   ]
  },
  {
   "cell_type": "code",
   "execution_count": 8,
   "metadata": {},
   "outputs": [],
   "source": [
    "dataset[dataset['risktype']=='Dwelling'].to_csv('/home/kate/Research/YearBuilt/Data/dwelling_basedata_v4.csv', header=True, index=False)"
   ]
  },
  {
   "cell_type": "code",
   "execution_count": 10,
   "metadata": {},
   "outputs": [],
   "source": [
    "dataset[dataset['risktype']=='Homeowners'].to_csv('/home/kate/Research/YearBuilt/Data/homeowners_basedata_v4.csv', header=True, index=False)"
   ]
  },
  {
   "cell_type": "code",
   "execution_count": 12,
   "metadata": {},
   "outputs": [
    {
     "data": {
      "text/plain": [
       "Index(['cal_year', 'risktype', 'yearbuilt', 'yearbuilt_binned_5',\n",
       "       'yearbuilt_binned_10', 'yearbuilt_binned', 'sqft', 'sqft_binned',\n",
       "       'roofcd', 'roofcd_encd', 'usagetype', 'usagetype_encd',\n",
       "       'protectionclass', 'constructioncd', 'constructioncd_encd',\n",
       "       'water_risk_3_blk', 'water_risk_3_blk_negative1',\n",
       "       'water_risk_3_blk_average208', 'water_risk_3_blk_max2143',\n",
       "       'cova_deductible', 'cova_limit', 'cova_limit_binned', 'landlordind',\n",
       "       'multipolicyind', 'cnt_active_other_policies', 'cova_ic_nc_water',\n",
       "       'cova_ic_nc_wh', 'cova_ic_nc_fl', 'cova_ic_nc_ao', 'hasclaim',\n",
       "       'hasclaim_water', 'hasclaim_notwater', 'loaddate'],\n",
       "      dtype='object')"
      ]
     },
     "execution_count": 12,
     "metadata": {},
     "output_type": "execute_result"
    }
   ],
   "source": [
    "dataset.columns"
   ]
  },
  {
   "cell_type": "code",
   "execution_count": 14,
   "metadata": {},
   "outputs": [],
   "source": [
    "parts = np.array_split(dataset, 5)"
   ]
  },
  {
   "cell_type": "code",
   "execution_count": 21,
   "metadata": {},
   "outputs": [
    {
     "name": "stdout",
     "output_type": "stream",
     "text": [
      "0\n",
      "383234\n",
      "1\n",
      "383234\n",
      "2\n",
      "383234\n",
      "3\n",
      "383233\n",
      "4\n",
      "383233\n"
     ]
    }
   ],
   "source": [
    "s=0\n",
    "for i,p in enumerate(parts):\n",
    "    print(i)\n",
    "    print(len(p))\n",
    "    s=s+len(p)\n",
    "    p.to_csv('/home/kate/Research/YearBuilt/Data/tmp%s.csv'%i,header=False,index=False)"
   ]
  },
  {
   "cell_type": "code",
   "execution_count": 23,
   "metadata": {},
   "outputs": [
    {
     "name": "stdout",
     "output_type": "stream",
     "text": [
      "0\n",
      "1\n",
      "2\n",
      "3\n",
      "4\n"
     ]
    }
   ],
   "source": [
    "for j in range(0,5):\n",
    "    print(j)"
   ]
  }
 ],
 "metadata": {
  "kernelspec": {
   "display_name": "Python 3",
   "language": "python",
   "name": "python3"
  },
  "language_info": {
   "codemirror_mode": {
    "name": "ipython",
    "version": 3
   },
   "file_extension": ".py",
   "mimetype": "text/x-python",
   "name": "python",
   "nbconvert_exporter": "python",
   "pygments_lexer": "ipython3",
   "version": "3.6.12"
  }
 },
 "nbformat": 4,
 "nbformat_minor": 4
}
