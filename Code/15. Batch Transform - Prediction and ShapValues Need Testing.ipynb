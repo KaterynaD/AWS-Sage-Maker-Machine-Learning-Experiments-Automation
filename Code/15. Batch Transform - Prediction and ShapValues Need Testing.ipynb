{
 "cells": [
  {
   "cell_type": "code",
   "execution_count": 1,
   "metadata": {},
   "outputs": [],
   "source": [
    "Experiments_file='/home/kate/Research/YearBuilt/Experiments/Experiments.xlsx'\n",
    "AllExperiments_tab='Experiments'\n",
    "Experiment_name='Prediction'\n",
    "#Experiment configuration:\n",
    "#1.InputData is one line output frrom PreparingData trial. Only first line is used if more then 1 present\n",
    "Experiment_InputData_tab='%s InputData'%Experiment_name\n",
    "#2.ModelFiles: each line is a model name (Model) and full model file name (ModelData - model.tar.gz) in an S3 bucket\n",
    "Experiment_ModelFiles_tab='%s ModelFiles'%Experiment_name\n",
    "\n",
    "#Looks like Trial name should be unique in my environment, not in the experiment it belongs to\n",
    "Trial_name='%s-Inference'%Experiment_name\n",
    " \n",
    "bucket='kdproperty'\n",
    "s3_batch_output = 's3://%s/Prediction/'%(bucket)\n",
    "\n",
    "#number of instances can be teh same as number of features/files in InputData\n",
    "instance_type='ml.m5.large'\n",
    "instance_count=1"
   ]
  },
  {
   "cell_type": "code",
   "execution_count": 2,
   "metadata": {},
   "outputs": [],
   "source": [
    "import boto3\n",
    "import sys\n",
    "import time\n",
    "import pandas as pd\n",
    "import numpy as np\n",
    "\n",
    "import sagemaker\n",
    "from sagemaker import get_execution_role\n",
    "from sagemaker.xgboost.model import XGBoostModel\n",
    "\n",
    "from sagemaker.analytics import ExperimentAnalytics"
   ]
  },
  {
   "cell_type": "code",
   "execution_count": 3,
   "metadata": {},
   "outputs": [
    {
     "data": {
      "text/plain": [
       "'kdproperty'"
      ]
     },
     "execution_count": 3,
     "metadata": {},
     "output_type": "execute_result"
    }
   ],
   "source": [
    "region = boto3.session.Session().region_name\n",
    "role = 'arn:aws:iam::757107622481:role/service-role/AmazonSageMaker-ExecutionRole-20200819T131882'\n",
    "sagemaker_session = sagemaker.session.Session(default_bucket=bucket)"
   ]
  },
  {
   "cell_type": "code",
   "execution_count": 4,
   "metadata": {},
   "outputs": [],
   "source": [
    "sys.path.append('/home/kate/Research/YearBuilt/Notebooks/Property')\n",
    "import ExperimentsUtils as eu"
   ]
  },
  {
   "cell_type": "code",
   "execution_count": null,
   "metadata": {},
   "outputs": [],
   "source": [
    "#delete experiment and trials but not output files associated with jobs in experiments\n",
    "#eu.cleanup_experiment(Experiment_name)\n",
    "#eu.cleanup_trial(Experiment_name, Trial_name)"
   ]
  },
  {
   "cell_type": "code",
   "execution_count": 5,
   "metadata": {},
   "outputs": [
    {
     "name": "stderr",
     "output_type": "stream",
     "text": [
      "INFO:botocore.credentials:Found credentials in shared credentials file: ~/.aws/credentials\n",
      "INFO:botocore.credentials:Found credentials in shared credentials file: ~/.aws/credentials\n"
     ]
    }
   ],
   "source": [
    "eu.create_experiment(Experiment_name)\n",
    "eu.create_trial(Experiment_name,Trial_name)"
   ]
  },
  {
   "cell_type": "code",
   "execution_count": 6,
   "metadata": {},
   "outputs": [
    {
     "name": "stdout",
     "output_type": "stream",
     "text": [
      "s3://sagemaker-us-west-2-757107622481/sagemaker-scikit-learn-2020-12-21-22-06-44-060/output/output\n"
     ]
    }
   ],
   "source": [
    "#all models are predict from one dataset (in first row)\n",
    "InputData = pd.read_excel(open(Experiments_file, 'rb'), sheet_name=Experiment_InputData_tab)\n",
    "print(InputData['Data'][0])\n",
    "s3_batch_input = InputData['Data'][0]"
   ]
  },
  {
   "cell_type": "code",
   "execution_count": 7,
   "metadata": {},
   "outputs": [
    {
     "data": {
      "text/html": [
       "<div>\n",
       "<style scoped>\n",
       "    .dataframe tbody tr th:only-of-type {\n",
       "        vertical-align: middle;\n",
       "    }\n",
       "\n",
       "    .dataframe tbody tr th {\n",
       "        vertical-align: top;\n",
       "    }\n",
       "\n",
       "    .dataframe thead th {\n",
       "        text-align: right;\n",
       "    }\n",
       "</style>\n",
       "<table border=\"1\" class=\"dataframe\">\n",
       "  <thead>\n",
       "    <tr style=\"text-align: right;\">\n",
       "      <th></th>\n",
       "      <th>Model</th>\n",
       "      <th>Trial Component</th>\n",
       "      <th>ModelData</th>\n",
       "    </tr>\n",
       "  </thead>\n",
       "  <tbody>\n",
       "    <tr>\n",
       "      <th>0</th>\n",
       "      <td>Construction_WaterScore_9</td>\n",
       "      <td>BestModels2-TrainingModels-Construction-WaterS...</td>\n",
       "      <td>s3://kdproperty/Construction-WaterScore-9-2020...</td>\n",
       "    </tr>\n",
       "    <tr>\n",
       "      <th>1</th>\n",
       "      <td>Construction_WaterScore_8</td>\n",
       "      <td>BestModels2-TrainingModels-Construction-WaterS...</td>\n",
       "      <td>s3://kdproperty/Construction-WaterScore-8-2020...</td>\n",
       "    </tr>\n",
       "  </tbody>\n",
       "</table>\n",
       "</div>"
      ],
      "text/plain": [
       "                       Model  \\\n",
       "0  Construction_WaterScore_9   \n",
       "1  Construction_WaterScore_8   \n",
       "\n",
       "                                     Trial Component  \\\n",
       "0  BestModels2-TrainingModels-Construction-WaterS...   \n",
       "1  BestModels2-TrainingModels-Construction-WaterS...   \n",
       "\n",
       "                                           ModelData  \n",
       "0  s3://kdproperty/Construction-WaterScore-9-2020...  \n",
       "1  s3://kdproperty/Construction-WaterScore-8-2020...  "
      ]
     },
     "execution_count": 7,
     "metadata": {},
     "output_type": "execute_result"
    }
   ],
   "source": [
    "models_ModelFiles = pd.read_excel(open(Experiments_file, 'rb'), sheet_name=Experiment_ModelFiles_tab)\n",
    "models_ModelFiles"
   ]
  },
  {
   "cell_type": "code",
   "execution_count": 8,
   "metadata": {},
   "outputs": [
    {
     "name": "stdout",
     "output_type": "stream",
     "text": [
      "Overwriting inference.py\n"
     ]
    }
   ],
   "source": [
    "%%writefile inference.py\n",
    "import json\n",
    "import os\n",
    "import pickle as pkl\n",
    "\n",
    "import numpy as np\n",
    "\n",
    "import sagemaker_xgboost_container.encoder as xgb_encoders\n",
    "\n",
    "\n",
    "def model_fn(model_dir):\n",
    "    \"\"\"\n",
    "    Deserialize and return fitted model.\n",
    "    \"\"\"\n",
    "    model_file = \"xgboost-model\"\n",
    "    booster = pkl.load(open(os.path.join(model_dir, model_file), \"rb\"))\n",
    "    return booster\n",
    "\n",
    "\n",
    "def input_fn(request_body, request_content_type):\n",
    "    \"\"\"\n",
    "    The SageMaker XGBoost model server receives the request data body and the content type,\n",
    "    and invokes the `input_fn`.\n",
    "\n",
    "    Return a DMatrix (an object that can be passed to predict_fn).\n",
    "    \"\"\"\n",
    "    if request_content_type == \"text/csv\":\n",
    "        return xgb_encoders.csv_to_dmatrix(request_body.rstrip('\\n').lstrip('\\n'))\n",
    "    else:\n",
    "        raise ValueError(\n",
    "            \"Content type {} is not supported.\".format(request_content_type)\n",
    "        )\n",
    "\n",
    "\n",
    "def predict_fn(input_data, model):\n",
    "    \"\"\"\n",
    "    SageMaker XGBoost model server invokes `predict_fn` on the return value of `input_fn`.\n",
    "\n",
    "    Return a two-dimensional NumPy array where the first columns are predictions\n",
    "    and the remaining columns are the feature contributions (SHAP values) for that prediction.\n",
    "    \"\"\"\n",
    "    prediction = model.predict(input_data)\n",
    "    feature_contribs = model.predict(input_data, pred_contribs=True)\n",
    "    output = np.hstack((prediction[:, np.newaxis], feature_contribs))\n",
    "    \n",
    "    return  prediction"
   ]
  },
  {
   "cell_type": "code",
   "execution_count": 9,
   "metadata": {},
   "outputs": [
    {
     "name": "stderr",
     "output_type": "stream",
     "text": [
      "WARNING:sagemaker:Parameter image will be renamed to image_uri in SageMaker Python SDK v2.\n",
      "WARNING:sagemaker:Parameter image will be renamed to image_uri in SageMaker Python SDK v2.\n"
     ]
    },
    {
     "name": "stdout",
     "output_type": "stream",
     "text": [
      "Construction-WaterScore-9 s3://kdproperty/Construction-WaterScore-9-2020-12-16-18-01-32/output/model.tar.gz\n",
      "Construction-WaterScore-9 model does not exist\n",
      "Construction-WaterScore-9 model was created\n",
      "Construction-WaterScore-8 s3://kdproperty/Construction-WaterScore-8-2020-12-16-18-01-34/output/model.tar.gz\n",
      "Construction-WaterScore-8 model does not exist\n",
      "Construction-WaterScore-8 model was created\n"
     ]
    }
   ],
   "source": [
    "#Models to be used in prediction\n",
    "#based on model files provided in models_ModelFiles\n",
    "models = list()\n",
    "model_names = list()\n",
    "i = 0\n",
    "for index, row in models_ModelFiles.iterrows():\n",
    "    #Try to delete if exists model and create a new model based on a model file\n",
    "    name=row['Model']\n",
    "    name=name.replace('_','-')\n",
    "    model_data=row['ModelData']\n",
    "    print(name,model_data)\n",
    "    try:\n",
    "        response = smclient.delete_model(ModelName=name)\n",
    "        print('%s model was deleted'%name)\n",
    "    except:\n",
    "        print('%s model does not exist'%name)\n",
    "        pass\n",
    "    xgb_inference_model = XGBoostModel(\n",
    "    name=name,\n",
    "    model_data=model_data,\n",
    "    role=role,\n",
    "    entry_point='inference.py',\n",
    "    framework_version=\"1.0-1\",\n",
    "    )\n",
    "    models.append(xgb_inference_model)\n",
    "    model_names.append(name)\n",
    "    print('%s model was created'%name)\n",
    "    i = i + 1        "
   ]
  },
  {
   "cell_type": "code",
   "execution_count": 10,
   "metadata": {},
   "outputs": [
    {
     "name": "stderr",
     "output_type": "stream",
     "text": [
      "INFO:botocore.credentials:Found credentials in shared credentials file: ~/.aws/credentials\n"
     ]
    },
    {
     "name": "stdout",
     "output_type": "stream",
     "text": [
      "Construction-WaterScore-9 s3://kdproperty/PartialDependency/Construction-WaterScore-9\n"
     ]
    },
    {
     "name": "stderr",
     "output_type": "stream",
     "text": [
      "INFO:sagemaker:Creating model with name: Construction-WaterScore-9\n",
      "WARNING:sagemaker:Using already existing model: Construction-WaterScore-9\n",
      "INFO:sagemaker:Creating transform job with name: Construction-WaterScore-9-2020-12-21-22-36-04-133\n",
      "INFO:botocore.credentials:Found credentials in shared credentials file: ~/.aws/credentials\n"
     ]
    },
    {
     "name": "stdout",
     "output_type": "stream",
     "text": [
      "Job Construction-WaterScore-9-2020-12-21-22-36-04-133 started\n",
      "Construction-WaterScore-8 s3://kdproperty/PartialDependency/Construction-WaterScore-8\n"
     ]
    },
    {
     "name": "stderr",
     "output_type": "stream",
     "text": [
      "INFO:sagemaker:Creating model with name: Construction-WaterScore-8\n",
      "INFO:sagemaker:Creating transform job with name: Construction-WaterScore-8-2020-12-21-22-36-06-881\n"
     ]
    },
    {
     "name": "stdout",
     "output_type": "stream",
     "text": [
      "Job Construction-WaterScore-8-2020-12-21-22-36-06-881 started\n"
     ]
    }
   ],
   "source": [
    "#create transformer job for each model\n",
    "tranform_jobs = list()\n",
    "tranformers = list()\n",
    "i = 0\n",
    "for m,model_name in zip(models,model_names):       \n",
    "    s3_batch_output_model=s3_batch_output+model_name\n",
    "    print(model_name,s3_batch_output_model)\n",
    "    transformer =  m.transformer(\n",
    "                                              instance_count=instance_count, \n",
    "                                              instance_type=instance_type,\n",
    "                                              output_path=s3_batch_output_model,\n",
    "                                              accept='text/csv',\n",
    "                                              strategy='MultiRecord',\n",
    "                                              assemble_with='Line'\n",
    "                                             )\n",
    "    tranformers.append(transformer)\n",
    "    transformer.transform(data=s3_batch_input, content_type='text/csv',split_type='Line',\n",
    "    experiment_config = {\n",
    "        'ExperimentName': Experiment_name ,\n",
    "        'TrialName' : Trial_name,\n",
    "        'TrialComponentDisplayName' : '%s-%s'%(Trial_name,model_name.replace('_','-')),})\n",
    "    job_name = transformer.latest_transform_job.name\n",
    "    tranform_jobs.append(job_name)\n",
    "    print('Job %s started'%job_name)\n",
    "    i = i + 1"
   ]
  },
  {
   "cell_type": "code",
   "execution_count": 12,
   "metadata": {},
   "outputs": [
    {
     "name": "stdout",
     "output_type": "stream",
     "text": [
      "Transforming job Construction-WaterScore-9-2020-12-21-22-36-04-133 status: InProgress\n",
      "Transforming job Construction-WaterScore-8-2020-12-21-22-36-06-881 status: InProgress\n",
      "Continue waiting...\n",
      "Transforming job Construction-WaterScore-9-2020-12-21-22-36-04-133 status: InProgress\n",
      "Transforming job Construction-WaterScore-8-2020-12-21-22-36-06-881 status: InProgress\n",
      "Continue waiting...\n",
      "Transforming job Construction-WaterScore-9-2020-12-21-22-36-04-133 status: InProgress\n",
      "Transforming job Construction-WaterScore-8-2020-12-21-22-36-06-881 status: InProgress\n",
      "Continue waiting...\n",
      "Transforming job Construction-WaterScore-9-2020-12-21-22-36-04-133 status: InProgress\n",
      "Transforming job Construction-WaterScore-8-2020-12-21-22-36-06-881 status: InProgress\n",
      "Continue waiting...\n",
      "Transforming job Construction-WaterScore-9-2020-12-21-22-36-04-133 status: InProgress\n",
      "Transforming job Construction-WaterScore-8-2020-12-21-22-36-06-881 status: InProgress\n",
      "Continue waiting...\n",
      "Transforming job Construction-WaterScore-9-2020-12-21-22-36-04-133 status: InProgress\n",
      "Transforming job Construction-WaterScore-8-2020-12-21-22-36-06-881 status: InProgress\n",
      "Continue waiting...\n",
      "Transforming job Construction-WaterScore-9-2020-12-21-22-36-04-133 status: InProgress\n",
      "Transforming job Construction-WaterScore-8-2020-12-21-22-36-06-881 status: InProgress\n",
      "Continue waiting...\n",
      "Transforming job Construction-WaterScore-9-2020-12-21-22-36-04-133 status: InProgress\n",
      "Transforming job Construction-WaterScore-8-2020-12-21-22-36-06-881 status: InProgress\n",
      "Continue waiting...\n",
      "Transforming job Construction-WaterScore-9-2020-12-21-22-36-04-133 status: InProgress\n",
      "Transforming job Construction-WaterScore-8-2020-12-21-22-36-06-881 status: InProgress\n",
      "Continue waiting...\n",
      "Transforming job Construction-WaterScore-9-2020-12-21-22-36-04-133 status: InProgress\n",
      "Transforming job Construction-WaterScore-8-2020-12-21-22-36-06-881 status: InProgress\n",
      "Continue waiting...\n",
      "Transforming job Construction-WaterScore-9-2020-12-21-22-36-04-133 status: InProgress\n",
      "Transforming job Construction-WaterScore-8-2020-12-21-22-36-06-881 status: InProgress\n",
      "Continue waiting...\n",
      "Transforming job Construction-WaterScore-9-2020-12-21-22-36-04-133 status: InProgress\n",
      "Transforming job Construction-WaterScore-8-2020-12-21-22-36-06-881 status: InProgress\n",
      "Continue waiting...\n",
      "Transforming job Construction-WaterScore-9-2020-12-21-22-36-04-133 status: InProgress\n",
      "Transforming job Construction-WaterScore-8-2020-12-21-22-36-06-881 status: InProgress\n",
      "Continue waiting...\n",
      "Transforming job Construction-WaterScore-9-2020-12-21-22-36-04-133 status: InProgress\n",
      "Transforming job Construction-WaterScore-8-2020-12-21-22-36-06-881 status: InProgress\n",
      "Continue waiting...\n",
      "Transforming job Construction-WaterScore-9-2020-12-21-22-36-04-133 status: InProgress\n",
      "Transforming job Construction-WaterScore-8-2020-12-21-22-36-06-881 status: InProgress\n",
      "Continue waiting...\n",
      "Transforming job Construction-WaterScore-9-2020-12-21-22-36-04-133 status: InProgress\n",
      "Transforming job Construction-WaterScore-8-2020-12-21-22-36-06-881 status: InProgress\n",
      "Continue waiting...\n",
      "Transforming job Construction-WaterScore-9-2020-12-21-22-36-04-133 status: InProgress\n",
      "Transforming job Construction-WaterScore-8-2020-12-21-22-36-06-881 status: InProgress\n",
      "Continue waiting...\n",
      "Transforming job Construction-WaterScore-9-2020-12-21-22-36-04-133 status: InProgress\n",
      "Transforming job Construction-WaterScore-8-2020-12-21-22-36-06-881 status: InProgress\n",
      "Continue waiting...\n",
      "Transforming job Construction-WaterScore-9-2020-12-21-22-36-04-133 status: InProgress\n",
      "Transforming job Construction-WaterScore-8-2020-12-21-22-36-06-881 status: InProgress\n",
      "Continue waiting...\n",
      "Transforming job Construction-WaterScore-9-2020-12-21-22-36-04-133 status: InProgress\n",
      "Transforming job Construction-WaterScore-8-2020-12-21-22-36-06-881 status: InProgress\n",
      "Continue waiting...\n",
      "Transforming job Construction-WaterScore-9-2020-12-21-22-36-04-133 status: InProgress\n",
      "Transforming job Construction-WaterScore-8-2020-12-21-22-36-06-881 status: InProgress\n",
      "Continue waiting...\n",
      "Transforming job Construction-WaterScore-9-2020-12-21-22-36-04-133 status: InProgress\n",
      "Transforming job Construction-WaterScore-8-2020-12-21-22-36-06-881 status: InProgress\n",
      "Continue waiting...\n",
      "Transforming job Construction-WaterScore-9-2020-12-21-22-36-04-133 status: InProgress\n",
      "Transforming job Construction-WaterScore-8-2020-12-21-22-36-06-881 status: InProgress\n",
      "Continue waiting...\n",
      "Transforming job Construction-WaterScore-9-2020-12-21-22-36-04-133 status: InProgress\n",
      "Transforming job Construction-WaterScore-8-2020-12-21-22-36-06-881 status: InProgress\n",
      "Continue waiting...\n",
      "Transforming job Construction-WaterScore-9-2020-12-21-22-36-04-133 status: InProgress\n",
      "Transforming job Construction-WaterScore-8-2020-12-21-22-36-06-881 status: InProgress\n",
      "Continue waiting...\n",
      "Transforming job Construction-WaterScore-9-2020-12-21-22-36-04-133 status: InProgress\n",
      "Transforming job Construction-WaterScore-8-2020-12-21-22-36-06-881 status: InProgress\n",
      "Continue waiting...\n",
      "Transforming job Construction-WaterScore-9-2020-12-21-22-36-04-133 status: InProgress\n",
      "Transforming job Construction-WaterScore-8-2020-12-21-22-36-06-881 status: InProgress\n",
      "Continue waiting...\n",
      "Transforming job Construction-WaterScore-9-2020-12-21-22-36-04-133 status: InProgress\n",
      "Transforming job Construction-WaterScore-8-2020-12-21-22-36-06-881 status: InProgress\n",
      "Continue waiting...\n",
      "Transforming job Construction-WaterScore-9-2020-12-21-22-36-04-133 status: InProgress\n",
      "Transforming job Construction-WaterScore-8-2020-12-21-22-36-06-881 status: InProgress\n",
      "Continue waiting...\n",
      "Transforming job Construction-WaterScore-9-2020-12-21-22-36-04-133 status: InProgress\n",
      "Transforming job Construction-WaterScore-8-2020-12-21-22-36-06-881 status: InProgress\n",
      "Continue waiting...\n",
      "Something went wrong. Transforming jobs are still running.\n"
     ]
    }
   ],
   "source": [
    "eu.wait_transform_jobs(processors=tranformers,tranform_jobs=tranform_jobs,check_every_sec=10,print_every_n_output=6,wait_min=30)"
   ]
  },
  {
   "cell_type": "code",
   "execution_count": 13,
   "metadata": {},
   "outputs": [
    {
     "name": "stderr",
     "output_type": "stream",
     "text": [
      "INFO:botocore.credentials:Found credentials in shared credentials file: ~/.aws/credentials\n"
     ]
    }
   ],
   "source": [
    "trial_component_analytics = ExperimentAnalytics(\n",
    "    experiment_name=Experiment_name\n",
    ")\n",
    "trial_comp_ds = trial_component_analytics.dataframe()\n",
    "trial_ds=trial_comp_ds[trial_comp_ds['DisplayName'].str.contains(Trial_name)].copy()\n",
    "trial_ds['Model']=trial_ds['DisplayName'].str.replace(Trial_name+'-','')\n",
    "trial_ds['Model']=trial_ds['Model'].str.replace('-','_')\n",
    "#trial_ds"
   ]
  },
  {
   "cell_type": "code",
   "execution_count": 14,
   "metadata": {},
   "outputs": [
    {
     "data": {
      "text/html": [
       "<div>\n",
       "<style scoped>\n",
       "    .dataframe tbody tr th:only-of-type {\n",
       "        vertical-align: middle;\n",
       "    }\n",
       "\n",
       "    .dataframe tbody tr th {\n",
       "        vertical-align: top;\n",
       "    }\n",
       "\n",
       "    .dataframe thead th {\n",
       "        text-align: right;\n",
       "    }\n",
       "</style>\n",
       "<table border=\"1\" class=\"dataframe\">\n",
       "  <thead>\n",
       "    <tr style=\"text-align: right;\">\n",
       "      <th></th>\n",
       "      <th>Model</th>\n",
       "      <th>DisplayName</th>\n",
       "      <th>Data</th>\n",
       "    </tr>\n",
       "  </thead>\n",
       "  <tbody>\n",
       "    <tr>\n",
       "      <th>0</th>\n",
       "      <td>Construction_WaterScore_9</td>\n",
       "      <td>PartialDependency-Inference-Construction-Water...</td>\n",
       "      <td>s3://kdproperty/PartialDependency/Construction...</td>\n",
       "    </tr>\n",
       "    <tr>\n",
       "      <th>1</th>\n",
       "      <td>Construction_WaterScore_8</td>\n",
       "      <td>PartialDependency-Inference-Construction-Water...</td>\n",
       "      <td>s3://kdproperty/PartialDependency/Construction...</td>\n",
       "    </tr>\n",
       "  </tbody>\n",
       "</table>\n",
       "</div>"
      ],
      "text/plain": [
       "                       Model  \\\n",
       "0  Construction_WaterScore_9   \n",
       "1  Construction_WaterScore_8   \n",
       "\n",
       "                                         DisplayName  \\\n",
       "0  PartialDependency-Inference-Construction-Water...   \n",
       "1  PartialDependency-Inference-Construction-Water...   \n",
       "\n",
       "                                                Data  \n",
       "0  s3://kdproperty/PartialDependency/Construction...  \n",
       "1  s3://kdproperty/PartialDependency/Construction...  "
      ]
     },
     "execution_count": 14,
     "metadata": {},
     "output_type": "execute_result"
    }
   ],
   "source": [
    "#Prediction Result files\n",
    "PredictedData = trial_ds[['Model','DisplayName','SageMaker.TransformOutput - Value']]\n",
    "PredictedData.columns=['Model','DisplayName','Data']\n",
    "PredictedData"
   ]
  },
  {
   "cell_type": "code",
   "execution_count": 15,
   "metadata": {},
   "outputs": [],
   "source": [
    "#Saving into the Experiment log file testing data prediction files\n",
    "eu.SaveToExperimentLog(Experiments_file, '%s PredictedData'%Experiment_name, PredictedData)"
   ]
  }
 ],
 "metadata": {
  "kernelspec": {
   "display_name": "Python 3",
   "language": "python",
   "name": "python3"
  },
  "language_info": {
   "codemirror_mode": {
    "name": "ipython",
    "version": 3
   },
   "file_extension": ".py",
   "mimetype": "text/x-python",
   "name": "python",
   "nbconvert_exporter": "python",
   "pygments_lexer": "ipython3",
   "version": "3.6.12"
  }
 },
 "nbformat": 4,
 "nbformat_minor": 4
}
