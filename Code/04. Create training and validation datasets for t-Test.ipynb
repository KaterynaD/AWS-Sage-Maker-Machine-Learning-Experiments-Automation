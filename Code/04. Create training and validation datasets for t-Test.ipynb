{
 "cells": [
  {
   "cell_type": "code",
   "execution_count": 1,
   "metadata": {},
   "outputs": [],
   "source": [
    "Experiments_file='/home/kate/Research/YearBuilt/Experiments/DwellingExperiments.xlsx'\n",
    "AllExperiments_tab='Experiments'\n",
    "Experiment_name='FMultiPol'\n",
    "#Experiment configuration: differenet datasets to try\n",
    "#each line in the file contains the model name and set of features to built a dataset for SageMaker\n",
    "Experiment_tab='%s Models'%Experiment_name\n",
    "\n",
    "#Looks like Trial name should be unique in my environment, not in the experiment it belongs to\n",
    "Trial_name='%s-PreparingTrainValidData'%Experiment_name\n",
    "\n",
    "\n",
    "\n",
    "#original dataset was created from a Redshift query and uploaded into S3\n",
    "bucket='kdproperty'\n",
    "path_to_data_file='/Data/'\n",
    "\n",
    "\n",
    "split_year='2020'\n",
    "num_folds='10'\n",
    "\n",
    "\n",
    "instance_type='ml.t3.large'\n",
    "instance_count=1"
   ]
  },
  {
   "cell_type": "code",
   "execution_count": 2,
   "metadata": {},
   "outputs": [],
   "source": [
    "import sys\n",
    "import time\n",
    "import pandas as pd\n",
    "import numpy as np\n",
    "import boto3\n",
    "import sagemaker\n",
    "from sagemaker import get_execution_role\n",
    "from sagemaker.sklearn.processing import SKLearnProcessor\n",
    "from sagemaker.processing import ProcessingInput, ProcessingOutput\n",
    "\n",
    "from sagemaker.analytics import ExperimentAnalytics"
   ]
  },
  {
   "cell_type": "code",
   "execution_count": 3,
   "metadata": {},
   "outputs": [],
   "source": [
    "sys.path.append('/home/kate/Research/YearBuilt/Notebooks/Property')\n",
    "import ExperimentsUtils as eu"
   ]
  },
  {
   "cell_type": "code",
   "execution_count": 4,
   "metadata": {},
   "outputs": [],
   "source": [
    "experiments = pd.read_excel(open(Experiments_file, 'rb'), sheet_name=AllExperiments_tab)"
   ]
  },
  {
   "cell_type": "code",
   "execution_count": 5,
   "metadata": {},
   "outputs": [
    {
     "name": "stderr",
     "output_type": "stream",
     "text": [
      "INFO:botocore.credentials:Found credentials in shared credentials file: ~/.aws/credentials\n"
     ]
    },
    {
     "name": "stdout",
     "output_type": "stream",
     "text": [
      "FMultiPol is a new experiment. nothing to delete\n"
     ]
    }
   ],
   "source": [
    "#delete experiment and trials but not output files associated with jobs in experiments\n",
    "eu.cleanup_experiment(Experiment_name)"
   ]
  },
  {
   "cell_type": "code",
   "execution_count": 6,
   "metadata": {},
   "outputs": [
    {
     "name": "stderr",
     "output_type": "stream",
     "text": [
      "INFO:botocore.credentials:Found credentials in shared credentials file: ~/.aws/credentials\n",
      "INFO:botocore.credentials:Found credentials in shared credentials file: ~/.aws/credentials\n",
      "INFO:botocore.credentials:Found credentials in shared credentials file: ~/.aws/credentials\n",
      "INFO:botocore.credentials:Found credentials in shared credentials file: ~/.aws/credentials\n"
     ]
    }
   ],
   "source": [
    "eu.create_experiment(Experiment_name)\n",
    "eu.create_trial(Experiment_name,Trial_name)"
   ]
  },
  {
   "cell_type": "code",
   "execution_count": 7,
   "metadata": {},
   "outputs": [
    {
     "name": "stdout",
     "output_type": "stream",
     "text": [
      "hasclaim\n",
      "dwelling_basedata_v4.csv\n"
     ]
    }
   ],
   "source": [
    "experiments = pd.read_excel(open(Experiments_file, 'rb'), sheet_name=AllExperiments_tab)\n",
    "target=experiments[experiments['Experiment']==Experiment_name]['Target'].values[0]\n",
    "print(target)\n",
    "data_file=experiments[experiments['Experiment']==Experiment_name]['Dataset'].values[0]\n",
    "print(data_file)"
   ]
  },
  {
   "cell_type": "code",
   "execution_count": 8,
   "metadata": {},
   "outputs": [
    {
     "data": {
      "text/html": [
       "<div>\n",
       "<style scoped>\n",
       "    .dataframe tbody tr th:only-of-type {\n",
       "        vertical-align: middle;\n",
       "    }\n",
       "\n",
       "    .dataframe tbody tr th {\n",
       "        vertical-align: top;\n",
       "    }\n",
       "\n",
       "    .dataframe thead th {\n",
       "        text-align: right;\n",
       "    }\n",
       "</style>\n",
       "<table border=\"1\" class=\"dataframe\">\n",
       "  <thead>\n",
       "    <tr style=\"text-align: right;\">\n",
       "      <th></th>\n",
       "      <th>Model</th>\n",
       "      <th>F1</th>\n",
       "      <th>F2</th>\n",
       "      <th>F3</th>\n",
       "      <th>F4</th>\n",
       "      <th>F5</th>\n",
       "      <th>F6</th>\n",
       "    </tr>\n",
       "  </thead>\n",
       "  <tbody>\n",
       "    <tr>\n",
       "      <th>0</th>\n",
       "      <td>BaseModel</td>\n",
       "      <td>usagetype_encd</td>\n",
       "      <td>cova_deductible</td>\n",
       "      <td>cova_limit</td>\n",
       "      <td>sqft</td>\n",
       "      <td>yearbuilt</td>\n",
       "      <td>NaN</td>\n",
       "    </tr>\n",
       "    <tr>\n",
       "      <th>1</th>\n",
       "      <td>Landlord</td>\n",
       "      <td>usagetype_encd</td>\n",
       "      <td>cova_deductible</td>\n",
       "      <td>cova_limit</td>\n",
       "      <td>sqft</td>\n",
       "      <td>yearbuilt</td>\n",
       "      <td>landlordind</td>\n",
       "    </tr>\n",
       "    <tr>\n",
       "      <th>2</th>\n",
       "      <td>ActiveOtherPolicies</td>\n",
       "      <td>usagetype_encd</td>\n",
       "      <td>cova_deductible</td>\n",
       "      <td>cova_limit</td>\n",
       "      <td>sqft</td>\n",
       "      <td>yearbuilt</td>\n",
       "      <td>cnt_active_other_policies</td>\n",
       "    </tr>\n",
       "  </tbody>\n",
       "</table>\n",
       "</div>"
      ],
      "text/plain": [
       "                 Model              F1               F2           F3    F4  \\\n",
       "0            BaseModel  usagetype_encd  cova_deductible  cova_limit   sqft   \n",
       "1             Landlord  usagetype_encd  cova_deductible  cova_limit   sqft   \n",
       "2  ActiveOtherPolicies  usagetype_encd  cova_deductible  cova_limit   sqft   \n",
       "\n",
       "            F5                         F6  \n",
       "0  yearbuilt                          NaN  \n",
       "1  yearbuilt                  landlordind  \n",
       "2  yearbuilt    cnt_active_other_policies  "
      ]
     },
     "execution_count": 8,
     "metadata": {},
     "output_type": "execute_result"
    }
   ],
   "source": [
    "models = pd.read_excel(open(Experiments_file, 'rb'), sheet_name=Experiment_tab)\n",
    "models"
   ]
  },
  {
   "cell_type": "code",
   "execution_count": 9,
   "metadata": {},
   "outputs": [
    {
     "name": "stderr",
     "output_type": "stream",
     "text": [
      "INFO:botocore.credentials:Found credentials in shared credentials file: ~/.aws/credentials\n"
     ]
    }
   ],
   "source": [
    "region = boto3.session.Session().region_name\n",
    "role = 'arn:aws:iam::757107622481:role/service-role/AmazonSageMaker-ExecutionRole-20200819T131882'\n",
    "sagemaker_session = sagemaker.session.Session(default_bucket=bucket)"
   ]
  },
  {
   "cell_type": "code",
   "execution_count": 10,
   "metadata": {},
   "outputs": [
    {
     "name": "stdout",
     "output_type": "stream",
     "text": [
      "Overwriting preprocessingStratifiedKFold.py\n"
     ]
    }
   ],
   "source": [
    "%%writefile preprocessingStratifiedKFold.py\n",
    "\n",
    "#Training and Validation dataset for SageMaker are the same structure: no headers, the first column is a target and the rest are features\n",
    "\n",
    "\n",
    "import argparse\n",
    "import os\n",
    "import pandas as pd\n",
    "import numpy as np\n",
    "from sklearn.model_selection import StratifiedKFold\n",
    "\n",
    "if __name__=='__main__':\n",
    "    \n",
    "    parser = argparse.ArgumentParser()\n",
    "    parser.add_argument('--data_file', type=str)\n",
    "    parser.add_argument('--split_year', type=int)   \n",
    "    parser.add_argument('--num_folds', type=int)      \n",
    "    parser.add_argument('--target', type=str)      \n",
    "    parser.add_argument('--model', type=str)\n",
    "    parser.add_argument('--featureset', type=str)    \n",
    "    args, _ = parser.parse_known_args()    \n",
    "    print('Received arguments {}'.format(args))\n",
    "    \n",
    "    featureset=args.featureset.split(',')\n",
    "    target_column=args.target\n",
    "    input_data_path = os.path.join('/opt/ml/processing/input', args.data_file)\n",
    "    train_data_output_path = '/opt/ml/processing/output/training_data'  \n",
    "    validation_data_output_path = '/opt/ml/processing/output/validation_data'\n",
    "  \n",
    "    \n",
    "   \n",
    "    \n",
    "    print('Reading input data from {}'.format(input_data_path))\n",
    "    dataset = pd.read_csv(input_data_path, error_bad_lines=False, index_col=False)\n",
    "    \n",
    "    \n",
    "    dataset=dataset[(dataset.cal_year < args.split_year)][featureset + [target_column]]\n",
    "    \n",
    "    X = dataset[featureset]\n",
    "    y = dataset[target_column]\n",
    "\n",
    "    #StratifiedKFold\n",
    "    kfold =args.num_folds \n",
    "    skf = StratifiedKFold(n_splits=kfold, random_state=42, shuffle=True)\n",
    "    \n",
    "    for i, (train_index, test_index) in enumerate(skf.split(X, y)):\n",
    "        print(' fold: {}  of  {} : '.format(i+1, kfold))\n",
    "        X_train, X_valid = X.iloc[train_index], X.iloc[test_index]\n",
    "        y_train, y_valid = y.iloc[train_index], y.iloc[test_index] \n",
    "        \n",
    "        train_data_output_path_fold = os.path.join(train_data_output_path,  'fold_%s_training_%s.csv'%(i,args.model))    \n",
    "        validation_data_output_path_fold = os.path.join(validation_data_output_path, 'fold_%s_validation_%s.csv'%(i,args.model))       \n",
    "        \n",
    "        training_dataset=pd.DataFrame({'hasclaim':y_train}).join(X_train)\n",
    "        training_dataset.to_csv(train_data_output_path_fold, header=False, index=False)\n",
    "                                                   \n",
    "        validation_dataset=pd.DataFrame({'hasclaim':y_valid}).join(X_valid)   \n",
    "        validation_dataset.to_csv(validation_data_output_path_fold, header=False, index=False)    "
   ]
  },
  {
   "cell_type": "markdown",
   "metadata": {},
   "source": [
    "I need 10 separate datasets for each model. I can not use 10 pairs of ProcessingOutput for training and validation data because of some errors related to size (? not data size)\n",
    "So I save 10 files in each training and validation folders with fold_0, fold_1 etc addition in front"
   ]
  },
  {
   "cell_type": "code",
   "execution_count": 11,
   "metadata": {},
   "outputs": [
    {
     "name": "stderr",
     "output_type": "stream",
     "text": [
      "INFO:botocore.credentials:Found credentials in shared credentials file: ~/.aws/credentials\n",
      "INFO:sagemaker.image_uris:Same images used for training and inference. Defaulting to image scope: inference.\n",
      "INFO:sagemaker.image_uris:Defaulting to only available Python version: py3\n"
     ]
    },
    {
     "name": "stdout",
     "output_type": "stream",
     "text": [
      "0 : Creating datasets for model BaseModel\n",
      "usagetype_encd,cova_deductible,cova_limit ,sqft,yearbuilt  \n"
     ]
    },
    {
     "name": "stderr",
     "output_type": "stream",
     "text": [
      "INFO:sagemaker:Creating processing-job with name sagemaker-scikit-learn-2020-12-30-22-02-17-778\n"
     ]
    },
    {
     "name": "stdout",
     "output_type": "stream",
     "text": [
      "\n",
      "Job Name:  sagemaker-scikit-learn-2020-12-30-22-02-17-778\n",
      "Inputs:  [{'InputName': 'input-1', 'AppManaged': False, 'S3Input': {'S3Uri': 's3://kdproperty/Data/dwelling_basedata_v4.csv', 'LocalPath': '/opt/ml/processing/input', 'S3DataType': 'S3Prefix', 'S3InputMode': 'File', 'S3DataDistributionType': 'FullyReplicated', 'S3CompressionType': 'None'}}, {'InputName': 'code', 'AppManaged': False, 'S3Input': {'S3Uri': 's3://sagemaker-us-west-2-757107622481/sagemaker-scikit-learn-2020-12-30-22-02-17-778/input/code/preprocessingStratifiedKFold.py', 'LocalPath': '/opt/ml/processing/input/code', 'S3DataType': 'S3Prefix', 'S3InputMode': 'File', 'S3DataDistributionType': 'FullyReplicated', 'S3CompressionType': 'None'}}]\n",
      "Outputs:  [{'OutputName': 'training_data', 'AppManaged': False, 'S3Output': {'S3Uri': 's3://kdproperty/Data/training_data/BaseModel', 'LocalPath': '/opt/ml/processing/output/training_data', 'S3UploadMode': 'EndOfJob'}}, {'OutputName': 'validation_data', 'AppManaged': False, 'S3Output': {'S3Uri': 's3://kdproperty/Data/validation_data/BaseModel', 'LocalPath': '/opt/ml/processing/output/validation_data', 'S3UploadMode': 'EndOfJob'}}]\n"
     ]
    },
    {
     "name": "stderr",
     "output_type": "stream",
     "text": [
      "INFO:botocore.credentials:Found credentials in shared credentials file: ~/.aws/credentials\n",
      "INFO:sagemaker.image_uris:Same images used for training and inference. Defaulting to image scope: inference.\n",
      "INFO:sagemaker.image_uris:Defaulting to only available Python version: py3\n"
     ]
    },
    {
     "name": "stdout",
     "output_type": "stream",
     "text": [
      "1 : Creating datasets for model Landlord\n",
      "usagetype_encd,cova_deductible,cova_limit ,sqft,yearbuilt  ,landlordind\n"
     ]
    },
    {
     "name": "stderr",
     "output_type": "stream",
     "text": [
      "INFO:sagemaker:Creating processing-job with name sagemaker-scikit-learn-2020-12-30-22-02-19-013\n"
     ]
    },
    {
     "name": "stdout",
     "output_type": "stream",
     "text": [
      "\n",
      "Job Name:  sagemaker-scikit-learn-2020-12-30-22-02-19-013\n",
      "Inputs:  [{'InputName': 'input-1', 'AppManaged': False, 'S3Input': {'S3Uri': 's3://kdproperty/Data/dwelling_basedata_v4.csv', 'LocalPath': '/opt/ml/processing/input', 'S3DataType': 'S3Prefix', 'S3InputMode': 'File', 'S3DataDistributionType': 'FullyReplicated', 'S3CompressionType': 'None'}}, {'InputName': 'code', 'AppManaged': False, 'S3Input': {'S3Uri': 's3://sagemaker-us-west-2-757107622481/sagemaker-scikit-learn-2020-12-30-22-02-19-013/input/code/preprocessingStratifiedKFold.py', 'LocalPath': '/opt/ml/processing/input/code', 'S3DataType': 'S3Prefix', 'S3InputMode': 'File', 'S3DataDistributionType': 'FullyReplicated', 'S3CompressionType': 'None'}}]\n",
      "Outputs:  [{'OutputName': 'training_data', 'AppManaged': False, 'S3Output': {'S3Uri': 's3://kdproperty/Data/training_data/Landlord', 'LocalPath': '/opt/ml/processing/output/training_data', 'S3UploadMode': 'EndOfJob'}}, {'OutputName': 'validation_data', 'AppManaged': False, 'S3Output': {'S3Uri': 's3://kdproperty/Data/validation_data/Landlord', 'LocalPath': '/opt/ml/processing/output/validation_data', 'S3UploadMode': 'EndOfJob'}}]\n"
     ]
    },
    {
     "name": "stderr",
     "output_type": "stream",
     "text": [
      "INFO:botocore.credentials:Found credentials in shared credentials file: ~/.aws/credentials\n",
      "INFO:sagemaker.image_uris:Same images used for training and inference. Defaulting to image scope: inference.\n",
      "INFO:sagemaker.image_uris:Defaulting to only available Python version: py3\n"
     ]
    },
    {
     "name": "stdout",
     "output_type": "stream",
     "text": [
      "2 : Creating datasets for model ActiveOtherPolicies\n",
      "usagetype_encd,cova_deductible,cova_limit ,sqft,yearbuilt  ,cnt_active_other_policies\n"
     ]
    },
    {
     "name": "stderr",
     "output_type": "stream",
     "text": [
      "INFO:sagemaker:Creating processing-job with name sagemaker-scikit-learn-2020-12-30-22-02-23-544\n"
     ]
    },
    {
     "name": "stdout",
     "output_type": "stream",
     "text": [
      "\n",
      "Job Name:  sagemaker-scikit-learn-2020-12-30-22-02-23-544\n",
      "Inputs:  [{'InputName': 'input-1', 'AppManaged': False, 'S3Input': {'S3Uri': 's3://kdproperty/Data/dwelling_basedata_v4.csv', 'LocalPath': '/opt/ml/processing/input', 'S3DataType': 'S3Prefix', 'S3InputMode': 'File', 'S3DataDistributionType': 'FullyReplicated', 'S3CompressionType': 'None'}}, {'InputName': 'code', 'AppManaged': False, 'S3Input': {'S3Uri': 's3://sagemaker-us-west-2-757107622481/sagemaker-scikit-learn-2020-12-30-22-02-23-544/input/code/preprocessingStratifiedKFold.py', 'LocalPath': '/opt/ml/processing/input/code', 'S3DataType': 'S3Prefix', 'S3InputMode': 'File', 'S3DataDistributionType': 'FullyReplicated', 'S3CompressionType': 'None'}}]\n",
      "Outputs:  [{'OutputName': 'training_data', 'AppManaged': False, 'S3Output': {'S3Uri': 's3://kdproperty/Data/training_data/ActiveOtherPolicies', 'LocalPath': '/opt/ml/processing/output/training_data', 'S3UploadMode': 'EndOfJob'}}, {'OutputName': 'validation_data', 'AppManaged': False, 'S3Output': {'S3Uri': 's3://kdproperty/Data/validation_data/ActiveOtherPolicies', 'LocalPath': '/opt/ml/processing/output/validation_data', 'S3UploadMode': 'EndOfJob'}}]\n"
     ]
    }
   ],
   "source": [
    "processors=list()\n",
    "\n",
    "for index, row in models.iterrows():\n",
    "    model=row['Model']\n",
    "    print (index, ': Creating datasets for model %s'%model)\n",
    "    featureset=row[1:51].tolist()\n",
    "    featureset=[x for x in featureset if str(x) != 'nan']\n",
    "    print(','.join(featureset))\n",
    "    data_processor = SKLearnProcessor(framework_version='0.20.0',\n",
    "                                     role=role,\n",
    "                                     instance_type=instance_type,\n",
    "                                     instance_count=instance_count)\n",
    "\n",
    "    data_processor.run(code='preprocessingStratifiedKFold.py',\n",
    "                        inputs=[ProcessingInput(\n",
    "                        source='s3://%s%s'%(bucket,path_to_data_file+data_file),\n",
    "                        destination='/opt/ml/processing/input')],\n",
    "                        outputs=[ProcessingOutput(output_name='training_data', source='/opt/ml/processing/output/training_data',destination='s3://%s%straining_data/%s'%(bucket,path_to_data_file,model)),                                 \n",
    "                                 ProcessingOutput(output_name='validation_data', source='/opt/ml/processing/output/validation_data',destination='s3://%s%svalidation_data/%s'%(bucket,path_to_data_file,model)),                                                          \n",
    "                                ],\n",
    "                        arguments=['--data_file',data_file,\n",
    "                                 '--split_year',split_year,\n",
    "                                 '--num_folds',num_folds,     \n",
    "                                 '--target',target,                                     \n",
    "                                 '--model',model,\n",
    "                                 '--featureset', ','.join(featureset).replace(' ','')],\n",
    "                       experiment_config = {\n",
    "        'ExperimentName': Experiment_name ,\n",
    "        'TrialName' : Trial_name,\n",
    "        'TrialComponentDisplayName' : '%s-%s'%(Trial_name,model.replace('_','-')),},\n",
    "                    wait=False\n",
    "                     )\n",
    "    processors.append(data_processor)"
   ]
  },
  {
   "cell_type": "code",
   "execution_count": 12,
   "metadata": {},
   "outputs": [
    {
     "name": "stdout",
     "output_type": "stream",
     "text": [
      "Processing job sagemaker-scikit-learn-2020-12-30-22-02-17-778 status: InProgress\n",
      "Processing job sagemaker-scikit-learn-2020-12-30-22-02-19-013 status: InProgress\n",
      "Processing job sagemaker-scikit-learn-2020-12-30-22-02-23-544 status: InProgress\n",
      "Continue waiting...\n",
      "Processing job sagemaker-scikit-learn-2020-12-30-22-02-17-778 status: InProgress\n",
      "Processing job sagemaker-scikit-learn-2020-12-30-22-02-19-013 status: InProgress\n",
      "Processing job sagemaker-scikit-learn-2020-12-30-22-02-23-544 status: InProgress\n",
      "Continue waiting...\n",
      "Processing job sagemaker-scikit-learn-2020-12-30-22-02-17-778 status: InProgress\n",
      "Processing job sagemaker-scikit-learn-2020-12-30-22-02-19-013 status: InProgress\n",
      "Processing job sagemaker-scikit-learn-2020-12-30-22-02-23-544 status: InProgress\n",
      "Continue waiting...\n",
      "Processing job sagemaker-scikit-learn-2020-12-30-22-02-17-778 status: InProgress\n",
      "Processing job sagemaker-scikit-learn-2020-12-30-22-02-19-013 status: InProgress\n",
      "Processing job sagemaker-scikit-learn-2020-12-30-22-02-23-544 status: InProgress\n",
      "Continue waiting...\n",
      "Processing job sagemaker-scikit-learn-2020-12-30-22-02-17-778 status: InProgress\n",
      "Processing job sagemaker-scikit-learn-2020-12-30-22-02-19-013 status: InProgress\n",
      "Processing job sagemaker-scikit-learn-2020-12-30-22-02-23-544 status: InProgress\n",
      "Continue waiting...\n",
      "All Processing Jobs are Completed\n"
     ]
    }
   ],
   "source": [
    "#wait till the rest of processing jobs complete\n",
    "eu.wait_processing_jobs(processors=processors,check_every_sec=15,print_every_n_output=6,wait_min=60)"
   ]
  },
  {
   "cell_type": "markdown",
   "metadata": {},
   "source": [
    "When all jobs are done I want to have the list of training and validation data created in each job/trail component"
   ]
  },
  {
   "cell_type": "code",
   "execution_count": 13,
   "metadata": {},
   "outputs": [
    {
     "name": "stderr",
     "output_type": "stream",
     "text": [
      "INFO:botocore.credentials:Found credentials in shared credentials file: ~/.aws/credentials\n"
     ]
    },
    {
     "data": {
      "text/html": [
       "<div>\n",
       "<style scoped>\n",
       "    .dataframe tbody tr th:only-of-type {\n",
       "        vertical-align: middle;\n",
       "    }\n",
       "\n",
       "    .dataframe tbody tr th {\n",
       "        vertical-align: top;\n",
       "    }\n",
       "\n",
       "    .dataframe thead th {\n",
       "        text-align: right;\n",
       "    }\n",
       "</style>\n",
       "<table border=\"1\" class=\"dataframe\">\n",
       "  <thead>\n",
       "    <tr style=\"text-align: right;\">\n",
       "      <th></th>\n",
       "      <th>Model</th>\n",
       "      <th>Trial Component</th>\n",
       "      <th>Training_data</th>\n",
       "      <th>Validation_data</th>\n",
       "    </tr>\n",
       "  </thead>\n",
       "  <tbody>\n",
       "    <tr>\n",
       "      <th>0</th>\n",
       "      <td>ActiveOtherPolicies</td>\n",
       "      <td>FMultiPol-PreparingTrainValidData-ActiveOtherP...</td>\n",
       "      <td>s3://kdproperty/Data/training_data/ActiveOther...</td>\n",
       "      <td>s3://kdproperty/Data/validation_data/ActiveOth...</td>\n",
       "    </tr>\n",
       "    <tr>\n",
       "      <th>1</th>\n",
       "      <td>Landlord</td>\n",
       "      <td>FMultiPol-PreparingTrainValidData-Landlord</td>\n",
       "      <td>s3://kdproperty/Data/training_data/Landlord</td>\n",
       "      <td>s3://kdproperty/Data/validation_data/Landlord</td>\n",
       "    </tr>\n",
       "    <tr>\n",
       "      <th>2</th>\n",
       "      <td>BaseModel</td>\n",
       "      <td>FMultiPol-PreparingTrainValidData-BaseModel</td>\n",
       "      <td>s3://kdproperty/Data/training_data/BaseModel</td>\n",
       "      <td>s3://kdproperty/Data/validation_data/BaseModel</td>\n",
       "    </tr>\n",
       "  </tbody>\n",
       "</table>\n",
       "</div>"
      ],
      "text/plain": [
       "                 Model                                    Trial Component  \\\n",
       "0  ActiveOtherPolicies  FMultiPol-PreparingTrainValidData-ActiveOtherP...   \n",
       "1             Landlord         FMultiPol-PreparingTrainValidData-Landlord   \n",
       "2            BaseModel        FMultiPol-PreparingTrainValidData-BaseModel   \n",
       "\n",
       "                                       Training_data  \\\n",
       "0  s3://kdproperty/Data/training_data/ActiveOther...   \n",
       "1        s3://kdproperty/Data/training_data/Landlord   \n",
       "2       s3://kdproperty/Data/training_data/BaseModel   \n",
       "\n",
       "                                     Validation_data  \n",
       "0  s3://kdproperty/Data/validation_data/ActiveOth...  \n",
       "1      s3://kdproperty/Data/validation_data/Landlord  \n",
       "2     s3://kdproperty/Data/validation_data/BaseModel  "
      ]
     },
     "execution_count": 13,
     "metadata": {},
     "output_type": "execute_result"
    }
   ],
   "source": [
    "#no way to see analitics for a specific trial using SageMaker Python SDK\n",
    "#It's possible to have more then one trial to prepare data in each experiments\n",
    "#Or they plan one experiment - one trial only?\n",
    "#Can filter by DisplayName if it includes Trial Name\n",
    "from sagemaker.analytics import ExperimentAnalytics\n",
    "trial_component_analytics = ExperimentAnalytics(\n",
    "    experiment_name=Experiment_name\n",
    ")\n",
    "trial_comp_ds = trial_component_analytics.dataframe()\n",
    "trial_ds=trial_comp_ds[trial_comp_ds['DisplayName'].str.contains(Trial_name)].copy()\n",
    "trial_ds['Model']=trial_ds['DisplayName'].str.replace(Trial_name+'-','')\n",
    "trial_ds['Model']=trial_ds['Model'].str.replace('-','_')\n",
    "trial_ds=trial_ds[['Model','DisplayName','training_data - Value','validation_data - Value']]\n",
    "trial_ds.columns=['Model','Trial Component','Training_data','Validation_data']\n",
    "trial_ds"
   ]
  },
  {
   "cell_type": "markdown",
   "metadata": {},
   "source": [
    "We need an actual file name because we need to traine separate models on separate folds"
   ]
  },
  {
   "cell_type": "code",
   "execution_count": 14,
   "metadata": {},
   "outputs": [
    {
     "data": {
      "text/html": [
       "<div>\n",
       "<style scoped>\n",
       "    .dataframe tbody tr th:only-of-type {\n",
       "        vertical-align: middle;\n",
       "    }\n",
       "\n",
       "    .dataframe tbody tr th {\n",
       "        vertical-align: top;\n",
       "    }\n",
       "\n",
       "    .dataframe thead th {\n",
       "        text-align: right;\n",
       "    }\n",
       "</style>\n",
       "<table border=\"1\" class=\"dataframe\">\n",
       "  <thead>\n",
       "    <tr style=\"text-align: right;\">\n",
       "      <th></th>\n",
       "      <th>Model</th>\n",
       "      <th>Trial Component</th>\n",
       "      <th>Training_data</th>\n",
       "      <th>Validation_data</th>\n",
       "    </tr>\n",
       "  </thead>\n",
       "  <tbody>\n",
       "    <tr>\n",
       "      <th>28</th>\n",
       "      <td>Landlord_9</td>\n",
       "      <td>FMultiPol-PreparingTrainValidData-Landlord</td>\n",
       "      <td>s3://kdproperty/Data/training_data/Landlord/fo...</td>\n",
       "      <td>s3://kdproperty/Data/validation_data/Landlord/...</td>\n",
       "    </tr>\n",
       "    <tr>\n",
       "      <th>25</th>\n",
       "      <td>Landlord_8</td>\n",
       "      <td>FMultiPol-PreparingTrainValidData-Landlord</td>\n",
       "      <td>s3://kdproperty/Data/training_data/Landlord/fo...</td>\n",
       "      <td>s3://kdproperty/Data/validation_data/Landlord/...</td>\n",
       "    </tr>\n",
       "    <tr>\n",
       "      <th>22</th>\n",
       "      <td>Landlord_7</td>\n",
       "      <td>FMultiPol-PreparingTrainValidData-Landlord</td>\n",
       "      <td>s3://kdproperty/Data/training_data/Landlord/fo...</td>\n",
       "      <td>s3://kdproperty/Data/validation_data/Landlord/...</td>\n",
       "    </tr>\n",
       "    <tr>\n",
       "      <th>19</th>\n",
       "      <td>Landlord_6</td>\n",
       "      <td>FMultiPol-PreparingTrainValidData-Landlord</td>\n",
       "      <td>s3://kdproperty/Data/training_data/Landlord/fo...</td>\n",
       "      <td>s3://kdproperty/Data/validation_data/Landlord/...</td>\n",
       "    </tr>\n",
       "    <tr>\n",
       "      <th>16</th>\n",
       "      <td>Landlord_5</td>\n",
       "      <td>FMultiPol-PreparingTrainValidData-Landlord</td>\n",
       "      <td>s3://kdproperty/Data/training_data/Landlord/fo...</td>\n",
       "      <td>s3://kdproperty/Data/validation_data/Landlord/...</td>\n",
       "    </tr>\n",
       "    <tr>\n",
       "      <th>13</th>\n",
       "      <td>Landlord_4</td>\n",
       "      <td>FMultiPol-PreparingTrainValidData-Landlord</td>\n",
       "      <td>s3://kdproperty/Data/training_data/Landlord/fo...</td>\n",
       "      <td>s3://kdproperty/Data/validation_data/Landlord/...</td>\n",
       "    </tr>\n",
       "    <tr>\n",
       "      <th>10</th>\n",
       "      <td>Landlord_3</td>\n",
       "      <td>FMultiPol-PreparingTrainValidData-Landlord</td>\n",
       "      <td>s3://kdproperty/Data/training_data/Landlord/fo...</td>\n",
       "      <td>s3://kdproperty/Data/validation_data/Landlord/...</td>\n",
       "    </tr>\n",
       "    <tr>\n",
       "      <th>7</th>\n",
       "      <td>Landlord_2</td>\n",
       "      <td>FMultiPol-PreparingTrainValidData-Landlord</td>\n",
       "      <td>s3://kdproperty/Data/training_data/Landlord/fo...</td>\n",
       "      <td>s3://kdproperty/Data/validation_data/Landlord/...</td>\n",
       "    </tr>\n",
       "    <tr>\n",
       "      <th>4</th>\n",
       "      <td>Landlord_1</td>\n",
       "      <td>FMultiPol-PreparingTrainValidData-Landlord</td>\n",
       "      <td>s3://kdproperty/Data/training_data/Landlord/fo...</td>\n",
       "      <td>s3://kdproperty/Data/validation_data/Landlord/...</td>\n",
       "    </tr>\n",
       "    <tr>\n",
       "      <th>1</th>\n",
       "      <td>Landlord_0</td>\n",
       "      <td>FMultiPol-PreparingTrainValidData-Landlord</td>\n",
       "      <td>s3://kdproperty/Data/training_data/Landlord/fo...</td>\n",
       "      <td>s3://kdproperty/Data/validation_data/Landlord/...</td>\n",
       "    </tr>\n",
       "    <tr>\n",
       "      <th>29</th>\n",
       "      <td>BaseModel_9</td>\n",
       "      <td>FMultiPol-PreparingTrainValidData-BaseModel</td>\n",
       "      <td>s3://kdproperty/Data/training_data/BaseModel/f...</td>\n",
       "      <td>s3://kdproperty/Data/validation_data/BaseModel...</td>\n",
       "    </tr>\n",
       "    <tr>\n",
       "      <th>26</th>\n",
       "      <td>BaseModel_8</td>\n",
       "      <td>FMultiPol-PreparingTrainValidData-BaseModel</td>\n",
       "      <td>s3://kdproperty/Data/training_data/BaseModel/f...</td>\n",
       "      <td>s3://kdproperty/Data/validation_data/BaseModel...</td>\n",
       "    </tr>\n",
       "    <tr>\n",
       "      <th>23</th>\n",
       "      <td>BaseModel_7</td>\n",
       "      <td>FMultiPol-PreparingTrainValidData-BaseModel</td>\n",
       "      <td>s3://kdproperty/Data/training_data/BaseModel/f...</td>\n",
       "      <td>s3://kdproperty/Data/validation_data/BaseModel...</td>\n",
       "    </tr>\n",
       "    <tr>\n",
       "      <th>20</th>\n",
       "      <td>BaseModel_6</td>\n",
       "      <td>FMultiPol-PreparingTrainValidData-BaseModel</td>\n",
       "      <td>s3://kdproperty/Data/training_data/BaseModel/f...</td>\n",
       "      <td>s3://kdproperty/Data/validation_data/BaseModel...</td>\n",
       "    </tr>\n",
       "    <tr>\n",
       "      <th>17</th>\n",
       "      <td>BaseModel_5</td>\n",
       "      <td>FMultiPol-PreparingTrainValidData-BaseModel</td>\n",
       "      <td>s3://kdproperty/Data/training_data/BaseModel/f...</td>\n",
       "      <td>s3://kdproperty/Data/validation_data/BaseModel...</td>\n",
       "    </tr>\n",
       "    <tr>\n",
       "      <th>14</th>\n",
       "      <td>BaseModel_4</td>\n",
       "      <td>FMultiPol-PreparingTrainValidData-BaseModel</td>\n",
       "      <td>s3://kdproperty/Data/training_data/BaseModel/f...</td>\n",
       "      <td>s3://kdproperty/Data/validation_data/BaseModel...</td>\n",
       "    </tr>\n",
       "    <tr>\n",
       "      <th>11</th>\n",
       "      <td>BaseModel_3</td>\n",
       "      <td>FMultiPol-PreparingTrainValidData-BaseModel</td>\n",
       "      <td>s3://kdproperty/Data/training_data/BaseModel/f...</td>\n",
       "      <td>s3://kdproperty/Data/validation_data/BaseModel...</td>\n",
       "    </tr>\n",
       "    <tr>\n",
       "      <th>8</th>\n",
       "      <td>BaseModel_2</td>\n",
       "      <td>FMultiPol-PreparingTrainValidData-BaseModel</td>\n",
       "      <td>s3://kdproperty/Data/training_data/BaseModel/f...</td>\n",
       "      <td>s3://kdproperty/Data/validation_data/BaseModel...</td>\n",
       "    </tr>\n",
       "    <tr>\n",
       "      <th>5</th>\n",
       "      <td>BaseModel_1</td>\n",
       "      <td>FMultiPol-PreparingTrainValidData-BaseModel</td>\n",
       "      <td>s3://kdproperty/Data/training_data/BaseModel/f...</td>\n",
       "      <td>s3://kdproperty/Data/validation_data/BaseModel...</td>\n",
       "    </tr>\n",
       "    <tr>\n",
       "      <th>2</th>\n",
       "      <td>BaseModel_0</td>\n",
       "      <td>FMultiPol-PreparingTrainValidData-BaseModel</td>\n",
       "      <td>s3://kdproperty/Data/training_data/BaseModel/f...</td>\n",
       "      <td>s3://kdproperty/Data/validation_data/BaseModel...</td>\n",
       "    </tr>\n",
       "    <tr>\n",
       "      <th>27</th>\n",
       "      <td>ActiveOtherPolicies_9</td>\n",
       "      <td>FMultiPol-PreparingTrainValidData-ActiveOtherP...</td>\n",
       "      <td>s3://kdproperty/Data/training_data/ActiveOther...</td>\n",
       "      <td>s3://kdproperty/Data/validation_data/ActiveOth...</td>\n",
       "    </tr>\n",
       "    <tr>\n",
       "      <th>24</th>\n",
       "      <td>ActiveOtherPolicies_8</td>\n",
       "      <td>FMultiPol-PreparingTrainValidData-ActiveOtherP...</td>\n",
       "      <td>s3://kdproperty/Data/training_data/ActiveOther...</td>\n",
       "      <td>s3://kdproperty/Data/validation_data/ActiveOth...</td>\n",
       "    </tr>\n",
       "    <tr>\n",
       "      <th>21</th>\n",
       "      <td>ActiveOtherPolicies_7</td>\n",
       "      <td>FMultiPol-PreparingTrainValidData-ActiveOtherP...</td>\n",
       "      <td>s3://kdproperty/Data/training_data/ActiveOther...</td>\n",
       "      <td>s3://kdproperty/Data/validation_data/ActiveOth...</td>\n",
       "    </tr>\n",
       "    <tr>\n",
       "      <th>18</th>\n",
       "      <td>ActiveOtherPolicies_6</td>\n",
       "      <td>FMultiPol-PreparingTrainValidData-ActiveOtherP...</td>\n",
       "      <td>s3://kdproperty/Data/training_data/ActiveOther...</td>\n",
       "      <td>s3://kdproperty/Data/validation_data/ActiveOth...</td>\n",
       "    </tr>\n",
       "    <tr>\n",
       "      <th>15</th>\n",
       "      <td>ActiveOtherPolicies_5</td>\n",
       "      <td>FMultiPol-PreparingTrainValidData-ActiveOtherP...</td>\n",
       "      <td>s3://kdproperty/Data/training_data/ActiveOther...</td>\n",
       "      <td>s3://kdproperty/Data/validation_data/ActiveOth...</td>\n",
       "    </tr>\n",
       "    <tr>\n",
       "      <th>12</th>\n",
       "      <td>ActiveOtherPolicies_4</td>\n",
       "      <td>FMultiPol-PreparingTrainValidData-ActiveOtherP...</td>\n",
       "      <td>s3://kdproperty/Data/training_data/ActiveOther...</td>\n",
       "      <td>s3://kdproperty/Data/validation_data/ActiveOth...</td>\n",
       "    </tr>\n",
       "    <tr>\n",
       "      <th>9</th>\n",
       "      <td>ActiveOtherPolicies_3</td>\n",
       "      <td>FMultiPol-PreparingTrainValidData-ActiveOtherP...</td>\n",
       "      <td>s3://kdproperty/Data/training_data/ActiveOther...</td>\n",
       "      <td>s3://kdproperty/Data/validation_data/ActiveOth...</td>\n",
       "    </tr>\n",
       "    <tr>\n",
       "      <th>6</th>\n",
       "      <td>ActiveOtherPolicies_2</td>\n",
       "      <td>FMultiPol-PreparingTrainValidData-ActiveOtherP...</td>\n",
       "      <td>s3://kdproperty/Data/training_data/ActiveOther...</td>\n",
       "      <td>s3://kdproperty/Data/validation_data/ActiveOth...</td>\n",
       "    </tr>\n",
       "    <tr>\n",
       "      <th>3</th>\n",
       "      <td>ActiveOtherPolicies_1</td>\n",
       "      <td>FMultiPol-PreparingTrainValidData-ActiveOtherP...</td>\n",
       "      <td>s3://kdproperty/Data/training_data/ActiveOther...</td>\n",
       "      <td>s3://kdproperty/Data/validation_data/ActiveOth...</td>\n",
       "    </tr>\n",
       "    <tr>\n",
       "      <th>0</th>\n",
       "      <td>ActiveOtherPolicies_0</td>\n",
       "      <td>FMultiPol-PreparingTrainValidData-ActiveOtherP...</td>\n",
       "      <td>s3://kdproperty/Data/training_data/ActiveOther...</td>\n",
       "      <td>s3://kdproperty/Data/validation_data/ActiveOth...</td>\n",
       "    </tr>\n",
       "  </tbody>\n",
       "</table>\n",
       "</div>"
      ],
      "text/plain": [
       "                    Model                                    Trial Component  \\\n",
       "28             Landlord_9         FMultiPol-PreparingTrainValidData-Landlord   \n",
       "25             Landlord_8         FMultiPol-PreparingTrainValidData-Landlord   \n",
       "22             Landlord_7         FMultiPol-PreparingTrainValidData-Landlord   \n",
       "19             Landlord_6         FMultiPol-PreparingTrainValidData-Landlord   \n",
       "16             Landlord_5         FMultiPol-PreparingTrainValidData-Landlord   \n",
       "13             Landlord_4         FMultiPol-PreparingTrainValidData-Landlord   \n",
       "10             Landlord_3         FMultiPol-PreparingTrainValidData-Landlord   \n",
       "7              Landlord_2         FMultiPol-PreparingTrainValidData-Landlord   \n",
       "4              Landlord_1         FMultiPol-PreparingTrainValidData-Landlord   \n",
       "1              Landlord_0         FMultiPol-PreparingTrainValidData-Landlord   \n",
       "29            BaseModel_9        FMultiPol-PreparingTrainValidData-BaseModel   \n",
       "26            BaseModel_8        FMultiPol-PreparingTrainValidData-BaseModel   \n",
       "23            BaseModel_7        FMultiPol-PreparingTrainValidData-BaseModel   \n",
       "20            BaseModel_6        FMultiPol-PreparingTrainValidData-BaseModel   \n",
       "17            BaseModel_5        FMultiPol-PreparingTrainValidData-BaseModel   \n",
       "14            BaseModel_4        FMultiPol-PreparingTrainValidData-BaseModel   \n",
       "11            BaseModel_3        FMultiPol-PreparingTrainValidData-BaseModel   \n",
       "8             BaseModel_2        FMultiPol-PreparingTrainValidData-BaseModel   \n",
       "5             BaseModel_1        FMultiPol-PreparingTrainValidData-BaseModel   \n",
       "2             BaseModel_0        FMultiPol-PreparingTrainValidData-BaseModel   \n",
       "27  ActiveOtherPolicies_9  FMultiPol-PreparingTrainValidData-ActiveOtherP...   \n",
       "24  ActiveOtherPolicies_8  FMultiPol-PreparingTrainValidData-ActiveOtherP...   \n",
       "21  ActiveOtherPolicies_7  FMultiPol-PreparingTrainValidData-ActiveOtherP...   \n",
       "18  ActiveOtherPolicies_6  FMultiPol-PreparingTrainValidData-ActiveOtherP...   \n",
       "15  ActiveOtherPolicies_5  FMultiPol-PreparingTrainValidData-ActiveOtherP...   \n",
       "12  ActiveOtherPolicies_4  FMultiPol-PreparingTrainValidData-ActiveOtherP...   \n",
       "9   ActiveOtherPolicies_3  FMultiPol-PreparingTrainValidData-ActiveOtherP...   \n",
       "6   ActiveOtherPolicies_2  FMultiPol-PreparingTrainValidData-ActiveOtherP...   \n",
       "3   ActiveOtherPolicies_1  FMultiPol-PreparingTrainValidData-ActiveOtherP...   \n",
       "0   ActiveOtherPolicies_0  FMultiPol-PreparingTrainValidData-ActiveOtherP...   \n",
       "\n",
       "                                        Training_data  \\\n",
       "28  s3://kdproperty/Data/training_data/Landlord/fo...   \n",
       "25  s3://kdproperty/Data/training_data/Landlord/fo...   \n",
       "22  s3://kdproperty/Data/training_data/Landlord/fo...   \n",
       "19  s3://kdproperty/Data/training_data/Landlord/fo...   \n",
       "16  s3://kdproperty/Data/training_data/Landlord/fo...   \n",
       "13  s3://kdproperty/Data/training_data/Landlord/fo...   \n",
       "10  s3://kdproperty/Data/training_data/Landlord/fo...   \n",
       "7   s3://kdproperty/Data/training_data/Landlord/fo...   \n",
       "4   s3://kdproperty/Data/training_data/Landlord/fo...   \n",
       "1   s3://kdproperty/Data/training_data/Landlord/fo...   \n",
       "29  s3://kdproperty/Data/training_data/BaseModel/f...   \n",
       "26  s3://kdproperty/Data/training_data/BaseModel/f...   \n",
       "23  s3://kdproperty/Data/training_data/BaseModel/f...   \n",
       "20  s3://kdproperty/Data/training_data/BaseModel/f...   \n",
       "17  s3://kdproperty/Data/training_data/BaseModel/f...   \n",
       "14  s3://kdproperty/Data/training_data/BaseModel/f...   \n",
       "11  s3://kdproperty/Data/training_data/BaseModel/f...   \n",
       "8   s3://kdproperty/Data/training_data/BaseModel/f...   \n",
       "5   s3://kdproperty/Data/training_data/BaseModel/f...   \n",
       "2   s3://kdproperty/Data/training_data/BaseModel/f...   \n",
       "27  s3://kdproperty/Data/training_data/ActiveOther...   \n",
       "24  s3://kdproperty/Data/training_data/ActiveOther...   \n",
       "21  s3://kdproperty/Data/training_data/ActiveOther...   \n",
       "18  s3://kdproperty/Data/training_data/ActiveOther...   \n",
       "15  s3://kdproperty/Data/training_data/ActiveOther...   \n",
       "12  s3://kdproperty/Data/training_data/ActiveOther...   \n",
       "9   s3://kdproperty/Data/training_data/ActiveOther...   \n",
       "6   s3://kdproperty/Data/training_data/ActiveOther...   \n",
       "3   s3://kdproperty/Data/training_data/ActiveOther...   \n",
       "0   s3://kdproperty/Data/training_data/ActiveOther...   \n",
       "\n",
       "                                      Validation_data  \n",
       "28  s3://kdproperty/Data/validation_data/Landlord/...  \n",
       "25  s3://kdproperty/Data/validation_data/Landlord/...  \n",
       "22  s3://kdproperty/Data/validation_data/Landlord/...  \n",
       "19  s3://kdproperty/Data/validation_data/Landlord/...  \n",
       "16  s3://kdproperty/Data/validation_data/Landlord/...  \n",
       "13  s3://kdproperty/Data/validation_data/Landlord/...  \n",
       "10  s3://kdproperty/Data/validation_data/Landlord/...  \n",
       "7   s3://kdproperty/Data/validation_data/Landlord/...  \n",
       "4   s3://kdproperty/Data/validation_data/Landlord/...  \n",
       "1   s3://kdproperty/Data/validation_data/Landlord/...  \n",
       "29  s3://kdproperty/Data/validation_data/BaseModel...  \n",
       "26  s3://kdproperty/Data/validation_data/BaseModel...  \n",
       "23  s3://kdproperty/Data/validation_data/BaseModel...  \n",
       "20  s3://kdproperty/Data/validation_data/BaseModel...  \n",
       "17  s3://kdproperty/Data/validation_data/BaseModel...  \n",
       "14  s3://kdproperty/Data/validation_data/BaseModel...  \n",
       "11  s3://kdproperty/Data/validation_data/BaseModel...  \n",
       "8   s3://kdproperty/Data/validation_data/BaseModel...  \n",
       "5   s3://kdproperty/Data/validation_data/BaseModel...  \n",
       "2   s3://kdproperty/Data/validation_data/BaseModel...  \n",
       "27  s3://kdproperty/Data/validation_data/ActiveOth...  \n",
       "24  s3://kdproperty/Data/validation_data/ActiveOth...  \n",
       "21  s3://kdproperty/Data/validation_data/ActiveOth...  \n",
       "18  s3://kdproperty/Data/validation_data/ActiveOth...  \n",
       "15  s3://kdproperty/Data/validation_data/ActiveOth...  \n",
       "12  s3://kdproperty/Data/validation_data/ActiveOth...  \n",
       "9   s3://kdproperty/Data/validation_data/ActiveOth...  \n",
       "6   s3://kdproperty/Data/validation_data/ActiveOth...  \n",
       "3   s3://kdproperty/Data/validation_data/ActiveOth...  \n",
       "0   s3://kdproperty/Data/validation_data/ActiveOth...  "
      ]
     },
     "execution_count": 14,
     "metadata": {},
     "output_type": "execute_result"
    }
   ],
   "source": [
    "Model_l=list()\n",
    "Trial_Component_l=list()\n",
    "Training_data_l=list()\n",
    "Validation_data_l=list()\n",
    "for i in range(0,int(num_folds)):\n",
    "    for index, row in trial_ds.iterrows():\n",
    "        Model_l.append('%s_%s'%(row['Model'],i))\n",
    "        Trial_Component_l.append(row['Trial Component'])\n",
    "        Training_data_l.append('%s/fold_%s_training_%s.csv'%(row['Training_data'],i,row['Model']))\n",
    "        Validation_data_l.append('%s/fold_%s_validation_%s.csv'%(row['Validation_data'],i,row['Model']))        \n",
    "trial_ds_extended = pd.DataFrame(list(zip(Model_l,Trial_Component_l,Training_data_l,Validation_data_l)), \n",
    "               columns =['Model','Trial Component','Training_data','Validation_data']).sort_values('Model', ascending=False)\n",
    "trial_ds_extended        "
   ]
  },
  {
   "cell_type": "code",
   "execution_count": 15,
   "metadata": {},
   "outputs": [],
   "source": [
    "#Saving into the Experiment log file names of created training and validation datasets in S3 to train models in other module  \n",
    "eu.SaveToExperimentLog(Experiments_file, '%s InputData'%Experiment_name, trial_ds_extended)"
   ]
  }
 ],
 "metadata": {
  "kernelspec": {
   "display_name": "Python 3",
   "language": "python",
   "name": "python3"
  },
  "language_info": {
   "codemirror_mode": {
    "name": "ipython",
    "version": 3
   },
   "file_extension": ".py",
   "mimetype": "text/x-python",
   "name": "python",
   "nbconvert_exporter": "python",
   "pygments_lexer": "ipython3",
   "version": "3.6.12"
  }
 },
 "nbformat": 4,
 "nbformat_minor": 4
}
