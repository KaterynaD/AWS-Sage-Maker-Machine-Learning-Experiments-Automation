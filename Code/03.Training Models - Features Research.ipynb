{
 "cells": [
  {
   "cell_type": "code",
   "execution_count": 1,
   "metadata": {},
   "outputs": [],
   "source": [
    "Experiments_file='/home/kate/Research/YearBuilt/Experiments/DwellingExperiments.xlsx'\n",
    "AllExperiments_tab='Experiments'\n",
    "Experiment_name='FWaterClaims'\n",
    "#Experiment configuration: differenet datasets to try\n",
    "#each line in the file contains the model name and set of features to built a dataset for SageMaker\n",
    "Experiment_tab='%s InputData'%Experiment_name\n",
    "\n",
    "\n",
    "Trial_name='%s-TrainingModels'%Experiment_name \n",
    "\n",
    "\n",
    "\n",
    "#model in\n",
    "bucket='kdproperty'\n",
    "\n",
    "#model parameters\n",
    "hyperparameters = {\n",
    "'objective': 'binary:logistic',\n",
    "        'eval_metric': 'auc',\n",
    "        'silent': True,\n",
    "        'booster': 'gbtree',\n",
    "        'seed': 42,\n",
    "        'scale_pos_weight':0.3,\n",
    "        'colsample_bylevel': 0.8,\n",
    "        'colsample_bytree': 0.8,\n",
    "        'eta': 0.03,\n",
    "        'max_depth': 4,\n",
    "        'num_round':'5000'\n",
    "}\n",
    "#instance type to be created for training jobs. \n",
    "instance_type='ml.c5.xlarge'\n",
    "#Script to be load in training instance\n",
    "training_job_entry_point='ModelTraining.py'\n",
    "#data in training and testing file type\n",
    "content_type='text/csv'"
   ]
  },
  {
   "cell_type": "code",
   "execution_count": 2,
   "metadata": {},
   "outputs": [],
   "source": [
    "#packages used in the notebook\n",
    "import time\n",
    "import sys\n",
    "import sagemaker\n",
    "from sagemaker.session import s3_input\n",
    "from sagemaker.xgboost.estimator import XGBoost\n",
    "from sagemaker.xgboost.model import XGBoostModel\n",
    "import pandas as pd\n",
    "import numpy as np\n",
    "from sagemaker.analytics import ExperimentAnalytics"
   ]
  },
  {
   "cell_type": "code",
   "execution_count": 3,
   "metadata": {},
   "outputs": [],
   "source": [
    "#should be run as a first step\n",
    "#role arn is used when run from a local machine\n",
    "role = 'arn:aws:iam::757107622481:role/service-role/AmazonSageMaker-ExecutionRole-20200819T131882'\n",
    "region = 'us-west-2'\n",
    "sagemaker_session = sagemaker.session.Session(default_bucket=bucket)"
   ]
  },
  {
   "cell_type": "code",
   "execution_count": 4,
   "metadata": {},
   "outputs": [
    {
     "data": {
      "text/html": [
       "<div>\n",
       "<style scoped>\n",
       "    .dataframe tbody tr th:only-of-type {\n",
       "        vertical-align: middle;\n",
       "    }\n",
       "\n",
       "    .dataframe tbody tr th {\n",
       "        vertical-align: top;\n",
       "    }\n",
       "\n",
       "    .dataframe thead th {\n",
       "        text-align: right;\n",
       "    }\n",
       "</style>\n",
       "<table border=\"1\" class=\"dataframe\">\n",
       "  <thead>\n",
       "    <tr style=\"text-align: right;\">\n",
       "      <th></th>\n",
       "      <th>Model</th>\n",
       "      <th>Trial Component</th>\n",
       "      <th>Training_data</th>\n",
       "      <th>Validation_data</th>\n",
       "    </tr>\n",
       "  </thead>\n",
       "  <tbody>\n",
       "    <tr>\n",
       "      <th>0</th>\n",
       "      <td>FWaterClaims</td>\n",
       "      <td>FWaterClaims-PreparingTrainValidData-FWaterClaims</td>\n",
       "      <td>s3://kdproperty/Data/training_data/FWaterClaims</td>\n",
       "      <td>s3://kdproperty/Data/validation_data/FWaterClaims</td>\n",
       "    </tr>\n",
       "  </tbody>\n",
       "</table>\n",
       "</div>"
      ],
      "text/plain": [
       "          Model                                    Trial Component  \\\n",
       "0  FWaterClaims  FWaterClaims-PreparingTrainValidData-FWaterClaims   \n",
       "\n",
       "                                     Training_data  \\\n",
       "0  s3://kdproperty/Data/training_data/FWaterClaims   \n",
       "\n",
       "                                     Validation_data  \n",
       "0  s3://kdproperty/Data/validation_data/FWaterClaims  "
      ]
     },
     "execution_count": 4,
     "metadata": {},
     "output_type": "execute_result"
    }
   ],
   "source": [
    "models = pd.read_excel(open(Experiments_file, 'rb'), sheet_name=Experiment_tab)\n",
    "models"
   ]
  },
  {
   "cell_type": "code",
   "execution_count": 5,
   "metadata": {},
   "outputs": [],
   "source": [
    "sys.path.append('/home/kate/Research/YearBuilt/Notebooks/Property')\n",
    "import ExperimentsUtils as eu"
   ]
  },
  {
   "cell_type": "code",
   "execution_count": 6,
   "metadata": {},
   "outputs": [],
   "source": [
    "experiments = pd.read_excel(open(Experiments_file, 'rb'), sheet_name=AllExperiments_tab)"
   ]
  },
  {
   "cell_type": "code",
   "execution_count": 7,
   "metadata": {},
   "outputs": [
    {
     "name": "stderr",
     "output_type": "stream",
     "text": [
      "INFO:botocore.credentials:Found credentials in shared credentials file: ~/.aws/credentials\n",
      "INFO:botocore.credentials:Found credentials in shared credentials file: ~/.aws/credentials\n"
     ]
    }
   ],
   "source": [
    "#delete experiment and trials but not output files associated with jobs in experiments\n",
    "#eu.cleanup_experiment(Experiment_name)\n",
    "eu.cleanup_trial(Experiment_name, Trial_name)"
   ]
  },
  {
   "cell_type": "code",
   "execution_count": 8,
   "metadata": {},
   "outputs": [
    {
     "name": "stderr",
     "output_type": "stream",
     "text": [
      "INFO:botocore.credentials:Found credentials in shared credentials file: ~/.aws/credentials\n",
      "INFO:botocore.credentials:Found credentials in shared credentials file: ~/.aws/credentials\n",
      "INFO:botocore.credentials:Found credentials in shared credentials file: ~/.aws/credentials\n"
     ]
    }
   ],
   "source": [
    "eu.create_experiment(Experiment_name)\n",
    "eu.create_trial(Experiment_name,Trial_name)"
   ]
  },
  {
   "cell_type": "code",
   "execution_count": 9,
   "metadata": {},
   "outputs": [
    {
     "name": "stdout",
     "output_type": "stream",
     "text": [
      "Overwriting ModelTraining.py\n"
     ]
    }
   ],
   "source": [
    "%%writefile ModelTraining.py\n",
    "\n",
    "#  Copyright 2018 Amazon.com, Inc. or its affiliates. All Rights Reserved.\n",
    "#\n",
    "#  Licensed under the Apache License, Version 2.0 (the \"License\").\n",
    "#  You may not use this file except in compliance with the License.\n",
    "#  A copy of the License is located at\n",
    "#\n",
    "#      http://www.apache.org/licenses/LICENSE-2.0\n",
    "#\n",
    "#  or in the \"license\" file accompanying this file. This file is distributed\n",
    "#  on an \"AS IS\" BASIS, WITHOUT WARRANTIES OR CONDITIONS OF ANY KIND, either\n",
    "#  express or implied. See the License for the specific language governing\n",
    "#  permissions and limitations under the License.\n",
    "from __future__ import print_function\n",
    "\n",
    "import argparse\n",
    "import json\n",
    "import logging\n",
    "import os\n",
    "import pandas as pd\n",
    "import pickle as pkl\n",
    "\n",
    "from sagemaker_containers import entry_point\n",
    "from sagemaker_xgboost_container.data_utils import get_dmatrix\n",
    "from sagemaker_xgboost_container import distributed\n",
    "\n",
    "import xgboost as xgb\n",
    "\n",
    "import pandas as pd\n",
    "import numpy as np\n",
    "\n",
    "\n",
    "\n",
    "def _xgb_train(params, dtrain, evals, num_boost_round, model_dir, is_master):\n",
    "    \"\"\"Run xgb train on arguments given with rabit initialized.\n",
    "\n",
    "    This is our rabit execution function.\n",
    "\n",
    "    :param args_dict: Argument dictionary used to run xgb.train().\n",
    "    :param is_master: True if current node is master host in distributed training,\n",
    "                        or is running single node training job.\n",
    "                        Note that rabit_run will include this argument.\n",
    "    \"\"\"\n",
    "    booster = xgb.train(params=params,\n",
    "                        dtrain=dtrain,\n",
    "                        evals=evals,\n",
    "                        maximize=True,\n",
    "                        num_boost_round=num_boost_round,\n",
    "                        early_stopping_rounds=100,\n",
    "                        verbose_eval=100)\n",
    "\n",
    "    if is_master:\n",
    "        model_location = model_dir + '/xgboost-model'\n",
    "        pkl.dump(booster, open(model_location, 'wb'))\n",
    "        logging.info(\"Stored trained model at {}\".format(model_location))\n",
    "\n",
    "\n",
    "if __name__ == '__main__':\n",
    "    parser = argparse.ArgumentParser()\n",
    "\n",
    "    # Hyperparameters are described here.\n",
    "    parser.add_argument('--max_depth', type=int,)\n",
    "    parser.add_argument('--eta', type=float)\n",
    "    parser.add_argument('--objective', type=str)\n",
    "    parser.add_argument('--num_round', type=int)\n",
    "    \n",
    "    parser.add_argument('--eval_metric', type=str)\n",
    "    parser.add_argument('--seed', type=float)\n",
    "    parser.add_argument('--scale_pos_weight', type=float)\n",
    "    parser.add_argument('--colsample_bylevel', type=float)\n",
    "    parser.add_argument('--colsample_bytree', type=float)\n",
    "        \n",
    "            \n",
    "            \n",
    "\n",
    "    # Sagemaker specific arguments. Defaults are set in the environment variables.\n",
    "    parser.add_argument('--output_data_dir', type=str, default=os.environ.get('SM_OUTPUT_DATA_DIR'))\n",
    "    parser.add_argument('--model_dir', type=str, default=os.environ.get('SM_MODEL_DIR'))\n",
    "    parser.add_argument('--train', type=str, default=os.environ.get('SM_CHANNEL_TRAIN'))\n",
    "    parser.add_argument('--validation', type=str, default=os.environ.get('SM_CHANNEL_VALIDATION'))\n",
    "    parser.add_argument('--sm_hosts', type=str, default=os.environ.get('SM_HOSTS'))\n",
    "    parser.add_argument('--sm_current_host', type=str, default=os.environ.get('SM_CURRENT_HOST'))\n",
    "\n",
    "    args, _ = parser.parse_known_args()\n",
    "\n",
    "    # Get SageMaker host information from runtime environment variables\n",
    "    sm_hosts = json.loads(args.sm_hosts)\n",
    "    sm_current_host = args.sm_current_host\n",
    "\n",
    "    dtrain = get_dmatrix(args.train, 'csv')\n",
    "    dval = get_dmatrix(args.validation, 'csv')\n",
    "    watchlist = [(dtrain, 'train'), (dval, 'validation')] if dval is not None else [(dtrain, 'train')]\n",
    "\n",
    "    \n",
    "    \n",
    "    train_hp = {\n",
    "        'max_depth': args.max_depth,\n",
    "        'eta': args.eta,\n",
    "        'objective': args.objective,\n",
    "        'silent': True,\n",
    "        'booster': 'gbtree',\n",
    "        'seed': 42,\n",
    "        'eval_metric':args.eval_metric,\n",
    "        'scale_pos_weight':args.scale_pos_weight,\n",
    "        'colsample_bylevel': args.colsample_bylevel,\n",
    "        'colsample_bytree': args.colsample_bytree\n",
    "        }\n",
    "\n",
    "    xgb_train_args = dict(\n",
    "        params=train_hp,\n",
    "        dtrain=dtrain,\n",
    "        evals=watchlist,\n",
    "        num_boost_round=args.num_round,\n",
    "        model_dir=args.model_dir)\n",
    "\n",
    "    if len(sm_hosts) > 1:\n",
    "        # Wait until all hosts are able to find each other\n",
    "        entry_point._wait_hostname_resolution()\n",
    "\n",
    "        # Execute training function after initializing rabit.\n",
    "        distributed.rabit_run(\n",
    "            exec_fun=_xgb_train,\n",
    "            args=xgb_train_args,\n",
    "            include_in_training=(dtrain is not None),\n",
    "            hosts=sm_hosts,\n",
    "            current_host=sm_current_host,\n",
    "            update_rabit_args=True\n",
    "        )\n",
    "    else:\n",
    "        # If single node training, call training method directly.\n",
    "        if dtrain:\n",
    "            xgb_train_args['is_master'] = True\n",
    "            _xgb_train(**xgb_train_args)\n",
    "        else:\n",
    "            raise ValueError(\"Training channel must have data to train model.\")\n",
    "\n",
    "\n",
    "def model_fn(model_dir):\n",
    "    \"\"\"Deserialize and return fitted model.\n",
    "\n",
    "    Note that this should have the same name as the serialized model in the _xgb_train method\n",
    "    \"\"\"\n",
    "    model_file = 'xgboost-model'\n",
    "    booster = pkl.load(open(os.path.join(model_dir, model_file), 'rb'))\n",
    "    return booster"
   ]
  },
  {
   "cell_type": "code",
   "execution_count": 10,
   "metadata": {},
   "outputs": [
    {
     "name": "stderr",
     "output_type": "stream",
     "text": [
      "WARNING:sagemaker.deprecations:The class sagemaker.session.s3_input has been renamed in sagemaker>=2.\n",
      "See: https://sagemaker.readthedocs.io/en/stable/v2.html for details.\n",
      "WARNING:sagemaker.deprecations:The class sagemaker.session.s3_input has been renamed in sagemaker>=2.\n",
      "See: https://sagemaker.readthedocs.io/en/stable/v2.html for details.\n",
      "WARNING:sagemaker.deprecations:train_instance_type has been renamed in sagemaker>=2.\n",
      "See: https://sagemaker.readthedocs.io/en/stable/v2.html for details.\n",
      "WARNING:sagemaker.deprecations:train_instance_count has been renamed in sagemaker>=2.\n",
      "See: https://sagemaker.readthedocs.io/en/stable/v2.html for details.\n",
      "WARNING:sagemaker.deprecations:train_instance_type has been renamed in sagemaker>=2.\n",
      "See: https://sagemaker.readthedocs.io/en/stable/v2.html for details.\n",
      "INFO:botocore.credentials:Found credentials in shared credentials file: ~/.aws/credentials\n",
      "INFO:sagemaker.image_uris:Defaulting to the only supported framework/algorithm version: latest.\n",
      "INFO:sagemaker.image_uris:Ignoring unnecessary instance type: None.\n"
     ]
    },
    {
     "name": "stdout",
     "output_type": "stream",
     "text": [
      "0 : Training model FWaterClaims\n",
      "s3://kdproperty/Data/training_data/FWaterClaims\n",
      "s3://kdproperty/Data/validation_data/FWaterClaims\n"
     ]
    },
    {
     "name": "stderr",
     "output_type": "stream",
     "text": [
      "INFO:sagemaker:Creating training-job with name: FWaterClaims-2020-12-31-20-15-33\n"
     ]
    }
   ],
   "source": [
    "\n",
    "processors=list()\n",
    "\n",
    "for index, row in models.iterrows():\n",
    "    model=row['Model']\n",
    "    print (index, ': Training model %s'%model)\n",
    "    print(row['Training_data'])\n",
    "    print(row['Validation_data'])\n",
    "    train_input = s3_input(row['Training_data'], content_type=content_type)\n",
    "    validation_input = s3_input(row['Validation_data'], content_type=content_type)\n",
    "                               \n",
    "    xgb_script_mode_estimator = XGBoost(\n",
    "        entry_point=training_job_entry_point,\n",
    "        hyperparameters=hyperparameters,\n",
    "        role=role, \n",
    "        train_instance_count=1,\n",
    "        train_instance_type=instance_type,\n",
    "        framework_version=\"1.0-1\",\n",
    "        output_path='s3://%s'%(bucket)\n",
    "        )\n",
    "    #Training\n",
    "    job_name=model.replace('_','-') +'-'+time.strftime(\"%Y-%m-%d-%H-%M-%S\", time.gmtime())\n",
    "    xgb_script_mode_estimator.fit({'train': train_input, 'validation': validation_input}, job_name=job_name, wait=False,\n",
    "    experiment_config = {\n",
    "        'ExperimentName': Experiment_name ,\n",
    "        'TrialName' : Trial_name,\n",
    "        'TrialComponentDisplayName' : '%s-%s'%(Trial_name,model.replace('_','-')),})\n",
    "    # to prevent throttling\n",
    "    time.sleep(.5)\n",
    "    processors.append(xgb_script_mode_estimator)"
   ]
  },
  {
   "cell_type": "code",
   "execution_count": 11,
   "metadata": {},
   "outputs": [
    {
     "name": "stdout",
     "output_type": "stream",
     "text": [
      "Training job FWaterClaims-2020-12-31-20-15-33 status: InProgress\n",
      "Continue waiting...\n",
      "Training job FWaterClaims-2020-12-31-20-15-33 status: InProgress\n",
      "Continue waiting...\n",
      "Training job FWaterClaims-2020-12-31-20-15-33 status: InProgress\n",
      "Continue waiting...\n",
      "Training job FWaterClaims-2020-12-31-20-15-33 status: InProgress\n",
      "Continue waiting...\n",
      "All Training Jobs are Completed\n"
     ]
    }
   ],
   "source": [
    "eu.wait_training_jobs(processors=processors,check_every_sec=10,print_every_n_output=6,wait_min=60)"
   ]
  },
  {
   "cell_type": "code",
   "execution_count": 19,
   "metadata": {},
   "outputs": [
    {
     "name": "stderr",
     "output_type": "stream",
     "text": [
      "INFO:botocore.credentials:Found credentials in shared credentials file: ~/.aws/credentials\n"
     ]
    }
   ],
   "source": [
    "trial_component_analytics = ExperimentAnalytics(\n",
    "    experiment_name=Experiment_name   \n",
    ")\n",
    "trial_comp_ds = trial_component_analytics.dataframe()\n",
    "trial_ds=trial_comp_ds[trial_comp_ds['DisplayName'].str.contains(Trial_name)].copy()\n",
    "trial_ds['Model']=trial_ds['DisplayName'].str.replace(Trial_name+'-','')\n",
    "trial_ds['Model']=trial_ds['Model'].str.replace('-','_')"
   ]
  },
  {
   "cell_type": "code",
   "execution_count": 13,
   "metadata": {},
   "outputs": [
    {
     "data": {
      "text/html": [
       "<div>\n",
       "<style scoped>\n",
       "    .dataframe tbody tr th:only-of-type {\n",
       "        vertical-align: middle;\n",
       "    }\n",
       "\n",
       "    .dataframe tbody tr th {\n",
       "        vertical-align: top;\n",
       "    }\n",
       "\n",
       "    .dataframe thead th {\n",
       "        text-align: right;\n",
       "    }\n",
       "</style>\n",
       "<table border=\"1\" class=\"dataframe\">\n",
       "  <thead>\n",
       "    <tr style=\"text-align: right;\">\n",
       "      <th></th>\n",
       "      <th>Model</th>\n",
       "      <th>Trial Component</th>\n",
       "      <th>objective</th>\n",
       "      <th>eval_metric</th>\n",
       "      <th>silent</th>\n",
       "      <th>booster</th>\n",
       "      <th>seed</th>\n",
       "      <th>scale_pos_weight</th>\n",
       "      <th>colsample_bylevel</th>\n",
       "      <th>colsample_bytree</th>\n",
       "      <th>eta</th>\n",
       "      <th>max_depth</th>\n",
       "      <th>num_round</th>\n",
       "    </tr>\n",
       "  </thead>\n",
       "  <tbody>\n",
       "    <tr>\n",
       "      <th>0</th>\n",
       "      <td>FWaterClaims</td>\n",
       "      <td>FWaterClaims-TrainingModels-FWaterClaims</td>\n",
       "      <td>\"binary:logistic\"</td>\n",
       "      <td>\"auc\"</td>\n",
       "      <td>true</td>\n",
       "      <td>\"gbtree\"</td>\n",
       "      <td>42.0</td>\n",
       "      <td>0.3</td>\n",
       "      <td>0.8</td>\n",
       "      <td>0.8</td>\n",
       "      <td>0.03</td>\n",
       "      <td>4.0</td>\n",
       "      <td>\"5000\"</td>\n",
       "    </tr>\n",
       "  </tbody>\n",
       "</table>\n",
       "</div>"
      ],
      "text/plain": [
       "          Model                           Trial Component          objective  \\\n",
       "0  FWaterClaims  FWaterClaims-TrainingModels-FWaterClaims  \"binary:logistic\"   \n",
       "\n",
       "  eval_metric silent   booster  seed  scale_pos_weight  colsample_bylevel  \\\n",
       "0       \"auc\"   true  \"gbtree\"  42.0               0.3                0.8   \n",
       "\n",
       "   colsample_bytree   eta  max_depth num_round  \n",
       "0               0.8  0.03        4.0    \"5000\"  "
      ]
     },
     "execution_count": 13,
     "metadata": {},
     "output_type": "execute_result"
    }
   ],
   "source": [
    "#hyperparameters used in models\n",
    "ModelsParams = trial_ds[['Model','DisplayName',\n",
    "                                                                      'objective', \n",
    "                                                                      'eval_metric', \n",
    "                                                                      'silent',  \n",
    "                                                                      'booster', \n",
    "                                                                      'seed',\n",
    "                                                                      'scale_pos_weight', \n",
    "                                                                      'colsample_bylevel',\n",
    "                                                                      'colsample_bytree',\n",
    "                                                                      'eta',\n",
    "                                                                      'max_depth', \n",
    "                                                                      'num_round']]\n",
    "ModelsParams.columns=['Model','Trial Component',\n",
    "                                                                      'objective', \n",
    "                                                                      'eval_metric', \n",
    "                                                                      'silent',  \n",
    "                                                                      'booster', \n",
    "                                                                      'seed',\n",
    "                                                                      'scale_pos_weight', \n",
    "                                                                      'colsample_bylevel',\n",
    "                                                                      'colsample_bytree',\n",
    "                                                                      'eta',\n",
    "                                                                      'max_depth', \n",
    "                                                                      'num_round']\n",
    "ModelsParams"
   ]
  },
  {
   "cell_type": "code",
   "execution_count": 14,
   "metadata": {},
   "outputs": [],
   "source": [
    "#Saving into the Experiment log file models hyperparameters used\n",
    "eu.SaveToExperimentLog(Experiments_file, '%s ModelParams'%Experiment_name, ModelsParams)"
   ]
  },
  {
   "cell_type": "code",
   "execution_count": 15,
   "metadata": {},
   "outputs": [
    {
     "data": {
      "text/html": [
       "<div>\n",
       "<style scoped>\n",
       "    .dataframe tbody tr th:only-of-type {\n",
       "        vertical-align: middle;\n",
       "    }\n",
       "\n",
       "    .dataframe tbody tr th {\n",
       "        vertical-align: top;\n",
       "    }\n",
       "\n",
       "    .dataframe thead th {\n",
       "        text-align: right;\n",
       "    }\n",
       "</style>\n",
       "<table border=\"1\" class=\"dataframe\">\n",
       "  <thead>\n",
       "    <tr style=\"text-align: right;\">\n",
       "      <th></th>\n",
       "      <th>Model</th>\n",
       "      <th>Trial Component</th>\n",
       "      <th>train:auc</th>\n",
       "      <th>validation:auc</th>\n",
       "    </tr>\n",
       "  </thead>\n",
       "  <tbody>\n",
       "    <tr>\n",
       "      <th>0</th>\n",
       "      <td>FWaterClaims</td>\n",
       "      <td>FWaterClaims-TrainingModels-FWaterClaims</td>\n",
       "      <td>0.73235</td>\n",
       "      <td>0.67848</td>\n",
       "    </tr>\n",
       "  </tbody>\n",
       "</table>\n",
       "</div>"
      ],
      "text/plain": [
       "          Model                           Trial Component  train:auc  \\\n",
       "0  FWaterClaims  FWaterClaims-TrainingModels-FWaterClaims    0.73235   \n",
       "\n",
       "   validation:auc  \n",
       "0         0.67848  "
      ]
     },
     "execution_count": 15,
     "metadata": {},
     "output_type": "execute_result"
    }
   ],
   "source": [
    "ModelsResults = trial_ds[['Model','DisplayName','train:auc - Last','validation:auc - Last']].sort_values('validation:auc - Last', ascending=False)\n",
    "ModelsResults.columns=['Model','Trial Component','train:auc','validation:auc']\n",
    "ModelsResults"
   ]
  },
  {
   "cell_type": "code",
   "execution_count": 16,
   "metadata": {},
   "outputs": [
    {
     "data": {
      "text/plain": [
       "<matplotlib.axes._subplots.AxesSubplot at 0x7f003b489f60>"
      ]
     },
     "execution_count": 16,
     "metadata": {},
     "output_type": "execute_result"
    },
    {
     "data": {
      "image/png": "[encoded data removed]",
      "text/plain": [
       "<Figure size 1080x720 with 1 Axes>"
      ]
     },
     "metadata": {
      "needs_background": "light"
     },
     "output_type": "display_data"
    }
   ],
   "source": [
    "import matplotlib.pyplot as plt\n",
    "fig = plt.figure()\n",
    "fig.set_size_inches([15, 10])\n",
    "ModelsResults.plot.bar('Model', 'validation:auc',ax=plt.gca())"
   ]
  },
  {
   "cell_type": "code",
   "execution_count": 17,
   "metadata": {},
   "outputs": [],
   "source": [
    "#Saving into the Experiment log file models results\n",
    "eu.SaveToExperimentLog(Experiments_file, '%s ModelResults'%Experiment_name, ModelsResults)"
   ]
  },
  {
   "cell_type": "code",
   "execution_count": 20,
   "metadata": {},
   "outputs": [
    {
     "data": {
      "text/html": [
       "<div>\n",
       "<style scoped>\n",
       "    .dataframe tbody tr th:only-of-type {\n",
       "        vertical-align: middle;\n",
       "    }\n",
       "\n",
       "    .dataframe tbody tr th {\n",
       "        vertical-align: top;\n",
       "    }\n",
       "\n",
       "    .dataframe thead th {\n",
       "        text-align: right;\n",
       "    }\n",
       "</style>\n",
       "<table border=\"1\" class=\"dataframe\">\n",
       "  <thead>\n",
       "    <tr style=\"text-align: right;\">\n",
       "      <th></th>\n",
       "      <th>Model</th>\n",
       "      <th>Trial Component</th>\n",
       "      <th>ModelData</th>\n",
       "    </tr>\n",
       "  </thead>\n",
       "  <tbody>\n",
       "    <tr>\n",
       "      <th>0</th>\n",
       "      <td>FWaterClaims</td>\n",
       "      <td>FWaterClaims-TrainingModels-FWaterClaims</td>\n",
       "      <td>s3://kdproperty/FWaterClaims-2020-12-31-20-15-...</td>\n",
       "    </tr>\n",
       "  </tbody>\n",
       "</table>\n",
       "</div>"
      ],
      "text/plain": [
       "          Model                           Trial Component  \\\n",
       "0  FWaterClaims  FWaterClaims-TrainingModels-FWaterClaims   \n",
       "\n",
       "                                           ModelData  \n",
       "0  s3://kdproperty/FWaterClaims-2020-12-31-20-15-...  "
      ]
     },
     "execution_count": 20,
     "metadata": {},
     "output_type": "execute_result"
    }
   ],
   "source": [
    "ModelsFiles = trial_ds[['Model','DisplayName','SageMaker.ModelArtifact - Value']]\n",
    "ModelsFiles.columns=['Model','Trial Component','ModelData']\n",
    "ModelsFiles"
   ]
  },
  {
   "cell_type": "code",
   "execution_count": 21,
   "metadata": {},
   "outputs": [],
   "source": [
    "#Saving into the Experiment log file models files\n",
    "eu.SaveToExperimentLog(Experiments_file, '%s ModelFiles'%Experiment_name, ModelsFiles)"
   ]
  }
 ],
 "metadata": {
  "kernelspec": {
   "display_name": "Python 3",
   "language": "python",
   "name": "python3"
  },
  "language_info": {
   "codemirror_mode": {
    "name": "ipython",
    "version": 3
   },
   "file_extension": ".py",
   "mimetype": "text/x-python",
   "name": "python",
   "nbconvert_exporter": "python",
   "pygments_lexer": "ipython3",
   "version": "3.6.12"
  }
 },
 "nbformat": 4,
 "nbformat_minor": 4
}
