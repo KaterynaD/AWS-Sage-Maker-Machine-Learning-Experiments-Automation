{
 "cells": [
  {
   "cell_type": "markdown",
   "metadata": {},
   "source": [
    "## 09.AWS Hyperparameter Tuning job for XGBoost Classification\n",
    "\n",
    "Purpose: Based on the configured list of hyperparameters ranges and input taining data perform Bayesian or Random  tuning job for XGBoost Classification.\n",
    "\n",
    "Single model training or CV with standard or custom evaluation metrics can be used.\n",
    "\n",
    "OpenSource XGBoost is used in the script and it can be replaced with SageMaker built-in XGBoost only for single model training with standard evaluation metric. \n",
    "\n",
    "The notebook uses the same scripts for models training as 01.AWS...Training Model....py and 02.AWS...CV....py \n",
    "\n",
    "#### Custom training script output\n",
    "\n",
    "Only in OpenSource XGBoost custom evaluation metrics can be defined and used for model training directly in the script used for training. However, AWS SageMaker hyperparameter tuning job do not see them. Custom evaluation metrics should be configured in metric_defintions.\n",
    "\n",
    "OpenSource SageMaker XGBoost (as in March 2021 version 1.2-1) is incorrectly recognizing XGBoost as a built-in algorithm and using metric definition raise the error:\n",
    "An error occurred (ValidationException) when calling the CreateTrainingJob operation: You can't override the metric definitions for Amazon SageMaker algorithms. Please retry the request without specifying metric definitions.\n",
    "\n",
    "CV output looks different from training output even if we use  standard XGBoost metrics (ROC-AUC). There is \"test\" instead of \"validation\": \n",
    "\n",
    "[1060]#011train-auc:0.72230+0.00097#011test-auc:0.69244+0.01114\n",
    "\n",
    "AWS SageMaker hyperparameter tuning job does not recognize the output.\n",
    "\n",
    "There are 2 approached to make AWS SageMaker fully functional.\n",
    "\n",
    "**The first one is just to name the custom function as a standard one.**\n",
    "\n",
    "The trick is:\n",
    "1. Create a function to calculate custom metric (gini). If it's named gini it will be used in training but NOT visible for experiments or hyperparameters tuning.\n",
    "2. Name it as a standard score (auc_xgb instead of gini_xgb) \n",
    "3. Disable using a standard score in the parameters: 'disable_default_eval_metric': '1', and do not add eval_metric at all.\n",
    "\n",
    "For CV:\n",
    "\n",
    "Adjust callback functions ooutput in CV  to make it identical to the train output. This is relatively simple option. We may even use a custom evaluation function, just name it like a standard function: accuracy, auc, etc \n",
    "\n",
    "That's easily can be accomplished just in the script used for training.\n",
    "\n",
    "This option is not used in the notebook, but can be implemented easily with adjusting if statement based on entry_point.\n",
    "\n",
    "**The second approach is more complex and require more efforts**\n",
    "\n",
    "You need to register custom metrics with metric_defintions (https://docs.aws.amazon.com/sagemaker/latest/dg/training-metrics.html#define-train-metrics-sdk).\n",
    " \n",
    "As on Mar/2021 open source, script mode, AWS SageMaker XGBoost is still recognized like a standard, built-in algorithm and prevent us using custom metric definitions.\n",
    "See https://github.com/aws/sagemaker-xgboost-container/issues/121\n",
    "\n",
    "The workaround is to create your own container from the official AWS Sagemaker Open Source XGBoost GitHub repository, host it in your own ECR repository, and use this image from Python SDK. \n",
    "\n",
    "**Steps to create your own ECR repository:**\n",
    "\n",
    "1. Install and configure aws-cli (https://docs.aws.amazon.com/cli/latest/userguide/cli-chap-install.html and https://docs.aws.amazon.com/cli/latest/userguide/cli-chap-configure.html)\n",
    "\n",
    "2. Install docker (https://docs.docker.com/engine/install/ubuntu/) or just add your user to the docker group (Some steps below do not work when docker used via sudo)\n",
    "- sudo usermod -aG docker kate\n",
    "Activate the changes to groups\n",
    "- newgrp docker\n",
    "Verify that you can run docker commands without sudo\n",
    "- docker run hello-world\n",
    "3. Build container\n",
    "- git clone https://github.com/aws/sagemaker-xgboost-container\n",
    "- docker build -t xgboost-container-base:1.2-1-cpu-py3 -f docker/1.0-1/base/Dockerfile.cpu .\n",
    "- python setup.py bdist_wheel --universal\n",
    "- docker build -t preprod-xgboost-container:1.2-1-cpu-py3 -f docker/1.2-1/final/Dockerfile.cpu .\n",
    "4. Create ECR repository and push the above image.\n",
    "- eval $(aws ecr get-login --region  us-west-2 --no-include-email | sed 's|https://||')\n",
    "- aws ecr create-repository --repository-name sagemaker-xgboost --region us-west-2\n",
    "- docker tag preprod-xgboost-container:1.2-1-cpu-py3 XYZ.dkr.ecr.us-west-2.amazonaws.com/sagemaker-xgboost:1.2-1-cpu-py3\n",
    "- docker push XYZ.dkr.ecr.us-west-2.amazonaws.com/sagemaker-xgboost:1.2-1-cpu-py3\n",
    "5. Use image_uri=XYZ.dkr.ecr.us-west-2.amazonaws.com/sagemaker-xgboost:1.2-1-cpu-py3 in XGBoost()\n",
    "\n",
    "\n",
    "#### Notebook Main steps:\n",
    "\n",
    "1. Experiment configuration. Instead of hardcoding datafile name, target variable, hyperparameters ranges directly in the code I use an Excel file. Each tab with a predefined name contains hyperparameters ranges or an input filename. At the end, the code records the results back into the same excel file. Excel is used as an UI to easily configure experiment and simplify re-use of this notebook\n",
    "\n",
    "AWS SageMaker Experiment is not used directly in hyperparameter tuning job. There is a code in the notebook to record all tuning training jobs in an experiment but I do not see a lot of gain from this.\n",
    "\n",
    "2. Running tuning job.\n",
    "\n",
    "\n",
    "3. Extracting results, visualization and saving to an experiment log file.  \n",
    "\n",
    "\n",
    "#### Known issues:\n",
    "1. Warnings after upgrading SageMaker to version 2:\n",
    "INFO:sagemaker.image_uris:Defaulting to the only supported framework/algorithm version: latest.\n",
    "INFO:sagemaker.image_uris:Ignoring unnecessary instance type: None.\n",
    "Looks like warnings from XGBoost open-source estimator. No clear information about the parameters\n",
    "2. All models artifacts (debugging info) are saved into output_path provided as a parameter to the estimator (expected only model.tar.gz) except source/sourcedir.tar.gz which is saved into root of a bucket from output_path. Previously everything except model.tar.gz was saved into default bucket. This is entry_point (training) script and the path is defined in SM_MODULE_DIR environment variable but there is no clue how to change it. \n",
    "3. As on Mar/2021 open source, script mode, AWS SageMaker XGBoost is still recognized like a standard, built-in algorithm and prevent us using custom metric definitions.\n",
    "See https://github.com/aws/sagemaker-xgboost-container/issues/121"
   ]
  },
  {
   "cell_type": "code",
   "execution_count": 72,
   "metadata": {},
   "outputs": [],
   "source": [
    "temp_folder='/home/kate/Research/Property/Notebooks/Experiments/tmp/'\n",
    "Experiments_file='/home/kate/Research/Property/Notebooks/Experiments/Logs/Set1-Classification.xlsx'\n",
    "AllExperiments_tab='Experiments'\n",
    "#Experiment name will be used as Hyperparameter job name\n",
    "Experiment_name='HyperParams'\n",
    "#1. Experiment configuration: the same dataset is used in all trial omponents\n",
    "Experiment_InputData='%s InputData'%Experiment_name\n",
    "#2. HyperParam configuration: min, max value and type: ContinuousParameterRanges, IntegerParameterRanges\n",
    "#If MinValue=MaxValue it's a static parameter and will not be added into tuning job but into models directly\n",
    "Experiment_models='%s Ranges'%Experiment_name\n",
    "\n",
    "Trial_name='%s-TrainingModels'%Experiment_name \n",
    "\n",
    "\n",
    "\n",
    "#model in\n",
    "bucket='kdproperty'\n",
    "\n",
    "#instance type to be created for training jobs. \n",
    "instance_type='ml.c5.xlarge'\n",
    "\n",
    "strategy='Bayesian' #Random\n",
    "#how many total training jobs to run in the tuning process\n",
    "max_jobs=100\n",
    "\n",
    "#how many jobs to run in parallel\n",
    "max_parallel_jobs=2\n",
    "\n",
    "#data in training and testing file type\n",
    "content_type='text/csv'\n",
    "\n",
    "path_to_models='Models/Experiments/%s'%Experiment_name\n",
    "\n",
    "\n",
    "#entry_point defines a script to be run for model training\n",
    "#the scripts have different ouput and metric defnitions as well as the objective metric should be adjusted accordingly\n",
    "entry_point='ModelCV_Gini_EvalMetric.py' #'ModelTraining.py' #uses a standard XGBoost metric (auc), no need for custom image_uri in XGBoost and metric definition, objective is validation:auc\n",
    "# ModelTraining_Gini_EvalMetric.py uses XGBoost training with custom evaluation metric - gini. Use custom image_uri and metric defnitions. Objective should be adjusted to validation:gini\n",
    "# ModelCV.py uses XGBoost CV to return the final, standard, evaluation metric - auc. Use custom image_uri and metric defnitions. Objective should be adjusted to test:auc\n",
    "# ModelCV_Gini_EvalMetric.py uses XGBoost CV with custom evaluation metric - gini. Use custom image_uri and metric defnitions. Objective should be adjusted to  test:gini\n",
    "\n",
    "#just a placeholder. the parameter can be commented in XGBoostbor just leave it as empty string. It's used when standard metrics are used.\n",
    "stnadard_image_uri=''\n",
    "#it's needed as a workaround to be able to work with custom metrics and scripts output in AWS Sagemaker montitor systems, charts and experiment\n",
    "custom_image_uri='757107622481.dkr.ecr.us-west-2.amazonaws.com/sagemaker-xgboost:1.2-1-cpu-py3'\n",
    "\n",
    "\n",
    "#number of folds for CV\n",
    "#it maybe skipped if CV is not used\n",
    "num_folds='10'"
   ]
  },
  {
   "cell_type": "code",
   "execution_count": 2,
   "metadata": {},
   "outputs": [],
   "source": [
    "#packages used in the notebook\n",
    "import time\n",
    "import sys\n",
    "import boto3\n",
    "import sagemaker\n",
    "from sagemaker.session import s3_input\n",
    "from sagemaker.xgboost.estimator import XGBoost\n",
    "from sagemaker.xgboost.model import XGBoostModel\n",
    "import pandas as pd\n",
    "import numpy as np\n",
    "from smexperiments.experiment import Experiment\n",
    "from smexperiments.trial import Trial\n",
    "from sagemaker.analytics import ExperimentAnalytics\n",
    "from sagemaker import HyperparameterTuningJobAnalytics, Session\n",
    "from datetime import datetime, timezone\n",
    "from smexperiments.search_expression import Filter, Operator, SearchExpression\n",
    "from smexperiments.trial_component import TrialComponent\n",
    "from sagemaker.tuner import IntegerParameter\n",
    "from sagemaker.tuner import ContinuousParameter\n",
    "from sagemaker.tuner import HyperparameterTuner"
   ]
  },
  {
   "cell_type": "code",
   "execution_count": 3,
   "metadata": {},
   "outputs": [
    {
     "name": "stderr",
     "output_type": "stream",
     "text": [
      "INFO:botocore.credentials:Found credentials in shared credentials file: ~/.aws/credentials\n",
      "INFO:botocore.credentials:Found credentials in shared credentials file: ~/.aws/credentials\n"
     ]
    }
   ],
   "source": [
    "#should be run as a first step\n",
    "#role arn is used when run from a local machine\n",
    "role = 'arn:aws:iam::757107622481:role/service-role/AmazonSageMaker-ExecutionRole-20200819T131882'\n",
    "region = 'us-west-2'\n",
    "sagemaker_session = sagemaker.session.Session(default_bucket=bucket)\n",
    "sm = boto3.Session().client('sagemaker')"
   ]
  },
  {
   "cell_type": "markdown",
   "metadata": {},
   "source": [
    "## Experiment\n",
    "Experiment is configured in an experiment log file (Excel file, in my case,  in different tabs)"
   ]
  },
  {
   "cell_type": "code",
   "execution_count": 4,
   "metadata": {},
   "outputs": [],
   "source": [
    "sys.path.append('/home/kate/Research/YearBuilt/Notebooks/Property')\n",
    "import ExperimentsUtils as eu"
   ]
  },
  {
   "cell_type": "markdown",
   "metadata": {},
   "source": [
    "1. Reading an experiment configuration (Experiment_name) from an experiment log file (Experiments_file). Target and Dataset columns in AllExperiments_tab contain data file name used and target column"
   ]
  },
  {
   "cell_type": "code",
   "execution_count": 5,
   "metadata": {},
   "outputs": [],
   "source": [
    "experiments = pd.read_excel(open(Experiments_file, 'rb'), sheet_name=AllExperiments_tab)"
   ]
  },
  {
   "cell_type": "markdown",
   "metadata": {},
   "source": [
    "2.Creating experiments and trials in SageMaker"
   ]
  },
  {
   "cell_type": "code",
   "execution_count": 6,
   "metadata": {},
   "outputs": [
    {
     "name": "stderr",
     "output_type": "stream",
     "text": [
      "INFO:botocore.credentials:Found credentials in shared credentials file: ~/.aws/credentials\n",
      "INFO:botocore.credentials:Found credentials in shared credentials file: ~/.aws/credentials\n",
      "INFO:botocore.credentials:Found credentials in shared credentials file: ~/.aws/credentials\n",
      "INFO:botocore.credentials:Found credentials in shared credentials file: ~/.aws/credentials\n",
      "INFO:botocore.credentials:Found credentials in shared credentials file: ~/.aws/credentials\n",
      "INFO:botocore.credentials:Found credentials in shared credentials file: ~/.aws/credentials\n",
      "INFO:botocore.credentials:Found credentials in shared credentials file: ~/.aws/credentials\n",
      "INFO:botocore.credentials:Found credentials in shared credentials file: ~/.aws/credentials\n",
      "INFO:botocore.credentials:Found credentials in shared credentials file: ~/.aws/credentials\n",
      "INFO:botocore.credentials:Found credentials in shared credentials file: ~/.aws/credentials\n",
      "INFO:botocore.credentials:Found credentials in shared credentials file: ~/.aws/credentials\n",
      "INFO:botocore.credentials:Found credentials in shared credentials file: ~/.aws/credentials\n",
      "INFO:botocore.credentials:Found credentials in shared credentials file: ~/.aws/credentials\n",
      "INFO:botocore.credentials:Found credentials in shared credentials file: ~/.aws/credentials\n",
      "INFO:botocore.credentials:Found credentials in shared credentials file: ~/.aws/credentials\n",
      "INFO:botocore.credentials:Found credentials in shared credentials file: ~/.aws/credentials\n",
      "INFO:botocore.credentials:Found credentials in shared credentials file: ~/.aws/credentials\n",
      "INFO:botocore.credentials:Found credentials in shared credentials file: ~/.aws/credentials\n",
      "INFO:botocore.credentials:Found credentials in shared credentials file: ~/.aws/credentials\n",
      "INFO:botocore.credentials:Found credentials in shared credentials file: ~/.aws/credentials\n",
      "INFO:botocore.credentials:Found credentials in shared credentials file: ~/.aws/credentials\n",
      "INFO:botocore.credentials:Found credentials in shared credentials file: ~/.aws/credentials\n",
      "INFO:botocore.credentials:Found credentials in shared credentials file: ~/.aws/credentials\n",
      "INFO:botocore.credentials:Found credentials in shared credentials file: ~/.aws/credentials\n",
      "INFO:botocore.credentials:Found credentials in shared credentials file: ~/.aws/credentials\n",
      "INFO:botocore.credentials:Found credentials in shared credentials file: ~/.aws/credentials\n",
      "INFO:botocore.credentials:Found credentials in shared credentials file: ~/.aws/credentials\n",
      "INFO:botocore.credentials:Found credentials in shared credentials file: ~/.aws/credentials\n",
      "INFO:botocore.credentials:Found credentials in shared credentials file: ~/.aws/credentials\n",
      "INFO:botocore.credentials:Found credentials in shared credentials file: ~/.aws/credentials\n",
      "INFO:botocore.credentials:Found credentials in shared credentials file: ~/.aws/credentials\n",
      "INFO:botocore.credentials:Found credentials in shared credentials file: ~/.aws/credentials\n",
      "INFO:botocore.credentials:Found credentials in shared credentials file: ~/.aws/credentials\n",
      "INFO:botocore.credentials:Found credentials in shared credentials file: ~/.aws/credentials\n",
      "INFO:botocore.credentials:Found credentials in shared credentials file: ~/.aws/credentials\n",
      "INFO:botocore.credentials:Found credentials in shared credentials file: ~/.aws/credentials\n",
      "INFO:botocore.credentials:Found credentials in shared credentials file: ~/.aws/credentials\n",
      "INFO:botocore.credentials:Found credentials in shared credentials file: ~/.aws/credentials\n",
      "INFO:botocore.credentials:Found credentials in shared credentials file: ~/.aws/credentials\n",
      "INFO:botocore.credentials:Found credentials in shared credentials file: ~/.aws/credentials\n",
      "INFO:botocore.credentials:Found credentials in shared credentials file: ~/.aws/credentials\n",
      "INFO:botocore.credentials:Found credentials in shared credentials file: ~/.aws/credentials\n",
      "INFO:botocore.credentials:Found credentials in shared credentials file: ~/.aws/credentials\n",
      "INFO:botocore.credentials:Found credentials in shared credentials file: ~/.aws/credentials\n",
      "INFO:botocore.credentials:Found credentials in shared credentials file: ~/.aws/credentials\n",
      "INFO:botocore.credentials:Found credentials in shared credentials file: ~/.aws/credentials\n",
      "INFO:botocore.credentials:Found credentials in shared credentials file: ~/.aws/credentials\n",
      "INFO:botocore.credentials:Found credentials in shared credentials file: ~/.aws/credentials\n",
      "INFO:botocore.credentials:Found credentials in shared credentials file: ~/.aws/credentials\n",
      "INFO:botocore.credentials:Found credentials in shared credentials file: ~/.aws/credentials\n",
      "INFO:botocore.credentials:Found credentials in shared credentials file: ~/.aws/credentials\n",
      "INFO:botocore.credentials:Found credentials in shared credentials file: ~/.aws/credentials\n",
      "INFO:botocore.credentials:Found credentials in shared credentials file: ~/.aws/credentials\n",
      "INFO:botocore.credentials:Found credentials in shared credentials file: ~/.aws/credentials\n",
      "INFO:botocore.credentials:Found credentials in shared credentials file: ~/.aws/credentials\n",
      "INFO:botocore.credentials:Found credentials in shared credentials file: ~/.aws/credentials\n",
      "INFO:botocore.credentials:Found credentials in shared credentials file: ~/.aws/credentials\n",
      "INFO:botocore.credentials:Found credentials in shared credentials file: ~/.aws/credentials\n",
      "INFO:botocore.credentials:Found credentials in shared credentials file: ~/.aws/credentials\n",
      "INFO:botocore.credentials:Found credentials in shared credentials file: ~/.aws/credentials\n",
      "INFO:botocore.credentials:Found credentials in shared credentials file: ~/.aws/credentials\n",
      "INFO:botocore.credentials:Found credentials in shared credentials file: ~/.aws/credentials\n",
      "INFO:botocore.credentials:Found credentials in shared credentials file: ~/.aws/credentials\n",
      "INFO:botocore.credentials:Found credentials in shared credentials file: ~/.aws/credentials\n",
      "INFO:botocore.credentials:Found credentials in shared credentials file: ~/.aws/credentials\n",
      "INFO:botocore.credentials:Found credentials in shared credentials file: ~/.aws/credentials\n",
      "INFO:botocore.credentials:Found credentials in shared credentials file: ~/.aws/credentials\n",
      "INFO:botocore.credentials:Found credentials in shared credentials file: ~/.aws/credentials\n",
      "INFO:botocore.credentials:Found credentials in shared credentials file: ~/.aws/credentials\n",
      "INFO:botocore.credentials:Found credentials in shared credentials file: ~/.aws/credentials\n",
      "INFO:botocore.credentials:Found credentials in shared credentials file: ~/.aws/credentials\n",
      "INFO:botocore.credentials:Found credentials in shared credentials file: ~/.aws/credentials\n",
      "INFO:botocore.credentials:Found credentials in shared credentials file: ~/.aws/credentials\n",
      "INFO:botocore.credentials:Found credentials in shared credentials file: ~/.aws/credentials\n",
      "INFO:botocore.credentials:Found credentials in shared credentials file: ~/.aws/credentials\n",
      "INFO:botocore.credentials:Found credentials in shared credentials file: ~/.aws/credentials\n",
      "INFO:botocore.credentials:Found credentials in shared credentials file: ~/.aws/credentials\n",
      "INFO:botocore.credentials:Found credentials in shared credentials file: ~/.aws/credentials\n",
      "INFO:botocore.credentials:Found credentials in shared credentials file: ~/.aws/credentials\n",
      "INFO:botocore.credentials:Found credentials in shared credentials file: ~/.aws/credentials\n",
      "INFO:botocore.credentials:Found credentials in shared credentials file: ~/.aws/credentials\n",
      "INFO:botocore.credentials:Found credentials in shared credentials file: ~/.aws/credentials\n",
      "INFO:botocore.credentials:Found credentials in shared credentials file: ~/.aws/credentials\n",
      "INFO:botocore.credentials:Found credentials in shared credentials file: ~/.aws/credentials\n",
      "INFO:botocore.credentials:Found credentials in shared credentials file: ~/.aws/credentials\n",
      "INFO:botocore.credentials:Found credentials in shared credentials file: ~/.aws/credentials\n",
      "INFO:botocore.credentials:Found credentials in shared credentials file: ~/.aws/credentials\n",
      "INFO:botocore.credentials:Found credentials in shared credentials file: ~/.aws/credentials\n",
      "INFO:botocore.credentials:Found credentials in shared credentials file: ~/.aws/credentials\n",
      "INFO:botocore.credentials:Found credentials in shared credentials file: ~/.aws/credentials\n",
      "INFO:botocore.credentials:Found credentials in shared credentials file: ~/.aws/credentials\n",
      "INFO:botocore.credentials:Found credentials in shared credentials file: ~/.aws/credentials\n",
      "INFO:botocore.credentials:Found credentials in shared credentials file: ~/.aws/credentials\n",
      "INFO:botocore.credentials:Found credentials in shared credentials file: ~/.aws/credentials\n",
      "INFO:botocore.credentials:Found credentials in shared credentials file: ~/.aws/credentials\n",
      "INFO:botocore.credentials:Found credentials in shared credentials file: ~/.aws/credentials\n",
      "INFO:botocore.credentials:Found credentials in shared credentials file: ~/.aws/credentials\n",
      "INFO:botocore.credentials:Found credentials in shared credentials file: ~/.aws/credentials\n",
      "INFO:botocore.credentials:Found credentials in shared credentials file: ~/.aws/credentials\n",
      "INFO:botocore.credentials:Found credentials in shared credentials file: ~/.aws/credentials\n",
      "INFO:botocore.credentials:Found credentials in shared credentials file: ~/.aws/credentials\n",
      "INFO:botocore.credentials:Found credentials in shared credentials file: ~/.aws/credentials\n",
      "INFO:botocore.credentials:Found credentials in shared credentials file: ~/.aws/credentials\n",
      "INFO:botocore.credentials:Found credentials in shared credentials file: ~/.aws/credentials\n",
      "INFO:botocore.credentials:Found credentials in shared credentials file: ~/.aws/credentials\n",
      "INFO:botocore.credentials:Found credentials in shared credentials file: ~/.aws/credentials\n",
      "INFO:botocore.credentials:Found credentials in shared credentials file: ~/.aws/credentials\n",
      "INFO:botocore.credentials:Found credentials in shared credentials file: ~/.aws/credentials\n",
      "INFO:botocore.credentials:Found credentials in shared credentials file: ~/.aws/credentials\n",
      "INFO:botocore.credentials:Found credentials in shared credentials file: ~/.aws/credentials\n",
      "INFO:botocore.credentials:Found credentials in shared credentials file: ~/.aws/credentials\n",
      "INFO:botocore.credentials:Found credentials in shared credentials file: ~/.aws/credentials\n",
      "INFO:botocore.credentials:Found credentials in shared credentials file: ~/.aws/credentials\n",
      "INFO:botocore.credentials:Found credentials in shared credentials file: ~/.aws/credentials\n",
      "INFO:botocore.credentials:Found credentials in shared credentials file: ~/.aws/credentials\n",
      "INFO:botocore.credentials:Found credentials in shared credentials file: ~/.aws/credentials\n",
      "INFO:botocore.credentials:Found credentials in shared credentials file: ~/.aws/credentials\n",
      "INFO:botocore.credentials:Found credentials in shared credentials file: ~/.aws/credentials\n",
      "INFO:botocore.credentials:Found credentials in shared credentials file: ~/.aws/credentials\n",
      "INFO:botocore.credentials:Found credentials in shared credentials file: ~/.aws/credentials\n",
      "INFO:botocore.credentials:Found credentials in shared credentials file: ~/.aws/credentials\n",
      "INFO:botocore.credentials:Found credentials in shared credentials file: ~/.aws/credentials\n",
      "INFO:botocore.credentials:Found credentials in shared credentials file: ~/.aws/credentials\n",
      "INFO:botocore.credentials:Found credentials in shared credentials file: ~/.aws/credentials\n",
      "INFO:botocore.credentials:Found credentials in shared credentials file: ~/.aws/credentials\n"
     ]
    }
   ],
   "source": [
    "#delete experiment and trials but not output files associated with jobs in experiments\n",
    "eu.cleanup_experiment(Experiment_name)\n",
    "#eu.cleanup_trial(Experiment_name, Trial_name)"
   ]
  },
  {
   "cell_type": "code",
   "execution_count": 7,
   "metadata": {},
   "outputs": [
    {
     "name": "stderr",
     "output_type": "stream",
     "text": [
      "INFO:botocore.credentials:Found credentials in shared credentials file: ~/.aws/credentials\n",
      "INFO:botocore.credentials:Found credentials in shared credentials file: ~/.aws/credentials\n"
     ]
    }
   ],
   "source": [
    "eu.create_experiment(Experiment_name)\n",
    "eu.create_trial(Experiment_name,Trial_name)"
   ]
  },
  {
   "cell_type": "markdown",
   "metadata": {},
   "source": [
    "3.Assuming at the moment when we need to run fine tuning of hyperparameters we already have training dataset from previous experiments. That's why instead of configuring features and building training dataset I just expect a file name in S3 configured in the experiment log (excel file)"
   ]
  },
  {
   "cell_type": "code",
   "execution_count": 8,
   "metadata": {},
   "outputs": [
    {
     "data": {
      "text/html": [
       "<div>\n",
       "<style scoped>\n",
       "    .dataframe tbody tr th:only-of-type {\n",
       "        vertical-align: middle;\n",
       "    }\n",
       "\n",
       "    .dataframe tbody tr th {\n",
       "        vertical-align: top;\n",
       "    }\n",
       "\n",
       "    .dataframe thead th {\n",
       "        text-align: right;\n",
       "    }\n",
       "</style>\n",
       "<table border=\"1\" class=\"dataframe\">\n",
       "  <thead>\n",
       "    <tr style=\"text-align: right;\">\n",
       "      <th></th>\n",
       "      <th>Model</th>\n",
       "      <th>Training_data</th>\n",
       "      <th>Testing_data</th>\n",
       "    </tr>\n",
       "  </thead>\n",
       "  <tbody>\n",
       "    <tr>\n",
       "      <th>0</th>\n",
       "      <td>BaseModel</td>\n",
       "      <td>s3://kdproperty/Data/Experiments/LastFeatures/...</td>\n",
       "      <td>s3://kdproperty/Data/Experiments/LastFeatures/...</td>\n",
       "    </tr>\n",
       "  </tbody>\n",
       "</table>\n",
       "</div>"
      ],
      "text/plain": [
       "       Model                                      Training_data  \\\n",
       "0  BaseModel  s3://kdproperty/Data/Experiments/LastFeatures/...   \n",
       "\n",
       "                                        Testing_data  \n",
       "0  s3://kdproperty/Data/Experiments/LastFeatures/...  "
      ]
     },
     "execution_count": 8,
     "metadata": {},
     "output_type": "execute_result"
    }
   ],
   "source": [
    "#The same input data for all models, created in an other experiment\n",
    "InputData = pd.read_excel(open(Experiments_file, 'rb'), sheet_name=Experiment_InputData)\n",
    "InputData"
   ]
  },
  {
   "cell_type": "code",
   "execution_count": 9,
   "metadata": {},
   "outputs": [
    {
     "name": "stdout",
     "output_type": "stream",
     "text": [
      "Train dataset: <sagemaker.inputs.TrainingInput object at 0x7f5dcb3590d0>\n",
      "Validation dataset: <sagemaker.inputs.TrainingInput object at 0x7f5dc9a2bac0>\n"
     ]
    }
   ],
   "source": [
    "from sagemaker.session import TrainingInput\n",
    "train_input = TrainingInput(InputData['Training_data'][0], content_type=content_type)\n",
    "print('Train dataset: %s'%train_input)\n",
    "validation_input = TrainingInput(InputData['Testing_data'][0], content_type=content_type)\n",
    "print('Validation dataset: %s'%validation_input)"
   ]
  },
  {
   "cell_type": "markdown",
   "metadata": {},
   "source": [
    "4. Hyperparameters ranges"
   ]
  },
  {
   "cell_type": "code",
   "execution_count": 10,
   "metadata": {},
   "outputs": [
    {
     "data": {
      "text/html": [
       "<div>\n",
       "<style scoped>\n",
       "    .dataframe tbody tr th:only-of-type {\n",
       "        vertical-align: middle;\n",
       "    }\n",
       "\n",
       "    .dataframe tbody tr th {\n",
       "        vertical-align: top;\n",
       "    }\n",
       "\n",
       "    .dataframe thead th {\n",
       "        text-align: right;\n",
       "    }\n",
       "</style>\n",
       "<table border=\"1\" class=\"dataframe\">\n",
       "  <thead>\n",
       "    <tr style=\"text-align: right;\">\n",
       "      <th></th>\n",
       "      <th>Name</th>\n",
       "      <th>RangeType</th>\n",
       "      <th>MinValue</th>\n",
       "      <th>MaxValue</th>\n",
       "      <th>scaling_type</th>\n",
       "    </tr>\n",
       "  </thead>\n",
       "  <tbody>\n",
       "    <tr>\n",
       "      <th>0</th>\n",
       "      <td>eta</td>\n",
       "      <td>ContinuousParameter</td>\n",
       "      <td>0.02</td>\n",
       "      <td>0.05</td>\n",
       "      <td>Auto</td>\n",
       "    </tr>\n",
       "    <tr>\n",
       "      <th>1</th>\n",
       "      <td>colsample_bylevel</td>\n",
       "      <td>ContinuousParameter</td>\n",
       "      <td>0.80</td>\n",
       "      <td>0.80</td>\n",
       "      <td>Auto</td>\n",
       "    </tr>\n",
       "    <tr>\n",
       "      <th>2</th>\n",
       "      <td>colsample_bytree</td>\n",
       "      <td>ContinuousParameter</td>\n",
       "      <td>0.80</td>\n",
       "      <td>0.80</td>\n",
       "      <td>Auto</td>\n",
       "    </tr>\n",
       "    <tr>\n",
       "      <th>3</th>\n",
       "      <td>scale_pos_weight</td>\n",
       "      <td>ContinuousParameter</td>\n",
       "      <td>0.30</td>\n",
       "      <td>0.30</td>\n",
       "      <td>Auto</td>\n",
       "    </tr>\n",
       "    <tr>\n",
       "      <th>4</th>\n",
       "      <td>max_depth</td>\n",
       "      <td>IntegerParameter</td>\n",
       "      <td>3.00</td>\n",
       "      <td>6.00</td>\n",
       "      <td>Auto</td>\n",
       "    </tr>\n",
       "    <tr>\n",
       "      <th>5</th>\n",
       "      <td>subsample</td>\n",
       "      <td>ContinuousParameter</td>\n",
       "      <td>0.30</td>\n",
       "      <td>1.00</td>\n",
       "      <td>Auto</td>\n",
       "    </tr>\n",
       "    <tr>\n",
       "      <th>6</th>\n",
       "      <td>num_round</td>\n",
       "      <td>IntegerParameter</td>\n",
       "      <td>5000.00</td>\n",
       "      <td>5000.00</td>\n",
       "      <td>Auto</td>\n",
       "    </tr>\n",
       "  </tbody>\n",
       "</table>\n",
       "</div>"
      ],
      "text/plain": [
       "                Name            RangeType  MinValue  MaxValue scaling_type\n",
       "0                eta  ContinuousParameter      0.02      0.05         Auto\n",
       "1  colsample_bylevel  ContinuousParameter      0.80      0.80         Auto\n",
       "2   colsample_bytree  ContinuousParameter      0.80      0.80         Auto\n",
       "3   scale_pos_weight  ContinuousParameter      0.30      0.30         Auto\n",
       "4          max_depth     IntegerParameter      3.00      6.00         Auto\n",
       "5          subsample  ContinuousParameter      0.30      1.00         Auto\n",
       "6          num_round     IntegerParameter   5000.00   5000.00         Auto"
      ]
     },
     "execution_count": 10,
     "metadata": {},
     "output_type": "execute_result"
    }
   ],
   "source": [
    "tuning_job_ranges = pd.read_excel(open(Experiments_file, 'rb'), sheet_name=Experiment_models)\n",
    "tuning_job_ranges"
   ]
  },
  {
   "cell_type": "markdown",
   "metadata": {},
   "source": [
    "If MinValue is not the same as MaxValue, the parameter is snt to the tuning job. Othervise, it's static and just added into the usual model hyperparameters set"
   ]
  },
  {
   "cell_type": "code",
   "execution_count": 11,
   "metadata": {},
   "outputs": [
    {
     "name": "stderr",
     "output_type": "stream",
     "text": [
      "INFO:numexpr.utils:NumExpr defaulting to 8 threads.\n"
     ]
    },
    {
     "data": {
      "text/plain": [
       "{'eta': <sagemaker.parameter.ContinuousParameter at 0x7f5dcb3fce50>,\n",
       " 'max_depth': <sagemaker.parameter.IntegerParameter at 0x7f5dcb3fc940>,\n",
       " 'subsample': <sagemaker.parameter.ContinuousParameter at 0x7f5dcb3fc6a0>}"
      ]
     },
     "execution_count": 11,
     "metadata": {},
     "output_type": "execute_result"
    }
   ],
   "source": [
    "#only non static params into tuning job config\n",
    "tuning_job_config = dict()\n",
    "for index, row in tuning_job_ranges[tuning_job_ranges['MinValue']!=tuning_job_ranges['MaxValue']].iterrows():\n",
    "    if row['RangeType']=='ContinuousParameter':\n",
    "        tuning_job_config[row['Name']]=ContinuousParameter(row['MinValue'], row['MaxValue'],scaling_type=row['scaling_type'])\n",
    "    elif row['RangeType']=='IntegerParameter':\n",
    "        tuning_job_config[row['Name']]=IntegerParameter(int(row['MinValue']), int(row['MaxValue']),scaling_type=row['scaling_type'])\n",
    "tuning_job_config"
   ]
  },
  {
   "cell_type": "code",
   "execution_count": 12,
   "metadata": {},
   "outputs": [],
   "source": [
    "#always static base XGB parameters and other parameters sending to CV\n",
    "base_params = {'objective': 'binary:logistic', \n",
    "               'silent': True,\n",
    "               'booster': 'gbtree',\n",
    "               'seed':42,\n",
    "               'early_stopping_rounds':100\n",
    "              }"
   ]
  },
  {
   "cell_type": "code",
   "execution_count": 13,
   "metadata": {},
   "outputs": [
    {
     "data": {
      "text/plain": [
       "{'objective': 'binary:logistic',\n",
       " 'silent': True,\n",
       " 'booster': 'gbtree',\n",
       " 'seed': 42,\n",
       " 'early_stopping_rounds': 100,\n",
       " 'colsample_bylevel': '0.8',\n",
       " 'colsample_bytree': '0.8',\n",
       " 'scale_pos_weight': '0.3',\n",
       " 'num_round': '5000'}"
      ]
     },
     "execution_count": 13,
     "metadata": {},
     "output_type": "execute_result"
    }
   ],
   "source": [
    "#only non static params into model XGB parameters\n",
    "parameterset = dict()\n",
    "parameterset = {\n",
    " \n",
    "    }    \n",
    "for index, row in tuning_job_ranges[tuning_job_ranges['MinValue']==tuning_job_ranges['MaxValue']].iterrows():\n",
    "    if row['RangeType']=='IntegerParameter':\n",
    "        parameterset[row['Name']]=str(int(row['MaxValue']))\n",
    "    else:\n",
    "        parameterset[row['Name']]=str(row['MaxValue'])       \n",
    "   \n",
    "\n",
    "xgb_params = {**base_params, **parameterset}\n",
    "xgb_params"
   ]
  },
  {
   "cell_type": "markdown",
   "metadata": {},
   "source": [
    "## Preparing and running tuning job"
   ]
  },
  {
   "cell_type": "markdown",
   "metadata": {},
   "source": [
    "Depending on the configured entry_point (script to run) aditional configuration must be done"
   ]
  },
  {
   "cell_type": "code",
   "execution_count": 14,
   "metadata": {},
   "outputs": [],
   "source": [
    "if entry_point=='ModelTraining_Gini_EvalMetric.py':\n",
    "    #[0]#011train-gini:0.00612#011validation-gini:0.01274\n",
    "    metric_definitions = [\n",
    "    {\n",
    "        'Name': 'train-gini',\n",
    "        'Regex': '.*\\\\[[0-9]+\\\\].*#011train-gini:([-+]?[0-9]*\\\\.?[0-9]+(?:[eE][-+]?[0-9]+)?).*'\n",
    "    },    \n",
    "    {\n",
    "        'Name': 'validation-gini',\n",
    "        'Regex': '.*\\\\[[0-9]+\\\\].*#011validation-gini:([-+]?[0-9]*\\\\.?[0-9]+(?:[eE][-+]?[0-9]+)?).*'\n",
    "    }\n",
    "]\n",
    "    objective_metric_name = 'validation-gini' \n",
    "    image_uri=custom_image_uri\n",
    "elif entry_point=='ModelCV.py':\n",
    "    #[1060]#011train-auc:0.72230+0.00097#011test-auc:0.69244+0.01114\n",
    "    metric_definitions = [\n",
    "    {\n",
    "        'Name': 'train-auc',\n",
    "        'Regex': '.*\\\\[[0-9]+\\\\].*#011train-auc:([-+]?[0-9]*\\\\.?[0-9]+(?:[eE][-+]?[0-9]+)?).*'\n",
    "    },    \n",
    "    {\n",
    "        'Name': 'test-auc',\n",
    "        'Regex': '.*\\\\[[0-9]+\\\\].*#011test-auc:([-+]?[0-9]*\\\\.?[0-9]+(?:[eE][-+]?[0-9]+)?).*'\n",
    "    }\n",
    "]\n",
    "    objective_metric_name = 'test-auc'  \n",
    "    xgb_params['nfold']=str(num_folds) \n",
    "    image_uri=''\n",
    "elif entry_point=='ModelCV_Gini_EvalMetric.py':    \n",
    "    #[99]#011train-gini:0.10383+0.08569#011test-gini:0.10243+0.08417\n",
    "    metric_definitions = [\n",
    "    {\n",
    "        'Name': 'train-gini',\n",
    "        'Regex': '.*\\\\[[0-9]+\\\\].*#011train-gini:([-+]?[0-9]*\\\\.?[0-9]+(?:[eE][-+]?[0-9]+)?).*'\n",
    "    },    \n",
    "    {\n",
    "        'Name': 'test-gini',\n",
    "        'Regex': '.*\\\\[[0-9]+\\\\].*#011test-gini:([-+]?[0-9]*\\\\.?[0-9]+(?:[eE][-+]?[0-9]+)?).*'\n",
    "    }\n",
    "]\n",
    "    objective_metric_name = 'test-gini'\n",
    "    xgb_params['nfold']=str(num_folds) \n",
    "    image_uri=custom_image_uri\n",
    "else:\n",
    "    xgb_params['eval_metric']='auc' \n",
    "    metric_definitions = []\n",
    "    objective_metric_name = 'validation:auc'\n",
    "    image_uri=standard_image_uri"
   ]
  },
  {
   "cell_type": "code",
   "execution_count": 15,
   "metadata": {},
   "outputs": [
    {
     "name": "stderr",
     "output_type": "stream",
     "text": [
      "INFO:botocore.credentials:Found credentials in shared credentials file: ~/.aws/credentials\n"
     ]
    }
   ],
   "source": [
    "#XGBoost estimator\n",
    "xgb_script_mode_estimator = XGBoost(\n",
    "        entry_point=entry_point,\n",
    "        image_uri=image_uri,\n",
    "        hyperparameters=xgb_params,\n",
    "        role=role, \n",
    "        instance_count=1,\n",
    "        instance_type=instance_type,\n",
    "        framework_version='1.2-1',\n",
    "        output_path='s3://%s/%s/'%(bucket,path_to_models),\n",
    "        metric_definitions=metric_definitions\n",
    "        )"
   ]
  },
  {
   "cell_type": "code",
   "execution_count": 16,
   "metadata": {},
   "outputs": [],
   "source": [
    "#Hyperparameters Tuner\n",
    "tuner = HyperparameterTuner(\n",
    "    estimator=xgb_script_mode_estimator,\n",
    "    objective_metric_name=objective_metric_name,\n",
    "    hyperparameter_ranges =tuning_job_config,\n",
    "    max_jobs=max_jobs,\n",
    "    max_parallel_jobs=max_parallel_jobs,\n",
    "    strategy=strategy,\n",
    "    base_tuning_job_name=Experiment_name,\n",
    "    metric_definitions=metric_definitions\n",
    ")"
   ]
  },
  {
   "cell_type": "code",
   "execution_count": 17,
   "metadata": {},
   "outputs": [
    {
     "name": "stderr",
     "output_type": "stream",
     "text": [
      "INFO:sagemaker.image_uris:Defaulting to the only supported framework/algorithm version: latest.\n",
      "INFO:sagemaker.image_uris:Ignoring unnecessary instance type: None.\n",
      "INFO:sagemaker:Creating hyperparameter tuning job with name: HyperParams-210531-1515\n"
     ]
    }
   ],
   "source": [
    "#Start the tuner\n",
    "tuner.fit({'train': train_input, 'validation': validation_input,'test':validation_input}, include_cls_metadata=False,wait=False)"
   ]
  },
  {
   "cell_type": "markdown",
   "metadata": {},
   "source": [
    "## Associating training jobs created from the tuning job with an experiment\n",
    "This is optional step. Did not see a lot of gain in the process"
   ]
  },
  {
   "cell_type": "code",
   "execution_count": 18,
   "metadata": {},
   "outputs": [],
   "source": [
    "# the training job names contain the tuning job name (and the training job name is in the source arn)\n",
    "source_arn_filter = Filter(name=\"Source.SourceArn\", operator=Operator.CONTAINS, value=Experiment_name.lower())\n",
    "source_type_filter = Filter(name=\"Source.SourceType\", operator=Operator.EQUALS, value=\"SageMakerTrainingJob\")\n",
    "\n",
    "search_expression = SearchExpression(filters=[source_arn_filter, source_type_filter])"
   ]
  },
  {
   "cell_type": "code",
   "execution_count": 19,
   "metadata": {},
   "outputs": [
    {
     "data": {
      "text/plain": [
       "'InProgress'"
      ]
     },
     "execution_count": 19,
     "metadata": {},
     "output_type": "execute_result"
    }
   ],
   "source": [
    "HyperParameterTuningJobName=tuner.latest_tuning_job.job_name\n",
    "job_desc = sm.describe_hyper_parameter_tuning_job(HyperParameterTuningJobName=HyperParameterTuningJobName)\n",
    "job_desc['HyperParameterTuningJobStatus']"
   ]
  },
  {
   "cell_type": "code",
   "execution_count": 20,
   "metadata": {},
   "outputs": [
    {
     "name": "stderr",
     "output_type": "stream",
     "text": [
      "INFO:botocore.credentials:Found credentials in shared credentials file: ~/.aws/credentials\n"
     ]
    }
   ],
   "source": [
    "#Hyperparameter tuning job is not associated with an experiment directly\n",
    "#if needed we can do it via training jobs\n",
    "#we need trial object, created above to join jobs to it\n",
    "try:\n",
    "    trial = Trial.load(trial_name=Trial_name)\n",
    "except Exception as ex:\n",
    "    if \"ResourceNotFound\" in str(ex):\n",
    "        trial = Trial.create(experiment_name=Experiment_name, trial_name=Trial_name)"
   ]
  },
  {
   "cell_type": "code",
   "execution_count": 25,
   "metadata": {},
   "outputs": [
    {
     "ename": "KeyboardInterrupt",
     "evalue": "",
     "output_type": "error",
     "traceback": [
      "\u001b[0;31m---------------------------------------------------------------------------\u001b[0m",
      "\u001b[0;31mKeyboardInterrupt\u001b[0m                         Traceback (most recent call last)",
      "\u001b[0;32m<ipython-input-25-d8b5a4b1ec55>\u001b[0m in \u001b[0;36m<module>\u001b[0;34m\u001b[0m\n\u001b[1;32m     10\u001b[0m         \u001b[0;31m#print('Added %s'%tc.trial_component_name)\u001b[0m\u001b[0;34m\u001b[0m\u001b[0;34m\u001b[0m\u001b[0;34m\u001b[0m\u001b[0m\n\u001b[1;32m     11\u001b[0m         \u001b[0;31m# sleep to avoid throttling\u001b[0m\u001b[0;34m\u001b[0m\u001b[0;34m\u001b[0m\u001b[0;34m\u001b[0m\u001b[0m\n\u001b[0;32m---> 12\u001b[0;31m         \u001b[0mtime\u001b[0m\u001b[0;34m.\u001b[0m\u001b[0msleep\u001b[0m\u001b[0;34m(\u001b[0m\u001b[0;36m5\u001b[0m\u001b[0;34m)\u001b[0m\u001b[0;34m\u001b[0m\u001b[0;34m\u001b[0m\u001b[0m\n\u001b[0m\u001b[1;32m     13\u001b[0m     \u001b[0mtime\u001b[0m\u001b[0;34m.\u001b[0m\u001b[0msleep\u001b[0m\u001b[0;34m(\u001b[0m\u001b[0mwait_time\u001b[0m\u001b[0;34m)\u001b[0m\u001b[0;34m\u001b[0m\u001b[0;34m\u001b[0m\u001b[0m\n\u001b[1;32m     14\u001b[0m     \u001b[0mjob_desc\u001b[0m \u001b[0;34m=\u001b[0m \u001b[0msm\u001b[0m\u001b[0;34m.\u001b[0m\u001b[0mdescribe_hyper_parameter_tuning_job\u001b[0m\u001b[0;34m(\u001b[0m\u001b[0mHyperParameterTuningJobName\u001b[0m\u001b[0;34m=\u001b[0m\u001b[0mHyperParameterTuningJobName\u001b[0m\u001b[0;34m)\u001b[0m\u001b[0;34m\u001b[0m\u001b[0;34m\u001b[0m\u001b[0m\n",
      "\u001b[0;31mKeyboardInterrupt\u001b[0m: "
     ]
    }
   ],
   "source": [
    "#while tuning job is still in progress\n",
    "job_desc = sm.describe_hyper_parameter_tuning_job(HyperParameterTuningJobName=HyperParameterTuningJobName)\n",
    "#wait time in  sec\n",
    "wait_time=600\n",
    "while job_desc['HyperParameterTuningJobStatus']=='InProgress':\n",
    "    trial_component_search_results = list(TrialComponent.search(search_expression=search_expression, sagemaker_boto_client=sm))\n",
    "    # associate the trial components with the trial\n",
    "    for tc in trial_component_search_results:\n",
    "        trial.add_trial_component(tc.trial_component_name)\n",
    "        #print('Added %s'%tc.trial_component_name)\n",
    "        # sleep to avoid throttling\n",
    "        time.sleep(5)\n",
    "    time.sleep(wait_time)   \n",
    "    job_desc = sm.describe_hyper_parameter_tuning_job(HyperParameterTuningJobName=HyperParameterTuningJobName)"
   ]
  },
  {
   "cell_type": "markdown",
   "metadata": {},
   "source": [
    "## Tuning results\n",
    "\n",
    "Reading results from AWS SageMaker experiment and AWS Hyperparameter job, saving to an experiment log file and visualization. "
   ]
  },
  {
   "cell_type": "markdown",
   "metadata": {},
   "source": [
    "### Results in Experiment"
   ]
  },
  {
   "cell_type": "code",
   "execution_count": 26,
   "metadata": {},
   "outputs": [
    {
     "name": "stderr",
     "output_type": "stream",
     "text": [
      "INFO:botocore.credentials:Found credentials in shared credentials file: ~/.aws/credentials\n"
     ]
    }
   ],
   "source": [
    "trial_component_analytics = ExperimentAnalytics(experiment_name=Experiment_name)\n",
    "trial_comp_ds = trial_component_analytics.dataframe()\n",
    "trial_ds=trial_comp_ds.copy()"
   ]
  },
  {
   "cell_type": "code",
   "execution_count": 37,
   "metadata": {},
   "outputs": [
    {
     "data": {
      "text/plain": [
       "Index(['TrialComponentName', 'DisplayName', 'SourceArn', 'SageMaker.ImageUri',\n",
       "       'SageMaker.InstanceCount', 'SageMaker.InstanceType',\n",
       "       'SageMaker.VolumeSizeInGB', '_tuning_objective_metric', 'booster',\n",
       "       'colsample_bylevel', 'colsample_bytree', 'early_stopping_rounds', 'eta',\n",
       "       'max_depth', 'nfold', 'num_round', 'objective',\n",
       "       'sagemaker_container_log_level', 'sagemaker_estimator_class_name',\n",
       "       'sagemaker_estimator_module', 'sagemaker_job_name', 'sagemaker_program',\n",
       "       'sagemaker_region', 'sagemaker_submit_directory', 'scale_pos_weight',\n",
       "       'seed', 'silent', 'subsample', 'ObjectiveMetric - Min',\n",
       "       'ObjectiveMetric - Max', 'ObjectiveMetric - Avg',\n",
       "       'ObjectiveMetric - StdDev', 'ObjectiveMetric - Last',\n",
       "       'ObjectiveMetric - Count', 'train-gini - Min', 'train-gini - Max',\n",
       "       'train-gini - Avg', 'train-gini - StdDev', 'train-gini - Last',\n",
       "       'train-gini - Count', 'test-gini - Min', 'test-gini - Max',\n",
       "       'test-gini - Avg', 'test-gini - StdDev', 'test-gini - Last',\n",
       "       'test-gini - Count', 'test - MediaType', 'test - Value',\n",
       "       'train - MediaType', 'train - Value', 'validation - MediaType',\n",
       "       'validation - Value', 'Trials', 'Experiments',\n",
       "       'SageMaker.ModelArtifact - MediaType',\n",
       "       'SageMaker.ModelArtifact - Value', 'eval_metric',\n",
       "       'validation:auc - Min', 'validation:auc - Max', 'validation:auc - Avg',\n",
       "       'validation:auc - StdDev', 'validation:auc - Last',\n",
       "       'validation:auc - Count', 'train:auc - Min', 'train:auc - Max',\n",
       "       'train:auc - Avg', 'train:auc - StdDev', 'train:auc - Last',\n",
       "       'train:auc - Count'],\n",
       "      dtype='object')"
      ]
     },
     "execution_count": 37,
     "metadata": {},
     "output_type": "execute_result"
    }
   ],
   "source": [
    "trial_ds.columns"
   ]
  },
  {
   "cell_type": "code",
   "execution_count": 35,
   "metadata": {},
   "outputs": [],
   "source": [
    "#hyperparameters used in models\n",
    "#should be adjusted for the parameters used in tuning\n",
    "ModelsParams = trial_ds[['DisplayName',\n",
    "                                                                      'objective', \n",
    "                                                                      'eval_metric', \n",
    "                                                                      'scale_pos_weight', \n",
    "                                                                      'colsample_bylevel',\n",
    "                                                                      'colsample_bytree',\n",
    "                                                                      'eta',\n",
    "                                                                      'max_depth', \n",
    "                                                                      'num_round']]\n",
    "ModelsParams.columns=['Trial Component',\n",
    "                                                                      'objective', \n",
    "                                                                      'eval_metric',   \n",
    "                                                                      'scale_pos_weight', \n",
    "                                                                      'colsample_bylevel',\n",
    "                                                                      'colsample_bytree',\n",
    "                                                                      'eta',\n",
    "                                                                      'max_depth', \n",
    "                                                                      'num_round']"
   ]
  },
  {
   "cell_type": "code",
   "execution_count": 28,
   "metadata": {},
   "outputs": [],
   "source": [
    "#Saving into the Experiment log file models hyperparameters used\n",
    "#eu.SaveToExperimentLog(Experiments_file, '%s ModelParams'%Experiment_name, ModelsParams)"
   ]
  },
  {
   "cell_type": "code",
   "execution_count": 42,
   "metadata": {},
   "outputs": [
    {
     "data": {
      "text/html": [
       "<div>\n",
       "<style scoped>\n",
       "    .dataframe tbody tr th:only-of-type {\n",
       "        vertical-align: middle;\n",
       "    }\n",
       "\n",
       "    .dataframe tbody tr th {\n",
       "        vertical-align: top;\n",
       "    }\n",
       "\n",
       "    .dataframe thead th {\n",
       "        text-align: right;\n",
       "    }\n",
       "</style>\n",
       "<table border=\"1\" class=\"dataframe\">\n",
       "  <thead>\n",
       "    <tr style=\"text-align: right;\">\n",
       "      <th></th>\n",
       "      <th>Trial Component</th>\n",
       "      <th>train:gini</th>\n",
       "      <th>validation:gini</th>\n",
       "    </tr>\n",
       "  </thead>\n",
       "  <tbody>\n",
       "    <tr>\n",
       "      <th>18</th>\n",
       "      <td>HyperParams-210531-1515-020-32d99deb-aws-train...</td>\n",
       "      <td>0.36596</td>\n",
       "      <td>0.35036</td>\n",
       "    </tr>\n",
       "    <tr>\n",
       "      <th>12</th>\n",
       "      <td>HyperParams-210531-1515-025-8d702d8a-aws-train...</td>\n",
       "      <td>0.36610</td>\n",
       "      <td>0.35028</td>\n",
       "    </tr>\n",
       "    <tr>\n",
       "      <th>6</th>\n",
       "      <td>HyperParams-210531-1515-031-c7f7df18-aws-train...</td>\n",
       "      <td>0.36618</td>\n",
       "      <td>0.35027</td>\n",
       "    </tr>\n",
       "    <tr>\n",
       "      <th>17</th>\n",
       "      <td>HyperParams-210531-1515-021-56f9b2dc-aws-train...</td>\n",
       "      <td>0.36584</td>\n",
       "      <td>0.35025</td>\n",
       "    </tr>\n",
       "    <tr>\n",
       "      <th>23</th>\n",
       "      <td>HyperParams-210531-1515-015-7ad6fc34-aws-train...</td>\n",
       "      <td>0.36674</td>\n",
       "      <td>0.35019</td>\n",
       "    </tr>\n",
       "    <tr>\n",
       "      <th>14</th>\n",
       "      <td>HyperParams-210531-1515-023-833cdc85-aws-train...</td>\n",
       "      <td>0.36597</td>\n",
       "      <td>0.35014</td>\n",
       "    </tr>\n",
       "    <tr>\n",
       "      <th>3</th>\n",
       "      <td>HyperParams-210531-1515-036-383cbac4-aws-train...</td>\n",
       "      <td>0.36533</td>\n",
       "      <td>0.34996</td>\n",
       "    </tr>\n",
       "    <tr>\n",
       "      <th>7</th>\n",
       "      <td>HyperParams-210531-1515-032-2103ff66-aws-train...</td>\n",
       "      <td>0.36669</td>\n",
       "      <td>0.34986</td>\n",
       "    </tr>\n",
       "    <tr>\n",
       "      <th>2</th>\n",
       "      <td>HyperParams-210531-1515-035-6ae440dd-aws-train...</td>\n",
       "      <td>0.36530</td>\n",
       "      <td>0.34985</td>\n",
       "    </tr>\n",
       "    <tr>\n",
       "      <th>19</th>\n",
       "      <td>HyperParams-210531-1515-019-d9032ab8-aws-train...</td>\n",
       "      <td>0.36721</td>\n",
       "      <td>0.34980</td>\n",
       "    </tr>\n",
       "    <tr>\n",
       "      <th>5</th>\n",
       "      <td>HyperParams-210531-1515-034-5a42436d-aws-train...</td>\n",
       "      <td>0.36605</td>\n",
       "      <td>0.34980</td>\n",
       "    </tr>\n",
       "    <tr>\n",
       "      <th>25</th>\n",
       "      <td>HyperParams-210531-1515-013-d9dcd01f-aws-train...</td>\n",
       "      <td>0.36662</td>\n",
       "      <td>0.34969</td>\n",
       "    </tr>\n",
       "    <tr>\n",
       "      <th>8</th>\n",
       "      <td>HyperParams-210531-1515-029-d3ece994-aws-train...</td>\n",
       "      <td>0.36707</td>\n",
       "      <td>0.34967</td>\n",
       "    </tr>\n",
       "    <tr>\n",
       "      <th>24</th>\n",
       "      <td>HyperParams-210531-1515-014-ad5f9856-aws-train...</td>\n",
       "      <td>0.36779</td>\n",
       "      <td>0.34965</td>\n",
       "    </tr>\n",
       "    <tr>\n",
       "      <th>13</th>\n",
       "      <td>HyperParams-210531-1515-026-152d5fa6-aws-train...</td>\n",
       "      <td>0.36618</td>\n",
       "      <td>0.34960</td>\n",
       "    </tr>\n",
       "    <tr>\n",
       "      <th>20</th>\n",
       "      <td>HyperParams-210531-1515-018-aed17b51-aws-train...</td>\n",
       "      <td>0.36590</td>\n",
       "      <td>0.34953</td>\n",
       "    </tr>\n",
       "    <tr>\n",
       "      <th>21</th>\n",
       "      <td>HyperParams-210531-1515-017-19559319-aws-train...</td>\n",
       "      <td>0.36610</td>\n",
       "      <td>0.34945</td>\n",
       "    </tr>\n",
       "    <tr>\n",
       "      <th>22</th>\n",
       "      <td>HyperParams-210531-1515-016-dcab3fb1-aws-train...</td>\n",
       "      <td>0.36860</td>\n",
       "      <td>0.34944</td>\n",
       "    </tr>\n",
       "    <tr>\n",
       "      <th>27</th>\n",
       "      <td>HyperParams-210531-1515-011-feb37208-aws-train...</td>\n",
       "      <td>0.36338</td>\n",
       "      <td>0.34943</td>\n",
       "    </tr>\n",
       "    <tr>\n",
       "      <th>15</th>\n",
       "      <td>HyperParams-210531-1515-024-cff29d7e-aws-train...</td>\n",
       "      <td>0.36573</td>\n",
       "      <td>0.34937</td>\n",
       "    </tr>\n",
       "    <tr>\n",
       "      <th>16</th>\n",
       "      <td>HyperParams-210531-1515-022-13b20da2-aws-train...</td>\n",
       "      <td>0.36575</td>\n",
       "      <td>0.34927</td>\n",
       "    </tr>\n",
       "    <tr>\n",
       "      <th>28</th>\n",
       "      <td>HyperParams-210531-1515-010-a298ba0e-aws-train...</td>\n",
       "      <td>0.36851</td>\n",
       "      <td>0.34923</td>\n",
       "    </tr>\n",
       "    <tr>\n",
       "      <th>9</th>\n",
       "      <td>HyperParams-210531-1515-030-02821004-aws-train...</td>\n",
       "      <td>0.36681</td>\n",
       "      <td>0.34922</td>\n",
       "    </tr>\n",
       "    <tr>\n",
       "      <th>4</th>\n",
       "      <td>HyperParams-210531-1515-033-ef19aa9d-aws-train...</td>\n",
       "      <td>0.36681</td>\n",
       "      <td>0.34922</td>\n",
       "    </tr>\n",
       "    <tr>\n",
       "      <th>11</th>\n",
       "      <td>HyperParams-210531-1515-027-68cbb6a7-aws-train...</td>\n",
       "      <td>0.36414</td>\n",
       "      <td>0.34884</td>\n",
       "    </tr>\n",
       "    <tr>\n",
       "      <th>29</th>\n",
       "      <td>HyperParams-210531-1515-009-caa6ae27-aws-train...</td>\n",
       "      <td>0.36753</td>\n",
       "      <td>0.34834</td>\n",
       "    </tr>\n",
       "    <tr>\n",
       "      <th>30</th>\n",
       "      <td>HyperParams-210531-1515-008-3686c7f8-aws-train...</td>\n",
       "      <td>0.36744</td>\n",
       "      <td>0.34831</td>\n",
       "    </tr>\n",
       "    <tr>\n",
       "      <th>26</th>\n",
       "      <td>HyperParams-210531-1515-012-2b5c8215-aws-train...</td>\n",
       "      <td>0.36212</td>\n",
       "      <td>0.34738</td>\n",
       "    </tr>\n",
       "    <tr>\n",
       "      <th>31</th>\n",
       "      <td>HyperParams-210531-1515-007-ca88c970-aws-train...</td>\n",
       "      <td>0.36501</td>\n",
       "      <td>0.34712</td>\n",
       "    </tr>\n",
       "    <tr>\n",
       "      <th>10</th>\n",
       "      <td>HyperParams-210531-1515-028-d00e2f6a-aws-train...</td>\n",
       "      <td>0.35849</td>\n",
       "      <td>0.34699</td>\n",
       "    </tr>\n",
       "    <tr>\n",
       "      <th>33</th>\n",
       "      <td>HyperParams-210531-1515-006-29a81e58-aws-train...</td>\n",
       "      <td>0.34946</td>\n",
       "      <td>0.33811</td>\n",
       "    </tr>\n",
       "    <tr>\n",
       "      <th>32</th>\n",
       "      <td>HyperParams-210531-1515-005-f4a8b613-aws-train...</td>\n",
       "      <td>0.34924</td>\n",
       "      <td>0.33752</td>\n",
       "    </tr>\n",
       "    <tr>\n",
       "      <th>36</th>\n",
       "      <td>HyperParams-210531-1515-001-1d9bc1f5-aws-train...</td>\n",
       "      <td>0.33468</td>\n",
       "      <td>0.32725</td>\n",
       "    </tr>\n",
       "    <tr>\n",
       "      <th>37</th>\n",
       "      <td>HyperParams-210531-1515-002-1126ab21-aws-train...</td>\n",
       "      <td>0.33022</td>\n",
       "      <td>0.32357</td>\n",
       "    </tr>\n",
       "    <tr>\n",
       "      <th>34</th>\n",
       "      <td>HyperParams-210531-1515-004-e8df8e24-aws-train...</td>\n",
       "      <td>0.31004</td>\n",
       "      <td>0.30529</td>\n",
       "    </tr>\n",
       "    <tr>\n",
       "      <th>1</th>\n",
       "      <td>HyperParams-210531-1515-037-8e8b9396-aws-train...</td>\n",
       "      <td>0.31222</td>\n",
       "      <td>0.30475</td>\n",
       "    </tr>\n",
       "    <tr>\n",
       "      <th>0</th>\n",
       "      <td>HyperParams-210531-1515-038-f4b91602-aws-train...</td>\n",
       "      <td>0.30779</td>\n",
       "      <td>0.30199</td>\n",
       "    </tr>\n",
       "    <tr>\n",
       "      <th>35</th>\n",
       "      <td>HyperParams-210531-1515-003-3ee39666-aws-train...</td>\n",
       "      <td>0.30620</td>\n",
       "      <td>0.29972</td>\n",
       "    </tr>\n",
       "  </tbody>\n",
       "</table>\n",
       "</div>"
      ],
      "text/plain": [
       "                                      Trial Component  train:gini  \\\n",
       "18  HyperParams-210531-1515-020-32d99deb-aws-train...     0.36596   \n",
       "12  HyperParams-210531-1515-025-8d702d8a-aws-train...     0.36610   \n",
       "6   HyperParams-210531-1515-031-c7f7df18-aws-train...     0.36618   \n",
       "17  HyperParams-210531-1515-021-56f9b2dc-aws-train...     0.36584   \n",
       "23  HyperParams-210531-1515-015-7ad6fc34-aws-train...     0.36674   \n",
       "14  HyperParams-210531-1515-023-833cdc85-aws-train...     0.36597   \n",
       "3   HyperParams-210531-1515-036-383cbac4-aws-train...     0.36533   \n",
       "7   HyperParams-210531-1515-032-2103ff66-aws-train...     0.36669   \n",
       "2   HyperParams-210531-1515-035-6ae440dd-aws-train...     0.36530   \n",
       "19  HyperParams-210531-1515-019-d9032ab8-aws-train...     0.36721   \n",
       "5   HyperParams-210531-1515-034-5a42436d-aws-train...     0.36605   \n",
       "25  HyperParams-210531-1515-013-d9dcd01f-aws-train...     0.36662   \n",
       "8   HyperParams-210531-1515-029-d3ece994-aws-train...     0.36707   \n",
       "24  HyperParams-210531-1515-014-ad5f9856-aws-train...     0.36779   \n",
       "13  HyperParams-210531-1515-026-152d5fa6-aws-train...     0.36618   \n",
       "20  HyperParams-210531-1515-018-aed17b51-aws-train...     0.36590   \n",
       "21  HyperParams-210531-1515-017-19559319-aws-train...     0.36610   \n",
       "22  HyperParams-210531-1515-016-dcab3fb1-aws-train...     0.36860   \n",
       "27  HyperParams-210531-1515-011-feb37208-aws-train...     0.36338   \n",
       "15  HyperParams-210531-1515-024-cff29d7e-aws-train...     0.36573   \n",
       "16  HyperParams-210531-1515-022-13b20da2-aws-train...     0.36575   \n",
       "28  HyperParams-210531-1515-010-a298ba0e-aws-train...     0.36851   \n",
       "9   HyperParams-210531-1515-030-02821004-aws-train...     0.36681   \n",
       "4   HyperParams-210531-1515-033-ef19aa9d-aws-train...     0.36681   \n",
       "11  HyperParams-210531-1515-027-68cbb6a7-aws-train...     0.36414   \n",
       "29  HyperParams-210531-1515-009-caa6ae27-aws-train...     0.36753   \n",
       "30  HyperParams-210531-1515-008-3686c7f8-aws-train...     0.36744   \n",
       "26  HyperParams-210531-1515-012-2b5c8215-aws-train...     0.36212   \n",
       "31  HyperParams-210531-1515-007-ca88c970-aws-train...     0.36501   \n",
       "10  HyperParams-210531-1515-028-d00e2f6a-aws-train...     0.35849   \n",
       "33  HyperParams-210531-1515-006-29a81e58-aws-train...     0.34946   \n",
       "32  HyperParams-210531-1515-005-f4a8b613-aws-train...     0.34924   \n",
       "36  HyperParams-210531-1515-001-1d9bc1f5-aws-train...     0.33468   \n",
       "37  HyperParams-210531-1515-002-1126ab21-aws-train...     0.33022   \n",
       "34  HyperParams-210531-1515-004-e8df8e24-aws-train...     0.31004   \n",
       "1   HyperParams-210531-1515-037-8e8b9396-aws-train...     0.31222   \n",
       "0   HyperParams-210531-1515-038-f4b91602-aws-train...     0.30779   \n",
       "35  HyperParams-210531-1515-003-3ee39666-aws-train...     0.30620   \n",
       "\n",
       "    validation:gini  \n",
       "18          0.35036  \n",
       "12          0.35028  \n",
       "6           0.35027  \n",
       "17          0.35025  \n",
       "23          0.35019  \n",
       "14          0.35014  \n",
       "3           0.34996  \n",
       "7           0.34986  \n",
       "2           0.34985  \n",
       "19          0.34980  \n",
       "5           0.34980  \n",
       "25          0.34969  \n",
       "8           0.34967  \n",
       "24          0.34965  \n",
       "13          0.34960  \n",
       "20          0.34953  \n",
       "21          0.34945  \n",
       "22          0.34944  \n",
       "27          0.34943  \n",
       "15          0.34937  \n",
       "16          0.34927  \n",
       "28          0.34923  \n",
       "9           0.34922  \n",
       "4           0.34922  \n",
       "11          0.34884  \n",
       "29          0.34834  \n",
       "30          0.34831  \n",
       "26          0.34738  \n",
       "31          0.34712  \n",
       "10          0.34699  \n",
       "33          0.33811  \n",
       "32          0.33752  \n",
       "36          0.32725  \n",
       "37          0.32357  \n",
       "34          0.30529  \n",
       "1           0.30475  \n",
       "0           0.30199  \n",
       "35          0.29972  "
      ]
     },
     "execution_count": 42,
     "metadata": {},
     "output_type": "execute_result"
    }
   ],
   "source": [
    "ModelsResults = trial_ds[['DisplayName','train-gini - Last','test-gini - Last']].sort_values('test-gini - Last', ascending=False)\n",
    "ModelsResults.columns=['Trial Component','train:gini','validation:gini']\n",
    "#ModelsResults.dropna(inplace=True)\n",
    "ModelsResults"
   ]
  },
  {
   "cell_type": "code",
   "execution_count": 43,
   "metadata": {},
   "outputs": [],
   "source": [
    "#Saving into the Experiment log file models results\n",
    "eu.SaveToExperimentLog(Experiments_file, '%s ModelResults'%Experiment_name, ModelsResults)"
   ]
  },
  {
   "cell_type": "code",
   "execution_count": 45,
   "metadata": {},
   "outputs": [
    {
     "data": {
      "text/html": [
       "<div>\n",
       "<style scoped>\n",
       "    .dataframe tbody tr th:only-of-type {\n",
       "        vertical-align: middle;\n",
       "    }\n",
       "\n",
       "    .dataframe tbody tr th {\n",
       "        vertical-align: top;\n",
       "    }\n",
       "\n",
       "    .dataframe thead th {\n",
       "        text-align: right;\n",
       "    }\n",
       "</style>\n",
       "<table border=\"1\" class=\"dataframe\">\n",
       "  <thead>\n",
       "    <tr style=\"text-align: right;\">\n",
       "      <th></th>\n",
       "      <th>DisplayName</th>\n",
       "      <th>ObjectiveMetric - Min</th>\n",
       "      <th>ObjectiveMetric - Max</th>\n",
       "      <th>ObjectiveMetric - Avg</th>\n",
       "      <th>ObjectiveMetric - StdDev</th>\n",
       "      <th>ObjectiveMetric - Last</th>\n",
       "      <th>ObjectiveMetric - Count</th>\n",
       "    </tr>\n",
       "  </thead>\n",
       "  <tbody>\n",
       "    <tr>\n",
       "      <th>38</th>\n",
       "      <td>HyperParams-210326-0903-005-483f1d06-aws-train...</td>\n",
       "      <td>0.50000</td>\n",
       "      <td>0.70055</td>\n",
       "      <td>0.660700</td>\n",
       "      <td>0.071821</td>\n",
       "      <td>0.70055</td>\n",
       "      <td>9.0</td>\n",
       "    </tr>\n",
       "    <tr>\n",
       "      <th>48</th>\n",
       "      <td>PropertyHyperParams-201230-1714-008-c7e1c337-a...</td>\n",
       "      <td>0.50000</td>\n",
       "      <td>0.64802</td>\n",
       "      <td>0.619683</td>\n",
       "      <td>0.058945</td>\n",
       "      <td>0.64802</td>\n",
       "      <td>6.0</td>\n",
       "    </tr>\n",
       "    <tr>\n",
       "      <th>53</th>\n",
       "      <td>PropertyHyperParams-201230-1714-005-40b4e148-a...</td>\n",
       "      <td>0.50000</td>\n",
       "      <td>0.64735</td>\n",
       "      <td>0.616182</td>\n",
       "      <td>0.064998</td>\n",
       "      <td>0.64735</td>\n",
       "      <td>5.0</td>\n",
       "    </tr>\n",
       "    <tr>\n",
       "      <th>51</th>\n",
       "      <td>PropertyHyperParams-201230-1714-006-ae1d7b45-a...</td>\n",
       "      <td>0.50000</td>\n",
       "      <td>0.64701</td>\n",
       "      <td>0.607800</td>\n",
       "      <td>0.071997</td>\n",
       "      <td>0.64701</td>\n",
       "      <td>4.0</td>\n",
       "    </tr>\n",
       "    <tr>\n",
       "      <th>49</th>\n",
       "      <td>PropertyHyperParams-201230-1714-001-1f2d8b9b-a...</td>\n",
       "      <td>0.50000</td>\n",
       "      <td>0.64626</td>\n",
       "      <td>0.615920</td>\n",
       "      <td>0.064828</td>\n",
       "      <td>0.64626</td>\n",
       "      <td>5.0</td>\n",
       "    </tr>\n",
       "    <tr>\n",
       "      <th>...</th>\n",
       "      <td>...</td>\n",
       "      <td>...</td>\n",
       "      <td>...</td>\n",
       "      <td>...</td>\n",
       "      <td>...</td>\n",
       "      <td>...</td>\n",
       "      <td>...</td>\n",
       "    </tr>\n",
       "    <tr>\n",
       "      <th>37</th>\n",
       "      <td>HyperParams-210531-1515-002-1126ab21-aws-train...</td>\n",
       "      <td>0.03488</td>\n",
       "      <td>0.32357</td>\n",
       "      <td>0.213856</td>\n",
       "      <td>0.115004</td>\n",
       "      <td>0.32357</td>\n",
       "      <td>101.0</td>\n",
       "    </tr>\n",
       "    <tr>\n",
       "      <th>34</th>\n",
       "      <td>HyperParams-210531-1515-004-e8df8e24-aws-train...</td>\n",
       "      <td>0.03488</td>\n",
       "      <td>0.30529</td>\n",
       "      <td>0.185481</td>\n",
       "      <td>0.110399</td>\n",
       "      <td>0.30529</td>\n",
       "      <td>101.0</td>\n",
       "    </tr>\n",
       "    <tr>\n",
       "      <th>1</th>\n",
       "      <td>HyperParams-210531-1515-037-8e8b9396-aws-train...</td>\n",
       "      <td>0.03488</td>\n",
       "      <td>0.30475</td>\n",
       "      <td>0.185826</td>\n",
       "      <td>0.109317</td>\n",
       "      <td>0.30475</td>\n",
       "      <td>45.0</td>\n",
       "    </tr>\n",
       "    <tr>\n",
       "      <th>0</th>\n",
       "      <td>HyperParams-210531-1515-038-f4b91602-aws-train...</td>\n",
       "      <td>0.03488</td>\n",
       "      <td>0.30199</td>\n",
       "      <td>0.169258</td>\n",
       "      <td>0.110274</td>\n",
       "      <td>0.30199</td>\n",
       "      <td>44.0</td>\n",
       "    </tr>\n",
       "    <tr>\n",
       "      <th>35</th>\n",
       "      <td>HyperParams-210531-1515-003-3ee39666-aws-train...</td>\n",
       "      <td>0.03488</td>\n",
       "      <td>0.29972</td>\n",
       "      <td>0.132296</td>\n",
       "      <td>0.106353</td>\n",
       "      <td>0.29972</td>\n",
       "      <td>101.0</td>\n",
       "    </tr>\n",
       "  </tbody>\n",
       "</table>\n",
       "<p>69 rows × 7 columns</p>\n",
       "</div>"
      ],
      "text/plain": [
       "                                          DisplayName  ObjectiveMetric - Min  \\\n",
       "38  HyperParams-210326-0903-005-483f1d06-aws-train...                0.50000   \n",
       "48  PropertyHyperParams-201230-1714-008-c7e1c337-a...                0.50000   \n",
       "53  PropertyHyperParams-201230-1714-005-40b4e148-a...                0.50000   \n",
       "51  PropertyHyperParams-201230-1714-006-ae1d7b45-a...                0.50000   \n",
       "49  PropertyHyperParams-201230-1714-001-1f2d8b9b-a...                0.50000   \n",
       "..                                                ...                    ...   \n",
       "37  HyperParams-210531-1515-002-1126ab21-aws-train...                0.03488   \n",
       "34  HyperParams-210531-1515-004-e8df8e24-aws-train...                0.03488   \n",
       "1   HyperParams-210531-1515-037-8e8b9396-aws-train...                0.03488   \n",
       "0   HyperParams-210531-1515-038-f4b91602-aws-train...                0.03488   \n",
       "35  HyperParams-210531-1515-003-3ee39666-aws-train...                0.03488   \n",
       "\n",
       "    ObjectiveMetric - Max  ObjectiveMetric - Avg  ObjectiveMetric - StdDev  \\\n",
       "38                0.70055               0.660700                  0.071821   \n",
       "48                0.64802               0.619683                  0.058945   \n",
       "53                0.64735               0.616182                  0.064998   \n",
       "51                0.64701               0.607800                  0.071997   \n",
       "49                0.64626               0.615920                  0.064828   \n",
       "..                    ...                    ...                       ...   \n",
       "37                0.32357               0.213856                  0.115004   \n",
       "34                0.30529               0.185481                  0.110399   \n",
       "1                 0.30475               0.185826                  0.109317   \n",
       "0                 0.30199               0.169258                  0.110274   \n",
       "35                0.29972               0.132296                  0.106353   \n",
       "\n",
       "    ObjectiveMetric - Last  ObjectiveMetric - Count  \n",
       "38                 0.70055                      9.0  \n",
       "48                 0.64802                      6.0  \n",
       "53                 0.64735                      5.0  \n",
       "51                 0.64701                      4.0  \n",
       "49                 0.64626                      5.0  \n",
       "..                     ...                      ...  \n",
       "37                 0.32357                    101.0  \n",
       "34                 0.30529                    101.0  \n",
       "1                  0.30475                     45.0  \n",
       "0                  0.30199                     44.0  \n",
       "35                 0.29972                    101.0  \n",
       "\n",
       "[69 rows x 7 columns]"
      ]
     },
     "execution_count": 45,
     "metadata": {},
     "output_type": "execute_result"
    }
   ],
   "source": [
    "ModelsResults = trial_ds[['DisplayName','ObjectiveMetric - Min', 'ObjectiveMetric - Max',\n",
    "       'ObjectiveMetric - Avg', 'ObjectiveMetric - StdDev',\n",
    "       'ObjectiveMetric - Last', 'ObjectiveMetric - Count']].sort_values('ObjectiveMetric - Last', ascending=False)\n",
    "ModelsResults.dropna(inplace=True)\n",
    "ModelsResults"
   ]
  },
  {
   "cell_type": "code",
   "execution_count": null,
   "metadata": {},
   "outputs": [],
   "source": [
    "#Saving into the Experiment log file models results\n",
    "eu.SaveToExperimentLog(Experiments_file, '%s ObjectiveMetric'%Experiment_name, ModelsResults)"
   ]
  },
  {
   "cell_type": "markdown",
   "metadata": {},
   "source": [
    "### Results in Hyperparameter Tuning Job"
   ]
  },
  {
   "cell_type": "code",
   "execution_count": 30,
   "metadata": {},
   "outputs": [
    {
     "name": "stderr",
     "output_type": "stream",
     "text": [
      "INFO:botocore.credentials:Found credentials in shared credentials file: ~/.aws/credentials\n"
     ]
    },
    {
     "data": {
      "text/html": [
       "<div>\n",
       "<style scoped>\n",
       "    .dataframe tbody tr th:only-of-type {\n",
       "        vertical-align: middle;\n",
       "    }\n",
       "\n",
       "    .dataframe tbody tr th {\n",
       "        vertical-align: top;\n",
       "    }\n",
       "\n",
       "    .dataframe thead th {\n",
       "        text-align: right;\n",
       "    }\n",
       "</style>\n",
       "<table border=\"1\" class=\"dataframe\">\n",
       "  <thead>\n",
       "    <tr style=\"text-align: right;\">\n",
       "      <th></th>\n",
       "      <th>eta</th>\n",
       "      <th>max_depth</th>\n",
       "      <th>subsample</th>\n",
       "      <th>TrainingJobName</th>\n",
       "      <th>TrainingJobStatus</th>\n",
       "      <th>FinalObjectiveValue</th>\n",
       "      <th>TrainingStartTime</th>\n",
       "      <th>TrainingEndTime</th>\n",
       "      <th>TrainingElapsedTimeSeconds</th>\n",
       "    </tr>\n",
       "  </thead>\n",
       "  <tbody>\n",
       "    <tr>\n",
       "      <th>18</th>\n",
       "      <td>0.050000</td>\n",
       "      <td>6.0</td>\n",
       "      <td>0.590108</td>\n",
       "      <td>HyperParams-210531-1515-020-32d99deb</td>\n",
       "      <td>Completed</td>\n",
       "      <td>0.35036</td>\n",
       "      <td>2021-05-31 18:29:39-07:00</td>\n",
       "      <td>2021-05-31 18:48:09-07:00</td>\n",
       "      <td>1110.0</td>\n",
       "    </tr>\n",
       "    <tr>\n",
       "      <th>13</th>\n",
       "      <td>0.050000</td>\n",
       "      <td>6.0</td>\n",
       "      <td>0.598760</td>\n",
       "      <td>HyperParams-210531-1515-025-8d702d8a</td>\n",
       "      <td>Completed</td>\n",
       "      <td>0.35028</td>\n",
       "      <td>2021-05-31 19:32:12-07:00</td>\n",
       "      <td>2021-05-31 19:50:30-07:00</td>\n",
       "      <td>1098.0</td>\n",
       "    </tr>\n",
       "    <tr>\n",
       "      <th>7</th>\n",
       "      <td>0.050000</td>\n",
       "      <td>6.0</td>\n",
       "      <td>0.634720</td>\n",
       "      <td>HyperParams-210531-1515-031-c7f7df18</td>\n",
       "      <td>Completed</td>\n",
       "      <td>0.35027</td>\n",
       "      <td>2021-05-31 20:39:16-07:00</td>\n",
       "      <td>2021-05-31 20:57:43-07:00</td>\n",
       "      <td>1107.0</td>\n",
       "    </tr>\n",
       "    <tr>\n",
       "      <th>17</th>\n",
       "      <td>0.049905</td>\n",
       "      <td>6.0</td>\n",
       "      <td>0.590108</td>\n",
       "      <td>HyperParams-210531-1515-021-56f9b2dc</td>\n",
       "      <td>Completed</td>\n",
       "      <td>0.35025</td>\n",
       "      <td>2021-05-31 18:50:41-07:00</td>\n",
       "      <td>2021-05-31 19:07:32-07:00</td>\n",
       "      <td>1011.0</td>\n",
       "    </tr>\n",
       "    <tr>\n",
       "      <th>23</th>\n",
       "      <td>0.049990</td>\n",
       "      <td>6.0</td>\n",
       "      <td>0.666792</td>\n",
       "      <td>HyperParams-210531-1515-015-7ad6fc34</td>\n",
       "      <td>Completed</td>\n",
       "      <td>0.35019</td>\n",
       "      <td>2021-05-31 17:46:42-07:00</td>\n",
       "      <td>2021-05-31 18:03:32-07:00</td>\n",
       "      <td>1010.0</td>\n",
       "    </tr>\n",
       "    <tr>\n",
       "      <th>15</th>\n",
       "      <td>0.049973</td>\n",
       "      <td>6.0</td>\n",
       "      <td>0.597108</td>\n",
       "      <td>HyperParams-210531-1515-023-833cdc85</td>\n",
       "      <td>Completed</td>\n",
       "      <td>0.35014</td>\n",
       "      <td>2021-05-31 19:11:30-07:00</td>\n",
       "      <td>2021-05-31 19:30:08-07:00</td>\n",
       "      <td>1118.0</td>\n",
       "    </tr>\n",
       "    <tr>\n",
       "      <th>2</th>\n",
       "      <td>0.050000</td>\n",
       "      <td>6.0</td>\n",
       "      <td>0.552788</td>\n",
       "      <td>HyperParams-210531-1515-036-383cbac4</td>\n",
       "      <td>Completed</td>\n",
       "      <td>0.34996</td>\n",
       "      <td>2021-05-31 21:21:29-07:00</td>\n",
       "      <td>2021-05-31 21:39:32-07:00</td>\n",
       "      <td>1083.0</td>\n",
       "    </tr>\n",
       "    <tr>\n",
       "      <th>6</th>\n",
       "      <td>0.050000</td>\n",
       "      <td>6.0</td>\n",
       "      <td>0.672503</td>\n",
       "      <td>HyperParams-210531-1515-032-2103ff66</td>\n",
       "      <td>Completed</td>\n",
       "      <td>0.34986</td>\n",
       "      <td>2021-05-31 20:38:54-07:00</td>\n",
       "      <td>2021-05-31 20:56:53-07:00</td>\n",
       "      <td>1079.0</td>\n",
       "    </tr>\n",
       "    <tr>\n",
       "      <th>3</th>\n",
       "      <td>0.050000</td>\n",
       "      <td>6.0</td>\n",
       "      <td>0.546124</td>\n",
       "      <td>HyperParams-210531-1515-035-6ae440dd</td>\n",
       "      <td>Completed</td>\n",
       "      <td>0.34985</td>\n",
       "      <td>2021-05-31 21:21:04-07:00</td>\n",
       "      <td>2021-05-31 21:40:32-07:00</td>\n",
       "      <td>1168.0</td>\n",
       "    </tr>\n",
       "    <tr>\n",
       "      <th>19</th>\n",
       "      <td>0.050000</td>\n",
       "      <td>6.0</td>\n",
       "      <td>0.739161</td>\n",
       "      <td>HyperParams-210531-1515-019-d9032ab8</td>\n",
       "      <td>Completed</td>\n",
       "      <td>0.34980</td>\n",
       "      <td>2021-05-31 18:29:15-07:00</td>\n",
       "      <td>2021-05-31 18:47:45-07:00</td>\n",
       "      <td>1110.0</td>\n",
       "    </tr>\n",
       "    <tr>\n",
       "      <th>4</th>\n",
       "      <td>0.050000</td>\n",
       "      <td>6.0</td>\n",
       "      <td>0.620720</td>\n",
       "      <td>HyperParams-210531-1515-034-5a42436d</td>\n",
       "      <td>Completed</td>\n",
       "      <td>0.34980</td>\n",
       "      <td>2021-05-31 20:59:50-07:00</td>\n",
       "      <td>2021-05-31 21:18:04-07:00</td>\n",
       "      <td>1094.0</td>\n",
       "    </tr>\n",
       "    <tr>\n",
       "      <th>25</th>\n",
       "      <td>0.050000</td>\n",
       "      <td>6.0</td>\n",
       "      <td>0.673792</td>\n",
       "      <td>HyperParams-210531-1515-013-d9dcd01f</td>\n",
       "      <td>Completed</td>\n",
       "      <td>0.34969</td>\n",
       "      <td>2021-05-31 17:21:35-07:00</td>\n",
       "      <td>2021-05-31 17:40:33-07:00</td>\n",
       "      <td>1138.0</td>\n",
       "    </tr>\n",
       "    <tr>\n",
       "      <th>9</th>\n",
       "      <td>0.050000</td>\n",
       "      <td>6.0</td>\n",
       "      <td>0.731275</td>\n",
       "      <td>HyperParams-210531-1515-029-d3ece994</td>\n",
       "      <td>Completed</td>\n",
       "      <td>0.34967</td>\n",
       "      <td>2021-05-31 20:13:55-07:00</td>\n",
       "      <td>2021-05-31 20:34:02-07:00</td>\n",
       "      <td>1207.0</td>\n",
       "    </tr>\n",
       "    <tr>\n",
       "      <th>24</th>\n",
       "      <td>0.050000</td>\n",
       "      <td>6.0</td>\n",
       "      <td>0.775405</td>\n",
       "      <td>HyperParams-210531-1515-014-ad5f9856</td>\n",
       "      <td>Completed</td>\n",
       "      <td>0.34965</td>\n",
       "      <td>2021-05-31 17:21:33-07:00</td>\n",
       "      <td>2021-05-31 17:40:43-07:00</td>\n",
       "      <td>1150.0</td>\n",
       "    </tr>\n",
       "    <tr>\n",
       "      <th>12</th>\n",
       "      <td>0.049972</td>\n",
       "      <td>6.0</td>\n",
       "      <td>0.605760</td>\n",
       "      <td>HyperParams-210531-1515-026-152d5fa6</td>\n",
       "      <td>Completed</td>\n",
       "      <td>0.34960</td>\n",
       "      <td>2021-05-31 19:32:16-07:00</td>\n",
       "      <td>2021-05-31 19:49:53-07:00</td>\n",
       "      <td>1057.0</td>\n",
       "    </tr>\n",
       "    <tr>\n",
       "      <th>20</th>\n",
       "      <td>0.050000</td>\n",
       "      <td>6.0</td>\n",
       "      <td>0.612240</td>\n",
       "      <td>HyperParams-210531-1515-018-aed17b51</td>\n",
       "      <td>Completed</td>\n",
       "      <td>0.34953</td>\n",
       "      <td>2021-05-31 18:08:10-07:00</td>\n",
       "      <td>2021-05-31 18:27:25-07:00</td>\n",
       "      <td>1155.0</td>\n",
       "    </tr>\n",
       "    <tr>\n",
       "      <th>21</th>\n",
       "      <td>0.050000</td>\n",
       "      <td>6.0</td>\n",
       "      <td>0.604108</td>\n",
       "      <td>HyperParams-210531-1515-017-19559319</td>\n",
       "      <td>Completed</td>\n",
       "      <td>0.34945</td>\n",
       "      <td>2021-05-31 18:07:07-07:00</td>\n",
       "      <td>2021-05-31 18:25:35-07:00</td>\n",
       "      <td>1108.0</td>\n",
       "    </tr>\n",
       "    <tr>\n",
       "      <th>22</th>\n",
       "      <td>0.050000</td>\n",
       "      <td>6.0</td>\n",
       "      <td>0.922770</td>\n",
       "      <td>HyperParams-210531-1515-016-dcab3fb1</td>\n",
       "      <td>Completed</td>\n",
       "      <td>0.34944</td>\n",
       "      <td>2021-05-31 17:46:24-07:00</td>\n",
       "      <td>2021-05-31 18:06:01-07:00</td>\n",
       "      <td>1177.0</td>\n",
       "    </tr>\n",
       "    <tr>\n",
       "      <th>27</th>\n",
       "      <td>0.050000</td>\n",
       "      <td>6.0</td>\n",
       "      <td>0.442580</td>\n",
       "      <td>HyperParams-210531-1515-011-feb37208</td>\n",
       "      <td>Completed</td>\n",
       "      <td>0.34943</td>\n",
       "      <td>2021-05-31 17:01:07-07:00</td>\n",
       "      <td>2021-05-31 17:18:44-07:00</td>\n",
       "      <td>1057.0</td>\n",
       "    </tr>\n",
       "    <tr>\n",
       "      <th>14</th>\n",
       "      <td>0.049940</td>\n",
       "      <td>6.0</td>\n",
       "      <td>0.619240</td>\n",
       "      <td>HyperParams-210531-1515-024-cff29d7e</td>\n",
       "      <td>Completed</td>\n",
       "      <td>0.34937</td>\n",
       "      <td>2021-05-31 19:11:15-07:00</td>\n",
       "      <td>2021-05-31 19:29:02-07:00</td>\n",
       "      <td>1067.0</td>\n",
       "    </tr>\n",
       "    <tr>\n",
       "      <th>16</th>\n",
       "      <td>0.049891</td>\n",
       "      <td>6.0</td>\n",
       "      <td>0.612240</td>\n",
       "      <td>HyperParams-210531-1515-022-13b20da2</td>\n",
       "      <td>Completed</td>\n",
       "      <td>0.34927</td>\n",
       "      <td>2021-05-31 18:50:43-07:00</td>\n",
       "      <td>2021-05-31 19:08:26-07:00</td>\n",
       "      <td>1063.0</td>\n",
       "    </tr>\n",
       "    <tr>\n",
       "      <th>28</th>\n",
       "      <td>0.049795</td>\n",
       "      <td>6.0</td>\n",
       "      <td>0.959107</td>\n",
       "      <td>HyperParams-210531-1515-010-a298ba0e</td>\n",
       "      <td>Completed</td>\n",
       "      <td>0.34923</td>\n",
       "      <td>2021-05-31 16:35:50-07:00</td>\n",
       "      <td>2021-05-31 16:54:49-07:00</td>\n",
       "      <td>1139.0</td>\n",
       "    </tr>\n",
       "    <tr>\n",
       "      <th>8</th>\n",
       "      <td>0.050000</td>\n",
       "      <td>6.0</td>\n",
       "      <td>0.705366</td>\n",
       "      <td>HyperParams-210531-1515-030-02821004</td>\n",
       "      <td>Completed</td>\n",
       "      <td>0.34922</td>\n",
       "      <td>2021-05-31 20:14:06-07:00</td>\n",
       "      <td>2021-05-31 20:33:53-07:00</td>\n",
       "      <td>1187.0</td>\n",
       "    </tr>\n",
       "    <tr>\n",
       "      <th>5</th>\n",
       "      <td>0.050000</td>\n",
       "      <td>6.0</td>\n",
       "      <td>0.705366</td>\n",
       "      <td>HyperParams-210531-1515-033-ef19aa9d</td>\n",
       "      <td>Completed</td>\n",
       "      <td>0.34922</td>\n",
       "      <td>2021-05-31 20:59:40-07:00</td>\n",
       "      <td>2021-05-31 21:19:02-07:00</td>\n",
       "      <td>1162.0</td>\n",
       "    </tr>\n",
       "    <tr>\n",
       "      <th>11</th>\n",
       "      <td>0.050000</td>\n",
       "      <td>6.0</td>\n",
       "      <td>0.471078</td>\n",
       "      <td>HyperParams-210531-1515-027-68cbb6a7</td>\n",
       "      <td>Completed</td>\n",
       "      <td>0.34884</td>\n",
       "      <td>2021-05-31 19:53:00-07:00</td>\n",
       "      <td>2021-05-31 20:10:36-07:00</td>\n",
       "      <td>1056.0</td>\n",
       "    </tr>\n",
       "    <tr>\n",
       "      <th>29</th>\n",
       "      <td>0.049244</td>\n",
       "      <td>6.0</td>\n",
       "      <td>0.974872</td>\n",
       "      <td>HyperParams-210531-1515-009-caa6ae27</td>\n",
       "      <td>Completed</td>\n",
       "      <td>0.34834</td>\n",
       "      <td>2021-05-31 16:35:54-07:00</td>\n",
       "      <td>2021-05-31 16:54:39-07:00</td>\n",
       "      <td>1125.0</td>\n",
       "    </tr>\n",
       "    <tr>\n",
       "      <th>30</th>\n",
       "      <td>0.049195</td>\n",
       "      <td>6.0</td>\n",
       "      <td>0.959107</td>\n",
       "      <td>HyperParams-210531-1515-008-3686c7f8</td>\n",
       "      <td>Completed</td>\n",
       "      <td>0.34831</td>\n",
       "      <td>2021-05-31 16:14:29-07:00</td>\n",
       "      <td>2021-05-31 16:33:50-07:00</td>\n",
       "      <td>1161.0</td>\n",
       "    </tr>\n",
       "    <tr>\n",
       "      <th>26</th>\n",
       "      <td>0.048653</td>\n",
       "      <td>6.0</td>\n",
       "      <td>0.490517</td>\n",
       "      <td>HyperParams-210531-1515-012-2b5c8215</td>\n",
       "      <td>Completed</td>\n",
       "      <td>0.34738</td>\n",
       "      <td>2021-05-31 17:00:39-07:00</td>\n",
       "      <td>2021-05-31 17:19:00-07:00</td>\n",
       "      <td>1101.0</td>\n",
       "    </tr>\n",
       "    <tr>\n",
       "      <th>31</th>\n",
       "      <td>0.047565</td>\n",
       "      <td>6.0</td>\n",
       "      <td>0.989933</td>\n",
       "      <td>HyperParams-210531-1515-007-ca88c970</td>\n",
       "      <td>Completed</td>\n",
       "      <td>0.34712</td>\n",
       "      <td>2021-05-31 16:14:38-07:00</td>\n",
       "      <td>2021-05-31 16:33:06-07:00</td>\n",
       "      <td>1108.0</td>\n",
       "    </tr>\n",
       "    <tr>\n",
       "      <th>10</th>\n",
       "      <td>0.050000</td>\n",
       "      <td>5.0</td>\n",
       "      <td>0.449659</td>\n",
       "      <td>HyperParams-210531-1515-028-d00e2f6a</td>\n",
       "      <td>Completed</td>\n",
       "      <td>0.34699</td>\n",
       "      <td>2021-05-31 19:53:07-07:00</td>\n",
       "      <td>2021-05-31 20:11:56-07:00</td>\n",
       "      <td>1129.0</td>\n",
       "    </tr>\n",
       "    <tr>\n",
       "      <th>32</th>\n",
       "      <td>0.038523</td>\n",
       "      <td>6.0</td>\n",
       "      <td>0.766846</td>\n",
       "      <td>HyperParams-210531-1515-006-29a81e58</td>\n",
       "      <td>Completed</td>\n",
       "      <td>0.33811</td>\n",
       "      <td>2021-05-31 15:53:05-07:00</td>\n",
       "      <td>2021-05-31 16:08:52-07:00</td>\n",
       "      <td>947.0</td>\n",
       "    </tr>\n",
       "    <tr>\n",
       "      <th>33</th>\n",
       "      <td>0.045306</td>\n",
       "      <td>4.0</td>\n",
       "      <td>0.921403</td>\n",
       "      <td>HyperParams-210531-1515-005-f4a8b613</td>\n",
       "      <td>Completed</td>\n",
       "      <td>0.33752</td>\n",
       "      <td>2021-05-31 15:51:03-07:00</td>\n",
       "      <td>2021-05-31 16:09:50-07:00</td>\n",
       "      <td>1127.0</td>\n",
       "    </tr>\n",
       "    <tr>\n",
       "      <th>37</th>\n",
       "      <td>0.043147</td>\n",
       "      <td>3.0</td>\n",
       "      <td>0.567714</td>\n",
       "      <td>HyperParams-210531-1515-001-1d9bc1f5</td>\n",
       "      <td>Completed</td>\n",
       "      <td>0.32725</td>\n",
       "      <td>2021-05-31 15:18:17-07:00</td>\n",
       "      <td>2021-05-31 15:34:00-07:00</td>\n",
       "      <td>943.0</td>\n",
       "    </tr>\n",
       "    <tr>\n",
       "      <th>36</th>\n",
       "      <td>0.033834</td>\n",
       "      <td>4.0</td>\n",
       "      <td>0.457326</td>\n",
       "      <td>HyperParams-210531-1515-002-1126ab21</td>\n",
       "      <td>Completed</td>\n",
       "      <td>0.32357</td>\n",
       "      <td>2021-05-31 15:17:54-07:00</td>\n",
       "      <td>2021-05-31 15:32:21-07:00</td>\n",
       "      <td>867.0</td>\n",
       "    </tr>\n",
       "    <tr>\n",
       "      <th>34</th>\n",
       "      <td>0.021360</td>\n",
       "      <td>3.0</td>\n",
       "      <td>0.614554</td>\n",
       "      <td>HyperParams-210531-1515-004-e8df8e24</td>\n",
       "      <td>Completed</td>\n",
       "      <td>0.30529</td>\n",
       "      <td>2021-05-31 15:36:20-07:00</td>\n",
       "      <td>2021-05-31 15:50:52-07:00</td>\n",
       "      <td>872.0</td>\n",
       "    </tr>\n",
       "    <tr>\n",
       "      <th>35</th>\n",
       "      <td>0.023595</td>\n",
       "      <td>6.0</td>\n",
       "      <td>0.300000</td>\n",
       "      <td>HyperParams-210531-1515-003-3ee39666</td>\n",
       "      <td>Completed</td>\n",
       "      <td>0.29972</td>\n",
       "      <td>2021-05-31 15:35:46-07:00</td>\n",
       "      <td>2021-05-31 15:48:26-07:00</td>\n",
       "      <td>760.0</td>\n",
       "    </tr>\n",
       "    <tr>\n",
       "      <th>1</th>\n",
       "      <td>0.049888</td>\n",
       "      <td>6.0</td>\n",
       "      <td>0.627720</td>\n",
       "      <td>HyperParams-210531-1515-037-8e8b9396</td>\n",
       "      <td>Stopped</td>\n",
       "      <td>0.28686</td>\n",
       "      <td>2021-05-31 21:42:13-07:00</td>\n",
       "      <td>2021-05-31 21:47:19-07:00</td>\n",
       "      <td>306.0</td>\n",
       "    </tr>\n",
       "    <tr>\n",
       "      <th>0</th>\n",
       "      <td>0.050000</td>\n",
       "      <td>6.0</td>\n",
       "      <td>0.564004</td>\n",
       "      <td>HyperParams-210531-1515-038-f4b91602</td>\n",
       "      <td>Stopped</td>\n",
       "      <td>0.27194</td>\n",
       "      <td>2021-05-31 21:42:32-07:00</td>\n",
       "      <td>2021-05-31 21:47:17-07:00</td>\n",
       "      <td>285.0</td>\n",
       "    </tr>\n",
       "  </tbody>\n",
       "</table>\n",
       "</div>"
      ],
      "text/plain": [
       "         eta  max_depth  subsample                       TrainingJobName  \\\n",
       "18  0.050000        6.0   0.590108  HyperParams-210531-1515-020-32d99deb   \n",
       "13  0.050000        6.0   0.598760  HyperParams-210531-1515-025-8d702d8a   \n",
       "7   0.050000        6.0   0.634720  HyperParams-210531-1515-031-c7f7df18   \n",
       "17  0.049905        6.0   0.590108  HyperParams-210531-1515-021-56f9b2dc   \n",
       "23  0.049990        6.0   0.666792  HyperParams-210531-1515-015-7ad6fc34   \n",
       "15  0.049973        6.0   0.597108  HyperParams-210531-1515-023-833cdc85   \n",
       "2   0.050000        6.0   0.552788  HyperParams-210531-1515-036-383cbac4   \n",
       "6   0.050000        6.0   0.672503  HyperParams-210531-1515-032-2103ff66   \n",
       "3   0.050000        6.0   0.546124  HyperParams-210531-1515-035-6ae440dd   \n",
       "19  0.050000        6.0   0.739161  HyperParams-210531-1515-019-d9032ab8   \n",
       "4   0.050000        6.0   0.620720  HyperParams-210531-1515-034-5a42436d   \n",
       "25  0.050000        6.0   0.673792  HyperParams-210531-1515-013-d9dcd01f   \n",
       "9   0.050000        6.0   0.731275  HyperParams-210531-1515-029-d3ece994   \n",
       "24  0.050000        6.0   0.775405  HyperParams-210531-1515-014-ad5f9856   \n",
       "12  0.049972        6.0   0.605760  HyperParams-210531-1515-026-152d5fa6   \n",
       "20  0.050000        6.0   0.612240  HyperParams-210531-1515-018-aed17b51   \n",
       "21  0.050000        6.0   0.604108  HyperParams-210531-1515-017-19559319   \n",
       "22  0.050000        6.0   0.922770  HyperParams-210531-1515-016-dcab3fb1   \n",
       "27  0.050000        6.0   0.442580  HyperParams-210531-1515-011-feb37208   \n",
       "14  0.049940        6.0   0.619240  HyperParams-210531-1515-024-cff29d7e   \n",
       "16  0.049891        6.0   0.612240  HyperParams-210531-1515-022-13b20da2   \n",
       "28  0.049795        6.0   0.959107  HyperParams-210531-1515-010-a298ba0e   \n",
       "8   0.050000        6.0   0.705366  HyperParams-210531-1515-030-02821004   \n",
       "5   0.050000        6.0   0.705366  HyperParams-210531-1515-033-ef19aa9d   \n",
       "11  0.050000        6.0   0.471078  HyperParams-210531-1515-027-68cbb6a7   \n",
       "29  0.049244        6.0   0.974872  HyperParams-210531-1515-009-caa6ae27   \n",
       "30  0.049195        6.0   0.959107  HyperParams-210531-1515-008-3686c7f8   \n",
       "26  0.048653        6.0   0.490517  HyperParams-210531-1515-012-2b5c8215   \n",
       "31  0.047565        6.0   0.989933  HyperParams-210531-1515-007-ca88c970   \n",
       "10  0.050000        5.0   0.449659  HyperParams-210531-1515-028-d00e2f6a   \n",
       "32  0.038523        6.0   0.766846  HyperParams-210531-1515-006-29a81e58   \n",
       "33  0.045306        4.0   0.921403  HyperParams-210531-1515-005-f4a8b613   \n",
       "37  0.043147        3.0   0.567714  HyperParams-210531-1515-001-1d9bc1f5   \n",
       "36  0.033834        4.0   0.457326  HyperParams-210531-1515-002-1126ab21   \n",
       "34  0.021360        3.0   0.614554  HyperParams-210531-1515-004-e8df8e24   \n",
       "35  0.023595        6.0   0.300000  HyperParams-210531-1515-003-3ee39666   \n",
       "1   0.049888        6.0   0.627720  HyperParams-210531-1515-037-8e8b9396   \n",
       "0   0.050000        6.0   0.564004  HyperParams-210531-1515-038-f4b91602   \n",
       "\n",
       "   TrainingJobStatus  FinalObjectiveValue         TrainingStartTime  \\\n",
       "18         Completed              0.35036 2021-05-31 18:29:39-07:00   \n",
       "13         Completed              0.35028 2021-05-31 19:32:12-07:00   \n",
       "7          Completed              0.35027 2021-05-31 20:39:16-07:00   \n",
       "17         Completed              0.35025 2021-05-31 18:50:41-07:00   \n",
       "23         Completed              0.35019 2021-05-31 17:46:42-07:00   \n",
       "15         Completed              0.35014 2021-05-31 19:11:30-07:00   \n",
       "2          Completed              0.34996 2021-05-31 21:21:29-07:00   \n",
       "6          Completed              0.34986 2021-05-31 20:38:54-07:00   \n",
       "3          Completed              0.34985 2021-05-31 21:21:04-07:00   \n",
       "19         Completed              0.34980 2021-05-31 18:29:15-07:00   \n",
       "4          Completed              0.34980 2021-05-31 20:59:50-07:00   \n",
       "25         Completed              0.34969 2021-05-31 17:21:35-07:00   \n",
       "9          Completed              0.34967 2021-05-31 20:13:55-07:00   \n",
       "24         Completed              0.34965 2021-05-31 17:21:33-07:00   \n",
       "12         Completed              0.34960 2021-05-31 19:32:16-07:00   \n",
       "20         Completed              0.34953 2021-05-31 18:08:10-07:00   \n",
       "21         Completed              0.34945 2021-05-31 18:07:07-07:00   \n",
       "22         Completed              0.34944 2021-05-31 17:46:24-07:00   \n",
       "27         Completed              0.34943 2021-05-31 17:01:07-07:00   \n",
       "14         Completed              0.34937 2021-05-31 19:11:15-07:00   \n",
       "16         Completed              0.34927 2021-05-31 18:50:43-07:00   \n",
       "28         Completed              0.34923 2021-05-31 16:35:50-07:00   \n",
       "8          Completed              0.34922 2021-05-31 20:14:06-07:00   \n",
       "5          Completed              0.34922 2021-05-31 20:59:40-07:00   \n",
       "11         Completed              0.34884 2021-05-31 19:53:00-07:00   \n",
       "29         Completed              0.34834 2021-05-31 16:35:54-07:00   \n",
       "30         Completed              0.34831 2021-05-31 16:14:29-07:00   \n",
       "26         Completed              0.34738 2021-05-31 17:00:39-07:00   \n",
       "31         Completed              0.34712 2021-05-31 16:14:38-07:00   \n",
       "10         Completed              0.34699 2021-05-31 19:53:07-07:00   \n",
       "32         Completed              0.33811 2021-05-31 15:53:05-07:00   \n",
       "33         Completed              0.33752 2021-05-31 15:51:03-07:00   \n",
       "37         Completed              0.32725 2021-05-31 15:18:17-07:00   \n",
       "36         Completed              0.32357 2021-05-31 15:17:54-07:00   \n",
       "34         Completed              0.30529 2021-05-31 15:36:20-07:00   \n",
       "35         Completed              0.29972 2021-05-31 15:35:46-07:00   \n",
       "1            Stopped              0.28686 2021-05-31 21:42:13-07:00   \n",
       "0            Stopped              0.27194 2021-05-31 21:42:32-07:00   \n",
       "\n",
       "             TrainingEndTime  TrainingElapsedTimeSeconds  \n",
       "18 2021-05-31 18:48:09-07:00                      1110.0  \n",
       "13 2021-05-31 19:50:30-07:00                      1098.0  \n",
       "7  2021-05-31 20:57:43-07:00                      1107.0  \n",
       "17 2021-05-31 19:07:32-07:00                      1011.0  \n",
       "23 2021-05-31 18:03:32-07:00                      1010.0  \n",
       "15 2021-05-31 19:30:08-07:00                      1118.0  \n",
       "2  2021-05-31 21:39:32-07:00                      1083.0  \n",
       "6  2021-05-31 20:56:53-07:00                      1079.0  \n",
       "3  2021-05-31 21:40:32-07:00                      1168.0  \n",
       "19 2021-05-31 18:47:45-07:00                      1110.0  \n",
       "4  2021-05-31 21:18:04-07:00                      1094.0  \n",
       "25 2021-05-31 17:40:33-07:00                      1138.0  \n",
       "9  2021-05-31 20:34:02-07:00                      1207.0  \n",
       "24 2021-05-31 17:40:43-07:00                      1150.0  \n",
       "12 2021-05-31 19:49:53-07:00                      1057.0  \n",
       "20 2021-05-31 18:27:25-07:00                      1155.0  \n",
       "21 2021-05-31 18:25:35-07:00                      1108.0  \n",
       "22 2021-05-31 18:06:01-07:00                      1177.0  \n",
       "27 2021-05-31 17:18:44-07:00                      1057.0  \n",
       "14 2021-05-31 19:29:02-07:00                      1067.0  \n",
       "16 2021-05-31 19:08:26-07:00                      1063.0  \n",
       "28 2021-05-31 16:54:49-07:00                      1139.0  \n",
       "8  2021-05-31 20:33:53-07:00                      1187.0  \n",
       "5  2021-05-31 21:19:02-07:00                      1162.0  \n",
       "11 2021-05-31 20:10:36-07:00                      1056.0  \n",
       "29 2021-05-31 16:54:39-07:00                      1125.0  \n",
       "30 2021-05-31 16:33:50-07:00                      1161.0  \n",
       "26 2021-05-31 17:19:00-07:00                      1101.0  \n",
       "31 2021-05-31 16:33:06-07:00                      1108.0  \n",
       "10 2021-05-31 20:11:56-07:00                      1129.0  \n",
       "32 2021-05-31 16:08:52-07:00                       947.0  \n",
       "33 2021-05-31 16:09:50-07:00                      1127.0  \n",
       "37 2021-05-31 15:34:00-07:00                       943.0  \n",
       "36 2021-05-31 15:32:21-07:00                       867.0  \n",
       "34 2021-05-31 15:50:52-07:00                       872.0  \n",
       "35 2021-05-31 15:48:26-07:00                       760.0  \n",
       "1  2021-05-31 21:47:19-07:00                       306.0  \n",
       "0  2021-05-31 21:47:17-07:00                       285.0  "
      ]
     },
     "execution_count": 30,
     "metadata": {},
     "output_type": "execute_result"
    }
   ],
   "source": [
    "analytics = HyperparameterTuningJobAnalytics(HyperParameterTuningJobName)\n",
    "HyperparameterTuning_ds = analytics.dataframe().sort_values(['FinalObjectiveValue'], ascending=False)\n",
    "HyperparameterTuning_ds"
   ]
  },
  {
   "cell_type": "code",
   "execution_count": 34,
   "metadata": {},
   "outputs": [],
   "source": [
    "#Saving into the Experiment log file models results\n",
    "eu.SaveToExperimentLog(Experiments_file, '%s FinalObjective'%Experiment_name, HyperparameterTuning_ds[['TrainingJobName','TrainingJobStatus','eta','max_depth','subsample','FinalObjectiveValue','TrainingElapsedTimeSeconds']])"
   ]
  },
  {
   "cell_type": "markdown",
   "metadata": {},
   "source": [
    "### Some visualizations \n",
    "\n",
    "To make plotly work in JupyterLab labextension must be installed: https://stackoverflow.com/questions/62604893/what-is-right-extension-for-plotly-in-jupyterlab\n",
    "Nodejs installation for Ubuntu: https://www.digitalocean.com/community/tutorials/how-to-install-node-js-on-ubuntu-18-04\n",
    "ToDo: Save chart to a file from teh code did not work for me https://stackoverflow.com/questions/59815797/how-to-save-plotly-express-plot-into-a-html-or-static-image-file"
   ]
  },
  {
   "cell_type": "code",
   "execution_count": 55,
   "metadata": {},
   "outputs": [],
   "source": [
    "df = HyperparameterTuning_ds[['eta','max_depth','subsample','FinalObjectiveValue']]\n",
    "df.columns=['eta','max_depth','subsample','valid-gini']"
   ]
  },
  {
   "cell_type": "code",
   "execution_count": 58,
   "metadata": {},
   "outputs": [],
   "source": [
    "import plotly.express as px"
   ]
  },
  {
   "cell_type": "code",
   "execution_count": 80,
   "metadata": {},
   "outputs": [
    {
     "data": {
      "application/vnd.plotly.v1+json": {
       "config": {
        "plotlyServerURL": "https://plot.ly"
       },
       "data": [
        {
         "dimensions": [
          {
           "label": "eta",
           "values": [
            0.05,
            0.05,
            0.05,
            0.04990538940783623,
            0.049989543218550356,
            0.04997306372636286,
            0.05,
            0.05,
            0.05,
            0.05,
            0.05,
            0.05,
            0.05,
            0.05,
            0.0499721481990191,
            0.05,
            0.05,
            0.05,
            0.05,
            0.04994010474198785,
            0.049890822230303326,
            0.04979515845292535,
            0.05,
            0.05,
            0.05,
            0.04924401099198785,
            0.04919515845292535,
            0.048652580327925354,
            0.04756536244653213,
            0.05,
            0.03852318579667535,
            0.0453063278865191,
            0.04314689185136285,
            0.03383412807730776,
            0.0213603806208941,
            0.02359518286698785,
            0.0498879196833941,
            0.05
           ]
          },
          {
           "label": "max_depth",
           "values": [
            6,
            6,
            6,
            6,
            6,
            6,
            6,
            6,
            6,
            6,
            6,
            6,
            6,
            6,
            6,
            6,
            6,
            6,
            6,
            6,
            6,
            6,
            6,
            6,
            6,
            6,
            6,
            6,
            6,
            5,
            6,
            4,
            3,
            4,
            3,
            6,
            6,
            6
           ]
          },
          {
           "label": "subsample",
           "values": [
            0.5901082902486644,
            0.5987600236471019,
            0.6347202325325186,
            0.5901082902486644,
            0.6667921281392895,
            0.5971082902486644,
            0.552788343959602,
            0.6725027093882954,
            0.5461237069678034,
            0.7391607400685207,
            0.620720472865852,
            0.6737921211392894,
            0.7312753878608682,
            0.7754049211080396,
            0.6057600236471019,
            0.6122396379049145,
            0.6041082902486644,
            0.9227695488822683,
            0.4425802140767895,
            0.6192396379049145,
            0.6122396379049145,
            0.9591070695455393,
            0.7053656074674144,
            0.7053656144674144,
            0.47107752852991447,
            0.9748724504049144,
            0.9591070695455393,
            0.49051722579553947,
            0.9899328752096019,
            0.4496588238714362,
            0.7668463273580395,
            0.9214026017721018,
            0.5677137589986645,
            0.4573260710312588,
            0.614554457240852,
            0.3,
            0.627720472865852,
            0.5640035539205395
           ]
          },
          {
           "label": "valid-gini",
           "values": [
            0.34942999482154846,
            0.34964999556541443,
            0.3498600125312805,
            0.3494400084018707,
            0.34922000765800476,
            0.34953001141548157,
            0.35027000308036804,
            0.34995999932289124,
            0.3502500057220459,
            0.34937000274658203,
            0.35019001364707947,
            0.3483400046825409,
            0.3497999906539917,
            0.34883999824523926,
            0.3496699929237366,
            0.3492699861526489,
            0.34922999143600464,
            0.34922000765800476,
            0.34738001227378845,
            0.3495999872684479,
            0.3494499921798706,
            0.3471199870109558,
            0.34984999895095825,
            0.3501400053501129,
            0.3496899902820587,
            0.3469899892807007,
            0.3381099998950958,
            0.3483099937438965,
            0.3375200033187866,
            0.3497999906539917,
            0.32725000381469727,
            0.32357001304626465,
            0.2719399929046631,
            0.28685998916625977,
            0.30529001355171204,
            0.29971998929977417,
            0.3502799868583679,
            0.3503600060939789
           ]
          }
         ],
         "domain": {
          "x": [
           0,
           1
          ],
          "y": [
           0,
           1
          ]
         },
         "line": {
          "color": [
           0.34942999482154846,
           0.34964999556541443,
           0.3498600125312805,
           0.3494400084018707,
           0.34922000765800476,
           0.34953001141548157,
           0.35027000308036804,
           0.34995999932289124,
           0.3502500057220459,
           0.34937000274658203,
           0.35019001364707947,
           0.3483400046825409,
           0.3497999906539917,
           0.34883999824523926,
           0.3496699929237366,
           0.3492699861526489,
           0.34922999143600464,
           0.34922000765800476,
           0.34738001227378845,
           0.3495999872684479,
           0.3494499921798706,
           0.3471199870109558,
           0.34984999895095825,
           0.3501400053501129,
           0.3496899902820587,
           0.3469899892807007,
           0.3381099998950958,
           0.3483099937438965,
           0.3375200033187866,
           0.3497999906539917,
           0.32725000381469727,
           0.32357001304626465,
           0.2719399929046631,
           0.28685998916625977,
           0.30529001355171204,
           0.29971998929977417,
           0.3502799868583679,
           0.3503600060939789
          ],
          "coloraxis": "coloraxis"
         },
         "name": "",
         "type": "parcoords"
        }
       ],
       "layout": {
        "autosize": true,
        "coloraxis": {
         "cmid": 0.3,
         "colorbar": {
          "title": {
           "text": "valid-gini"
          }
         },
         "colorscale": [
          [
           0,
           "rgb(0, 147, 146)"
          ],
          [
           0.16666666666666666,
           "rgb(114, 170, 161)"
          ],
          [
           0.3333333333333333,
           "rgb(177, 199, 179)"
          ],
          [
           0.5,
           "rgb(241, 234, 200)"
          ],
          [
           0.6666666666666666,
           "rgb(229, 185, 173)"
          ],
          [
           0.8333333333333334,
           "rgb(217, 137, 148)"
          ],
          [
           1,
           "rgb(208, 88, 126)"
          ]
         ]
        },
        "legend": {
         "tracegroupgap": 0
        },
        "margin": {
         "t": 60
        },
        "template": {
         "data": {
          "bar": [
           {
            "error_x": {
             "color": "#2a3f5f"
            },
            "error_y": {
             "color": "#2a3f5f"
            },
            "marker": {
             "line": {
              "color": "#E5ECF6",
              "width": 0.5
             }
            },
            "type": "bar"
           }
          ],
          "barpolar": [
           {
            "marker": {
             "line": {
              "color": "#E5ECF6",
              "width": 0.5
             }
            },
            "type": "barpolar"
           }
          ],
          "carpet": [
           {
            "aaxis": {
             "endlinecolor": "#2a3f5f",
             "gridcolor": "white",
             "linecolor": "white",
             "minorgridcolor": "white",
             "startlinecolor": "#2a3f5f"
            },
            "baxis": {
             "endlinecolor": "#2a3f5f",
             "gridcolor": "white",
             "linecolor": "white",
             "minorgridcolor": "white",
             "startlinecolor": "#2a3f5f"
            },
            "type": "carpet"
           }
          ],
          "choropleth": [
           {
            "colorbar": {
             "outlinewidth": 0,
             "ticks": ""
            },
            "type": "choropleth"
           }
          ],
          "contour": [
           {
            "colorbar": {
             "outlinewidth": 0,
             "ticks": ""
            },
            "colorscale": [
             [
              0,
              "#0d0887"
             ],
             [
              0.1111111111111111,
              "#46039f"
             ],
             [
              0.2222222222222222,
              "#7201a8"
             ],
             [
              0.3333333333333333,
              "#9c179e"
             ],
             [
              0.4444444444444444,
              "#bd3786"
             ],
             [
              0.5555555555555556,
              "#d8576b"
             ],
             [
              0.6666666666666666,
              "#ed7953"
             ],
             [
              0.7777777777777778,
              "#fb9f3a"
             ],
             [
              0.8888888888888888,
              "#fdca26"
             ],
             [
              1,
              "#f0f921"
             ]
            ],
            "type": "contour"
           }
          ],
          "contourcarpet": [
           {
            "colorbar": {
             "outlinewidth": 0,
             "ticks": ""
            },
            "type": "contourcarpet"
           }
          ],
          "heatmap": [
           {
            "colorbar": {
             "outlinewidth": 0,
             "ticks": ""
            },
            "colorscale": [
             [
              0,
              "#0d0887"
             ],
             [
              0.1111111111111111,
              "#46039f"
             ],
             [
              0.2222222222222222,
              "#7201a8"
             ],
             [
              0.3333333333333333,
              "#9c179e"
             ],
             [
              0.4444444444444444,
              "#bd3786"
             ],
             [
              0.5555555555555556,
              "#d8576b"
             ],
             [
              0.6666666666666666,
              "#ed7953"
             ],
             [
              0.7777777777777778,
              "#fb9f3a"
             ],
             [
              0.8888888888888888,
              "#fdca26"
             ],
             [
              1,
              "#f0f921"
             ]
            ],
            "type": "heatmap"
           }
          ],
          "heatmapgl": [
           {
            "colorbar": {
             "outlinewidth": 0,
             "ticks": ""
            },
            "colorscale": [
             [
              0,
              "#0d0887"
             ],
             [
              0.1111111111111111,
              "#46039f"
             ],
             [
              0.2222222222222222,
              "#7201a8"
             ],
             [
              0.3333333333333333,
              "#9c179e"
             ],
             [
              0.4444444444444444,
              "#bd3786"
             ],
             [
              0.5555555555555556,
              "#d8576b"
             ],
             [
              0.6666666666666666,
              "#ed7953"
             ],
             [
              0.7777777777777778,
              "#fb9f3a"
             ],
             [
              0.8888888888888888,
              "#fdca26"
             ],
             [
              1,
              "#f0f921"
             ]
            ],
            "type": "heatmapgl"
           }
          ],
          "histogram": [
           {
            "marker": {
             "colorbar": {
              "outlinewidth": 0,
              "ticks": ""
             }
            },
            "type": "histogram"
           }
          ],
          "histogram2d": [
           {
            "colorbar": {
             "outlinewidth": 0,
             "ticks": ""
            },
            "colorscale": [
             [
              0,
              "#0d0887"
             ],
             [
              0.1111111111111111,
              "#46039f"
             ],
             [
              0.2222222222222222,
              "#7201a8"
             ],
             [
              0.3333333333333333,
              "#9c179e"
             ],
             [
              0.4444444444444444,
              "#bd3786"
             ],
             [
              0.5555555555555556,
              "#d8576b"
             ],
             [
              0.6666666666666666,
              "#ed7953"
             ],
             [
              0.7777777777777778,
              "#fb9f3a"
             ],
             [
              0.8888888888888888,
              "#fdca26"
             ],
             [
              1,
              "#f0f921"
             ]
            ],
            "type": "histogram2d"
           }
          ],
          "histogram2dcontour": [
           {
            "colorbar": {
             "outlinewidth": 0,
             "ticks": ""
            },
            "colorscale": [
             [
              0,
              "#0d0887"
             ],
             [
              0.1111111111111111,
              "#46039f"
             ],
             [
              0.2222222222222222,
              "#7201a8"
             ],
             [
              0.3333333333333333,
              "#9c179e"
             ],
             [
              0.4444444444444444,
              "#bd3786"
             ],
             [
              0.5555555555555556,
              "#d8576b"
             ],
             [
              0.6666666666666666,
              "#ed7953"
             ],
             [
              0.7777777777777778,
              "#fb9f3a"
             ],
             [
              0.8888888888888888,
              "#fdca26"
             ],
             [
              1,
              "#f0f921"
             ]
            ],
            "type": "histogram2dcontour"
           }
          ],
          "mesh3d": [
           {
            "colorbar": {
             "outlinewidth": 0,
             "ticks": ""
            },
            "type": "mesh3d"
           }
          ],
          "parcoords": [
           {
            "line": {
             "colorbar": {
              "outlinewidth": 0,
              "ticks": ""
             }
            },
            "type": "parcoords"
           }
          ],
          "pie": [
           {
            "automargin": true,
            "type": "pie"
           }
          ],
          "scatter": [
           {
            "marker": {
             "colorbar": {
              "outlinewidth": 0,
              "ticks": ""
             }
            },
            "type": "scatter"
           }
          ],
          "scatter3d": [
           {
            "line": {
             "colorbar": {
              "outlinewidth": 0,
              "ticks": ""
             }
            },
            "marker": {
             "colorbar": {
              "outlinewidth": 0,
              "ticks": ""
             }
            },
            "type": "scatter3d"
           }
          ],
          "scattercarpet": [
           {
            "marker": {
             "colorbar": {
              "outlinewidth": 0,
              "ticks": ""
             }
            },
            "type": "scattercarpet"
           }
          ],
          "scattergeo": [
           {
            "marker": {
             "colorbar": {
              "outlinewidth": 0,
              "ticks": ""
             }
            },
            "type": "scattergeo"
           }
          ],
          "scattergl": [
           {
            "marker": {
             "colorbar": {
              "outlinewidth": 0,
              "ticks": ""
             }
            },
            "type": "scattergl"
           }
          ],
          "scattermapbox": [
           {
            "marker": {
             "colorbar": {
              "outlinewidth": 0,
              "ticks": ""
             }
            },
            "type": "scattermapbox"
           }
          ],
          "scatterpolar": [
           {
            "marker": {
             "colorbar": {
              "outlinewidth": 0,
              "ticks": ""
             }
            },
            "type": "scatterpolar"
           }
          ],
          "scatterpolargl": [
           {
            "marker": {
             "colorbar": {
              "outlinewidth": 0,
              "ticks": ""
             }
            },
            "type": "scatterpolargl"
           }
          ],
          "scatterternary": [
           {
            "marker": {
             "colorbar": {
              "outlinewidth": 0,
              "ticks": ""
             }
            },
            "type": "scatterternary"
           }
          ],
          "surface": [
           {
            "colorbar": {
             "outlinewidth": 0,
             "ticks": ""
            },
            "colorscale": [
             [
              0,
              "#0d0887"
             ],
             [
              0.1111111111111111,
              "#46039f"
             ],
             [
              0.2222222222222222,
              "#7201a8"
             ],
             [
              0.3333333333333333,
              "#9c179e"
             ],
             [
              0.4444444444444444,
              "#bd3786"
             ],
             [
              0.5555555555555556,
              "#d8576b"
             ],
             [
              0.6666666666666666,
              "#ed7953"
             ],
             [
              0.7777777777777778,
              "#fb9f3a"
             ],
             [
              0.8888888888888888,
              "#fdca26"
             ],
             [
              1,
              "#f0f921"
             ]
            ],
            "type": "surface"
           }
          ],
          "table": [
           {
            "cells": {
             "fill": {
              "color": "#EBF0F8"
             },
             "line": {
              "color": "white"
             }
            },
            "header": {
             "fill": {
              "color": "#C8D4E3"
             },
             "line": {
              "color": "white"
             }
            },
            "type": "table"
           }
          ]
         },
         "layout": {
          "annotationdefaults": {
           "arrowcolor": "#2a3f5f",
           "arrowhead": 0,
           "arrowwidth": 1
          },
          "autotypenumbers": "strict",
          "coloraxis": {
           "colorbar": {
            "outlinewidth": 0,
            "ticks": ""
           }
          },
          "colorscale": {
           "diverging": [
            [
             0,
             "#8e0152"
            ],
            [
             0.1,
             "#c51b7d"
            ],
            [
             0.2,
             "#de77ae"
            ],
            [
             0.3,
             "#f1b6da"
            ],
            [
             0.4,
             "#fde0ef"
            ],
            [
             0.5,
             "#f7f7f7"
            ],
            [
             0.6,
             "#e6f5d0"
            ],
            [
             0.7,
             "#b8e186"
            ],
            [
             0.8,
             "#7fbc41"
            ],
            [
             0.9,
             "#4d9221"
            ],
            [
             1,
             "#276419"
            ]
           ],
           "sequential": [
            [
             0,
             "#0d0887"
            ],
            [
             0.1111111111111111,
             "#46039f"
            ],
            [
             0.2222222222222222,
             "#7201a8"
            ],
            [
             0.3333333333333333,
             "#9c179e"
            ],
            [
             0.4444444444444444,
             "#bd3786"
            ],
            [
             0.5555555555555556,
             "#d8576b"
            ],
            [
             0.6666666666666666,
             "#ed7953"
            ],
            [
             0.7777777777777778,
             "#fb9f3a"
            ],
            [
             0.8888888888888888,
             "#fdca26"
            ],
            [
             1,
             "#f0f921"
            ]
           ],
           "sequentialminus": [
            [
             0,
             "#0d0887"
            ],
            [
             0.1111111111111111,
             "#46039f"
            ],
            [
             0.2222222222222222,
             "#7201a8"
            ],
            [
             0.3333333333333333,
             "#9c179e"
            ],
            [
             0.4444444444444444,
             "#bd3786"
            ],
            [
             0.5555555555555556,
             "#d8576b"
            ],
            [
             0.6666666666666666,
             "#ed7953"
            ],
            [
             0.7777777777777778,
             "#fb9f3a"
            ],
            [
             0.8888888888888888,
             "#fdca26"
            ],
            [
             1,
             "#f0f921"
            ]
           ]
          },
          "colorway": [
           "#636efa",
           "#EF553B",
           "#00cc96",
           "#ab63fa",
           "#FFA15A",
           "#19d3f3",
           "#FF6692",
           "#B6E880",
           "#FF97FF",
           "#FECB52"
          ],
          "font": {
           "color": "#2a3f5f"
          },
          "geo": {
           "bgcolor": "white",
           "lakecolor": "white",
           "landcolor": "#E5ECF6",
           "showlakes": true,
           "showland": true,
           "subunitcolor": "white"
          },
          "hoverlabel": {
           "align": "left"
          },
          "hovermode": "closest",
          "mapbox": {
           "style": "light"
          },
          "paper_bgcolor": "white",
          "plot_bgcolor": "#E5ECF6",
          "polar": {
           "angularaxis": {
            "gridcolor": "white",
            "linecolor": "white",
            "ticks": ""
           },
           "bgcolor": "#E5ECF6",
           "radialaxis": {
            "gridcolor": "white",
            "linecolor": "white",
            "ticks": ""
           }
          },
          "scene": {
           "xaxis": {
            "backgroundcolor": "#E5ECF6",
            "gridcolor": "white",
            "gridwidth": 2,
            "linecolor": "white",
            "showbackground": true,
            "ticks": "",
            "zerolinecolor": "white"
           },
           "yaxis": {
            "backgroundcolor": "#E5ECF6",
            "gridcolor": "white",
            "gridwidth": 2,
            "linecolor": "white",
            "showbackground": true,
            "ticks": "",
            "zerolinecolor": "white"
           },
           "zaxis": {
            "backgroundcolor": "#E5ECF6",
            "gridcolor": "white",
            "gridwidth": 2,
            "linecolor": "white",
            "showbackground": true,
            "ticks": "",
            "zerolinecolor": "white"
           }
          },
          "shapedefaults": {
           "line": {
            "color": "#2a3f5f"
           }
          },
          "ternary": {
           "aaxis": {
            "gridcolor": "white",
            "linecolor": "white",
            "ticks": ""
           },
           "baxis": {
            "gridcolor": "white",
            "linecolor": "white",
            "ticks": ""
           },
           "bgcolor": "#E5ECF6",
           "caxis": {
            "gridcolor": "white",
            "linecolor": "white",
            "ticks": ""
           }
          },
          "title": {
           "x": 0.05
          },
          "xaxis": {
           "automargin": true,
           "gridcolor": "white",
           "linecolor": "white",
           "ticks": "",
           "title": {
            "standoff": 15
           },
           "zerolinecolor": "white",
           "zerolinewidth": 2
          },
          "yaxis": {
           "automargin": true,
           "gridcolor": "white",
           "linecolor": "white",
           "ticks": "",
           "title": {
            "standoff": 15
           },
           "zerolinecolor": "white",
           "zerolinewidth": 2
          }
         }
        }
       }
      },
      "image/png": "[encoded data removed]",
      "text/html": [
       "<div>                            <div id=\"9b250f95-e20c-4d9b-a84f-1476d7f9aee9\" class=\"plotly-graph-div\" style=\"height:525px; width:100%;\"></div>            <script type=\"text/javascript\">                require([\"plotly\"], function(Plotly) {                    window.PLOTLYENV=window.PLOTLYENV || {};                                    if (document.getElementById(\"9b250f95-e20c-4d9b-a84f-1476d7f9aee9\")) {                    Plotly.newPlot(                        \"9b250f95-e20c-4d9b-a84f-1476d7f9aee9\",                        [{\"dimensions\": [{\"label\": \"eta\", \"values\": [0.05, 0.05, 0.05, 0.04990538940783623, 0.049989543218550356, 0.04997306372636286, 0.05, 0.05, 0.05, 0.05, 0.05, 0.05, 0.05, 0.05, 0.0499721481990191, 0.05, 0.05, 0.05, 0.05, 0.04994010474198785, 0.049890822230303326, 0.04979515845292535, 0.05, 0.05, 0.05, 0.04924401099198785, 0.04919515845292535, 0.048652580327925354, 0.04756536244653213, 0.05, 0.03852318579667535, 0.0453063278865191, 0.04314689185136285, 0.03383412807730776, 0.0213603806208941, 0.02359518286698785, 0.0498879196833941, 0.05]}, {\"label\": \"max_depth\", \"values\": [6.0, 6.0, 6.0, 6.0, 6.0, 6.0, 6.0, 6.0, 6.0, 6.0, 6.0, 6.0, 6.0, 6.0, 6.0, 6.0, 6.0, 6.0, 6.0, 6.0, 6.0, 6.0, 6.0, 6.0, 6.0, 6.0, 6.0, 6.0, 6.0, 5.0, 6.0, 4.0, 3.0, 4.0, 3.0, 6.0, 6.0, 6.0]}, {\"label\": \"subsample\", \"values\": [0.5901082902486644, 0.5987600236471019, 0.6347202325325186, 0.5901082902486644, 0.6667921281392895, 0.5971082902486644, 0.552788343959602, 0.6725027093882954, 0.5461237069678034, 0.7391607400685207, 0.620720472865852, 0.6737921211392894, 0.7312753878608682, 0.7754049211080396, 0.6057600236471019, 0.6122396379049145, 0.6041082902486644, 0.9227695488822683, 0.4425802140767895, 0.6192396379049145, 0.6122396379049145, 0.9591070695455393, 0.7053656074674144, 0.7053656144674144, 0.47107752852991447, 0.9748724504049144, 0.9591070695455393, 0.49051722579553947, 0.9899328752096019, 0.4496588238714362, 0.7668463273580395, 0.9214026017721018, 0.5677137589986645, 0.4573260710312588, 0.614554457240852, 0.3, 0.627720472865852, 0.5640035539205395]}, {\"label\": \"valid-gini\", \"values\": [0.34942999482154846, 0.34964999556541443, 0.3498600125312805, 0.3494400084018707, 0.34922000765800476, 0.34953001141548157, 0.35027000308036804, 0.34995999932289124, 0.3502500057220459, 0.34937000274658203, 0.35019001364707947, 0.3483400046825409, 0.3497999906539917, 0.34883999824523926, 0.3496699929237366, 0.3492699861526489, 0.34922999143600464, 0.34922000765800476, 0.34738001227378845, 0.3495999872684479, 0.3494499921798706, 0.3471199870109558, 0.34984999895095825, 0.3501400053501129, 0.3496899902820587, 0.3469899892807007, 0.3381099998950958, 0.3483099937438965, 0.3375200033187866, 0.3497999906539917, 0.32725000381469727, 0.32357001304626465, 0.2719399929046631, 0.28685998916625977, 0.30529001355171204, 0.29971998929977417, 0.3502799868583679, 0.3503600060939789]}], \"domain\": {\"x\": [0.0, 1.0], \"y\": [0.0, 1.0]}, \"line\": {\"color\": [0.34942999482154846, 0.34964999556541443, 0.3498600125312805, 0.3494400084018707, 0.34922000765800476, 0.34953001141548157, 0.35027000308036804, 0.34995999932289124, 0.3502500057220459, 0.34937000274658203, 0.35019001364707947, 0.3483400046825409, 0.3497999906539917, 0.34883999824523926, 0.3496699929237366, 0.3492699861526489, 0.34922999143600464, 0.34922000765800476, 0.34738001227378845, 0.3495999872684479, 0.3494499921798706, 0.3471199870109558, 0.34984999895095825, 0.3501400053501129, 0.3496899902820587, 0.3469899892807007, 0.3381099998950958, 0.3483099937438965, 0.3375200033187866, 0.3497999906539917, 0.32725000381469727, 0.32357001304626465, 0.2719399929046631, 0.28685998916625977, 0.30529001355171204, 0.29971998929977417, 0.3502799868583679, 0.3503600060939789], \"coloraxis\": \"coloraxis\"}, \"name\": \"\", \"type\": \"parcoords\"}],                        {\"coloraxis\": {\"cmid\": 0.3, \"colorbar\": {\"title\": {\"text\": \"valid-gini\"}}, \"colorscale\": [[0.0, \"rgb(0, 147, 146)\"], [0.16666666666666666, \"rgb(114, 170, 161)\"], [0.3333333333333333, \"rgb(177, 199, 179)\"], [0.5, \"rgb(241, 234, 200)\"], [0.6666666666666666, \"rgb(229, 185, 173)\"], [0.8333333333333334, \"rgb(217, 137, 148)\"], [1.0, \"rgb(208, 88, 126)\"]]}, \"legend\": {\"tracegroupgap\": 0}, \"margin\": {\"t\": 60}, \"template\": {\"data\": {\"bar\": [{\"error_x\": {\"color\": \"#2a3f5f\"}, \"error_y\": {\"color\": \"#2a3f5f\"}, \"marker\": {\"line\": {\"color\": \"#E5ECF6\", \"width\": 0.5}}, \"type\": \"bar\"}], \"barpolar\": [{\"marker\": {\"line\": {\"color\": \"#E5ECF6\", \"width\": 0.5}}, \"type\": \"barpolar\"}], \"carpet\": [{\"aaxis\": {\"endlinecolor\": \"#2a3f5f\", \"gridcolor\": \"white\", \"linecolor\": \"white\", \"minorgridcolor\": \"white\", \"startlinecolor\": \"#2a3f5f\"}, \"baxis\": {\"endlinecolor\": \"#2a3f5f\", \"gridcolor\": \"white\", \"linecolor\": \"white\", \"minorgridcolor\": \"white\", \"startlinecolor\": \"#2a3f5f\"}, \"type\": \"carpet\"}], \"choropleth\": [{\"colorbar\": {\"outlinewidth\": 0, \"ticks\": \"\"}, \"type\": \"choropleth\"}], \"contour\": [{\"colorbar\": {\"outlinewidth\": 0, \"ticks\": \"\"}, \"colorscale\": [[0.0, \"#0d0887\"], [0.1111111111111111, \"#46039f\"], [0.2222222222222222, \"#7201a8\"], [0.3333333333333333, \"#9c179e\"], [0.4444444444444444, \"#bd3786\"], [0.5555555555555556, \"#d8576b\"], [0.6666666666666666, \"#ed7953\"], [0.7777777777777778, \"#fb9f3a\"], [0.8888888888888888, \"#fdca26\"], [1.0, \"#f0f921\"]], \"type\": \"contour\"}], \"contourcarpet\": [{\"colorbar\": {\"outlinewidth\": 0, \"ticks\": \"\"}, \"type\": \"contourcarpet\"}], \"heatmap\": [{\"colorbar\": {\"outlinewidth\": 0, \"ticks\": \"\"}, \"colorscale\": [[0.0, \"#0d0887\"], [0.1111111111111111, \"#46039f\"], [0.2222222222222222, \"#7201a8\"], [0.3333333333333333, \"#9c179e\"], [0.4444444444444444, \"#bd3786\"], [0.5555555555555556, \"#d8576b\"], [0.6666666666666666, \"#ed7953\"], [0.7777777777777778, \"#fb9f3a\"], [0.8888888888888888, \"#fdca26\"], [1.0, \"#f0f921\"]], \"type\": \"heatmap\"}], \"heatmapgl\": [{\"colorbar\": {\"outlinewidth\": 0, \"ticks\": \"\"}, \"colorscale\": [[0.0, \"#0d0887\"], [0.1111111111111111, \"#46039f\"], [0.2222222222222222, \"#7201a8\"], [0.3333333333333333, \"#9c179e\"], [0.4444444444444444, \"#bd3786\"], [0.5555555555555556, \"#d8576b\"], [0.6666666666666666, \"#ed7953\"], [0.7777777777777778, \"#fb9f3a\"], [0.8888888888888888, \"#fdca26\"], [1.0, \"#f0f921\"]], \"type\": \"heatmapgl\"}], \"histogram\": [{\"marker\": {\"colorbar\": {\"outlinewidth\": 0, \"ticks\": \"\"}}, \"type\": \"histogram\"}], \"histogram2d\": [{\"colorbar\": {\"outlinewidth\": 0, \"ticks\": \"\"}, \"colorscale\": [[0.0, \"#0d0887\"], [0.1111111111111111, \"#46039f\"], [0.2222222222222222, \"#7201a8\"], [0.3333333333333333, \"#9c179e\"], [0.4444444444444444, \"#bd3786\"], [0.5555555555555556, \"#d8576b\"], [0.6666666666666666, \"#ed7953\"], [0.7777777777777778, \"#fb9f3a\"], [0.8888888888888888, \"#fdca26\"], [1.0, \"#f0f921\"]], \"type\": \"histogram2d\"}], \"histogram2dcontour\": [{\"colorbar\": {\"outlinewidth\": 0, \"ticks\": \"\"}, \"colorscale\": [[0.0, \"#0d0887\"], [0.1111111111111111, \"#46039f\"], [0.2222222222222222, \"#7201a8\"], [0.3333333333333333, \"#9c179e\"], [0.4444444444444444, \"#bd3786\"], [0.5555555555555556, \"#d8576b\"], [0.6666666666666666, \"#ed7953\"], [0.7777777777777778, \"#fb9f3a\"], [0.8888888888888888, \"#fdca26\"], [1.0, \"#f0f921\"]], \"type\": \"histogram2dcontour\"}], \"mesh3d\": [{\"colorbar\": {\"outlinewidth\": 0, \"ticks\": \"\"}, \"type\": \"mesh3d\"}], \"parcoords\": [{\"line\": {\"colorbar\": {\"outlinewidth\": 0, \"ticks\": \"\"}}, \"type\": \"parcoords\"}], \"pie\": [{\"automargin\": true, \"type\": \"pie\"}], \"scatter\": [{\"marker\": {\"colorbar\": {\"outlinewidth\": 0, \"ticks\": \"\"}}, \"type\": \"scatter\"}], \"scatter3d\": [{\"line\": {\"colorbar\": {\"outlinewidth\": 0, \"ticks\": \"\"}}, \"marker\": {\"colorbar\": {\"outlinewidth\": 0, \"ticks\": \"\"}}, \"type\": \"scatter3d\"}], \"scattercarpet\": [{\"marker\": {\"colorbar\": {\"outlinewidth\": 0, \"ticks\": \"\"}}, \"type\": \"scattercarpet\"}], \"scattergeo\": [{\"marker\": {\"colorbar\": {\"outlinewidth\": 0, \"ticks\": \"\"}}, \"type\": \"scattergeo\"}], \"scattergl\": [{\"marker\": {\"colorbar\": {\"outlinewidth\": 0, \"ticks\": \"\"}}, \"type\": \"scattergl\"}], \"scattermapbox\": [{\"marker\": {\"colorbar\": {\"outlinewidth\": 0, \"ticks\": \"\"}}, \"type\": \"scattermapbox\"}], \"scatterpolar\": [{\"marker\": {\"colorbar\": {\"outlinewidth\": 0, \"ticks\": \"\"}}, \"type\": \"scatterpolar\"}], \"scatterpolargl\": [{\"marker\": {\"colorbar\": {\"outlinewidth\": 0, \"ticks\": \"\"}}, \"type\": \"scatterpolargl\"}], \"scatterternary\": [{\"marker\": {\"colorbar\": {\"outlinewidth\": 0, \"ticks\": \"\"}}, \"type\": \"scatterternary\"}], \"surface\": [{\"colorbar\": {\"outlinewidth\": 0, \"ticks\": \"\"}, \"colorscale\": [[0.0, \"#0d0887\"], [0.1111111111111111, \"#46039f\"], [0.2222222222222222, \"#7201a8\"], [0.3333333333333333, \"#9c179e\"], [0.4444444444444444, \"#bd3786\"], [0.5555555555555556, \"#d8576b\"], [0.6666666666666666, \"#ed7953\"], [0.7777777777777778, \"#fb9f3a\"], [0.8888888888888888, \"#fdca26\"], [1.0, \"#f0f921\"]], \"type\": \"surface\"}], \"table\": [{\"cells\": {\"fill\": {\"color\": \"#EBF0F8\"}, \"line\": {\"color\": \"white\"}}, \"header\": {\"fill\": {\"color\": \"#C8D4E3\"}, \"line\": {\"color\": \"white\"}}, \"type\": \"table\"}]}, \"layout\": {\"annotationdefaults\": {\"arrowcolor\": \"#2a3f5f\", \"arrowhead\": 0, \"arrowwidth\": 1}, \"autotypenumbers\": \"strict\", \"coloraxis\": {\"colorbar\": {\"outlinewidth\": 0, \"ticks\": \"\"}}, \"colorscale\": {\"diverging\": [[0, \"#8e0152\"], [0.1, \"#c51b7d\"], [0.2, \"#de77ae\"], [0.3, \"#f1b6da\"], [0.4, \"#fde0ef\"], [0.5, \"#f7f7f7\"], [0.6, \"#e6f5d0\"], [0.7, \"#b8e186\"], [0.8, \"#7fbc41\"], [0.9, \"#4d9221\"], [1, \"#276419\"]], \"sequential\": [[0.0, \"#0d0887\"], [0.1111111111111111, \"#46039f\"], [0.2222222222222222, \"#7201a8\"], [0.3333333333333333, \"#9c179e\"], [0.4444444444444444, \"#bd3786\"], [0.5555555555555556, \"#d8576b\"], [0.6666666666666666, \"#ed7953\"], [0.7777777777777778, \"#fb9f3a\"], [0.8888888888888888, \"#fdca26\"], [1.0, \"#f0f921\"]], \"sequentialminus\": [[0.0, \"#0d0887\"], [0.1111111111111111, \"#46039f\"], [0.2222222222222222, \"#7201a8\"], [0.3333333333333333, \"#9c179e\"], [0.4444444444444444, \"#bd3786\"], [0.5555555555555556, \"#d8576b\"], [0.6666666666666666, \"#ed7953\"], [0.7777777777777778, \"#fb9f3a\"], [0.8888888888888888, \"#fdca26\"], [1.0, \"#f0f921\"]]}, \"colorway\": [\"#636efa\", \"#EF553B\", \"#00cc96\", \"#ab63fa\", \"#FFA15A\", \"#19d3f3\", \"#FF6692\", \"#B6E880\", \"#FF97FF\", \"#FECB52\"], \"font\": {\"color\": \"#2a3f5f\"}, \"geo\": {\"bgcolor\": \"white\", \"lakecolor\": \"white\", \"landcolor\": \"#E5ECF6\", \"showlakes\": true, \"showland\": true, \"subunitcolor\": \"white\"}, \"hoverlabel\": {\"align\": \"left\"}, \"hovermode\": \"closest\", \"mapbox\": {\"style\": \"light\"}, \"paper_bgcolor\": \"white\", \"plot_bgcolor\": \"#E5ECF6\", \"polar\": {\"angularaxis\": {\"gridcolor\": \"white\", \"linecolor\": \"white\", \"ticks\": \"\"}, \"bgcolor\": \"#E5ECF6\", \"radialaxis\": {\"gridcolor\": \"white\", \"linecolor\": \"white\", \"ticks\": \"\"}}, \"scene\": {\"xaxis\": {\"backgroundcolor\": \"#E5ECF6\", \"gridcolor\": \"white\", \"gridwidth\": 2, \"linecolor\": \"white\", \"showbackground\": true, \"ticks\": \"\", \"zerolinecolor\": \"white\"}, \"yaxis\": {\"backgroundcolor\": \"#E5ECF6\", \"gridcolor\": \"white\", \"gridwidth\": 2, \"linecolor\": \"white\", \"showbackground\": true, \"ticks\": \"\", \"zerolinecolor\": \"white\"}, \"zaxis\": {\"backgroundcolor\": \"#E5ECF6\", \"gridcolor\": \"white\", \"gridwidth\": 2, \"linecolor\": \"white\", \"showbackground\": true, \"ticks\": \"\", \"zerolinecolor\": \"white\"}}, \"shapedefaults\": {\"line\": {\"color\": \"#2a3f5f\"}}, \"ternary\": {\"aaxis\": {\"gridcolor\": \"white\", \"linecolor\": \"white\", \"ticks\": \"\"}, \"baxis\": {\"gridcolor\": \"white\", \"linecolor\": \"white\", \"ticks\": \"\"}, \"bgcolor\": \"#E5ECF6\", \"caxis\": {\"gridcolor\": \"white\", \"linecolor\": \"white\", \"ticks\": \"\"}}, \"title\": {\"x\": 0.05}, \"xaxis\": {\"automargin\": true, \"gridcolor\": \"white\", \"linecolor\": \"white\", \"ticks\": \"\", \"title\": {\"standoff\": 15}, \"zerolinecolor\": \"white\", \"zerolinewidth\": 2}, \"yaxis\": {\"automargin\": true, \"gridcolor\": \"white\", \"linecolor\": \"white\", \"ticks\": \"\", \"title\": {\"standoff\": 15}, \"zerolinecolor\": \"white\", \"zerolinewidth\": 2}}}},                        {\"responsive\": true}                    ).then(function(){\n",
       "                            \n",
       "var gd = document.getElementById('9b250f95-e20c-4d9b-a84f-1476d7f9aee9');\n",
       "var x = new MutationObserver(function (mutations, observer) {{\n",
       "        var display = window.getComputedStyle(gd).display;\n",
       "        if (!display || display === 'none') {{\n",
       "            console.log([gd, 'removed!']);\n",
       "            Plotly.purge(gd);\n",
       "            observer.disconnect();\n",
       "        }}\n",
       "}});\n",
       "\n",
       "// Listen for the removal of the full notebook cells\n",
       "var notebookContainer = gd.closest('#notebook-container');\n",
       "if (notebookContainer) {{\n",
       "    x.observe(notebookContainer, {childList: true});\n",
       "}}\n",
       "\n",
       "// Listen for the clearing of the current output cell\n",
       "var outputEl = gd.closest('.output');\n",
       "if (outputEl) {{\n",
       "    x.observe(outputEl, {childList: true});\n",
       "}}\n",
       "\n",
       "                        })                };                });            </script>        </div>"
      ]
     },
     "metadata": {},
     "output_type": "display_data"
    }
   ],
   "source": [
    "fig = px.parallel_coordinates(df, color=\"valid-gini\", labels={\"valid-gini\": \"valid-gini\",\n",
    "                \"eta\": \"eta\", \"max_depth\": \"max_depth\",\n",
    "                \"subsample\": \"subsample\", },\n",
    "                             color_continuous_scale=px.colors.diverging.Tealrose,\n",
    "                             color_continuous_midpoint=0.3)\n",
    "fig.show()"
   ]
  }
 ],
 "metadata": {
  "kernelspec": {
   "display_name": "Python 3",
   "language": "python",
   "name": "python3"
  },
  "language_info": {
   "codemirror_mode": {
    "name": "ipython",
    "version": 3
   },
   "file_extension": ".py",
   "mimetype": "text/x-python",
   "name": "python",
   "nbconvert_exporter": "python",
   "pygments_lexer": "ipython3",
   "version": "3.8.5"
  }
 },
 "nbformat": 4,
 "nbformat_minor": 4
}
