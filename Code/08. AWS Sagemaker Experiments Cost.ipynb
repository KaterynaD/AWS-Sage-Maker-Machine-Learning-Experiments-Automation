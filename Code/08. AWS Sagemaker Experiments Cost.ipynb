{
 "cells": [
  {
   "cell_type": "markdown",
   "metadata": {},
   "source": [
    "### AWS Sagemaker Experiments Cost\n",
    "Purpose: calculate the cost of experiments based on time spent for prpcessing, training and inference.\n",
    "The code loops thru the configured list of experiments, reads the names of related jobs and extracts the run time for each as well instance type and number of instances.\n",
    "Based on the configured price per hour for each instance type the total experiments cost is calculated"
   ]
  },
  {
   "cell_type": "code",
   "execution_count": 31,
   "metadata": {},
   "outputs": [],
   "source": [
    "Experiments_file='/home/kate/Research/YearBuilt/Experiments/DevExperiments.xlsx'\n",
    "#Experimets_tab: #,Experiment,other columns not related to this specific process\n",
    "Experiments_tab='Experiments'\n",
    "#https://aws.amazon.com/sagemaker/pricing/\n",
    "cost_map = {'ml.c5.xlarge': 0.238, 'ml.t3.large': 0.1165,'ml.t3.2xlarge':0.4659,'ml.m5.xlarge':0.269}"
   ]
  },
  {
   "cell_type": "code",
   "execution_count": 32,
   "metadata": {},
   "outputs": [],
   "source": [
    "import sys\n",
    "import boto3\n",
    "import time\n",
    "import pandas as pd\n",
    "import numpy as np\n",
    "import sagemaker\n",
    "from smexperiments.experiment import Experiment\n",
    "\n",
    "from smexperiments.trial import Trial\n",
    "from smexperiments.trial_component import TrialComponent"
   ]
  },
  {
   "cell_type": "code",
   "execution_count": 33,
   "metadata": {},
   "outputs": [],
   "source": [
    "#sys.path.append('/home/kate/Research/YearBuilt/Notebooks/Experiments')\n",
    "import ExperimentsUtils as eu"
   ]
  },
  {
   "cell_type": "markdown",
   "metadata": {},
   "source": [
    "1. Reading experiments from an excel file"
   ]
  },
  {
   "cell_type": "code",
   "execution_count": 34,
   "metadata": {},
   "outputs": [],
   "source": [
    "Experiments=pd.read_excel(open(Experiments_file, 'rb'), sheet_name=Experiments_tab)"
   ]
  },
  {
   "cell_type": "code",
   "execution_count": 35,
   "metadata": {},
   "outputs": [
    {
     "data": {
      "text/html": [
       "<div>\n",
       "<style scoped>\n",
       "    .dataframe tbody tr th:only-of-type {\n",
       "        vertical-align: middle;\n",
       "    }\n",
       "\n",
       "    .dataframe tbody tr th {\n",
       "        vertical-align: top;\n",
       "    }\n",
       "\n",
       "    .dataframe thead th {\n",
       "        text-align: right;\n",
       "    }\n",
       "</style>\n",
       "<table border=\"1\" class=\"dataframe\">\n",
       "  <thead>\n",
       "    <tr style=\"text-align: right;\">\n",
       "      <th></th>\n",
       "      <th>#</th>\n",
       "      <th>Experiment</th>\n",
       "      <th>Objective</th>\n",
       "      <th>Status</th>\n",
       "      <th>Result</th>\n",
       "      <th>Dataset</th>\n",
       "      <th>Target</th>\n",
       "    </tr>\n",
       "  </thead>\n",
       "  <tbody>\n",
       "    <tr>\n",
       "      <th>0</th>\n",
       "      <td>1</td>\n",
       "      <td>eta</td>\n",
       "      <td>eta research</td>\n",
       "      <td>Done</td>\n",
       "      <td>0.018 is good enough but 0.02 is better</td>\n",
       "      <td>dwelling_basedata_v4.csv</td>\n",
       "      <td>hasclaim_water</td>\n",
       "    </tr>\n",
       "    <tr>\n",
       "      <th>1</th>\n",
       "      <td>2</td>\n",
       "      <td>max-depth</td>\n",
       "      <td>max_depth research</td>\n",
       "      <td>Done</td>\n",
       "      <td>max_depth 3 reduces overfitting visible</td>\n",
       "      <td>dwelling_basedata_v4.csv</td>\n",
       "      <td>hasclaim_water</td>\n",
       "    </tr>\n",
       "    <tr>\n",
       "      <th>2</th>\n",
       "      <td>3</td>\n",
       "      <td>bytree</td>\n",
       "      <td>colsample_bytree research</td>\n",
       "      <td>Done</td>\n",
       "      <td>0.8 has minimum overfitting</td>\n",
       "      <td>dwelling_basedata_v4.csv</td>\n",
       "      <td>hasclaim_water</td>\n",
       "    </tr>\n",
       "    <tr>\n",
       "      <th>3</th>\n",
       "      <td>4</td>\n",
       "      <td>weight</td>\n",
       "      <td>scale_pos_weight research</td>\n",
       "      <td>Done</td>\n",
       "      <td>Original 0.3 is the best</td>\n",
       "      <td>dwelling_basedata_v4.csv</td>\n",
       "      <td>hasclaim_water</td>\n",
       "    </tr>\n",
       "    <tr>\n",
       "      <th>4</th>\n",
       "      <td>5</td>\n",
       "      <td>bylevel</td>\n",
       "      <td>colsample_bylevel research</td>\n",
       "      <td>Done</td>\n",
       "      <td>0.6</td>\n",
       "      <td>dwelling_basedata_v4.csv</td>\n",
       "      <td>hasclaim_water</td>\n",
       "    </tr>\n",
       "    <tr>\n",
       "      <th>5</th>\n",
       "      <td>6</td>\n",
       "      <td>subsample</td>\n",
       "      <td>NaN</td>\n",
       "      <td>Done</td>\n",
       "      <td>0.6</td>\n",
       "      <td>dwelling_basedata_v4.csv</td>\n",
       "      <td>hasclaim_water</td>\n",
       "    </tr>\n",
       "    <tr>\n",
       "      <th>6</th>\n",
       "      <td>7</td>\n",
       "      <td>weight2</td>\n",
       "      <td>extream vaalues of scale_pos_weight research</td>\n",
       "      <td>Done</td>\n",
       "      <td>Only overfoitting with large numbers of the pa...</td>\n",
       "      <td>dwelling_basedata_v4.csv</td>\n",
       "      <td>hasclaim_water</td>\n",
       "    </tr>\n",
       "    <tr>\n",
       "      <th>7</th>\n",
       "      <td>8</td>\n",
       "      <td>delta</td>\n",
       "      <td>max_delta_step</td>\n",
       "      <td>Done</td>\n",
       "      <td>1 - not enough and 10 is too much</td>\n",
       "      <td>dwelling_basedata_v4.csv</td>\n",
       "      <td>hasclaim_water</td>\n",
       "    </tr>\n",
       "    <tr>\n",
       "      <th>8</th>\n",
       "      <td>9</td>\n",
       "      <td>delta2</td>\n",
       "      <td>Need to check values between 1 and 10</td>\n",
       "      <td>Done</td>\n",
       "      <td>no difference between 2 and 10. Overall, scale...</td>\n",
       "      <td>dwelling_basedata_v4.csv</td>\n",
       "      <td>hasclaim_water</td>\n",
       "    </tr>\n",
       "    <tr>\n",
       "      <th>9</th>\n",
       "      <td>10</td>\n",
       "      <td>bf</td>\n",
       "      <td>Best Features round 1</td>\n",
       "      <td>Done</td>\n",
       "      <td>WaterScore, OtherPolicies, ProtectionClass and...</td>\n",
       "      <td>dwelling_basedata_v4.csv</td>\n",
       "      <td>hasclaim_water</td>\n",
       "    </tr>\n",
       "    <tr>\n",
       "      <th>10</th>\n",
       "      <td>11</td>\n",
       "      <td>bf1</td>\n",
       "      <td>Best Features round 2</td>\n",
       "      <td>Done</td>\n",
       "      <td>WaterScore alone is the best improvement</td>\n",
       "      <td>dwelling_basedata_v4.csv</td>\n",
       "      <td>hasclaim_water</td>\n",
       "    </tr>\n",
       "    <tr>\n",
       "      <th>11</th>\n",
       "      <td>12</td>\n",
       "      <td>bf2</td>\n",
       "      <td>PropertyAge and yearBuilt</td>\n",
       "      <td>Done</td>\n",
       "      <td>PropertyAge is ok</td>\n",
       "      <td>dwelling_basedata_v4.csv</td>\n",
       "      <td>hasclaim_water</td>\n",
       "    </tr>\n",
       "    <tr>\n",
       "      <th>12</th>\n",
       "      <td>13</td>\n",
       "      <td>Fold1Eval</td>\n",
       "      <td>Evaluation of Fold1</td>\n",
       "      <td>Done</td>\n",
       "      <td>Run is Ok</td>\n",
       "      <td>dwelling_basedata_v4.csv</td>\n",
       "      <td>hasclaim_water</td>\n",
       "    </tr>\n",
       "    <tr>\n",
       "      <th>13</th>\n",
       "      <td>14</td>\n",
       "      <td>AllFoldsEval</td>\n",
       "      <td>Evaluation all folds</td>\n",
       "      <td>Done</td>\n",
       "      <td>Run is Ok</td>\n",
       "      <td>dwelling_basedata_v4.csv</td>\n",
       "      <td>hasclaim_water</td>\n",
       "    </tr>\n",
       "    <tr>\n",
       "      <th>14</th>\n",
       "      <td>15</td>\n",
       "      <td>pd</td>\n",
       "      <td>Partial Dependency</td>\n",
       "      <td>In progress</td>\n",
       "      <td>NaN</td>\n",
       "      <td>dwelling_basedata_v4.csv</td>\n",
       "      <td>hasclaim_water</td>\n",
       "    </tr>\n",
       "    <tr>\n",
       "      <th>15</th>\n",
       "      <td>16</td>\n",
       "      <td>prediction</td>\n",
       "      <td>predict data with ShapValues</td>\n",
       "      <td>In progress</td>\n",
       "      <td>NaN</td>\n",
       "      <td>dwelling_basedata_v4.csv</td>\n",
       "      <td>hasclaim_water</td>\n",
       "    </tr>\n",
       "  </tbody>\n",
       "</table>\n",
       "</div>"
      ],
      "text/plain": [
       "     #    Experiment                                     Objective  \\\n",
       "0    1           eta                                  eta research   \n",
       "1    2     max-depth                            max_depth research   \n",
       "2    3        bytree                     colsample_bytree research   \n",
       "3    4        weight                     scale_pos_weight research   \n",
       "4    5       bylevel                    colsample_bylevel research   \n",
       "5    6     subsample                                           NaN   \n",
       "6    7       weight2  extream vaalues of scale_pos_weight research   \n",
       "7    8         delta                                max_delta_step   \n",
       "8    9        delta2         Need to check values between 1 and 10   \n",
       "9   10            bf                         Best Features round 1   \n",
       "10  11           bf1                         Best Features round 2   \n",
       "11  12           bf2                     PropertyAge and yearBuilt   \n",
       "12  13     Fold1Eval                           Evaluation of Fold1   \n",
       "13  14  AllFoldsEval                          Evaluation all folds   \n",
       "14  15            pd                            Partial Dependency   \n",
       "15  16    prediction                  predict data with ShapValues   \n",
       "\n",
       "         Status                                             Result  \\\n",
       "0          Done            0.018 is good enough but 0.02 is better   \n",
       "1          Done            max_depth 3 reduces overfitting visible   \n",
       "2          Done                        0.8 has minimum overfitting   \n",
       "3          Done                           Original 0.3 is the best   \n",
       "4          Done                                                0.6   \n",
       "5          Done                                                0.6   \n",
       "6          Done  Only overfoitting with large numbers of the pa...   \n",
       "7          Done                  1 - not enough and 10 is too much   \n",
       "8          Done  no difference between 2 and 10. Overall, scale...   \n",
       "9          Done  WaterScore, OtherPolicies, ProtectionClass and...   \n",
       "10         Done           WaterScore alone is the best improvement   \n",
       "11         Done                                  PropertyAge is ok   \n",
       "12         Done                                          Run is Ok   \n",
       "13         Done                                          Run is Ok   \n",
       "14  In progress                                                NaN   \n",
       "15  In progress                                                NaN   \n",
       "\n",
       "                     Dataset          Target  \n",
       "0   dwelling_basedata_v4.csv  hasclaim_water  \n",
       "1   dwelling_basedata_v4.csv  hasclaim_water  \n",
       "2   dwelling_basedata_v4.csv  hasclaim_water  \n",
       "3   dwelling_basedata_v4.csv  hasclaim_water  \n",
       "4   dwelling_basedata_v4.csv  hasclaim_water  \n",
       "5   dwelling_basedata_v4.csv  hasclaim_water  \n",
       "6   dwelling_basedata_v4.csv  hasclaim_water  \n",
       "7   dwelling_basedata_v4.csv  hasclaim_water  \n",
       "8   dwelling_basedata_v4.csv  hasclaim_water  \n",
       "9   dwelling_basedata_v4.csv  hasclaim_water  \n",
       "10  dwelling_basedata_v4.csv  hasclaim_water  \n",
       "11  dwelling_basedata_v4.csv  hasclaim_water  \n",
       "12  dwelling_basedata_v4.csv  hasclaim_water  \n",
       "13  dwelling_basedata_v4.csv  hasclaim_water  \n",
       "14  dwelling_basedata_v4.csv  hasclaim_water  \n",
       "15  dwelling_basedata_v4.csv  hasclaim_water  "
      ]
     },
     "execution_count": 35,
     "metadata": {},
     "output_type": "execute_result"
    }
   ],
   "source": [
    "Experiments   "
   ]
  },
  {
   "cell_type": "code",
   "execution_count": 36,
   "metadata": {},
   "outputs": [
    {
     "name": "stderr",
     "output_type": "stream",
     "text": [
      "INFO:botocore.credentials:Found credentials in shared credentials file: ~/.aws/credentials\n",
      "INFO:botocore.credentials:Found credentials in shared credentials file: ~/.aws/credentials\n"
     ]
    }
   ],
   "source": [
    "#should be run as a first step\n",
    "#role arn is used when run from a local machine\n",
    "role = 'arn:aws:iam::757107622481:role/service-role/AmazonSageMaker-ExecutionRole-20200819T131882'\n",
    "region = 'us-west-2'\n",
    "sm_sess = sagemaker.session.Session()\n",
    "sm = boto3.Session().client('sagemaker')"
   ]
  },
  {
   "cell_type": "code",
   "execution_count": 37,
   "metadata": {},
   "outputs": [],
   "source": [
    "#Experiments summaries\n",
    "from sagemaker.analytics import ExperimentAnalytics"
   ]
  },
  {
   "cell_type": "markdown",
   "metadata": {},
   "source": [
    "2. Extracting run time for each job registered in the experiments"
   ]
  },
  {
   "cell_type": "code",
   "execution_count": 38,
   "metadata": {},
   "outputs": [
    {
     "name": "stderr",
     "output_type": "stream",
     "text": [
      "INFO:botocore.credentials:Found credentials in shared credentials file: ~/.aws/credentials\n"
     ]
    },
    {
     "name": "stdout",
     "output_type": "stream",
     "text": [
      "Processing experiment: eta\n"
     ]
    },
    {
     "name": "stderr",
     "output_type": "stream",
     "text": [
      "INFO:botocore.credentials:Found credentials in shared credentials file: ~/.aws/credentials\n"
     ]
    },
    {
     "name": "stdout",
     "output_type": "stream",
     "text": [
      "Processing experiment: max-depth\n"
     ]
    },
    {
     "name": "stderr",
     "output_type": "stream",
     "text": [
      "INFO:botocore.credentials:Found credentials in shared credentials file: ~/.aws/credentials\n"
     ]
    },
    {
     "name": "stdout",
     "output_type": "stream",
     "text": [
      "Processing experiment: bytree\n"
     ]
    },
    {
     "name": "stderr",
     "output_type": "stream",
     "text": [
      "INFO:botocore.credentials:Found credentials in shared credentials file: ~/.aws/credentials\n"
     ]
    },
    {
     "name": "stdout",
     "output_type": "stream",
     "text": [
      "Processing experiment: weight\n"
     ]
    },
    {
     "name": "stderr",
     "output_type": "stream",
     "text": [
      "INFO:botocore.credentials:Found credentials in shared credentials file: ~/.aws/credentials\n"
     ]
    },
    {
     "name": "stdout",
     "output_type": "stream",
     "text": [
      "Processing experiment: bylevel\n"
     ]
    },
    {
     "name": "stderr",
     "output_type": "stream",
     "text": [
      "INFO:botocore.credentials:Found credentials in shared credentials file: ~/.aws/credentials\n"
     ]
    },
    {
     "name": "stdout",
     "output_type": "stream",
     "text": [
      "Processing experiment: subsample\n"
     ]
    },
    {
     "name": "stderr",
     "output_type": "stream",
     "text": [
      "INFO:botocore.credentials:Found credentials in shared credentials file: ~/.aws/credentials\n"
     ]
    },
    {
     "name": "stdout",
     "output_type": "stream",
     "text": [
      "Processing experiment: weight2\n"
     ]
    },
    {
     "name": "stderr",
     "output_type": "stream",
     "text": [
      "INFO:botocore.credentials:Found credentials in shared credentials file: ~/.aws/credentials\n"
     ]
    },
    {
     "name": "stdout",
     "output_type": "stream",
     "text": [
      "Processing experiment: delta\n"
     ]
    },
    {
     "name": "stderr",
     "output_type": "stream",
     "text": [
      "INFO:botocore.credentials:Found credentials in shared credentials file: ~/.aws/credentials\n"
     ]
    },
    {
     "name": "stdout",
     "output_type": "stream",
     "text": [
      "Processing experiment: delta2\n"
     ]
    },
    {
     "name": "stderr",
     "output_type": "stream",
     "text": [
      "INFO:botocore.credentials:Found credentials in shared credentials file: ~/.aws/credentials\n"
     ]
    },
    {
     "name": "stdout",
     "output_type": "stream",
     "text": [
      "Processing experiment: bf\n"
     ]
    },
    {
     "name": "stderr",
     "output_type": "stream",
     "text": [
      "INFO:botocore.credentials:Found credentials in shared credentials file: ~/.aws/credentials\n"
     ]
    },
    {
     "name": "stdout",
     "output_type": "stream",
     "text": [
      "Processing experiment: bf1\n"
     ]
    },
    {
     "name": "stderr",
     "output_type": "stream",
     "text": [
      "INFO:botocore.credentials:Found credentials in shared credentials file: ~/.aws/credentials\n"
     ]
    },
    {
     "name": "stdout",
     "output_type": "stream",
     "text": [
      "Processing experiment: bf2\n"
     ]
    },
    {
     "name": "stderr",
     "output_type": "stream",
     "text": [
      "INFO:botocore.credentials:Found credentials in shared credentials file: ~/.aws/credentials\n"
     ]
    },
    {
     "name": "stdout",
     "output_type": "stream",
     "text": [
      "Processing experiment: Fold1Eval\n"
     ]
    },
    {
     "name": "stderr",
     "output_type": "stream",
     "text": [
      "INFO:botocore.credentials:Found credentials in shared credentials file: ~/.aws/credentials\n"
     ]
    },
    {
     "name": "stdout",
     "output_type": "stream",
     "text": [
      "Processing experiment: AllFoldsEval\n"
     ]
    },
    {
     "name": "stderr",
     "output_type": "stream",
     "text": [
      "INFO:botocore.credentials:Found credentials in shared credentials file: ~/.aws/credentials\n"
     ]
    },
    {
     "name": "stdout",
     "output_type": "stream",
     "text": [
      "Processing experiment: pd\n"
     ]
    },
    {
     "name": "stderr",
     "output_type": "stream",
     "text": [
      "INFO:botocore.credentials:Found credentials in shared credentials file: ~/.aws/credentials\n"
     ]
    },
    {
     "name": "stdout",
     "output_type": "stream",
     "text": [
      "Processing experiment: prediction\n"
     ]
    },
    {
     "data": {
      "text/html": [
       "<div>\n",
       "<style scoped>\n",
       "    .dataframe tbody tr th:only-of-type {\n",
       "        vertical-align: middle;\n",
       "    }\n",
       "\n",
       "    .dataframe tbody tr th {\n",
       "        vertical-align: top;\n",
       "    }\n",
       "\n",
       "    .dataframe thead th {\n",
       "        text-align: right;\n",
       "    }\n",
       "</style>\n",
       "<table border=\"1\" class=\"dataframe\">\n",
       "  <thead>\n",
       "    <tr style=\"text-align: right;\">\n",
       "      <th></th>\n",
       "      <th>Experiment</th>\n",
       "      <th>Job Name</th>\n",
       "      <th>Job Type</th>\n",
       "      <th>ProcessingTimeInSeconds</th>\n",
       "      <th>BillableTimeInSeconds</th>\n",
       "      <th>TrainingTimeInSeconds</th>\n",
       "      <th>TransformingTimeInSeconds</th>\n",
       "      <th>InstanceType</th>\n",
       "      <th>InstanceCount</th>\n",
       "    </tr>\n",
       "  </thead>\n",
       "  <tbody>\n",
       "    <tr>\n",
       "      <th>0</th>\n",
       "      <td>max-depth</td>\n",
       "      <td>basemodel-0-2021-02-02-23-57-21</td>\n",
       "      <td>training-job</td>\n",
       "      <td>0.000</td>\n",
       "      <td>2168</td>\n",
       "      <td>2168</td>\n",
       "      <td>0.000</td>\n",
       "      <td>ml.c5.xlarge</td>\n",
       "      <td>1</td>\n",
       "    </tr>\n",
       "    <tr>\n",
       "      <th>1</th>\n",
       "      <td>max-depth</td>\n",
       "      <td>basemodel-1-2021-02-02-23-57-23</td>\n",
       "      <td>training-job</td>\n",
       "      <td>0.000</td>\n",
       "      <td>1890</td>\n",
       "      <td>1890</td>\n",
       "      <td>0.000</td>\n",
       "      <td>ml.c5.xlarge</td>\n",
       "      <td>1</td>\n",
       "    </tr>\n",
       "    <tr>\n",
       "      <th>2</th>\n",
       "      <td>max-depth</td>\n",
       "      <td>basemodel-7-2021-02-02-23-57-36</td>\n",
       "      <td>training-job</td>\n",
       "      <td>0.000</td>\n",
       "      <td>1707</td>\n",
       "      <td>1707</td>\n",
       "      <td>0.000</td>\n",
       "      <td>ml.c5.xlarge</td>\n",
       "      <td>1</td>\n",
       "    </tr>\n",
       "    <tr>\n",
       "      <th>3</th>\n",
       "      <td>max-depth</td>\n",
       "      <td>basemodel-3-2021-02-02-23-57-27</td>\n",
       "      <td>training-job</td>\n",
       "      <td>0.000</td>\n",
       "      <td>1740</td>\n",
       "      <td>1740</td>\n",
       "      <td>0.000</td>\n",
       "      <td>ml.c5.xlarge</td>\n",
       "      <td>1</td>\n",
       "    </tr>\n",
       "    <tr>\n",
       "      <th>4</th>\n",
       "      <td>max-depth</td>\n",
       "      <td>basemodel-5-2021-02-02-23-57-32</td>\n",
       "      <td>training-job</td>\n",
       "      <td>0.000</td>\n",
       "      <td>1590</td>\n",
       "      <td>1590</td>\n",
       "      <td>0.000</td>\n",
       "      <td>ml.c5.xlarge</td>\n",
       "      <td>1</td>\n",
       "    </tr>\n",
       "    <tr>\n",
       "      <th>...</th>\n",
       "      <td>...</td>\n",
       "      <td>...</td>\n",
       "      <td>...</td>\n",
       "      <td>...</td>\n",
       "      <td>...</td>\n",
       "      <td>...</td>\n",
       "      <td>...</td>\n",
       "      <td>...</td>\n",
       "      <td>...</td>\n",
       "    </tr>\n",
       "    <tr>\n",
       "      <th>166</th>\n",
       "      <td>pd</td>\n",
       "      <td>sagemaker-scikit-learn-2021-02-28-19-03-47-082</td>\n",
       "      <td>processing-job</td>\n",
       "      <td>183.260</td>\n",
       "      <td>0</td>\n",
       "      <td>0</td>\n",
       "      <td>0.000</td>\n",
       "      <td>ml.t3.2xlarge</td>\n",
       "      <td>1</td>\n",
       "    </tr>\n",
       "    <tr>\n",
       "      <th>167</th>\n",
       "      <td>pd</td>\n",
       "      <td>propertyagefold0-2021-02-28-18-56-39-119</td>\n",
       "      <td>transform-job</td>\n",
       "      <td>0.000</td>\n",
       "      <td>0</td>\n",
       "      <td>0</td>\n",
       "      <td>231.442</td>\n",
       "      <td>ml.m5.xlarge</td>\n",
       "      <td>16</td>\n",
       "    </tr>\n",
       "    <tr>\n",
       "      <th>168</th>\n",
       "      <td>pd</td>\n",
       "      <td>sagemaker-scikit-learn-2021-02-28-18-40-11-992</td>\n",
       "      <td>processing-job</td>\n",
       "      <td>747.462</td>\n",
       "      <td>0</td>\n",
       "      <td>0</td>\n",
       "      <td>0.000</td>\n",
       "      <td>ml.t3.2xlarge</td>\n",
       "      <td>1</td>\n",
       "    </tr>\n",
       "    <tr>\n",
       "      <th>169</th>\n",
       "      <td>prediction</td>\n",
       "      <td>propertyagefold0-2021-02-28-19-18-25-542</td>\n",
       "      <td>transform-job</td>\n",
       "      <td>0.000</td>\n",
       "      <td>0</td>\n",
       "      <td>0</td>\n",
       "      <td>121.821</td>\n",
       "      <td>ml.m5.xlarge</td>\n",
       "      <td>5</td>\n",
       "    </tr>\n",
       "    <tr>\n",
       "      <th>170</th>\n",
       "      <td>prediction</td>\n",
       "      <td>sagemaker-scikit-learn-2021-02-28-19-13-33-728</td>\n",
       "      <td>processing-job</td>\n",
       "      <td>22.298</td>\n",
       "      <td>0</td>\n",
       "      <td>0</td>\n",
       "      <td>0.000</td>\n",
       "      <td>ml.t3.2xlarge</td>\n",
       "      <td>1</td>\n",
       "    </tr>\n",
       "  </tbody>\n",
       "</table>\n",
       "<p>171 rows × 9 columns</p>\n",
       "</div>"
      ],
      "text/plain": [
       "     Experiment                                        Job Name  \\\n",
       "0     max-depth                 basemodel-0-2021-02-02-23-57-21   \n",
       "1     max-depth                 basemodel-1-2021-02-02-23-57-23   \n",
       "2     max-depth                 basemodel-7-2021-02-02-23-57-36   \n",
       "3     max-depth                 basemodel-3-2021-02-02-23-57-27   \n",
       "4     max-depth                 basemodel-5-2021-02-02-23-57-32   \n",
       "..          ...                                             ...   \n",
       "166          pd  sagemaker-scikit-learn-2021-02-28-19-03-47-082   \n",
       "167          pd        propertyagefold0-2021-02-28-18-56-39-119   \n",
       "168          pd  sagemaker-scikit-learn-2021-02-28-18-40-11-992   \n",
       "169  prediction        propertyagefold0-2021-02-28-19-18-25-542   \n",
       "170  prediction  sagemaker-scikit-learn-2021-02-28-19-13-33-728   \n",
       "\n",
       "           Job Type  ProcessingTimeInSeconds  BillableTimeInSeconds  \\\n",
       "0      training-job                    0.000                   2168   \n",
       "1      training-job                    0.000                   1890   \n",
       "2      training-job                    0.000                   1707   \n",
       "3      training-job                    0.000                   1740   \n",
       "4      training-job                    0.000                   1590   \n",
       "..              ...                      ...                    ...   \n",
       "166  processing-job                  183.260                      0   \n",
       "167   transform-job                    0.000                      0   \n",
       "168  processing-job                  747.462                      0   \n",
       "169   transform-job                    0.000                      0   \n",
       "170  processing-job                   22.298                      0   \n",
       "\n",
       "     TrainingTimeInSeconds  TransformingTimeInSeconds   InstanceType  \\\n",
       "0                     2168                      0.000   ml.c5.xlarge   \n",
       "1                     1890                      0.000   ml.c5.xlarge   \n",
       "2                     1707                      0.000   ml.c5.xlarge   \n",
       "3                     1740                      0.000   ml.c5.xlarge   \n",
       "4                     1590                      0.000   ml.c5.xlarge   \n",
       "..                     ...                        ...            ...   \n",
       "166                      0                      0.000  ml.t3.2xlarge   \n",
       "167                      0                    231.442   ml.m5.xlarge   \n",
       "168                      0                      0.000  ml.t3.2xlarge   \n",
       "169                      0                    121.821   ml.m5.xlarge   \n",
       "170                      0                      0.000  ml.t3.2xlarge   \n",
       "\n",
       "     InstanceCount  \n",
       "0                1  \n",
       "1                1  \n",
       "2                1  \n",
       "3                1  \n",
       "4                1  \n",
       "..             ...  \n",
       "166              1  \n",
       "167             16  \n",
       "168              1  \n",
       "169              5  \n",
       "170              1  \n",
       "\n",
       "[171 rows x 9 columns]"
      ]
     },
     "execution_count": 38,
     "metadata": {},
     "output_type": "execute_result"
    }
   ],
   "source": [
    "experiments_l = list()\n",
    "job_l = list()\n",
    "job_type_l = list()\n",
    "TransformingTimeInSeconds_l = list()\n",
    "ProcessingTimeInSeconds_l = list()\n",
    "BillableTimeInSeconds_l = list()\n",
    "TrainingTimeInSeconds_l = list()\n",
    "InstanceType_l = list()\n",
    "InstanceCount_l = list()\n",
    "for e in Experiments['Experiment']:\n",
    "    print('Processing experiment: %s'%e)\n",
    "    analytics = ExperimentAnalytics(experiment_name=e)\n",
    "    analytics_ds = analytics.dataframe()\n",
    "    if analytics_ds.empty:\n",
    "        continue\n",
    "    for j in analytics_ds['SourceArn'].values:\n",
    "        experiments_l.append(e)\n",
    "        job_name=j[j.index('/')+1:len(j)]\n",
    "        job_l.append(job_name)\n",
    "        if 'training-job' in j:\n",
    "            job_type_l.append('training-job')\n",
    "            job_desc=sm.describe_training_job(TrainingJobName=job_name)\n",
    "            try:\n",
    "                BillableTimeInSeconds_l.append(job_desc['BillableTimeInSeconds'])\n",
    "            except:\n",
    "                BillableTimeInSeconds_l.append(0)\n",
    "            try:\n",
    "                TrainingTimeInSeconds_l.append(job_desc['TrainingTimeInSeconds'])\n",
    "            except:\n",
    "                TrainingTimeInSeconds_l.append(0)\n",
    "            try:\n",
    "                InstanceType_l.append(job_desc['ResourceConfig']['InstanceType'])\n",
    "            except:\n",
    "                InstanceType_l.append(0)\n",
    "            try:\n",
    "                InstanceCount_l.append(job_desc['ResourceConfig']['InstanceCount'])\n",
    "            except:\n",
    "                InstanceCount_l.append(0)\n",
    "            ProcessingTimeInSeconds_l.append(0)\n",
    "            TransformingTimeInSeconds_l.append(0)            \n",
    "        elif 'processing-job' in j:\n",
    "            job_type_l.append('processing-job')        \n",
    "            job_desc=sm.describe_processing_job(ProcessingJobName=job_name)\n",
    "            try:\n",
    "                duration = job_desc['ProcessingEndTime'] - job_desc['ProcessingStartTime']\n",
    "                ProcessingTimeInSeconds_l.append(float(str(duration.seconds) +'.'+ str(duration.microseconds)))\n",
    "            except:\n",
    "                ProcessingTimeInSeconds_l.append(0)\n",
    "            try:\n",
    "                InstanceType_l.append(job_desc['ProcessingResources']['ClusterConfig']['InstanceType'])\n",
    "            except:\n",
    "                InstanceType_l.append(0)\n",
    "            try:\n",
    "                InstanceCount_l.append(job_desc['ProcessingResources']['ClusterConfig']['InstanceCount'])\n",
    "            except:\n",
    "                InstanceCount_l.append(0)\n",
    "            BillableTimeInSeconds_l.append(0)\n",
    "            TrainingTimeInSeconds_l.append(0)      \n",
    "            TransformingTimeInSeconds_l.append(0)\n",
    "        elif 'transform-job' in j:\n",
    "            job_type_l.append('transform-job')        \n",
    "            job_desc=sm.describe_transform_job(TransformJobName=job_name)\n",
    "            try:\n",
    "                duration = job_desc['TransformEndTime'] - job_desc['TransformStartTime']\n",
    "                TransformingTimeInSeconds_l.append(float(str(duration.seconds) +'.'+ str(duration.microseconds)))\n",
    "            except:\n",
    "                TransformingTimeInSeconds_l.append(0)\n",
    "            try:\n",
    "                InstanceType_l.append(job_desc['TransformResources']['InstanceType'])\n",
    "            except:\n",
    "                InstanceType_l.append(0)\n",
    "            try:\n",
    "                InstanceCount_l.append(job_desc['TransformResources']['InstanceCount'])\n",
    "            except:\n",
    "                InstanceCount_l.append(0)\n",
    "            BillableTimeInSeconds_l.append(0)\n",
    "            TrainingTimeInSeconds_l.append(0)  \n",
    "            ProcessingTimeInSeconds_l.append(0)\n",
    "JobsSummary = pd.DataFrame(list(zip(experiments_l, job_l, job_type_l, ProcessingTimeInSeconds_l, BillableTimeInSeconds_l, TrainingTimeInSeconds_l, TransformingTimeInSeconds_l, InstanceType_l, InstanceCount_l)), \n",
    "columns =['Experiment','Job Name', 'Job Type', 'ProcessingTimeInSeconds', 'BillableTimeInSeconds', 'TrainingTimeInSeconds', 'TransformingTimeInSeconds','InstanceType', 'InstanceCount'])\n",
    "JobsSummary"
   ]
  },
  {
   "cell_type": "markdown",
   "metadata": {},
   "source": [
    "3. Adding hourle instance price and recalculating total experiments cost. SAving to the log file"
   ]
  },
  {
   "cell_type": "code",
   "execution_count": 44,
   "metadata": {},
   "outputs": [
    {
     "data": {
      "text/html": [
       "<div>\n",
       "<style scoped>\n",
       "    .dataframe tbody tr th:only-of-type {\n",
       "        vertical-align: middle;\n",
       "    }\n",
       "\n",
       "    .dataframe tbody tr th {\n",
       "        vertical-align: top;\n",
       "    }\n",
       "\n",
       "    .dataframe thead th {\n",
       "        text-align: right;\n",
       "    }\n",
       "</style>\n",
       "<table border=\"1\" class=\"dataframe\">\n",
       "  <thead>\n",
       "    <tr style=\"text-align: right;\">\n",
       "      <th></th>\n",
       "      <th>Experiment</th>\n",
       "      <th>Job Name</th>\n",
       "      <th>Job Type</th>\n",
       "      <th>ProcessingTimeInSeconds</th>\n",
       "      <th>BillableTimeInSeconds</th>\n",
       "      <th>TrainingTimeInSeconds</th>\n",
       "      <th>TransformingTimeInSeconds</th>\n",
       "      <th>InstanceType</th>\n",
       "      <th>InstanceCount</th>\n",
       "      <th>TotalTimeHrs</th>\n",
       "      <th>PricePerHour</th>\n",
       "      <th>TotalPrice</th>\n",
       "    </tr>\n",
       "  </thead>\n",
       "  <tbody>\n",
       "    <tr>\n",
       "      <th>0</th>\n",
       "      <td>max-depth</td>\n",
       "      <td>basemodel-0-2021-02-02-23-57-21</td>\n",
       "      <td>training-job</td>\n",
       "      <td>0.0</td>\n",
       "      <td>2168</td>\n",
       "      <td>2168</td>\n",
       "      <td>0.0</td>\n",
       "      <td>ml.c5.xlarge</td>\n",
       "      <td>1</td>\n",
       "      <td>0.602222</td>\n",
       "      <td>0.238</td>\n",
       "      <td>0.143329</td>\n",
       "    </tr>\n",
       "    <tr>\n",
       "      <th>1</th>\n",
       "      <td>max-depth</td>\n",
       "      <td>basemodel-1-2021-02-02-23-57-23</td>\n",
       "      <td>training-job</td>\n",
       "      <td>0.0</td>\n",
       "      <td>1890</td>\n",
       "      <td>1890</td>\n",
       "      <td>0.0</td>\n",
       "      <td>ml.c5.xlarge</td>\n",
       "      <td>1</td>\n",
       "      <td>0.525000</td>\n",
       "      <td>0.238</td>\n",
       "      <td>0.124950</td>\n",
       "    </tr>\n",
       "    <tr>\n",
       "      <th>2</th>\n",
       "      <td>max-depth</td>\n",
       "      <td>basemodel-7-2021-02-02-23-57-36</td>\n",
       "      <td>training-job</td>\n",
       "      <td>0.0</td>\n",
       "      <td>1707</td>\n",
       "      <td>1707</td>\n",
       "      <td>0.0</td>\n",
       "      <td>ml.c5.xlarge</td>\n",
       "      <td>1</td>\n",
       "      <td>0.474167</td>\n",
       "      <td>0.238</td>\n",
       "      <td>0.112852</td>\n",
       "    </tr>\n",
       "    <tr>\n",
       "      <th>3</th>\n",
       "      <td>max-depth</td>\n",
       "      <td>basemodel-3-2021-02-02-23-57-27</td>\n",
       "      <td>training-job</td>\n",
       "      <td>0.0</td>\n",
       "      <td>1740</td>\n",
       "      <td>1740</td>\n",
       "      <td>0.0</td>\n",
       "      <td>ml.c5.xlarge</td>\n",
       "      <td>1</td>\n",
       "      <td>0.483333</td>\n",
       "      <td>0.238</td>\n",
       "      <td>0.115033</td>\n",
       "    </tr>\n",
       "    <tr>\n",
       "      <th>4</th>\n",
       "      <td>max-depth</td>\n",
       "      <td>basemodel-5-2021-02-02-23-57-32</td>\n",
       "      <td>training-job</td>\n",
       "      <td>0.0</td>\n",
       "      <td>1590</td>\n",
       "      <td>1590</td>\n",
       "      <td>0.0</td>\n",
       "      <td>ml.c5.xlarge</td>\n",
       "      <td>1</td>\n",
       "      <td>0.441667</td>\n",
       "      <td>0.238</td>\n",
       "      <td>0.105117</td>\n",
       "    </tr>\n",
       "  </tbody>\n",
       "</table>\n",
       "</div>"
      ],
      "text/plain": [
       "  Experiment                         Job Name      Job Type  \\\n",
       "0  max-depth  basemodel-0-2021-02-02-23-57-21  training-job   \n",
       "1  max-depth  basemodel-1-2021-02-02-23-57-23  training-job   \n",
       "2  max-depth  basemodel-7-2021-02-02-23-57-36  training-job   \n",
       "3  max-depth  basemodel-3-2021-02-02-23-57-27  training-job   \n",
       "4  max-depth  basemodel-5-2021-02-02-23-57-32  training-job   \n",
       "\n",
       "   ProcessingTimeInSeconds  BillableTimeInSeconds  TrainingTimeInSeconds  \\\n",
       "0                      0.0                   2168                   2168   \n",
       "1                      0.0                   1890                   1890   \n",
       "2                      0.0                   1707                   1707   \n",
       "3                      0.0                   1740                   1740   \n",
       "4                      0.0                   1590                   1590   \n",
       "\n",
       "   TransformingTimeInSeconds  InstanceType  InstanceCount  TotalTimeHrs  \\\n",
       "0                        0.0  ml.c5.xlarge              1      0.602222   \n",
       "1                        0.0  ml.c5.xlarge              1      0.525000   \n",
       "2                        0.0  ml.c5.xlarge              1      0.474167   \n",
       "3                        0.0  ml.c5.xlarge              1      0.483333   \n",
       "4                        0.0  ml.c5.xlarge              1      0.441667   \n",
       "\n",
       "   PricePerHour  TotalPrice  \n",
       "0         0.238    0.143329  \n",
       "1         0.238    0.124950  \n",
       "2         0.238    0.112852  \n",
       "3         0.238    0.115033  \n",
       "4         0.238    0.105117  "
      ]
     },
     "execution_count": 44,
     "metadata": {},
     "output_type": "execute_result"
    }
   ],
   "source": [
    "JobsSummary['TotalTimeHrs']=JobsSummary['InstanceCount']*JobsSummary['ProcessingTimeInSeconds']/60/60+JobsSummary['InstanceCount']*JobsSummary['BillableTimeInSeconds']/60/60+JobsSummary['InstanceCount']*JobsSummary['TransformingTimeInSeconds']/60/60\n",
    "JobsSummary['PricePerHour']=JobsSummary['InstanceType'].map(cost_map)\n",
    "JobsSummary['TotalPrice']=JobsSummary['TotalTimeHrs']*JobsSummary['PricePerHour']\n",
    "JobsSummary.head()"
   ]
  },
  {
   "cell_type": "code",
   "execution_count": 47,
   "metadata": {},
   "outputs": [],
   "source": [
    "#Saving into the Experiment log \n",
    "eu.SaveToExperimentLog(Experiments_file, 'Experiments Cost', JobsSummary)"
   ]
  },
  {
   "cell_type": "markdown",
   "metadata": {},
   "source": [
    "## Total experiments time if the instances weer run sequntually, not in parallel"
   ]
  },
  {
   "cell_type": "code",
   "execution_count": 46,
   "metadata": {},
   "outputs": [
    {
     "data": {
      "text/plain": [
       "38.48246888888889"
      ]
     },
     "execution_count": 46,
     "metadata": {},
     "output_type": "execute_result"
    }
   ],
   "source": [
    "JobsSummary['TotalTimeHrs'].sum()"
   ]
  },
  {
   "cell_type": "markdown",
   "metadata": {},
   "source": [
    "## Total experiments cost"
   ]
  },
  {
   "cell_type": "code",
   "execution_count": 45,
   "metadata": {},
   "outputs": [
    {
     "data": {
      "text/plain": [
       "9.206323516666666"
      ]
     },
     "execution_count": 45,
     "metadata": {},
     "output_type": "execute_result"
    }
   ],
   "source": [
    "JobsSummary['TotalPrice'].sum()"
   ]
  }
 ],
 "metadata": {
  "kernelspec": {
   "display_name": "Python 3",
   "language": "python",
   "name": "python3"
  },
  "language_info": {
   "codemirror_mode": {
    "name": "ipython",
    "version": 3
   },
   "file_extension": ".py",
   "mimetype": "text/x-python",
   "name": "python",
   "nbconvert_exporter": "python",
   "pygments_lexer": "ipython3",
   "version": "3.8.5"
  }
 },
 "nbformat": 4,
 "nbformat_minor": 4
}
