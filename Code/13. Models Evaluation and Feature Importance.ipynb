{
 "cells": [
  {
   "cell_type": "code",
   "execution_count": 1,
   "metadata": {},
   "outputs": [],
   "source": [
    "Experiments_file='/home/kate/Research/YearBuilt/Experiments/DwellingExperiments.xlsx'\n",
    "AllExperiments_tab='Experiments'\n",
    "Experiment_name='FinalFWC'\n",
    "#Experiment configuration:  \n",
    "#Predict on the same dataset/feature set but possible for different models (ModelFiles0\n",
    "#1.each line in the file contains the model name and set of features to built a dataset for prediction\n",
    "Experiment_Features_tab='%s Models'%Experiment_name\n",
    "#2.ModelFiles: each line is a model name (Model) and full model file name (ModelData - model.tar.gz) in an S3 bucket\n",
    "Experiment_ModelFiles_tab='%s ModelFiles'%Experiment_name\n",
    "\n",
    "#Looks like Trial name should be unique in my environment, not in the experiment it belongs to\n",
    "Trial_name='%s-Evaluation'%Experiment_name\n",
    " \n",
    "bucket='kdproperty'\n",
    "path_to_data_file='/Data/'\n",
    "\n",
    "instance_type='ml.m5.xlarge'\n",
    "instance_count=1\n",
    "\n",
    "split_year='2020'"
   ]
  },
  {
   "cell_type": "code",
   "execution_count": 2,
   "metadata": {},
   "outputs": [],
   "source": [
    "import boto3\n",
    "import sys\n",
    "import time\n",
    "import pandas as pd\n",
    "import numpy as np\n",
    "\n",
    "\n",
    "import sagemaker\n",
    "from sagemaker import get_execution_role\n",
    "from sagemaker.processing import ScriptProcessor\n",
    "from sagemaker.processing import ProcessingInput, ProcessingOutput\n",
    "\n",
    "from sagemaker.analytics import ExperimentAnalytics"
   ]
  },
  {
   "cell_type": "code",
   "execution_count": 3,
   "metadata": {},
   "outputs": [],
   "source": [
    "region = boto3.session.Session().region_name\n",
    "role = 'arn:aws:iam::757107622481:role/service-role/AmazonSageMaker-ExecutionRole-20200819T131882'\n",
    "sagemaker_session = sagemaker.session.Session(default_bucket=bucket)"
   ]
  },
  {
   "cell_type": "code",
   "execution_count": 4,
   "metadata": {},
   "outputs": [],
   "source": [
    "sys.path.append('/home/kate/Research/YearBuilt/Notebooks/Property')\n",
    "import ExperimentsUtils as eu"
   ]
  },
  {
   "cell_type": "code",
   "execution_count": 5,
   "metadata": {},
   "outputs": [
    {
     "name": "stderr",
     "output_type": "stream",
     "text": [
      "INFO:botocore.credentials:Found credentials in shared credentials file: ~/.aws/credentials\n"
     ]
    },
    {
     "name": "stdout",
     "output_type": "stream",
     "text": [
      "FinalFWC is a new experiment. nothing to delete\n"
     ]
    }
   ],
   "source": [
    "#delete experiment and trials but not output files associated with jobs in experiments\n",
    "eu.cleanup_experiment(Experiment_name)\n",
    "#eu.cleanup_trial(Experiment_name, Trial_name)"
   ]
  },
  {
   "cell_type": "code",
   "execution_count": 6,
   "metadata": {},
   "outputs": [
    {
     "name": "stderr",
     "output_type": "stream",
     "text": [
      "INFO:botocore.credentials:Found credentials in shared credentials file: ~/.aws/credentials\n",
      "INFO:botocore.credentials:Found credentials in shared credentials file: ~/.aws/credentials\n",
      "INFO:botocore.credentials:Found credentials in shared credentials file: ~/.aws/credentials\n",
      "INFO:botocore.credentials:Found credentials in shared credentials file: ~/.aws/credentials\n"
     ]
    }
   ],
   "source": [
    "eu.create_experiment(Experiment_name)\n",
    "eu.create_trial(Experiment_name,Trial_name)"
   ]
  },
  {
   "cell_type": "code",
   "execution_count": 7,
   "metadata": {},
   "outputs": [
    {
     "name": "stdout",
     "output_type": "stream",
     "text": [
      "hasclaim_water\n",
      "dwelling_basedata_v4.csv\n"
     ]
    }
   ],
   "source": [
    "experiments = pd.read_excel(open(Experiments_file, 'rb'), sheet_name=AllExperiments_tab)\n",
    "target=experiments[experiments['Experiment']==Experiment_name]['Target'].values[0]\n",
    "print(target)\n",
    "data_file=experiments[experiments['Experiment']==Experiment_name]['Dataset'].values[0]\n",
    "print(data_file)"
   ]
  },
  {
   "cell_type": "code",
   "execution_count": 8,
   "metadata": {},
   "outputs": [
    {
     "data": {
      "text/html": [
       "<div>\n",
       "<style scoped>\n",
       "    .dataframe tbody tr th:only-of-type {\n",
       "        vertical-align: middle;\n",
       "    }\n",
       "\n",
       "    .dataframe tbody tr th {\n",
       "        vertical-align: top;\n",
       "    }\n",
       "\n",
       "    .dataframe thead th {\n",
       "        text-align: right;\n",
       "    }\n",
       "</style>\n",
       "<table border=\"1\" class=\"dataframe\">\n",
       "  <thead>\n",
       "    <tr style=\"text-align: right;\">\n",
       "      <th></th>\n",
       "      <th>Model</th>\n",
       "      <th>Trial Component</th>\n",
       "      <th>ModelData</th>\n",
       "    </tr>\n",
       "  </thead>\n",
       "  <tbody>\n",
       "    <tr>\n",
       "      <th>0</th>\n",
       "      <td>FWaterClaims</td>\n",
       "      <td>FWaterClaims-TrainingModels-FWaterClaims</td>\n",
       "      <td>s3://kdproperty/FWaterClaims-2020-12-31-20-15-...</td>\n",
       "    </tr>\n",
       "  </tbody>\n",
       "</table>\n",
       "</div>"
      ],
      "text/plain": [
       "          Model                           Trial Component  \\\n",
       "0  FWaterClaims  FWaterClaims-TrainingModels-FWaterClaims   \n",
       "\n",
       "                                           ModelData  \n",
       "0  s3://kdproperty/FWaterClaims-2020-12-31-20-15-...  "
      ]
     },
     "execution_count": 8,
     "metadata": {},
     "output_type": "execute_result"
    }
   ],
   "source": [
    "models_ModelFiles = pd.read_excel(open(Experiments_file, 'rb'), sheet_name=Experiment_ModelFiles_tab)\n",
    "models_ModelFiles"
   ]
  },
  {
   "cell_type": "code",
   "execution_count": 9,
   "metadata": {},
   "outputs": [
    {
     "name": "stdout",
     "output_type": "stream",
     "text": [
      "0 : Creating datasets for model FWaterClaims\n",
      "usagetype_encd,cova_deductible,cova_limit ,sqft,cal_year - yearbuilt,landlordind,water_risk_3_blk,constructioncd_encd\n"
     ]
    }
   ],
   "source": [
    "models = pd.read_excel(open(Experiments_file, 'rb'), sheet_name=Experiment_Features_tab)\n",
    "#take into account only first row\n",
    "#all models are run on the same featureset and dataset\n",
    "for index, row in models.iterrows():\n",
    "    model=row['Model']\n",
    "    print (index, ': Creating datasets for model %s'%model)\n",
    "    featureset=row[1:51].tolist()\n",
    "    featureset=[x for x in featureset if str(x) != 'nan']\n",
    "    break\n",
    "print(','.join(featureset))"
   ]
  },
  {
   "cell_type": "code",
   "execution_count": 10,
   "metadata": {},
   "outputs": [
    {
     "name": "stdout",
     "output_type": "stream",
     "text": [
      "Overwriting evaluation.py\n"
     ]
    }
   ],
   "source": [
    "%%writefile evaluation.py\n",
    "import argparse\n",
    "import os\n",
    "import pathlib\n",
    "import pickle\n",
    "import tarfile\n",
    "import joblib\n",
    "import numpy as np\n",
    "import pandas as pd\n",
    "import xgboost\n",
    "\n",
    "\n",
    "#Evaluation metric\n",
    "from sklearn.metrics import roc_auc_score\n",
    "#To estimate models performance we need a custom gini function\n",
    "def gini(y, pred):\n",
    "    g = np.asarray(np.c_[y, pred, np.arange(len(y)) ], dtype=np.float)\n",
    "    g = g[np.lexsort((g[:,2], -1*g[:,1]))]\n",
    "    gs = g[:,0].cumsum().sum() / g[:,0].sum()\n",
    "    gs -= (len(y) + 1) / 2.\n",
    "    return gs / len(y)\n",
    "\n",
    "def create_fmap(ModelName,featureset):\n",
    "    fmap_filename='%s.fmap'%ModelName\n",
    "    outfile = open(fmap_filename, 'w')\n",
    "    for i, feat in enumerate(featureset):\n",
    "        outfile.write('{0}\\t{1}\\tq\\n'.format(i, feat))\n",
    "    outfile.close()\n",
    "    return fmap_filename\n",
    "\n",
    "if __name__=='__main__':\n",
    "    \n",
    "    parser = argparse.ArgumentParser()\n",
    "    parser.add_argument('--data_file', type=str)\n",
    "    parser.add_argument('--split_year', type=int)       \n",
    "    parser.add_argument('--model', type=str)\n",
    "    parser.add_argument('--featureset', type=str)     \n",
    "    parser.add_argument('--target', type=str)\n",
    "    args, _ = parser.parse_known_args()    \n",
    "    print('Received arguments {}'.format(args))\n",
    "    \n",
    "    featureset=args.featureset.split(',')\n",
    "    model_path = '/opt/ml/processing/input/model/model.tar.gz'\n",
    "    input_data_path = os.path.join('/opt/ml/processing/input', args.data_file)\n",
    "    metrics_data_path = '/opt/ml/processing/output_metrics/metrics.csv'\n",
    "    importance_data_path = '/opt/ml/processing/output_importance/importance.csv'\n",
    "    prediction_data_path = '/opt/ml/processing/output_prediction/prediction.csv' \n",
    "    \n",
    "    print('Reading model from file %s'%model_path)\n",
    "    with tarfile.open(model_path) as tar:\n",
    "        tar.extractall(path=\".\")\n",
    "    \n",
    "    model = pickle.load(open('xgboost-model','rb'))\n",
    "\n",
    "    print('Reading dataset from %s'%input_data_path)\n",
    "    dataset = pd.read_csv(input_data_path, error_bad_lines=False, index_col=False)\n",
    "    \n",
    "    print('Creating dataset for prediction')\n",
    "    test_dataset = pd.DataFrame()\n",
    "    for f in featureset:\n",
    "        print(f)\n",
    "        test_dataset[f]=dataset.eval(f)\n",
    "        \n",
    "    print('Creating DMatrix from dataset for prediction')\n",
    "    X_test = xgboost.DMatrix(test_dataset.values)\n",
    "    \n",
    "    print('Prediction')\n",
    "    predictions = model.predict(X_test)\n",
    "    dataset[args.model]=predictions\n",
    "    dataset[[args.model]].to_csv(prediction_data_path, header=True, index=False)\n",
    "    \n",
    "    print('Evaluation')\n",
    "    test_roc_auc=roc_auc_score(dataset[(dataset.cal_year == args.split_year)][args.target], dataset[(dataset.cal_year == args.split_year)][args.model])\n",
    "    train_roc_auc=roc_auc_score(dataset[(dataset.cal_year < args.split_year)][args.target], dataset[(dataset.cal_year < args.split_year)][args.model])\n",
    "    \n",
    "    test_gini=gini(dataset[(dataset.cal_year == args.split_year)][args.target],dataset[(dataset.cal_year == args.split_year)][args.model])/gini(dataset[(dataset.cal_year == args.split_year)][args.target],dataset[(dataset.cal_year == args.split_year)][args.target])\n",
    "    train_gini=gini(dataset[(dataset.cal_year < args.split_year)][args.target],dataset[(dataset.cal_year < args.split_year)][args.model])/gini(dataset[(dataset.cal_year < args.split_year)][args.target],dataset[(dataset.cal_year < args.split_year)][args.target])\n",
    "    \n",
    "    TestingDataResults = pd.DataFrame(list(zip([args.model],[train_roc_auc],[test_roc_auc],[train_gini],[test_gini])), \n",
    "               columns =['Model','Train ROC-AUC','Test ROC-AUC','Train gini','Test gini'])\n",
    "    \n",
    "    TestingDataResults.to_csv(metrics_data_path, header=True, index=False)\n",
    "    \n",
    "    print('Feature Importance')\n",
    "    \n",
    "    fmap_filename=create_fmap(args.model,featureset)\n",
    "    feat_imp = pd.Series(model.get_score(fmap=fmap_filename,importance_type='weight')).to_frame()\n",
    "    feat_imp.columns=['Weight']\n",
    "    feat_imp = feat_imp.join(pd.Series(model.get_score(fmap=fmap_filename,importance_type='gain')).to_frame())\n",
    "    feat_imp.columns=['Weight','Gain']\n",
    "    feat_imp = feat_imp.join(pd.Series(model.get_score(fmap=fmap_filename,importance_type='cover')).to_frame())\n",
    "    feat_imp.columns=['Weight','Gain','Cover']\n",
    "    feat_imp['FeatureName'] = feat_imp.index\n",
    "    feat_imp['Model'] = args.model\n",
    "    \n",
    "    feat_imp.to_csv(importance_data_path, header=True, index=False)"
   ]
  },
  {
   "cell_type": "code",
   "execution_count": 11,
   "metadata": {},
   "outputs": [
    {
     "name": "stderr",
     "output_type": "stream",
     "text": [
      "WARNING:sagemaker.deprecations:The method get_image_uri has been renamed in sagemaker>=2.\n",
      "See: https://sagemaker.readthedocs.io/en/stable/v2.html for details.\n",
      "INFO:sagemaker.image_uris:Same images used for training and inference. Defaulting to image scope: inference.\n",
      "INFO:sagemaker.image_uris:Defaulting to only available Python version: py3\n",
      "INFO:sagemaker.image_uris:Defaulting to only supported image scope: cpu.\n",
      "INFO:botocore.credentials:Found credentials in shared credentials file: ~/.aws/credentials\n"
     ]
    },
    {
     "name": "stdout",
     "output_type": "stream",
     "text": [
      "0 : Prediction from model FWaterClaims\n"
     ]
    },
    {
     "name": "stderr",
     "output_type": "stream",
     "text": [
      "INFO:sagemaker:Creating processing-job with name FWaterClaims-2020-12-31-20-27-00-855\n"
     ]
    },
    {
     "name": "stdout",
     "output_type": "stream",
     "text": [
      "\n",
      "Job Name:  FWaterClaims-2020-12-31-20-27-00-855\n",
      "Inputs:  [{'InputName': 'input-1', 'AppManaged': False, 'S3Input': {'S3Uri': 's3://kdproperty/Data/dwelling_basedata_v4.csv', 'LocalPath': '/opt/ml/processing/input', 'S3DataType': 'S3Prefix', 'S3InputMode': 'File', 'S3DataDistributionType': 'FullyReplicated', 'S3CompressionType': 'None'}}, {'InputName': 'input-2', 'AppManaged': False, 'S3Input': {'S3Uri': 's3://kdproperty/FWaterClaims-2020-12-31-20-15-33/output/model.tar.gz', 'LocalPath': '/opt/ml/processing/input/model', 'S3DataType': 'S3Prefix', 'S3InputMode': 'File', 'S3DataDistributionType': 'FullyReplicated', 'S3CompressionType': 'None'}}, {'InputName': 'code', 'AppManaged': False, 'S3Input': {'S3Uri': 's3://sagemaker-us-west-2-757107622481/FWaterClaims-2020-12-31-20-27-00-855/input/code/evaluation.py', 'LocalPath': '/opt/ml/processing/input/code', 'S3DataType': 'S3Prefix', 'S3InputMode': 'File', 'S3DataDistributionType': 'FullyReplicated', 'S3CompressionType': 'None'}}]\n",
      "Outputs:  [{'OutputName': 'metrics', 'AppManaged': False, 'S3Output': {'S3Uri': 's3://kdproperty/Data/output_metrics/FWaterClaims', 'LocalPath': '/opt/ml/processing/output_metrics', 'S3UploadMode': 'EndOfJob'}}, {'OutputName': 'importance', 'AppManaged': False, 'S3Output': {'S3Uri': 's3://kdproperty/Data/output_importance/FWaterClaims', 'LocalPath': '/opt/ml/processing/output_importance', 'S3UploadMode': 'EndOfJob'}}, {'OutputName': 'prediction', 'AppManaged': False, 'S3Output': {'S3Uri': 's3://kdproperty/Data/output_prediction/FWaterClaims', 'LocalPath': '/opt/ml/processing/output_prediction', 'S3UploadMode': 'EndOfJob'}}]\n"
     ]
    }
   ],
   "source": [
    "from sagemaker.amazon.amazon_estimator import get_image_uri\n",
    "processors=list()\n",
    "image_uri = get_image_uri(boto3.Session().region_name,\n",
    "                          'xgboost', \n",
    "                          repo_version='1.0-1') \n",
    "\n",
    "for index, row in models_ModelFiles.iterrows():\n",
    "    model=row['Model']\n",
    "    print (index, ': Prediction from model %s'%model)\n",
    "\n",
    "    data_processor = ScriptProcessor(\n",
    "    image_uri=image_uri,\n",
    "    command=['python3'],\n",
    "    instance_type=instance_type,\n",
    "    instance_count=instance_count,\n",
    "    base_job_name=model.replace('_','-'),\n",
    "    role=role)\n",
    "\n",
    "    data_processor.run(code='evaluation.py',\n",
    "                        inputs=[ProcessingInput(\n",
    "                        source='s3://%s%s'%(bucket,path_to_data_file+data_file),\n",
    "                        destination='/opt/ml/processing/input'),\n",
    "                                ProcessingInput(\n",
    "                        source=row['ModelData'],\n",
    "                        destination='/opt/ml/processing/input/model'),                              \n",
    "                               ],\n",
    "                        outputs=[ProcessingOutput(output_name='metrics', source='/opt/ml/processing/output_metrics', destination='s3://%s%soutput_metrics/%s'%(bucket,path_to_data_file,model)),\n",
    "                        ProcessingOutput(output_name='importance', source='/opt/ml/processing/output_importance', destination='s3://%s%soutput_importance/%s'%(bucket,path_to_data_file,model)) ,\n",
    "                        ProcessingOutput(output_name='prediction', source='/opt/ml/processing/output_prediction', destination='s3://%s%soutput_prediction/%s'%(bucket,path_to_data_file,model))\n",
    "                                ],\n",
    "                        arguments=['--data_file',data_file,                                 \n",
    "                                 '--model',model,\n",
    "                                 '--featureset', ','.join(featureset).replace(' ',''),\n",
    "                                 '--target',target,\n",
    "                                 '--split_year',split_year],\n",
    "                        experiment_config = {\n",
    "        'ExperimentName': Experiment_name ,\n",
    "        'TrialName' : Trial_name,\n",
    "        'TrialComponentDisplayName' : '%s-%s'%(Trial_name,model.replace('_','-')),},\n",
    "                        wait=False\n",
    "                        )\n",
    "    processors.append(data_processor)"
   ]
  },
  {
   "cell_type": "code",
   "execution_count": 12,
   "metadata": {},
   "outputs": [
    {
     "name": "stdout",
     "output_type": "stream",
     "text": [
      "Processing job FWaterClaims-2020-12-31-20-27-00-855 status: InProgress\n",
      "Continue waiting...\n",
      "Processing job FWaterClaims-2020-12-31-20-27-00-855 status: InProgress\n",
      "Continue waiting...\n",
      "All Processing Jobs are Completed\n"
     ]
    }
   ],
   "source": [
    "#wait till the rest of processing jobs complete\n",
    "eu.wait_processing_jobs(processors=processors,check_every_sec=10,print_every_n_output=10,wait_min=60)"
   ]
  },
  {
   "cell_type": "code",
   "execution_count": 13,
   "metadata": {},
   "outputs": [
    {
     "name": "stderr",
     "output_type": "stream",
     "text": [
      "INFO:botocore.credentials:Found credentials in shared credentials file: ~/.aws/credentials\n"
     ]
    },
    {
     "data": {
      "text/html": [
       "<div>\n",
       "<style scoped>\n",
       "    .dataframe tbody tr th:only-of-type {\n",
       "        vertical-align: middle;\n",
       "    }\n",
       "\n",
       "    .dataframe tbody tr th {\n",
       "        vertical-align: top;\n",
       "    }\n",
       "\n",
       "    .dataframe thead th {\n",
       "        text-align: right;\n",
       "    }\n",
       "</style>\n",
       "<table border=\"1\" class=\"dataframe\">\n",
       "  <thead>\n",
       "    <tr style=\"text-align: right;\">\n",
       "      <th></th>\n",
       "      <th>Trial Component</th>\n",
       "      <th>Model Scores</th>\n",
       "      <th>Feature Importance</th>\n",
       "      <th>Prediction Data</th>\n",
       "    </tr>\n",
       "  </thead>\n",
       "  <tbody>\n",
       "    <tr>\n",
       "      <th>0</th>\n",
       "      <td>FinalFWC-Evaluation-FWaterClaims</td>\n",
       "      <td>s3://kdproperty/Data/output_metrics/FWaterClaims</td>\n",
       "      <td>s3://kdproperty/Data/output_importance/FWaterC...</td>\n",
       "      <td>s3://kdproperty/Data/output_prediction/FWaterC...</td>\n",
       "    </tr>\n",
       "  </tbody>\n",
       "</table>\n",
       "</div>"
      ],
      "text/plain": [
       "                    Trial Component  \\\n",
       "0  FinalFWC-Evaluation-FWaterClaims   \n",
       "\n",
       "                                       Model Scores  \\\n",
       "0  s3://kdproperty/Data/output_metrics/FWaterClaims   \n",
       "\n",
       "                                  Feature Importance  \\\n",
       "0  s3://kdproperty/Data/output_importance/FWaterC...   \n",
       "\n",
       "                                     Prediction Data  \n",
       "0  s3://kdproperty/Data/output_prediction/FWaterC...  "
      ]
     },
     "execution_count": 13,
     "metadata": {},
     "output_type": "execute_result"
    }
   ],
   "source": [
    "trial_component_analytics = ExperimentAnalytics(\n",
    "    experiment_name=Experiment_name\n",
    ")\n",
    "trial_comp_ds = trial_component_analytics.dataframe()\n",
    "trial_ds=trial_comp_ds[trial_comp_ds['DisplayName'].str.contains(Trial_name)].copy()\n",
    "trial_ds=trial_ds[['DisplayName','metrics - Value','importance - Value','prediction - Value']]\n",
    "trial_ds.columns=['Trial Component','Model Scores','Feature Importance','Prediction Data']\n",
    "trial_ds"
   ]
  },
  {
   "cell_type": "code",
   "execution_count": 14,
   "metadata": {},
   "outputs": [],
   "source": [
    "#Saving into the Experiment log location of the created  dataset\n",
    "eu.SaveToExperimentLog(Experiments_file, '%s OutputData'%Experiment_name, trial_ds)"
   ]
  },
  {
   "cell_type": "code",
   "execution_count": 15,
   "metadata": {},
   "outputs": [
    {
     "name": "stderr",
     "output_type": "stream",
     "text": [
      "INFO:botocore.credentials:Found credentials in shared credentials file: ~/.aws/credentials\n"
     ]
    }
   ],
   "source": [
    "#to read data from S3 with pandas\n",
    "import s3fs\n",
    "s3 = s3fs.S3FileSystem()"
   ]
  },
  {
   "cell_type": "code",
   "execution_count": 16,
   "metadata": {},
   "outputs": [
    {
     "data": {
      "text/html": [
       "<div>\n",
       "<style scoped>\n",
       "    .dataframe tbody tr th:only-of-type {\n",
       "        vertical-align: middle;\n",
       "    }\n",
       "\n",
       "    .dataframe tbody tr th {\n",
       "        vertical-align: top;\n",
       "    }\n",
       "\n",
       "    .dataframe thead th {\n",
       "        text-align: right;\n",
       "    }\n",
       "</style>\n",
       "<table border=\"1\" class=\"dataframe\">\n",
       "  <thead>\n",
       "    <tr style=\"text-align: right;\">\n",
       "      <th></th>\n",
       "      <th>Trial Component</th>\n",
       "      <th>Model Scores</th>\n",
       "      <th>Feature Importance</th>\n",
       "      <th>Prediction Data</th>\n",
       "    </tr>\n",
       "  </thead>\n",
       "  <tbody>\n",
       "    <tr>\n",
       "      <th>0</th>\n",
       "      <td>FinalFWC-Evaluation-FWaterClaims</td>\n",
       "      <td>s3://kdproperty/Data/output_metrics/FWaterClaims</td>\n",
       "      <td>s3://kdproperty/Data/output_importance/FWaterC...</td>\n",
       "      <td>s3://kdproperty/Data/output_prediction/FWaterC...</td>\n",
       "    </tr>\n",
       "  </tbody>\n",
       "</table>\n",
       "</div>"
      ],
      "text/plain": [
       "                    Trial Component  \\\n",
       "0  FinalFWC-Evaluation-FWaterClaims   \n",
       "\n",
       "                                       Model Scores  \\\n",
       "0  s3://kdproperty/Data/output_metrics/FWaterClaims   \n",
       "\n",
       "                                  Feature Importance  \\\n",
       "0  s3://kdproperty/Data/output_importance/FWaterC...   \n",
       "\n",
       "                                     Prediction Data  \n",
       "0  s3://kdproperty/Data/output_prediction/FWaterC...  "
      ]
     },
     "execution_count": 16,
     "metadata": {},
     "output_type": "execute_result"
    }
   ],
   "source": [
    "OutputData = pd.read_excel(open(Experiments_file, 'rb'), sheet_name='%s OutputData'%Experiment_name[0:29])\n",
    "OutputData"
   ]
  },
  {
   "cell_type": "code",
   "execution_count": 17,
   "metadata": {},
   "outputs": [
    {
     "name": "stderr",
     "output_type": "stream",
     "text": [
      "INFO:botocore.credentials:Found credentials in shared credentials file: ~/.aws/credentials\n"
     ]
    }
   ],
   "source": [
    "Scores = pd.DataFrame()\n",
    "for index, row in OutputData.iterrows():\n",
    "    ModelScores=pd.read_csv(row['Model Scores']+'/metrics.csv',  error_bad_lines=False, index_col=False) \n",
    "    Scores = Scores.append(ModelScores, ignore_index=True)"
   ]
  },
  {
   "cell_type": "code",
   "execution_count": 18,
   "metadata": {},
   "outputs": [
    {
     "data": {
      "text/html": [
       "<div>\n",
       "<style scoped>\n",
       "    .dataframe tbody tr th:only-of-type {\n",
       "        vertical-align: middle;\n",
       "    }\n",
       "\n",
       "    .dataframe tbody tr th {\n",
       "        vertical-align: top;\n",
       "    }\n",
       "\n",
       "    .dataframe thead th {\n",
       "        text-align: right;\n",
       "    }\n",
       "</style>\n",
       "<table border=\"1\" class=\"dataframe\">\n",
       "  <thead>\n",
       "    <tr style=\"text-align: right;\">\n",
       "      <th></th>\n",
       "      <th>Model</th>\n",
       "      <th>Train ROC-AUC</th>\n",
       "      <th>Test ROC-AUC</th>\n",
       "      <th>Train gini</th>\n",
       "      <th>Test gini</th>\n",
       "    </tr>\n",
       "  </thead>\n",
       "  <tbody>\n",
       "    <tr>\n",
       "      <th>0</th>\n",
       "      <td>FWaterClaims</td>\n",
       "      <td>0.723898</td>\n",
       "      <td>0.710007</td>\n",
       "      <td>0.447795</td>\n",
       "      <td>0.420013</td>\n",
       "    </tr>\n",
       "  </tbody>\n",
       "</table>\n",
       "</div>"
      ],
      "text/plain": [
       "          Model  Train ROC-AUC  Test ROC-AUC  Train gini  Test gini\n",
       "0  FWaterClaims       0.723898      0.710007    0.447795   0.420013"
      ]
     },
     "execution_count": 18,
     "metadata": {},
     "output_type": "execute_result"
    }
   ],
   "source": [
    "Scores=Scores.sort_values('Test ROC-AUC', ascending=False)\n",
    "Scores"
   ]
  },
  {
   "cell_type": "code",
   "execution_count": 19,
   "metadata": {},
   "outputs": [],
   "source": [
    "#Saving into the Experiment log \n",
    "eu.SaveToExperimentLog(Experiments_file, '%s Scores'%Experiment_name, Scores)"
   ]
  },
  {
   "cell_type": "code",
   "execution_count": 20,
   "metadata": {},
   "outputs": [
    {
     "data": {
      "text/plain": [
       "<matplotlib.axes._subplots.AxesSubplot at 0x7f0ab03dae80>"
      ]
     },
     "execution_count": 20,
     "metadata": {},
     "output_type": "execute_result"
    },
    {
     "data": {
      "image/png": "[encoded data removed]",
      "text/plain": [
       "<Figure size 1080x720 with 1 Axes>"
      ]
     },
     "metadata": {
      "needs_background": "light"
     },
     "output_type": "display_data"
    }
   ],
   "source": [
    "import matplotlib.pyplot as plt\n",
    "fig = plt.figure()\n",
    "fig.set_size_inches([15, 10])\n",
    "Scores.plot.bar('Model', 'Test ROC-AUC',ax=plt.gca())"
   ]
  },
  {
   "cell_type": "code",
   "execution_count": 21,
   "metadata": {},
   "outputs": [],
   "source": [
    "FeatureImportance = pd.DataFrame()\n",
    "for index, row in OutputData.iterrows():\n",
    "    ModelFeatureImportance=pd.read_csv(row['Feature Importance']+'/importance.csv',  error_bad_lines=False, index_col=False) \n",
    "    FeatureImportance = FeatureImportance.append(ModelFeatureImportance, ignore_index=True)"
   ]
  },
  {
   "cell_type": "code",
   "execution_count": 22,
   "metadata": {},
   "outputs": [
    {
     "data": {
      "text/html": [
       "<div>\n",
       "<style scoped>\n",
       "    .dataframe tbody tr th:only-of-type {\n",
       "        vertical-align: middle;\n",
       "    }\n",
       "\n",
       "    .dataframe tbody tr th {\n",
       "        vertical-align: top;\n",
       "    }\n",
       "\n",
       "    .dataframe thead th {\n",
       "        text-align: right;\n",
       "    }\n",
       "</style>\n",
       "<table border=\"1\" class=\"dataframe\">\n",
       "  <thead>\n",
       "    <tr style=\"text-align: right;\">\n",
       "      <th></th>\n",
       "      <th>Weight</th>\n",
       "      <th>Gain</th>\n",
       "      <th>Cover</th>\n",
       "      <th>FeatureName</th>\n",
       "      <th>Model</th>\n",
       "    </tr>\n",
       "  </thead>\n",
       "  <tbody>\n",
       "    <tr>\n",
       "      <th>0</th>\n",
       "      <td>1027</td>\n",
       "      <td>2.795279</td>\n",
       "      <td>1718.485591</td>\n",
       "      <td>cal_year-yearbuilt</td>\n",
       "      <td>FWaterClaims</td>\n",
       "    </tr>\n",
       "    <tr>\n",
       "      <th>1</th>\n",
       "      <td>816</td>\n",
       "      <td>1.866884</td>\n",
       "      <td>1188.267660</td>\n",
       "      <td>water_risk_3_blk</td>\n",
       "      <td>FWaterClaims</td>\n",
       "    </tr>\n",
       "    <tr>\n",
       "      <th>2</th>\n",
       "      <td>444</td>\n",
       "      <td>2.813730</td>\n",
       "      <td>1764.125248</td>\n",
       "      <td>cova_deductible</td>\n",
       "      <td>FWaterClaims</td>\n",
       "    </tr>\n",
       "    <tr>\n",
       "      <th>3</th>\n",
       "      <td>1078</td>\n",
       "      <td>1.219548</td>\n",
       "      <td>613.009188</td>\n",
       "      <td>cova_limit</td>\n",
       "      <td>FWaterClaims</td>\n",
       "    </tr>\n",
       "    <tr>\n",
       "      <th>4</th>\n",
       "      <td>1121</td>\n",
       "      <td>1.466397</td>\n",
       "      <td>559.878058</td>\n",
       "      <td>sqft</td>\n",
       "      <td>FWaterClaims</td>\n",
       "    </tr>\n",
       "  </tbody>\n",
       "</table>\n",
       "</div>"
      ],
      "text/plain": [
       "   Weight      Gain        Cover         FeatureName         Model\n",
       "0    1027  2.795279  1718.485591  cal_year-yearbuilt  FWaterClaims\n",
       "1     816  1.866884  1188.267660    water_risk_3_blk  FWaterClaims\n",
       "2     444  2.813730  1764.125248     cova_deductible  FWaterClaims\n",
       "3    1078  1.219548   613.009188          cova_limit  FWaterClaims\n",
       "4    1121  1.466397   559.878058                sqft  FWaterClaims"
      ]
     },
     "execution_count": 22,
     "metadata": {},
     "output_type": "execute_result"
    }
   ],
   "source": [
    "FeatureImportance.head()"
   ]
  },
  {
   "cell_type": "code",
   "execution_count": 23,
   "metadata": {},
   "outputs": [],
   "source": [
    "#Saving into the Experiment log \n",
    "eu.SaveToExperimentLog(Experiments_file, '%s FI'%Experiment_name, FeatureImportance)"
   ]
  },
  {
   "cell_type": "code",
   "execution_count": 24,
   "metadata": {},
   "outputs": [
    {
     "data": {
      "text/html": [
       "<div>\n",
       "<style scoped>\n",
       "    .dataframe tbody tr th:only-of-type {\n",
       "        vertical-align: middle;\n",
       "    }\n",
       "\n",
       "    .dataframe tbody tr th {\n",
       "        vertical-align: top;\n",
       "    }\n",
       "\n",
       "    .dataframe thead th {\n",
       "        text-align: right;\n",
       "    }\n",
       "</style>\n",
       "<table border=\"1\" class=\"dataframe\">\n",
       "  <thead>\n",
       "    <tr style=\"text-align: right;\">\n",
       "      <th></th>\n",
       "      <th>FeatureName</th>\n",
       "      <th>Gain</th>\n",
       "    </tr>\n",
       "  </thead>\n",
       "  <tbody>\n",
       "    <tr>\n",
       "      <th>2</th>\n",
       "      <td>cova_deductible</td>\n",
       "      <td>2.813730</td>\n",
       "    </tr>\n",
       "    <tr>\n",
       "      <th>0</th>\n",
       "      <td>cal_year-yearbuilt</td>\n",
       "      <td>2.795279</td>\n",
       "    </tr>\n",
       "    <tr>\n",
       "      <th>7</th>\n",
       "      <td>water_risk_3_blk</td>\n",
       "      <td>1.866884</td>\n",
       "    </tr>\n",
       "    <tr>\n",
       "      <th>6</th>\n",
       "      <td>usagetype_encd</td>\n",
       "      <td>1.568402</td>\n",
       "    </tr>\n",
       "    <tr>\n",
       "      <th>4</th>\n",
       "      <td>landlordind</td>\n",
       "      <td>1.547352</td>\n",
       "    </tr>\n",
       "    <tr>\n",
       "      <th>5</th>\n",
       "      <td>sqft</td>\n",
       "      <td>1.466397</td>\n",
       "    </tr>\n",
       "    <tr>\n",
       "      <th>3</th>\n",
       "      <td>cova_limit</td>\n",
       "      <td>1.219548</td>\n",
       "    </tr>\n",
       "    <tr>\n",
       "      <th>1</th>\n",
       "      <td>constructioncd_encd</td>\n",
       "      <td>0.963656</td>\n",
       "    </tr>\n",
       "  </tbody>\n",
       "</table>\n",
       "</div>"
      ],
      "text/plain": [
       "           FeatureName      Gain\n",
       "2      cova_deductible  2.813730\n",
       "0   cal_year-yearbuilt  2.795279\n",
       "7     water_risk_3_blk  1.866884\n",
       "6       usagetype_encd  1.568402\n",
       "4          landlordind  1.547352\n",
       "5                 sqft  1.466397\n",
       "3           cova_limit  1.219548\n",
       "1  constructioncd_encd  0.963656"
      ]
     },
     "execution_count": 24,
     "metadata": {},
     "output_type": "execute_result"
    }
   ],
   "source": [
    "#assuming each model is a fold and calculate average\n",
    "FeatureImportance_df=FeatureImportance.groupby(['FeatureName'])['Gain'].mean().to_frame()\n",
    "FeatureImportance_df.reset_index( drop=False, inplace=True )\n",
    "FeatureImportance_df=FeatureImportance_df.sort_values('Gain', ascending=False)\n",
    "FeatureImportance_df"
   ]
  },
  {
   "cell_type": "code",
   "execution_count": 25,
   "metadata": {},
   "outputs": [
    {
     "data": {
      "text/plain": [
       "<matplotlib.axes._subplots.AxesSubplot at 0x7f0ab243fcc0>"
      ]
     },
     "execution_count": 25,
     "metadata": {},
     "output_type": "execute_result"
    },
    {
     "data": {
      "image/png": "[encoded data removed]",
      "text/plain": [
       "<Figure size 1080x720 with 1 Axes>"
      ]
     },
     "metadata": {
      "needs_background": "light"
     },
     "output_type": "display_data"
    }
   ],
   "source": [
    "import matplotlib.pyplot as plt\n",
    "fig = plt.figure()\n",
    "fig.set_size_inches([15, 10])\n",
    "FeatureImportance_df.plot.barh('FeatureName', 'Gain',ax=plt.gca())"
   ]
  },
  {
   "cell_type": "code",
   "execution_count": 26,
   "metadata": {},
   "outputs": [],
   "source": [
    "#joining predicted data from each model to the original dataset\n",
    "#maybe no need to download locally but rather run one more ScriptProcessor\n",
    "#to have a complete dataset in S3 and load to Redshift directly\n",
    "#For Shap Values we need a batch transform job"
   ]
  },
  {
   "cell_type": "code",
   "execution_count": 27,
   "metadata": {},
   "outputs": [],
   "source": [
    "#original dataset\n",
    "#can be read from S3: 's3://%s%s'%(bucket,path_to_data_file+data_file)\n",
    "#or locally\n",
    "dataset=pd.read_csv('/home/kate/Research/YearBuilt/Data/'+data_file,  error_bad_lines=False, index_col=False) "
   ]
  },
  {
   "cell_type": "code",
   "execution_count": 28,
   "metadata": {},
   "outputs": [],
   "source": [
    "columns=list()\n",
    "for index, row in OutputData.iterrows():\n",
    "    ModelPredictionData=pd.read_csv(row['Prediction Data']+'/prediction.csv',  error_bad_lines=False, index_col=False)\n",
    "    columns.append(ModelPredictionData.columns[0])\n",
    "    dataset = dataset.join(ModelPredictionData)"
   ]
  },
  {
   "cell_type": "code",
   "execution_count": 29,
   "metadata": {},
   "outputs": [],
   "source": [
    "#evaluation all folds\n",
    "#Evaluation metric\n",
    "from sklearn.metrics import roc_auc_score\n",
    "#To estimate models performance we need a custom gini function\n",
    "def gini(y, pred):\n",
    "    g = np.asarray(np.c_[y, pred, np.arange(len(y)) ], dtype=np.float)\n",
    "    g = g[np.lexsort((g[:,2], -1*g[:,1]))]\n",
    "    gs = g[:,0].cumsum().sum() / g[:,0].sum()\n",
    "    gs -= (len(y) + 1) / 2.\n",
    "    return gs / len(y)"
   ]
  },
  {
   "cell_type": "code",
   "execution_count": 30,
   "metadata": {},
   "outputs": [],
   "source": [
    "dataset['Prediction']=0\n",
    "for c in columns:\n",
    "    dataset['Prediction']=dataset['Prediction']+dataset[c]\n",
    "dataset['Prediction']=dataset['Prediction']/len(columns)    "
   ]
  },
  {
   "cell_type": "code",
   "execution_count": 31,
   "metadata": {},
   "outputs": [
    {
     "name": "stderr",
     "output_type": "stream",
     "text": [
      "WARNING:py.warnings:/home/kate/anaconda/lib/python3.6/site-packages/pandas/core/ops/__init__.py:1115: FutureWarning: elementwise comparison failed; returning scalar instead, but in the future will perform elementwise comparison\n",
      "  result = method(y)\n",
      "\n"
     ]
    },
    {
     "ename": "ValueError",
     "evalue": "Only one class present in y_true. ROC AUC score is not defined in that case.",
     "output_type": "error",
     "traceback": [
      "\u001b[0;31m---------------------------------------------------------------------------\u001b[0m",
      "\u001b[0;31mValueError\u001b[0m                                Traceback (most recent call last)",
      "\u001b[0;32m<ipython-input-31-8fd730bd3776>\u001b[0m in \u001b[0;36m<module>\u001b[0;34m\u001b[0m\n\u001b[1;32m      1\u001b[0m \u001b[0mmodel\u001b[0m\u001b[0;34m=\u001b[0m\u001b[0;34m'Prediction'\u001b[0m\u001b[0;34m\u001b[0m\u001b[0;34m\u001b[0m\u001b[0m\n\u001b[0;32m----> 2\u001b[0;31m \u001b[0mtest_roc_auc\u001b[0m\u001b[0;34m=\u001b[0m\u001b[0mroc_auc_score\u001b[0m\u001b[0;34m(\u001b[0m\u001b[0mdataset\u001b[0m\u001b[0;34m[\u001b[0m\u001b[0;34m(\u001b[0m\u001b[0mdataset\u001b[0m\u001b[0;34m.\u001b[0m\u001b[0mcal_year\u001b[0m \u001b[0;34m==\u001b[0m \u001b[0msplit_year\u001b[0m\u001b[0;34m)\u001b[0m\u001b[0;34m]\u001b[0m\u001b[0;34m[\u001b[0m\u001b[0mtarget\u001b[0m\u001b[0;34m]\u001b[0m\u001b[0;34m,\u001b[0m \u001b[0mdataset\u001b[0m\u001b[0;34m[\u001b[0m\u001b[0;34m(\u001b[0m\u001b[0mdataset\u001b[0m\u001b[0;34m.\u001b[0m\u001b[0mcal_year\u001b[0m \u001b[0;34m==\u001b[0m \u001b[0msplit_year\u001b[0m\u001b[0;34m)\u001b[0m\u001b[0;34m]\u001b[0m\u001b[0;34m[\u001b[0m\u001b[0mmodel\u001b[0m\u001b[0;34m]\u001b[0m\u001b[0;34m)\u001b[0m\u001b[0;34m\u001b[0m\u001b[0;34m\u001b[0m\u001b[0m\n\u001b[0m\u001b[1;32m      3\u001b[0m \u001b[0mtrain_roc_auc\u001b[0m\u001b[0;34m=\u001b[0m\u001b[0mroc_auc_score\u001b[0m\u001b[0;34m(\u001b[0m\u001b[0mdataset\u001b[0m\u001b[0;34m[\u001b[0m\u001b[0;34m(\u001b[0m\u001b[0mdataset\u001b[0m\u001b[0;34m.\u001b[0m\u001b[0mcal_year\u001b[0m \u001b[0;34m<\u001b[0m \u001b[0msplit_year\u001b[0m\u001b[0;34m)\u001b[0m\u001b[0;34m]\u001b[0m\u001b[0;34m[\u001b[0m\u001b[0mtarget\u001b[0m\u001b[0;34m]\u001b[0m\u001b[0;34m,\u001b[0m \u001b[0mdataset\u001b[0m\u001b[0;34m[\u001b[0m\u001b[0;34m(\u001b[0m\u001b[0mdataset\u001b[0m\u001b[0;34m.\u001b[0m\u001b[0mcal_year\u001b[0m \u001b[0;34m<\u001b[0m \u001b[0msplit_year\u001b[0m\u001b[0;34m)\u001b[0m\u001b[0;34m]\u001b[0m\u001b[0;34m[\u001b[0m\u001b[0mmodel\u001b[0m\u001b[0;34m]\u001b[0m\u001b[0;34m)\u001b[0m\u001b[0;34m\u001b[0m\u001b[0;34m\u001b[0m\u001b[0m\n\u001b[1;32m      4\u001b[0m \u001b[0;34m\u001b[0m\u001b[0m\n\u001b[1;32m      5\u001b[0m \u001b[0mtest_gini\u001b[0m\u001b[0;34m=\u001b[0m\u001b[0mgini\u001b[0m\u001b[0;34m(\u001b[0m\u001b[0mdataset\u001b[0m\u001b[0;34m[\u001b[0m\u001b[0;34m(\u001b[0m\u001b[0mdataset\u001b[0m\u001b[0;34m.\u001b[0m\u001b[0mcal_year\u001b[0m \u001b[0;34m==\u001b[0m \u001b[0msplit_year\u001b[0m\u001b[0;34m)\u001b[0m\u001b[0;34m]\u001b[0m\u001b[0;34m[\u001b[0m\u001b[0mtarget\u001b[0m\u001b[0;34m]\u001b[0m\u001b[0;34m,\u001b[0m\u001b[0mdataset\u001b[0m\u001b[0;34m[\u001b[0m\u001b[0;34m(\u001b[0m\u001b[0mdataset\u001b[0m\u001b[0;34m.\u001b[0m\u001b[0mcal_year\u001b[0m \u001b[0;34m==\u001b[0m \u001b[0msplit_year\u001b[0m\u001b[0;34m)\u001b[0m\u001b[0;34m]\u001b[0m\u001b[0;34m[\u001b[0m\u001b[0mmodel\u001b[0m\u001b[0;34m]\u001b[0m\u001b[0;34m)\u001b[0m\u001b[0;34m/\u001b[0m\u001b[0mgini\u001b[0m\u001b[0;34m(\u001b[0m\u001b[0mdataset\u001b[0m\u001b[0;34m[\u001b[0m\u001b[0;34m(\u001b[0m\u001b[0mdataset\u001b[0m\u001b[0;34m.\u001b[0m\u001b[0mcal_year\u001b[0m \u001b[0;34m==\u001b[0m \u001b[0msplit_year\u001b[0m\u001b[0;34m)\u001b[0m\u001b[0;34m]\u001b[0m\u001b[0;34m[\u001b[0m\u001b[0mtarget\u001b[0m\u001b[0;34m]\u001b[0m\u001b[0;34m,\u001b[0m\u001b[0mdataset\u001b[0m\u001b[0;34m[\u001b[0m\u001b[0;34m(\u001b[0m\u001b[0mdataset\u001b[0m\u001b[0;34m.\u001b[0m\u001b[0mcal_year\u001b[0m \u001b[0;34m==\u001b[0m \u001b[0msplit_year\u001b[0m\u001b[0;34m)\u001b[0m\u001b[0;34m]\u001b[0m\u001b[0;34m[\u001b[0m\u001b[0mtarget\u001b[0m\u001b[0;34m]\u001b[0m\u001b[0;34m)\u001b[0m\u001b[0;34m\u001b[0m\u001b[0;34m\u001b[0m\u001b[0m\n",
      "\u001b[0;32m~/anaconda/lib/python3.6/site-packages/sklearn/metrics/ranking.py\u001b[0m in \u001b[0;36mroc_auc_score\u001b[0;34m(y_true, y_score, average, sample_weight)\u001b[0m\n\u001b[1;32m    275\u001b[0m     return _average_binary_score(\n\u001b[1;32m    276\u001b[0m         \u001b[0m_binary_roc_auc_score\u001b[0m\u001b[0;34m,\u001b[0m \u001b[0my_true\u001b[0m\u001b[0;34m,\u001b[0m \u001b[0my_score\u001b[0m\u001b[0;34m,\u001b[0m \u001b[0maverage\u001b[0m\u001b[0;34m,\u001b[0m\u001b[0;34m\u001b[0m\u001b[0;34m\u001b[0m\u001b[0m\n\u001b[0;32m--> 277\u001b[0;31m         sample_weight=sample_weight)\n\u001b[0m\u001b[1;32m    278\u001b[0m \u001b[0;34m\u001b[0m\u001b[0m\n\u001b[1;32m    279\u001b[0m \u001b[0;34m\u001b[0m\u001b[0m\n",
      "\u001b[0;32m~/anaconda/lib/python3.6/site-packages/sklearn/metrics/base.py\u001b[0m in \u001b[0;36m_average_binary_score\u001b[0;34m(binary_metric, y_true, y_score, average, sample_weight)\u001b[0m\n\u001b[1;32m     73\u001b[0m \u001b[0;34m\u001b[0m\u001b[0m\n\u001b[1;32m     74\u001b[0m     \u001b[0;32mif\u001b[0m \u001b[0my_type\u001b[0m \u001b[0;34m==\u001b[0m \u001b[0;34m\"binary\"\u001b[0m\u001b[0;34m:\u001b[0m\u001b[0;34m\u001b[0m\u001b[0;34m\u001b[0m\u001b[0m\n\u001b[0;32m---> 75\u001b[0;31m         \u001b[0;32mreturn\u001b[0m \u001b[0mbinary_metric\u001b[0m\u001b[0;34m(\u001b[0m\u001b[0my_true\u001b[0m\u001b[0;34m,\u001b[0m \u001b[0my_score\u001b[0m\u001b[0;34m,\u001b[0m \u001b[0msample_weight\u001b[0m\u001b[0;34m=\u001b[0m\u001b[0msample_weight\u001b[0m\u001b[0;34m)\u001b[0m\u001b[0;34m\u001b[0m\u001b[0;34m\u001b[0m\u001b[0m\n\u001b[0m\u001b[1;32m     76\u001b[0m \u001b[0;34m\u001b[0m\u001b[0m\n\u001b[1;32m     77\u001b[0m     \u001b[0mcheck_consistent_length\u001b[0m\u001b[0;34m(\u001b[0m\u001b[0my_true\u001b[0m\u001b[0;34m,\u001b[0m \u001b[0my_score\u001b[0m\u001b[0;34m,\u001b[0m \u001b[0msample_weight\u001b[0m\u001b[0;34m)\u001b[0m\u001b[0;34m\u001b[0m\u001b[0;34m\u001b[0m\u001b[0m\n",
      "\u001b[0;32m~/anaconda/lib/python3.6/site-packages/sklearn/metrics/ranking.py\u001b[0m in \u001b[0;36m_binary_roc_auc_score\u001b[0;34m(y_true, y_score, sample_weight)\u001b[0m\n\u001b[1;32m    266\u001b[0m     \u001b[0;32mdef\u001b[0m \u001b[0m_binary_roc_auc_score\u001b[0m\u001b[0;34m(\u001b[0m\u001b[0my_true\u001b[0m\u001b[0;34m,\u001b[0m \u001b[0my_score\u001b[0m\u001b[0;34m,\u001b[0m \u001b[0msample_weight\u001b[0m\u001b[0;34m=\u001b[0m\u001b[0;32mNone\u001b[0m\u001b[0;34m)\u001b[0m\u001b[0;34m:\u001b[0m\u001b[0;34m\u001b[0m\u001b[0;34m\u001b[0m\u001b[0m\n\u001b[1;32m    267\u001b[0m         \u001b[0;32mif\u001b[0m \u001b[0mlen\u001b[0m\u001b[0;34m(\u001b[0m\u001b[0mnp\u001b[0m\u001b[0;34m.\u001b[0m\u001b[0munique\u001b[0m\u001b[0;34m(\u001b[0m\u001b[0my_true\u001b[0m\u001b[0;34m)\u001b[0m\u001b[0;34m)\u001b[0m \u001b[0;34m!=\u001b[0m \u001b[0;36m2\u001b[0m\u001b[0;34m:\u001b[0m\u001b[0;34m\u001b[0m\u001b[0;34m\u001b[0m\u001b[0m\n\u001b[0;32m--> 268\u001b[0;31m             raise ValueError(\"Only one class present in y_true. ROC AUC score \"\n\u001b[0m\u001b[1;32m    269\u001b[0m                              \"is not defined in that case.\")\n\u001b[1;32m    270\u001b[0m \u001b[0;34m\u001b[0m\u001b[0m\n",
      "\u001b[0;31mValueError\u001b[0m: Only one class present in y_true. ROC AUC score is not defined in that case."
     ]
    }
   ],
   "source": [
    "model='Prediction'\n",
    "test_roc_auc=roc_auc_score(dataset[(dataset.cal_year == split_year)][target], dataset[(dataset.cal_year == split_year)][model])\n",
    "train_roc_auc=roc_auc_score(dataset[(dataset.cal_year < split_year)][target], dataset[(dataset.cal_year < split_year)][model])\n",
    "    \n",
    "test_gini=gini(dataset[(dataset.cal_year == split_year)][target],dataset[(dataset.cal_year == split_year)][model])/gini(dataset[(dataset.cal_year == split_year)][target],dataset[(dataset.cal_year == split_year)][target])\n",
    "train_gini=gini(dataset[(dataset.cal_year < split_year)][target],dataset[(dataset.cal_year < split_year)][model])/gini(dataset[(dataset.cal_year < split_year)][target],dataset[(dataset.cal_year < split_year)][target])\n",
    "    \n",
    "TestingDataResults = pd.DataFrame(list(zip(['Final'],[train_roc_auc],[test_roc_auc],[train_gini],[test_gini])), \n",
    "               columns =['Model','Train ROC-AUC','Test ROC-AUC','Train gini','Test gini'])\n",
    "TestingDataResults"
   ]
  },
  {
   "cell_type": "code",
   "execution_count": null,
   "metadata": {},
   "outputs": [],
   "source": [
    "Scores=Scores.append(TestingDataResults, ignore_index=True)"
   ]
  },
  {
   "cell_type": "code",
   "execution_count": null,
   "metadata": {},
   "outputs": [],
   "source": [
    "Scores=Scores.sort_values('Test ROC-AUC', ascending=False)\n",
    "Scores"
   ]
  },
  {
   "cell_type": "code",
   "execution_count": null,
   "metadata": {},
   "outputs": [],
   "source": [
    "#Saving into the Experiment log \n",
    "eu.SaveToExperimentLog(Experiments_file, '%s Scores'%Experiment_name, Scores)"
   ]
  },
  {
   "cell_type": "code",
   "execution_count": null,
   "metadata": {},
   "outputs": [],
   "source": [
    "import matplotlib.pyplot as plt\n",
    "fig = plt.figure()\n",
    "fig.set_size_inches([15, 10])\n",
    "Scores.plot.bar('Model', 'Test ROC-AUC',ax=plt.gca())"
   ]
  }
 ],
 "metadata": {
  "kernelspec": {
   "display_name": "Python 3",
   "language": "python",
   "name": "python3"
  },
  "language_info": {
   "codemirror_mode": {
    "name": "ipython",
    "version": 3
   },
   "file_extension": ".py",
   "mimetype": "text/x-python",
   "name": "python",
   "nbconvert_exporter": "python",
   "pygments_lexer": "ipython3",
   "version": "3.6.12"
  }
 },
 "nbformat": 4,
 "nbformat_minor": 4
}
