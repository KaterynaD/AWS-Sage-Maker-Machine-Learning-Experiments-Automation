{
 "cells": [
  {
   "cell_type": "markdown",
   "metadata": {},
   "source": [
    "### AWS Sagemaker XGBoost Partial Dependency\n",
    "\n",
    "Purpose: built partial dependency for all configured features and models. \n",
    "Main Steps:\n",
    "1. Build separate datasets for each feature as a combination of each unique feature value with all other available feature combinations. Processing job is used.\n",
    "2. Create Sagemaker Models\n",
    "3. Run batch transform jobs to make inference from all files created at step 1\n",
    "4. Average the results of the batch transform jobs per model, feature and feature value."
   ]
  },
  {
   "cell_type": "code",
   "execution_count": 1,
   "metadata": {},
   "outputs": [],
   "source": [
    "temp_folder='/home/kate/Research/YearBuilt/Notebooks/Experiments_v2/tmp/'\n",
    "Experiments_file='/home/kate/Research/YearBuilt/Experiments/DevExperiments.xlsx'\n",
    "AllExperiments_tab='Experiments'\n",
    "Experiment_name='pd'\n",
    "#Experiment configuration:  \n",
    "#1.features we want to produce PartialDependency\n",
    "#each line in the file contains a feature name and a type:Categorical or Continuous\n",
    "#Categorical features values will be process all as is. Continuous only sorted(np.linspace(np.percentile(dataset_temp[f], 0.1),np.percentile(dataset_temp[f], 99.5),50))\n",
    "Experiment_Features_tab='%s Features'%Experiment_name\n",
    "#2.The full set of features the tested model is based on\n",
    "#each line in the file contains the model name and set of features to built a dataset for SageMaker\n",
    "Experiment_tab='%s Models'%Experiment_name\n",
    "#3.ModelFiles: each line is a model name (Model) and full model file name (ModelData - model.tar.gz) in an S3 bucket\n",
    "Experiment_ModelFiles_tab='%s ModelFiles'%Experiment_name\n",
    "\n",
    "Trial_name_preprocessing='%s-PreparingData'%Experiment_name\n",
    "Trial_name_inference='%s-Inference'%Experiment_name\n",
    "Trial_name_postprocessing='%s-PostProcessing'%Experiment_name\n",
    "\n",
    "\n",
    " \n",
    "bucket='kdproperty'\n",
    "path_to_data='Data'\n",
    "path_to_pd_input_data='Data/Experiments/%s/pd_input_data'%Experiment_name\n",
    "path_to_pd_output_data='Data/Experiments/%s/pd_output_data'%Experiment_name\n",
    "path_to_pd_final_data='Data/Experiments/%s/pd_final_data'%Experiment_name\n",
    "path_to_configuration='Config'\n",
    "\n",
    "#the data files to process continuos features can be very large. To be able to run more then 1 instance for batch transform jobs and speed up the process\n",
    "#we can split the continuos feature file into split_to_N_parts\n",
    "split_to_N_parts=5\n",
    "\n",
    "instance_type_preprocessing='ml.t3.2xlarge'\n",
    "instance_count_preprocessing=1\n",
    "\n",
    "instance_type_inference='ml.m5.xlarge'\n",
    "#can be number of features for pd: each file with data for a specific feature and a correspondent instance for inference \n",
    "#or if there is a continuos feature with a lot of possible values, the huge file is splitted for N parts\n",
    "#then instance count is num of categorical features + split_to_N_parts * num of continuous features\n",
    "instance_count_inference=16 \n",
    "\n",
    "\n",
    "instance_type_postprocessing='ml.t3.2xlarge'\n",
    "instance_count_postprocessing=1"
   ]
  },
  {
   "cell_type": "code",
   "execution_count": 2,
   "metadata": {},
   "outputs": [],
   "source": [
    "import boto3\n",
    "import os\n",
    "import sys\n",
    "import time\n",
    "import pandas as pd\n",
    "import numpy as np\n",
    "\n",
    "import re\n",
    "\n",
    "#to read data from S3 with pandas\n",
    "import s3fs\n",
    "\n",
    "import matplotlib.pyplot as plt\n",
    "\n",
    "import sagemaker\n",
    "from sagemaker import get_execution_role\n",
    "from sagemaker.sklearn.processing import SKLearnProcessor\n",
    "from sagemaker.processing import ProcessingInput, ProcessingOutput\n",
    "\n",
    "from sagemaker.xgboost.model import XGBoostModel"
   ]
  },
  {
   "cell_type": "code",
   "execution_count": 3,
   "metadata": {},
   "outputs": [],
   "source": [
    "region = boto3.session.Session().region_name\n",
    "role = 'arn:aws:iam::757107622481:role/service-role/AmazonSageMaker-ExecutionRole-20200819T131882'\n",
    "sagemaker_session = sagemaker.session.Session(default_bucket=bucket)\n",
    "s3 = s3fs.S3FileSystem()"
   ]
  },
  {
   "cell_type": "code",
   "execution_count": 4,
   "metadata": {},
   "outputs": [],
   "source": [
    "#sys.path.append('/home/kate/Research/YearBuilt/Notebooks/Experiments')\n",
    "import ExperimentsUtils as eu"
   ]
  },
  {
   "cell_type": "markdown",
   "metadata": {},
   "source": [
    "1. Reading experiment configuration from an excel file"
   ]
  },
  {
   "cell_type": "code",
   "execution_count": 5,
   "metadata": {},
   "outputs": [],
   "source": [
    "experiments = pd.read_excel(open(Experiments_file, 'rb'), sheet_name=AllExperiments_tab)"
   ]
  },
  {
   "cell_type": "markdown",
   "metadata": {},
   "source": [
    "1.1 Target variable and data file name"
   ]
  },
  {
   "cell_type": "code",
   "execution_count": 6,
   "metadata": {},
   "outputs": [
    {
     "name": "stdout",
     "output_type": "stream",
     "text": [
      "Target of models in pd experiment is hasclaim_water\n",
      "Datafile used in pd experiment is dwelling_basedata_v4.csv\n"
     ]
    }
   ],
   "source": [
    "target=experiments[experiments['Experiment']==Experiment_name]['Target'].values[0]\n",
    "print('Target of models in %s experiment is %s'%(Experiment_name,target))\n",
    "data_file=experiments[experiments['Experiment']==Experiment_name]['Dataset'].values[0]\n",
    "print('Datafile used in %s experiment is %s'%(Experiment_name,data_file))"
   ]
  },
  {
   "cell_type": "markdown",
   "metadata": {},
   "source": [
    "1.2 Features to produce partial dependency"
   ]
  },
  {
   "cell_type": "code",
   "execution_count": 7,
   "metadata": {},
   "outputs": [
    {
     "data": {
      "text/html": [
       "<div>\n",
       "<style scoped>\n",
       "    .dataframe tbody tr th:only-of-type {\n",
       "        vertical-align: middle;\n",
       "    }\n",
       "\n",
       "    .dataframe tbody tr th {\n",
       "        vertical-align: top;\n",
       "    }\n",
       "\n",
       "    .dataframe thead th {\n",
       "        text-align: right;\n",
       "    }\n",
       "</style>\n",
       "<table border=\"1\" class=\"dataframe\">\n",
       "  <thead>\n",
       "    <tr style=\"text-align: right;\">\n",
       "      <th></th>\n",
       "      <th>Feature</th>\n",
       "      <th>Type</th>\n",
       "    </tr>\n",
       "  </thead>\n",
       "  <tbody>\n",
       "    <tr>\n",
       "      <th>0</th>\n",
       "      <td>cova_deductible</td>\n",
       "      <td>Categorical</td>\n",
       "    </tr>\n",
       "    <tr>\n",
       "      <th>1</th>\n",
       "      <td>sqft</td>\n",
       "      <td>Continuous</td>\n",
       "    </tr>\n",
       "    <tr>\n",
       "      <th>2</th>\n",
       "      <td>cal_year-yearbuilt</td>\n",
       "      <td>Continuous</td>\n",
       "    </tr>\n",
       "    <tr>\n",
       "      <th>3</th>\n",
       "      <td>water_risk_3_blk</td>\n",
       "      <td>Continuous</td>\n",
       "    </tr>\n",
       "  </tbody>\n",
       "</table>\n",
       "</div>"
      ],
      "text/plain": [
       "              Feature         Type\n",
       "0     cova_deductible  Categorical\n",
       "1                sqft   Continuous\n",
       "2  cal_year-yearbuilt   Continuous\n",
       "3    water_risk_3_blk   Continuous"
      ]
     },
     "execution_count": 7,
     "metadata": {},
     "output_type": "execute_result"
    }
   ],
   "source": [
    "features_for_pd = pd.read_excel(open(Experiments_file, 'rb'), sheet_name=Experiment_Features_tab)\n",
    "features_for_pd"
   ]
  },
  {
   "cell_type": "markdown",
   "metadata": {},
   "source": [
    "1.3 Model features. The process will use this info to create a data file for each feature"
   ]
  },
  {
   "cell_type": "code",
   "execution_count": 8,
   "metadata": {},
   "outputs": [
    {
     "data": {
      "text/html": [
       "<div>\n",
       "<style scoped>\n",
       "    .dataframe tbody tr th:only-of-type {\n",
       "        vertical-align: middle;\n",
       "    }\n",
       "\n",
       "    .dataframe tbody tr th {\n",
       "        vertical-align: top;\n",
       "    }\n",
       "\n",
       "    .dataframe thead th {\n",
       "        text-align: right;\n",
       "    }\n",
       "</style>\n",
       "<table border=\"1\" class=\"dataframe\">\n",
       "  <thead>\n",
       "    <tr style=\"text-align: right;\">\n",
       "      <th></th>\n",
       "      <th>Model</th>\n",
       "      <th>F1</th>\n",
       "      <th>F2</th>\n",
       "      <th>F3</th>\n",
       "      <th>F4</th>\n",
       "    </tr>\n",
       "  </thead>\n",
       "  <tbody>\n",
       "    <tr>\n",
       "      <th>0</th>\n",
       "      <td>PropertyAgeFold0</td>\n",
       "      <td>cal_year-yearbuilt</td>\n",
       "      <td>cova_deductible</td>\n",
       "      <td>sqft</td>\n",
       "      <td>water_risk_3_blk</td>\n",
       "    </tr>\n",
       "  </tbody>\n",
       "</table>\n",
       "</div>"
      ],
      "text/plain": [
       "              Model                  F1               F2    F3  \\\n",
       "0  PropertyAgeFold0  cal_year-yearbuilt  cova_deductible  sqft   \n",
       "\n",
       "                 F4  \n",
       "0  water_risk_3_blk  "
      ]
     },
     "execution_count": 8,
     "metadata": {},
     "output_type": "execute_result"
    }
   ],
   "source": [
    "model_all_features = pd.read_excel(open(Experiments_file, 'rb'), sheet_name=Experiment_tab)\n",
    "model_all_features"
   ]
  },
  {
   "cell_type": "markdown",
   "metadata": {},
   "source": [
    "1.4 Model files (usually model.tar.gz produced from training)\n",
    "Later SageMaker Models will be created  based on this info. "
   ]
  },
  {
   "cell_type": "code",
   "execution_count": 9,
   "metadata": {},
   "outputs": [
    {
     "data": {
      "text/html": [
       "<div>\n",
       "<style scoped>\n",
       "    .dataframe tbody tr th:only-of-type {\n",
       "        vertical-align: middle;\n",
       "    }\n",
       "\n",
       "    .dataframe tbody tr th {\n",
       "        vertical-align: top;\n",
       "    }\n",
       "\n",
       "    .dataframe thead th {\n",
       "        text-align: right;\n",
       "    }\n",
       "</style>\n",
       "<table border=\"1\" class=\"dataframe\">\n",
       "  <thead>\n",
       "    <tr style=\"text-align: right;\">\n",
       "      <th></th>\n",
       "      <th>Model</th>\n",
       "      <th>ModelData</th>\n",
       "    </tr>\n",
       "  </thead>\n",
       "  <tbody>\n",
       "    <tr>\n",
       "      <th>0</th>\n",
       "      <td>PropertyAgeFold0</td>\n",
       "      <td>s3://kdproperty/Models/Experiments/bf2/Propert...</td>\n",
       "    </tr>\n",
       "  </tbody>\n",
       "</table>\n",
       "</div>"
      ],
      "text/plain": [
       "              Model                                          ModelData\n",
       "0  PropertyAgeFold0  s3://kdproperty/Models/Experiments/bf2/Propert..."
      ]
     },
     "execution_count": 9,
     "metadata": {},
     "output_type": "execute_result"
    }
   ],
   "source": [
    "model_files = pd.read_excel(open(Experiments_file, 'rb'), sheet_name=Experiment_ModelFiles_tab)\n",
    "model_files"
   ]
  },
  {
   "cell_type": "markdown",
   "metadata": {},
   "source": [
    "1.5.Verification if we have the same set of features and models in both configurations"
   ]
  },
  {
   "cell_type": "code",
   "execution_count": 10,
   "metadata": {},
   "outputs": [],
   "source": [
    "models_from_model_features=model_all_features['Model'].tolist()\n",
    "models_from_models_files=model_files['Model'].tolist()\n",
    "if len([x for x in models_from_model_features if x not in models_from_models_files])!=0:\n",
    "    raise Exception('Different set of models in featuresets and files!')"
   ]
  },
  {
   "cell_type": "code",
   "execution_count": 11,
   "metadata": {},
   "outputs": [],
   "source": [
    "models_features_for_pd=features_for_pd['Feature'].tolist()\n",
    "for index, row in model_all_features.iterrows():\n",
    "    model_complete_featureset=row[1:51].tolist()\n",
    "    model_complete_featureset=[x for x in model_complete_featureset if str(x) != 'nan']  \n",
    "    if len([x for x in models_features_for_pd if x not in model_complete_featureset])!=0:\n",
    "        raise Exception('Different set of features in models all features and features for partial dependency!')"
   ]
  },
  {
   "cell_type": "markdown",
   "metadata": {},
   "source": [
    "2.Saving into S3 models configurations (sets of features) to be used in data preprocessing"
   ]
  },
  {
   "cell_type": "code",
   "execution_count": 12,
   "metadata": {},
   "outputs": [],
   "source": [
    "Model_Config_file='%s.csv'%Experiment_name\n",
    "Models_Config_path = os.path.join(temp_folder, Model_Config_file) \n",
    "\n",
    "model_all_features.to_csv(Models_Config_path, header=True, index=False)\n",
    "\n",
    "\n",
    "input_code = sagemaker_session.upload_data(\n",
    "        Models_Config_path,\n",
    "        bucket=bucket,\n",
    "        key_prefix=path_to_configuration\n",
    "    )"
   ]
  },
  {
   "cell_type": "markdown",
   "metadata": {},
   "source": [
    "3.Creating experiments and trials in SageMaker"
   ]
  },
  {
   "cell_type": "code",
   "execution_count": 13,
   "metadata": {},
   "outputs": [
    {
     "name": "stderr",
     "output_type": "stream",
     "text": [
      "INFO:botocore.credentials:Found credentials in shared credentials file: ~/.aws/credentials\n",
      "INFO:botocore.credentials:Found credentials in shared credentials file: ~/.aws/credentials\n",
      "INFO:botocore.credentials:Found credentials in shared credentials file: ~/.aws/credentials\n",
      "INFO:botocore.credentials:Found credentials in shared credentials file: ~/.aws/credentials\n",
      "INFO:botocore.credentials:Found credentials in shared credentials file: ~/.aws/credentials\n",
      "INFO:botocore.credentials:Found credentials in shared credentials file: ~/.aws/credentials\n",
      "INFO:botocore.credentials:Found credentials in shared credentials file: ~/.aws/credentials\n",
      "INFO:botocore.credentials:Found credentials in shared credentials file: ~/.aws/credentials\n",
      "INFO:botocore.credentials:Found credentials in shared credentials file: ~/.aws/credentials\n",
      "INFO:botocore.credentials:Found credentials in shared credentials file: ~/.aws/credentials\n",
      "INFO:botocore.credentials:Found credentials in shared credentials file: ~/.aws/credentials\n",
      "INFO:botocore.credentials:Found credentials in shared credentials file: ~/.aws/credentials\n",
      "INFO:botocore.credentials:Found credentials in shared credentials file: ~/.aws/credentials\n",
      "INFO:botocore.credentials:Found credentials in shared credentials file: ~/.aws/credentials\n",
      "INFO:botocore.credentials:Found credentials in shared credentials file: ~/.aws/credentials\n",
      "INFO:botocore.credentials:Found credentials in shared credentials file: ~/.aws/credentials\n",
      "INFO:botocore.credentials:Found credentials in shared credentials file: ~/.aws/credentials\n",
      "INFO:botocore.credentials:Found credentials in shared credentials file: ~/.aws/credentials\n",
      "INFO:botocore.credentials:Found credentials in shared credentials file: ~/.aws/credentials\n"
     ]
    }
   ],
   "source": [
    "eu.cleanup_experiment(Experiment_name)\n",
    "eu.create_experiment(Experiment_name)\n",
    "eu.create_trial(Experiment_name,Trial_name_preprocessing)\n",
    "eu.create_trial(Experiment_name,Trial_name_inference)\n",
    "eu.create_trial(Experiment_name,Trial_name_postprocessing)"
   ]
  },
  {
   "cell_type": "markdown",
   "metadata": {},
   "source": [
    "4. Preparing datasets for calculating partial dependency\n",
    "The process loop thru each model in teh configuration file (saved into S3 above) and each feature. It creates a combination of each unique feature value and the rest sets of features available in the dataset. Dependeing on the feature type (Categorical or Continuos), the full set of unique feature values is used for categorical or a subset for continuos. There is only one created for categorical features and  continuos features files can be splitted into parts."
   ]
  },
  {
   "cell_type": "code",
   "execution_count": 14,
   "metadata": {},
   "outputs": [
    {
     "name": "stdout",
     "output_type": "stream",
     "text": [
      "Overwriting preprocessingDataForPartialDependency.py\n"
     ]
    }
   ],
   "source": [
    "%%writefile preprocessingDataForPartialDependency.py\n",
    "\n",
    "#The code creates a separate dataset for each feature with all possible combination of feature values and the rest of the data\n",
    "#dataset for SageMaker are the same structure: no headers, the first column is a target and the rest are features\n",
    "\n",
    "\n",
    "import argparse\n",
    "import os\n",
    "import pandas as pd\n",
    "import numpy as np\n",
    "\n",
    "\n",
    "if __name__=='__main__':\n",
    "    \n",
    "    parser = argparse.ArgumentParser()\n",
    "    parser.add_argument('--data_file', type=str)\n",
    "    parser.add_argument('--config_file', type=str)   \n",
    "    parser.add_argument('--featureset', type=str)    \n",
    "    parser.add_argument('--featuretypes', type=str) \n",
    "    parser.add_argument('--split_to_N_parts', type=int, default=1)\n",
    "    args, _ = parser.parse_known_args()    \n",
    "    print('Received arguments {}'.format(args))\n",
    "    \n",
    "\n",
    "    featureset=args.featureset.split(',')\n",
    "    featuretypes=args.featuretypes.split(',')\n",
    "    split_to_N_parts=args.split_to_N_parts\n",
    "    input_data_path = os.path.join('/opt/ml/processing/input', args.data_file)\n",
    "    config_data_path = os.path.join('/opt/ml/processing/config', args.config_file)\n",
    "\n",
    "\n",
    "    \n",
    "    print('Reading input data from {}'.format(input_data_path))\n",
    "    dataset = pd.read_csv(input_data_path, error_bad_lines=False, index_col=False)\n",
    "    \n",
    "\n",
    "    print('Reading config data from {}'.format(config_data_path))\n",
    "    models = pd.read_csv(config_data_path, error_bad_lines=False, index_col=False)   \n",
    "    \n",
    "     \n",
    "    #iterating thru config file with models and featureset\n",
    "    for index, row in models.iterrows():\n",
    "        model=row['Model']\n",
    "        print (index, ': Creating featuresets for model %s'%model)\n",
    "        model_complete_featureset=row[1:51].tolist()\n",
    "        model_complete_featureset=[x for x in model_complete_featureset if str(x) != 'nan']\n",
    "        #specific folder for each model data\n",
    "        if not os.path.exists('/opt/ml/processing/output/%s'%model):\n",
    "            os.makedirs('/opt/ml/processing/output/%s'%model)\n",
    "        #iterating thru features for pd\n",
    "        for feature,ftype in zip(featureset,featuretypes):\n",
    "            print(feature,ftype)\n",
    "            dataset_feature = pd.DataFrame()    \n",
    "            dataset_temp = pd.DataFrame()\n",
    "            for f in model_complete_featureset:\n",
    "                dataset_temp[f]=dataset.eval(f)\n",
    "            if ftype=='Continuous':\n",
    "                # continuous\n",
    "                grid = sorted(np.linspace(np.percentile(dataset_temp[feature], 0.1),\n",
    "                       np.percentile(dataset_temp[feature], 99.5),\n",
    "                          50))\n",
    "            else:\n",
    "                #categorical\n",
    "                grid = sorted(dataset_temp[feature].unique())        \n",
    " \n",
    "            for i, val in enumerate(grid):\n",
    "                dataset_temp[feature] = val\n",
    "                dataset_feature=dataset_feature.append(dataset_temp)\n",
    "            #save in parts if large dataset\n",
    "            if ftype=='Continuous':\n",
    "                parts = np.array_split(dataset_feature, split_to_N_parts)\n",
    "            \n",
    "                for i,p in enumerate(parts):\n",
    "                    output_data_path = os.path.join('/opt/ml/processing/output/%s'%model, '%s_%s.csv'%(feature,i))\n",
    "                    p.to_csv(output_data_path,header=False,index=False)\n",
    "            else:   \n",
    "                output_data_path = os.path.join('/opt/ml/processing/output/%s'%model, '%s.csv'%feature)\n",
    "                dataset_feature.to_csv(output_data_path,header=False,index=False)\n",
    "        "
   ]
  },
  {
   "cell_type": "code",
   "execution_count": 15,
   "metadata": {},
   "outputs": [
    {
     "name": "stderr",
     "output_type": "stream",
     "text": [
      "INFO:botocore.credentials:Found credentials in shared credentials file: ~/.aws/credentials\n",
      "INFO:sagemaker.image_uris:Same images used for training and inference. Defaulting to image scope: inference.\n",
      "INFO:sagemaker.image_uris:Defaulting to only available Python version: py3\n",
      "INFO:sagemaker:Creating processing-job with name sagemaker-scikit-learn-2021-02-28-18-40-11-992\n"
     ]
    },
    {
     "name": "stdout",
     "output_type": "stream",
     "text": [
      "\n",
      "Job Name:  sagemaker-scikit-learn-2021-02-28-18-40-11-992\n",
      "Inputs:  [{'InputName': 'data', 'AppManaged': False, 'S3Input': {'S3Uri': 's3://kdproperty/Data/dwelling_basedata_v4.csv', 'LocalPath': '/opt/ml/processing/input', 'S3DataType': 'S3Prefix', 'S3InputMode': 'File', 'S3DataDistributionType': 'FullyReplicated', 'S3CompressionType': 'None'}}, {'InputName': 'config', 'AppManaged': False, 'S3Input': {'S3Uri': 's3://kdproperty/Config/pd.csv', 'LocalPath': '/opt/ml/processing/config', 'S3DataType': 'S3Prefix', 'S3InputMode': 'File', 'S3DataDistributionType': 'FullyReplicated', 'S3CompressionType': 'None'}}, {'InputName': 'code', 'AppManaged': False, 'S3Input': {'S3Uri': 's3://sagemaker-us-west-2-757107622481/sagemaker-scikit-learn-2021-02-28-18-40-11-992/input/code/preprocessingDataForPartialDependency.py', 'LocalPath': '/opt/ml/processing/input/code', 'S3DataType': 'S3Prefix', 'S3InputMode': 'File', 'S3DataDistributionType': 'FullyReplicated', 'S3CompressionType': 'None'}}]\n",
      "Outputs:  [{'OutputName': 'output', 'AppManaged': False, 'S3Output': {'S3Uri': 's3://kdproperty/Data/Experiments/pd/pd_input_data/', 'LocalPath': '/opt/ml/processing/output', 'S3UploadMode': 'EndOfJob'}}]\n",
      "........................\u001b[34mReceived arguments Namespace(config_file='pd.csv', data_file='dwelling_basedata_v4.csv', featureset='cova_deductible,sqft,cal_year-yearbuilt,water_risk_3_blk', featuretypes='Categorical,Continuous,Continuous,Continuous', split_to_N_parts=5)\u001b[0m\n",
      "\u001b[34mReading input data from /opt/ml/processing/input/dwelling_basedata_v4.csv\u001b[0m\n",
      "\u001b[34mReading config data from /opt/ml/processing/config/pd.csv\u001b[0m\n",
      "\u001b[34m0 : Creating featuresets for model PropertyAgeFold0\u001b[0m\n",
      "\u001b[34mcova_deductible Categorical\u001b[0m\n",
      "\u001b[34msqft Continuous\u001b[0m\n",
      "\u001b[34mcal_year-yearbuilt Continuous\u001b[0m\n",
      "\u001b[34mwater_risk_3_blk Continuous\u001b[0m\n",
      "\n"
     ]
    }
   ],
   "source": [
    "processors=list()\n",
    "\n",
    "featureset=features_for_pd['Feature'].tolist()\n",
    "featuretypes=features_for_pd['Type'].tolist()\n",
    "\n",
    "data_processor = SKLearnProcessor(framework_version='0.20.0',\n",
    "                                     role=role,\n",
    "                                     instance_type=instance_type_preprocessing,\n",
    "                                     instance_count=instance_count_preprocessing)\n",
    "    \n",
    "data_processor.run(code='preprocessingDataForPartialDependency.py',\n",
    "                        inputs= [ProcessingInput(input_name='data',source='s3://%s/%s/%s'%(bucket,path_to_data,data_file),destination='/opt/ml/processing/input'),\n",
    "                                ProcessingInput(input_name='config',source='s3://%s/%s/%s'%(bucket,path_to_configuration,Model_Config_file),destination='/opt/ml/processing/config'),\n",
    "                                ],\n",
    "                        outputs=[\n",
    "                                ProcessingOutput(output_name='output', source='/opt/ml/processing/output', destination='s3://%s/%s/'%(bucket,path_to_pd_input_data)),                                                          \n",
    "                                ],\n",
    "                        arguments=['--data_file',data_file,\n",
    "                                '--config_file',Model_Config_file,\n",
    "                                 '--featureset', ','.join(featureset).replace(' ',''),\n",
    "                                 '--featuretypes', ','.join(featuretypes).replace(' ',''),\n",
    "                                 '--split_to_N_parts',str(split_to_N_parts)],\n",
    "                        experiment_config = {\n",
    "        'ExperimentName': Experiment_name ,\n",
    "        'TrialName' : Trial_name_preprocessing,\n",
    "        'TrialComponentDisplayName' : Trial_name_preprocessing},\n",
    "                        wait=True\n",
    "                        )\n",
    "processors.append(data_processor)"
   ]
  },
  {
   "cell_type": "code",
   "execution_count": 16,
   "metadata": {},
   "outputs": [],
   "source": [
    "#Stop the execution if there is an issue with creating input data for the models\n",
    "job_name=data_processor.jobs[-1].describe()['ProcessingJobName']\n",
    "if not(sagemaker_session.was_processing_job_successful(job_name)):\n",
    "    raise Exception('Preprocessing job Failed!')    "
   ]
  },
  {
   "cell_type": "markdown",
   "metadata": {},
   "source": [
    "5. Running inference jobs to produce partial dependency (prediction)"
   ]
  },
  {
   "cell_type": "markdown",
   "metadata": {},
   "source": [
    "5.1. Script for inference. The file must have name inference.py!!!!"
   ]
  },
  {
   "cell_type": "code",
   "execution_count": 17,
   "metadata": {},
   "outputs": [
    {
     "name": "stdout",
     "output_type": "stream",
     "text": [
      "Overwriting inference.py\n"
     ]
    }
   ],
   "source": [
    "%%writefile inference.py\n",
    "import json\n",
    "import os\n",
    "import pickle as pkl\n",
    "\n",
    "import numpy as np\n",
    "\n",
    "import sagemaker_xgboost_container.encoder as xgb_encoders\n",
    "\n",
    "\n",
    "def model_fn(model_dir):\n",
    "    \"\"\"\n",
    "    Deserialize and return fitted model.\n",
    "    \"\"\"\n",
    "    model_file = \"xgboost-model\"\n",
    "    booster = pkl.load(open(os.path.join(model_dir, model_file), \"rb\"))\n",
    "    return booster\n",
    "\n",
    "\n",
    "def input_fn(request_body, request_content_type):\n",
    "    \"\"\"\n",
    "    The SageMaker XGBoost model server receives the request data body and the content type,\n",
    "    and invokes the `input_fn`.\n",
    "\n",
    "    Return a DMatrix (an object that can be passed to predict_fn).\n",
    "    \"\"\"\n",
    "    if request_content_type == \"text/csv\":\n",
    "        return xgb_encoders.csv_to_dmatrix(request_body.rstrip('\\n').lstrip('\\n'))\n",
    "    else:\n",
    "        raise ValueError(\n",
    "            \"Content type {} is not supported.\".format(request_content_type)\n",
    "        )\n",
    "\n",
    "\n",
    "def predict_fn(input_data, model):\n",
    "    \"\"\"\n",
    "    SageMaker XGBoost model server invokes `predict_fn` on the return value of `input_fn`.\n",
    "\n",
    "    Return a two-dimensional NumPy array where the first columns are predictions\n",
    "    \"\"\"\n",
    "    prediction = model.predict(input_data)\n",
    "    return  prediction"
   ]
  },
  {
   "cell_type": "markdown",
   "metadata": {},
   "source": [
    "5.2. Creating models in SageMaker to be used in interference(prediction) based on model files provided in models_ModelFiles"
   ]
  },
  {
   "cell_type": "code",
   "execution_count": 18,
   "metadata": {},
   "outputs": [
    {
     "name": "stdout",
     "output_type": "stream",
     "text": [
      "PropertyAgeFold0 s3://kdproperty/Models/Experiments/bf2/PropertyAge-1-2021-02-16-16-37-37/output/model.tar.gz\n",
      "PropertyAgeFold0 model does not exist\n",
      "PropertyAgeFold0 model was created\n"
     ]
    }
   ],
   "source": [
    "models = list()\n",
    "model_names = list()\n",
    "i = 0\n",
    "for index, row in model_files.iterrows():\n",
    "    #Try to delete if exists model and create a new model based on a model file\n",
    "    name=row['Model']\n",
    "    name=name.replace('_','-')\n",
    "    model_data=row['ModelData']\n",
    "    print(name,model_data)\n",
    "    try:\n",
    "        response = smclient.delete_model(ModelName=name)\n",
    "        print('%s model was deleted'%name)\n",
    "    except:\n",
    "        print('%s model does not exist'%name)\n",
    "        pass\n",
    "    xgb_inference_model = XGBoostModel(\n",
    "    name=name,\n",
    "    model_data=model_data,\n",
    "    role=role,\n",
    "    entry_point='inference.py',\n",
    "    framework_version=\"1.0-1\",\n",
    "    )\n",
    "    models.append(xgb_inference_model)\n",
    "    model_names.append(name)\n",
    "    print('%s model was created'%name)\n",
    "    i = i + 1  "
   ]
  },
  {
   "cell_type": "markdown",
   "metadata": {},
   "source": [
    "5.3. Running transform jobs using inference.py script and models created above"
   ]
  },
  {
   "cell_type": "code",
   "execution_count": 19,
   "metadata": {},
   "outputs": [
    {
     "name": "stderr",
     "output_type": "stream",
     "text": [
      "INFO:botocore.credentials:Found credentials in shared credentials file: ~/.aws/credentials\n",
      "INFO:sagemaker.image_uris:Same images used for training and inference. Defaulting to image scope: inference.\n",
      "INFO:sagemaker.image_uris:Defaulting to only available Python version: py3\n"
     ]
    },
    {
     "name": "stdout",
     "output_type": "stream",
     "text": [
      "PropertyAgeFold0\n"
     ]
    },
    {
     "name": "stderr",
     "output_type": "stream",
     "text": [
      "INFO:sagemaker:Creating model with name: PropertyAgeFold0\n",
      "INFO:sagemaker:Creating transform job with name: PropertyAgeFold0-2021-02-28-18-56-39-119\n"
     ]
    },
    {
     "name": "stdout",
     "output_type": "stream",
     "text": [
      "Job PropertyAgeFold0-2021-02-28-18-56-39-119 started\n"
     ]
    }
   ],
   "source": [
    "tranform_jobs = list()\n",
    "tranformers = list()\n",
    "i = 0\n",
    "for m,model_name in zip(models,model_names):   \n",
    "    s3_batch_input='s3://%s/%s/%s'%(bucket,path_to_pd_input_data,model_name)\n",
    "    s3_batch_output_model = 's3://%s/%s/%s'%(bucket,path_to_pd_output_data,model_name)\n",
    "    print(model_name)\n",
    "    transformer =  m.transformer(\n",
    "                                              instance_count=instance_count_inference, \n",
    "                                              instance_type=instance_type_inference,\n",
    "                                              output_path=s3_batch_output_model,\n",
    "                                              accept='text/csv',\n",
    "                                              strategy='MultiRecord',\n",
    "                                              assemble_with='Line'\n",
    "                                             )\n",
    "    tranformers.append(transformer)\n",
    "    transformer.transform(data=s3_batch_input, content_type='text/csv',split_type='Line', wait=False,\n",
    "    experiment_config = {\n",
    "        'ExperimentName': Experiment_name ,\n",
    "        'TrialName' : Trial_name_inference,\n",
    "        'TrialComponentDisplayName' : '%s-%s'%(Trial_name_inference,model_name.replace('_','-')),})\n",
    "    job_name = transformer.latest_transform_job.name\n",
    "    tranform_jobs.append(job_name)\n",
    "    print('Job %s started'%job_name)\n",
    "    i = i + 1"
   ]
  },
  {
   "cell_type": "code",
   "execution_count": 20,
   "metadata": {},
   "outputs": [
    {
     "name": "stdout",
     "output_type": "stream",
     "text": [
      "Transforming job PropertyAgeFold0-2021-02-28-18-56-39-119 status: InProgress\n",
      "Continue waiting...\n",
      "Transforming job PropertyAgeFold0-2021-02-28-18-56-39-119 status: InProgress\n",
      "Continue waiting...\n",
      "All Transforming Jobs are Completed\n"
     ]
    }
   ],
   "source": [
    "eu.wait_transform_jobs(processors=tranformers,tranform_jobs=tranform_jobs,check_every_sec=10,print_every_n_output=20,wait_min=60)"
   ]
  },
  {
   "cell_type": "markdown",
   "metadata": {},
   "source": [
    "6. Post processing partial dependency results (averaging by value)"
   ]
  },
  {
   "cell_type": "code",
   "execution_count": 21,
   "metadata": {},
   "outputs": [
    {
     "name": "stdout",
     "output_type": "stream",
     "text": [
      "Overwriting postprocessingPartialDependencyData.py\n"
     ]
    }
   ],
   "source": [
    "%%writefile postprocessingPartialDependencyData.py\n",
    "\n",
    "#The code joins InputData files for each feature and inference from each model and then average by each feature value\n",
    "\n",
    "\n",
    "import argparse\n",
    "import os\n",
    "import pandas as pd\n",
    "import numpy as np\n",
    "\n",
    "\n",
    "if __name__=='__main__':\n",
    "    \n",
    "    parser = argparse.ArgumentParser()\n",
    "    parser.add_argument('--data_file', type=str)\n",
    "    parser.add_argument('--config_file', type=str)   \n",
    "    parser.add_argument('--featureset', type=str)   \n",
    "    parser.add_argument('--featuretypes', type=str)  \n",
    "    parser.add_argument('--split_to_N_parts', type=int, default=1)\n",
    "    args, _ = parser.parse_known_args()    \n",
    "    print('Received arguments {}'.format(args))\n",
    "    \n",
    "    \n",
    "    featureset=args.featureset.split(',')\n",
    "    featuretypes=args.featuretypes.split(',')\n",
    "    split_to_N_parts=args.split_to_N_parts\n",
    "    input_data_path = os.path.join('/opt/ml/processing/input', args.data_file)\n",
    "    config_data_path = os.path.join('/opt/ml/processing/config', args.config_file)\n",
    "\n",
    "\n",
    "    output_data_path = os.path.join('/opt/ml/processing/output', 'data.csv', )\n",
    "    \n",
    "    print('Reading input data from {}'.format(input_data_path))\n",
    "    dataset = pd.read_csv(input_data_path, error_bad_lines=False, index_col=False)\n",
    "    \n",
    "\n",
    "    print('Reading config data from {}'.format(config_data_path))\n",
    "    models = pd.read_csv(config_data_path, error_bad_lines=False, index_col=False)   \n",
    "\n",
    "    #final dataset - average pd by each feature value\n",
    "    all_fm_pd = pd.DataFrame()\n",
    "\n",
    "        \n",
    "    for f,ftype in zip(featureset,featuretypes):\n",
    "        print('Processing %s'%f)\n",
    "        #iterating thru config file with models and featureset\n",
    "        df_all_models=pd.DataFrame()\n",
    "        for index, row in models.iterrows():\n",
    "            model=row['Model']\n",
    "            print (index, ': Creating featuresets for model %s'%model)\n",
    "            model_complete_featureset=row[1:51].tolist()\n",
    "            model_complete_featureset=[x for x in model_complete_featureset if str(x) != 'nan']\n",
    "        \n",
    "            if ftype=='Continuous':\n",
    "                feature_InputData_dataset=pd.DataFrame()\n",
    "                #Continious data can be splitted to split_to_N_parts files\n",
    "                for j in range(0,split_to_N_parts):\n",
    "                    feature_InputData_path=os.path.join('/opt/ml/processing/input/InputData/%s'%model, '%s_%s.csv'%(f,j))\n",
    "                    feature_InputData_dataset_j = pd.read_csv(feature_InputData_path, names=model_complete_featureset, error_bad_lines=False, index_col=False)\n",
    "                    feature_InputData_dataset=feature_InputData_dataset.append(feature_InputData_dataset_j)          \n",
    "            else:\n",
    "                feature_InputData_path=os.path.join('/opt/ml/processing/input/InputData/%s'%model, '%s.csv'%f)\n",
    "                feature_InputData_dataset = pd.read_csv(feature_InputData_path, names=model_complete_featureset, error_bad_lines=False, index_col=False)\n",
    "            \n",
    "            fm_pd = pd.DataFrame()           \n",
    "            print('Reading predicted data from model %s'%model)\n",
    "            if ftype=='Continuous':\n",
    "                pdf_dataset=pd.DataFrame()\n",
    "                #Continious data can be splitted to split_to_N_parts files\n",
    "                for j in range(0,split_to_N_parts):\n",
    "                    model_predicted_data_path =os.path.join('/opt/ml/processing/input/PartialDependency/%s'%model.replace('_','-'),'%s_%s.csv.out'%(f,j))\n",
    "                    pdf_dataset_i = pd.read_csv(model_predicted_data_path, names=['pd'], error_bad_lines=False, index_col=False)\n",
    "                    pdf_dataset=pdf_dataset.append(pdf_dataset_i)\n",
    "            else:\n",
    "                model_predicted_data_path =os.path.join('/opt/ml/processing/input/PartialDependency/%s'%model.replace('_','-'),'%s.csv.out'%f)                \n",
    "                pdf_dataset = pd.read_csv(model_predicted_data_path, names=['pd'], error_bad_lines=False, index_col=False)\n",
    "            #model feature partial dependency columns name\n",
    "            pd_column_name='%s_pd'%model\n",
    "            feature_InputData_dataset[pd_column_name]= pdf_dataset['pd'].values\n",
    "            \n",
    "            #average\n",
    "            fm_s = feature_InputData_dataset.groupby(f)[pd_column_name].mean()\n",
    "            fm_pd_model=pd.DataFrame({'value':fm_s.index, pd_column_name:fm_s.values})           \n",
    "            fm_pd_model['feature']=f\n",
    "            fm_pd_model = fm_pd_model[['feature','value',pd_column_name]]\n",
    "\n",
    "            fm_pd=pd.concat([fm_pd,fm_pd_model],axis=1)          \n",
    "            #add text value for categorical encd columns\n",
    "            #assuming there is encoded (_encd ended) and original values in the dataset\n",
    "            fm_pd['value2']=fm_pd['value'].astype(str)\n",
    "            if '_encd' in f and f.replace('_encd','') in dataset.columns:\n",
    "                #unique combindation of codes and original values from the main dataset into list and then dictionary\n",
    "                dataset['dummy']= dataset[f.replace('_encd','')] +'-'+ dataset[f].astype(str)\n",
    "                unique_comb_l=dataset['dummy'].unique().tolist()\n",
    "                unique_comb_value=[i.split('-', 1)[0] for i in unique_comb_l]\n",
    "                unique_comb_key=[i.split('-', 1)[1] for i in unique_comb_l]\n",
    "                unique_comb_dict = dict(zip(unique_comb_key, unique_comb_value))\n",
    "                #replace value2 in the feature values and partial dependencies\n",
    "                fm_pd['value2'].replace(unique_comb_dict, inplace=True)\n",
    "            if len(df_all_models)==0:\n",
    "                df_all_models=fm_pd\n",
    "            else:\n",
    "                df_all_models = pd.merge(df_all_models,fm_pd, on=['feature','value','value2'], how='outer')    \n",
    "\n",
    "        all_fm_pd=all_fm_pd.append(df_all_models)\n",
    "    #saving final output    \n",
    "    all_fm_pd.to_csv(output_data_path,header=True ,index=False)    "
   ]
  },
  {
   "cell_type": "code",
   "execution_count": 22,
   "metadata": {},
   "outputs": [
    {
     "name": "stderr",
     "output_type": "stream",
     "text": [
      "INFO:botocore.credentials:Found credentials in shared credentials file: ~/.aws/credentials\n",
      "INFO:sagemaker.image_uris:Same images used for training and inference. Defaulting to image scope: inference.\n",
      "INFO:sagemaker.image_uris:Defaulting to only available Python version: py3\n",
      "INFO:sagemaker:Creating processing-job with name sagemaker-scikit-learn-2021-02-28-19-03-47-082\n"
     ]
    },
    {
     "name": "stdout",
     "output_type": "stream",
     "text": [
      "\n",
      "Job Name:  sagemaker-scikit-learn-2021-02-28-19-03-47-082\n",
      "Inputs:  [{'InputName': 'input', 'AppManaged': False, 'S3Input': {'S3Uri': 's3://kdproperty/Data/dwelling_basedata_v4.csv', 'LocalPath': '/opt/ml/processing/input', 'S3DataType': 'S3Prefix', 'S3InputMode': 'File', 'S3DataDistributionType': 'FullyReplicated', 'S3CompressionType': 'None'}}, {'InputName': 'config', 'AppManaged': False, 'S3Input': {'S3Uri': 's3://kdproperty/Config/pd.csv', 'LocalPath': '/opt/ml/processing/config', 'S3DataType': 'S3Prefix', 'S3InputMode': 'File', 'S3DataDistributionType': 'FullyReplicated', 'S3CompressionType': 'None'}}, {'InputName': 'InputData', 'AppManaged': False, 'S3Input': {'S3Uri': 's3://kdproperty/Data/Experiments/pd/pd_input_data', 'LocalPath': '/opt/ml/processing/input/InputData', 'S3DataType': 'S3Prefix', 'S3InputMode': 'File', 'S3DataDistributionType': 'FullyReplicated', 'S3CompressionType': 'None'}}, {'InputName': 'PartialDependency', 'AppManaged': False, 'S3Input': {'S3Uri': 's3://kdproperty/Data/Experiments/pd/pd_output_data', 'LocalPath': '/opt/ml/processing/input/PartialDependency', 'S3DataType': 'S3Prefix', 'S3InputMode': 'File', 'S3DataDistributionType': 'FullyReplicated', 'S3CompressionType': 'None'}}, {'InputName': 'code', 'AppManaged': False, 'S3Input': {'S3Uri': 's3://sagemaker-us-west-2-757107622481/sagemaker-scikit-learn-2021-02-28-19-03-47-082/input/code/postprocessingPartialDependencyData.py', 'LocalPath': '/opt/ml/processing/input/code', 'S3DataType': 'S3Prefix', 'S3InputMode': 'File', 'S3DataDistributionType': 'FullyReplicated', 'S3CompressionType': 'None'}}]\n",
      "Outputs:  [{'OutputName': 'output', 'AppManaged': False, 'S3Output': {'S3Uri': 's3://kdproperty/Data/Experiments/pd/pd_final_data', 'LocalPath': '/opt/ml/processing/output', 'S3UploadMode': 'EndOfJob'}}]\n",
      "...............................\u001b[34mReceived arguments Namespace(config_file='pd.csv', data_file='dwelling_basedata_v4.csv', featureset='cova_deductible,sqft,cal_year-yearbuilt,water_risk_3_blk', featuretypes='Categorical,Continuous,Continuous,Continuous', split_to_N_parts=5)\u001b[0m\n",
      "\u001b[34mReading input data from /opt/ml/processing/input/dwelling_basedata_v4.csv\u001b[0m\n",
      "\u001b[34mReading config data from /opt/ml/processing/config/pd.csv\u001b[0m\n",
      "\u001b[34mProcessing cova_deductible\u001b[0m\n",
      "\u001b[34m0 : Creating featuresets for model PropertyAgeFold0\u001b[0m\n",
      "\u001b[34mReading predicted data from model PropertyAgeFold0\u001b[0m\n",
      "\u001b[34mProcessing sqft\u001b[0m\n",
      "\u001b[34m0 : Creating featuresets for model PropertyAgeFold0\u001b[0m\n",
      "\u001b[34mReading predicted data from model PropertyAgeFold0\u001b[0m\n",
      "\u001b[34mProcessing cal_year-yearbuilt\u001b[0m\n",
      "\u001b[34m0 : Creating featuresets for model PropertyAgeFold0\u001b[0m\n",
      "\u001b[34mReading predicted data from model PropertyAgeFold0\u001b[0m\n",
      "\u001b[34mProcessing water_risk_3_blk\u001b[0m\n",
      "\u001b[34m0 : Creating featuresets for model PropertyAgeFold0\u001b[0m\n",
      "\u001b[34mReading predicted data from model PropertyAgeFold0\u001b[0m\n",
      "\n"
     ]
    }
   ],
   "source": [
    "processors=list()\n",
    "\n",
    "featureset=features_for_pd['Feature'].tolist()\n",
    "featuretypes=features_for_pd['Type'].tolist()\n",
    "\n",
    "\n",
    "data_processor = SKLearnProcessor(framework_version='0.20.0',\n",
    "                                     role=role,\n",
    "                                     instance_type=instance_type_postprocessing,\n",
    "                                     instance_count=instance_count_postprocessing)\n",
    "\n",
    "data_processor.run(code='postprocessingPartialDependencyData.py',\n",
    "                        inputs= [\n",
    "                        #1.Main dataset\n",
    "                        ProcessingInput(input_name='input',source='s3://%s/%s/%s'%(bucket,path_to_data,data_file),destination='/opt/ml/processing/input'),  \n",
    "                        #2.Models config file\n",
    "                        ProcessingInput(input_name='config',source='s3://%s/%s/%s'%(bucket,path_to_configuration,Model_Config_file),destination='/opt/ml/processing/config'),\n",
    "                        #3.preprocessed features data for inference     \n",
    "                        ProcessingInput(input_name='InputData', source='s3://%s/%s'%(bucket,path_to_pd_input_data), destination='/opt/ml/processing/input/InputData'),\n",
    "                        #4.inference (predicted) data\n",
    "                        ProcessingInput(input_name='PartialDependency', source='s3://%s/%s'%(bucket,path_to_pd_output_data), destination='/opt/ml/processing/input/PartialDependency')    \n",
    "                                 ],\n",
    "                        outputs=[ProcessingOutput(output_name='output', source='/opt/ml/processing/output', destination='s3://%s/%s'%(bucket,path_to_pd_final_data)),                                                          \n",
    "                                ],\n",
    "                        arguments=['--data_file',data_file,\n",
    "                                '--config_file',Model_Config_file,\n",
    "                                 '--featureset', ','.join(featureset).replace(' ',''),\n",
    "                                 '--featuretypes', ','.join(featuretypes).replace(' ',''),\n",
    "                                 '--split_to_N_parts',str(split_to_N_parts)],\n",
    "                        experiment_config = {\n",
    "        'ExperimentName': Experiment_name ,\n",
    "        'TrialName' : Trial_name_postprocessing,\n",
    "        'TrialComponentDisplayName' : Trial_name_postprocessing},\n",
    "                        wait=True\n",
    "                        )\n",
    "processors.append(data_processor)"
   ]
  },
  {
   "cell_type": "code",
   "execution_count": 23,
   "metadata": {},
   "outputs": [],
   "source": [
    "#Stop the execution if there is an issue with creating input data for the models\n",
    "job_name=data_processor.jobs[-1].describe()['ProcessingJobName']\n",
    "if not(sagemaker_session.was_processing_job_successful(job_name)):\n",
    "    raise Exception('Preprocessing job Failed!')  "
   ]
  },
  {
   "cell_type": "markdown",
   "metadata": {},
   "source": [
    "7. Read data from S3 and visualize and save to a log\n",
    "- header as hardcoded in postprocessingPartialDependencyData.py: feature name, feature value, models partial dependency value (as we cofigured in the experiment), feature original value if encoded\n",
    "- the output file name (required in this case) is data.csv, hardcoded in postprocessingPartialDependencyData.py"
   ]
  },
  {
   "cell_type": "code",
   "execution_count": 25,
   "metadata": {},
   "outputs": [
    {
     "data": {
      "text/html": [
       "<div>\n",
       "<style scoped>\n",
       "    .dataframe tbody tr th:only-of-type {\n",
       "        vertical-align: middle;\n",
       "    }\n",
       "\n",
       "    .dataframe tbody tr th {\n",
       "        vertical-align: top;\n",
       "    }\n",
       "\n",
       "    .dataframe thead th {\n",
       "        text-align: right;\n",
       "    }\n",
       "</style>\n",
       "<table border=\"1\" class=\"dataframe\">\n",
       "  <thead>\n",
       "    <tr style=\"text-align: right;\">\n",
       "      <th></th>\n",
       "      <th>feature</th>\n",
       "      <th>value</th>\n",
       "      <th>PropertyAgeFold0_pd</th>\n",
       "      <th>value2</th>\n",
       "    </tr>\n",
       "  </thead>\n",
       "  <tbody>\n",
       "    <tr>\n",
       "      <th>0</th>\n",
       "      <td>cova_deductible</td>\n",
       "      <td>0.0</td>\n",
       "      <td>0.002580</td>\n",
       "      <td>0.0</td>\n",
       "    </tr>\n",
       "    <tr>\n",
       "      <th>1</th>\n",
       "      <td>cova_deductible</td>\n",
       "      <td>100.0</td>\n",
       "      <td>0.002580</td>\n",
       "      <td>100.0</td>\n",
       "    </tr>\n",
       "    <tr>\n",
       "      <th>2</th>\n",
       "      <td>cova_deductible</td>\n",
       "      <td>250.0</td>\n",
       "      <td>0.001723</td>\n",
       "      <td>250.0</td>\n",
       "    </tr>\n",
       "    <tr>\n",
       "      <th>3</th>\n",
       "      <td>cova_deductible</td>\n",
       "      <td>500.0</td>\n",
       "      <td>0.001821</td>\n",
       "      <td>500.0</td>\n",
       "    </tr>\n",
       "    <tr>\n",
       "      <th>4</th>\n",
       "      <td>cova_deductible</td>\n",
       "      <td>1000.0</td>\n",
       "      <td>0.001560</td>\n",
       "      <td>1000.0</td>\n",
       "    </tr>\n",
       "  </tbody>\n",
       "</table>\n",
       "</div>"
      ],
      "text/plain": [
       "           feature   value  PropertyAgeFold0_pd  value2\n",
       "0  cova_deductible     0.0             0.002580     0.0\n",
       "1  cova_deductible   100.0             0.002580   100.0\n",
       "2  cova_deductible   250.0             0.001723   250.0\n",
       "3  cova_deductible   500.0             0.001821   500.0\n",
       "4  cova_deductible  1000.0             0.001560  1000.0"
      ]
     },
     "execution_count": 25,
     "metadata": {},
     "output_type": "execute_result"
    }
   ],
   "source": [
    "pdf_dataset = pd.read_csv(pd_output_file,  error_bad_lines=False, index_col=False) \n",
    "pdf_dataset.head()"
   ]
  },
  {
   "cell_type": "code",
   "execution_count": 26,
   "metadata": {},
   "outputs": [],
   "source": [
    "#Saving into the Experiment log or load to redshift directly\n",
    "eu.SaveToExperimentLog(Experiments_file, '%s Data'%Experiment_name, pdf_dataset)"
   ]
  },
  {
   "cell_type": "markdown",
   "metadata": {},
   "source": [
    "8. Averaging partial dependency by all models (assuming models are parts of a cv-folds)"
   ]
  },
  {
   "cell_type": "code",
   "execution_count": 27,
   "metadata": {},
   "outputs": [
    {
     "name": "stderr",
     "output_type": "stream",
     "text": [
      "INFO:numexpr.utils:NumExpr defaulting to 8 threads.\n"
     ]
    },
    {
     "data": {
      "text/html": [
       "<div>\n",
       "<style scoped>\n",
       "    .dataframe tbody tr th:only-of-type {\n",
       "        vertical-align: middle;\n",
       "    }\n",
       "\n",
       "    .dataframe tbody tr th {\n",
       "        vertical-align: top;\n",
       "    }\n",
       "\n",
       "    .dataframe thead th {\n",
       "        text-align: right;\n",
       "    }\n",
       "</style>\n",
       "<table border=\"1\" class=\"dataframe\">\n",
       "  <thead>\n",
       "    <tr style=\"text-align: right;\">\n",
       "      <th></th>\n",
       "      <th>feature</th>\n",
       "      <th>value</th>\n",
       "      <th>PropertyAgeFold0_pd</th>\n",
       "      <th>value2</th>\n",
       "      <th>pd</th>\n",
       "    </tr>\n",
       "  </thead>\n",
       "  <tbody>\n",
       "    <tr>\n",
       "      <th>0</th>\n",
       "      <td>cova_deductible</td>\n",
       "      <td>0.0</td>\n",
       "      <td>0.002580</td>\n",
       "      <td>0.0</td>\n",
       "      <td>0.002580</td>\n",
       "    </tr>\n",
       "    <tr>\n",
       "      <th>1</th>\n",
       "      <td>cova_deductible</td>\n",
       "      <td>100.0</td>\n",
       "      <td>0.002580</td>\n",
       "      <td>100.0</td>\n",
       "      <td>0.002580</td>\n",
       "    </tr>\n",
       "    <tr>\n",
       "      <th>2</th>\n",
       "      <td>cova_deductible</td>\n",
       "      <td>250.0</td>\n",
       "      <td>0.001723</td>\n",
       "      <td>250.0</td>\n",
       "      <td>0.001723</td>\n",
       "    </tr>\n",
       "    <tr>\n",
       "      <th>3</th>\n",
       "      <td>cova_deductible</td>\n",
       "      <td>500.0</td>\n",
       "      <td>0.001821</td>\n",
       "      <td>500.0</td>\n",
       "      <td>0.001821</td>\n",
       "    </tr>\n",
       "    <tr>\n",
       "      <th>4</th>\n",
       "      <td>cova_deductible</td>\n",
       "      <td>1000.0</td>\n",
       "      <td>0.001560</td>\n",
       "      <td>1000.0</td>\n",
       "      <td>0.001560</td>\n",
       "    </tr>\n",
       "  </tbody>\n",
       "</table>\n",
       "</div>"
      ],
      "text/plain": [
       "           feature   value  PropertyAgeFold0_pd  value2        pd\n",
       "0  cova_deductible     0.0             0.002580     0.0  0.002580\n",
       "1  cova_deductible   100.0             0.002580   100.0  0.002580\n",
       "2  cova_deductible   250.0             0.001723   250.0  0.001723\n",
       "3  cova_deductible   500.0             0.001821   500.0  0.001821\n",
       "4  cova_deductible  1000.0             0.001560  1000.0  0.001560"
      ]
     },
     "execution_count": 27,
     "metadata": {},
     "output_type": "execute_result"
    }
   ],
   "source": [
    "pdf_dataset['pd']=0\n",
    "for index, row in model_files.iterrows():\n",
    "    m=row['Model']\n",
    "    pdf_dataset['pd'] = pdf_dataset['pd'] + pdf_dataset['%s_pd'%m]\n",
    "pdf_dataset['pd'] = pdf_dataset['pd']/len(model_files)\n",
    "pdf_dataset.head()"
   ]
  },
  {
   "cell_type": "markdown",
   "metadata": {},
   "source": [
    "9. Visualization Partial Dependency with bokeh"
   ]
  },
  {
   "cell_type": "code",
   "execution_count": 28,
   "metadata": {},
   "outputs": [
    {
     "data": {
      "text/html": [
       "\n",
       "    <div class=\"bk-root\">\n",
       "        <a href=\"https://bokeh.org\" target=\"_blank\" class=\"bk-logo bk-logo-small bk-logo-notebook\"></a>\n",
       "        <span id=\"1001\">Loading BokehJS ...</span>\n",
       "    </div>"
      ]
     },
     "metadata": {},
     "output_type": "display_data"
    },
    {
     "data": {
      "application/javascript": [
       "\n",
       "(function(root) {\n",
       "  function now() {\n",
       "    return new Date();\n",
       "  }\n",
       "\n",
       "  var force = true;\n",
       "\n",
       "  if (typeof root._bokeh_onload_callbacks === \"undefined\" || force === true) {\n",
       "    root._bokeh_onload_callbacks = [];\n",
       "    root._bokeh_is_loading = undefined;\n",
       "  }\n",
       "\n",
       "  var JS_MIME_TYPE = 'application/javascript';\n",
       "  var HTML_MIME_TYPE = 'text/html';\n",
       "  var EXEC_MIME_TYPE = 'application/vnd.bokehjs_exec.v0+json';\n",
       "  var CLASS_NAME = 'output_bokeh rendered_html';\n",
       "\n",
       "  /**\n",
       "   * Render data to the DOM node\n",
       "   */\n",
       "  function render(props, node) {\n",
       "    var script = document.createElement(\"script\");\n",
       "    node.appendChild(script);\n",
       "  }\n",
       "\n",
       "  /**\n",
       "   * Handle when an output is cleared or removed\n",
       "   */\n",
       "  function handleClearOutput(event, handle) {\n",
       "    var cell = handle.cell;\n",
       "\n",
       "    var id = cell.output_area._bokeh_element_id;\n",
       "    var server_id = cell.output_area._bokeh_server_id;\n",
       "    // Clean up Bokeh references\n",
       "    if (id != null && id in Bokeh.index) {\n",
       "      Bokeh.index[id].model.document.clear();\n",
       "      delete Bokeh.index[id];\n",
       "    }\n",
       "\n",
       "    if (server_id !== undefined) {\n",
       "      // Clean up Bokeh references\n",
       "      var cmd = \"from bokeh.io.state import curstate; print(curstate().uuid_to_server['\" + server_id + \"'].get_sessions()[0].document.roots[0]._id)\";\n",
       "      cell.notebook.kernel.execute(cmd, {\n",
       "        iopub: {\n",
       "          output: function(msg) {\n",
       "            var id = msg.content.text.trim();\n",
       "            if (id in Bokeh.index) {\n",
       "              Bokeh.index[id].model.document.clear();\n",
       "              delete Bokeh.index[id];\n",
       "            }\n",
       "          }\n",
       "        }\n",
       "      });\n",
       "      // Destroy server and session\n",
       "      var cmd = \"import bokeh.io.notebook as ion; ion.destroy_server('\" + server_id + \"')\";\n",
       "      cell.notebook.kernel.execute(cmd);\n",
       "    }\n",
       "  }\n",
       "\n",
       "  /**\n",
       "   * Handle when a new output is added\n",
       "   */\n",
       "  function handleAddOutput(event, handle) {\n",
       "    var output_area = handle.output_area;\n",
       "    var output = handle.output;\n",
       "\n",
       "    // limit handleAddOutput to display_data with EXEC_MIME_TYPE content only\n",
       "    if ((output.output_type != \"display_data\") || (!output.data.hasOwnProperty(EXEC_MIME_TYPE))) {\n",
       "      return\n",
       "    }\n",
       "\n",
       "    var toinsert = output_area.element.find(\".\" + CLASS_NAME.split(' ')[0]);\n",
       "\n",
       "    if (output.metadata[EXEC_MIME_TYPE][\"id\"] !== undefined) {\n",
       "      toinsert[toinsert.length - 1].firstChild.textContent = output.data[JS_MIME_TYPE];\n",
       "      // store reference to embed id on output_area\n",
       "      output_area._bokeh_element_id = output.metadata[EXEC_MIME_TYPE][\"id\"];\n",
       "    }\n",
       "    if (output.metadata[EXEC_MIME_TYPE][\"server_id\"] !== undefined) {\n",
       "      var bk_div = document.createElement(\"div\");\n",
       "      bk_div.innerHTML = output.data[HTML_MIME_TYPE];\n",
       "      var script_attrs = bk_div.children[0].attributes;\n",
       "      for (var i = 0; i < script_attrs.length; i++) {\n",
       "        toinsert[toinsert.length - 1].firstChild.setAttribute(script_attrs[i].name, script_attrs[i].value);\n",
       "        toinsert[toinsert.length - 1].firstChild.textContent = bk_div.children[0].textContent\n",
       "      }\n",
       "      // store reference to server id on output_area\n",
       "      output_area._bokeh_server_id = output.metadata[EXEC_MIME_TYPE][\"server_id\"];\n",
       "    }\n",
       "  }\n",
       "\n",
       "  function register_renderer(events, OutputArea) {\n",
       "\n",
       "    function append_mime(data, metadata, element) {\n",
       "      // create a DOM node to render to\n",
       "      var toinsert = this.create_output_subarea(\n",
       "        metadata,\n",
       "        CLASS_NAME,\n",
       "        EXEC_MIME_TYPE\n",
       "      );\n",
       "      this.keyboard_manager.register_events(toinsert);\n",
       "      // Render to node\n",
       "      var props = {data: data, metadata: metadata[EXEC_MIME_TYPE]};\n",
       "      render(props, toinsert[toinsert.length - 1]);\n",
       "      element.append(toinsert);\n",
       "      return toinsert\n",
       "    }\n",
       "\n",
       "    /* Handle when an output is cleared or removed */\n",
       "    events.on('clear_output.CodeCell', handleClearOutput);\n",
       "    events.on('delete.Cell', handleClearOutput);\n",
       "\n",
       "    /* Handle when a new output is added */\n",
       "    events.on('output_added.OutputArea', handleAddOutput);\n",
       "\n",
       "    /**\n",
       "     * Register the mime type and append_mime function with output_area\n",
       "     */\n",
       "    OutputArea.prototype.register_mime_type(EXEC_MIME_TYPE, append_mime, {\n",
       "      /* Is output safe? */\n",
       "      safe: true,\n",
       "      /* Index of renderer in `output_area.display_order` */\n",
       "      index: 0\n",
       "    });\n",
       "  }\n",
       "\n",
       "  // register the mime type if in Jupyter Notebook environment and previously unregistered\n",
       "  if (root.Jupyter !== undefined) {\n",
       "    var events = require('base/js/events');\n",
       "    var OutputArea = require('notebook/js/outputarea').OutputArea;\n",
       "\n",
       "    if (OutputArea.prototype.mime_types().indexOf(EXEC_MIME_TYPE) == -1) {\n",
       "      register_renderer(events, OutputArea);\n",
       "    }\n",
       "  }\n",
       "\n",
       "  \n",
       "  if (typeof (root._bokeh_timeout) === \"undefined\" || force === true) {\n",
       "    root._bokeh_timeout = Date.now() + 5000;\n",
       "    root._bokeh_failed_load = false;\n",
       "  }\n",
       "\n",
       "  var NB_LOAD_WARNING = {'data': {'text/html':\n",
       "     \"<div style='background-color: #fdd'>\\n\"+\n",
       "     \"<p>\\n\"+\n",
       "     \"BokehJS does not appear to have successfully loaded. If loading BokehJS from CDN, this \\n\"+\n",
       "     \"may be due to a slow or bad network connection. Possible fixes:\\n\"+\n",
       "     \"</p>\\n\"+\n",
       "     \"<ul>\\n\"+\n",
       "     \"<li>re-rerun `output_notebook()` to attempt to load from CDN again, or</li>\\n\"+\n",
       "     \"<li>use INLINE resources instead, as so:</li>\\n\"+\n",
       "     \"</ul>\\n\"+\n",
       "     \"<code>\\n\"+\n",
       "     \"from bokeh.resources import INLINE\\n\"+\n",
       "     \"output_notebook(resources=INLINE)\\n\"+\n",
       "     \"</code>\\n\"+\n",
       "     \"</div>\"}};\n",
       "\n",
       "  function display_loaded() {\n",
       "    var el = document.getElementById(\"1001\");\n",
       "    if (el != null) {\n",
       "      el.textContent = \"BokehJS is loading...\";\n",
       "    }\n",
       "    if (root.Bokeh !== undefined) {\n",
       "      if (el != null) {\n",
       "        el.textContent = \"BokehJS \" + root.Bokeh.version + \" successfully loaded.\";\n",
       "      }\n",
       "    } else if (Date.now() < root._bokeh_timeout) {\n",
       "      setTimeout(display_loaded, 100)\n",
       "    }\n",
       "  }\n",
       "\n",
       "\n",
       "  function run_callbacks() {\n",
       "    try {\n",
       "      root._bokeh_onload_callbacks.forEach(function(callback) {\n",
       "        if (callback != null)\n",
       "          callback();\n",
       "      });\n",
       "    } finally {\n",
       "      delete root._bokeh_onload_callbacks\n",
       "    }\n",
       "    console.debug(\"Bokeh: all callbacks have finished\");\n",
       "  }\n",
       "\n",
       "  function load_libs(css_urls, js_urls, callback) {\n",
       "    if (css_urls == null) css_urls = [];\n",
       "    if (js_urls == null) js_urls = [];\n",
       "\n",
       "    root._bokeh_onload_callbacks.push(callback);\n",
       "    if (root._bokeh_is_loading > 0) {\n",
       "      console.debug(\"Bokeh: BokehJS is being loaded, scheduling callback at\", now());\n",
       "      return null;\n",
       "    }\n",
       "    if (js_urls == null || js_urls.length === 0) {\n",
       "      run_callbacks();\n",
       "      return null;\n",
       "    }\n",
       "    console.debug(\"Bokeh: BokehJS not loaded, scheduling load and callback at\", now());\n",
       "    root._bokeh_is_loading = css_urls.length + js_urls.length;\n",
       "\n",
       "    function on_load() {\n",
       "      root._bokeh_is_loading--;\n",
       "      if (root._bokeh_is_loading === 0) {\n",
       "        console.debug(\"Bokeh: all BokehJS libraries/stylesheets loaded\");\n",
       "        run_callbacks()\n",
       "      }\n",
       "    }\n",
       "\n",
       "    function on_error() {\n",
       "      console.error(\"failed to load \" + url);\n",
       "    }\n",
       "\n",
       "    for (var i = 0; i < css_urls.length; i++) {\n",
       "      var url = css_urls[i];\n",
       "      const element = document.createElement(\"link\");\n",
       "      element.onload = on_load;\n",
       "      element.onerror = on_error;\n",
       "      element.rel = \"stylesheet\";\n",
       "      element.type = \"text/css\";\n",
       "      element.href = url;\n",
       "      console.debug(\"Bokeh: injecting link tag for BokehJS stylesheet: \", url);\n",
       "      document.body.appendChild(element);\n",
       "    }\n",
       "\n",
       "    const hashes = {\"https://cdn.bokeh.org/bokeh/release/bokeh-2.2.3.min.js\": \"T2yuo9Oe71Cz/I4X9Ac5+gpEa5a8PpJCDlqKYO0CfAuEszu1JrXLl8YugMqYe3sM\", \"https://cdn.bokeh.org/bokeh/release/bokeh-widgets-2.2.3.min.js\": \"98GDGJ0kOMCUMUePhksaQ/GYgB3+NH9h996V88sh3aOiUNX3N+fLXAtry6xctSZ6\", \"https://cdn.bokeh.org/bokeh/release/bokeh-tables-2.2.3.min.js\": \"89bArO+nlbP3sgakeHjCo1JYxYR5wufVgA3IbUvDY+K7w4zyxJqssu7wVnfeKCq8\"};\n",
       "\n",
       "    for (var i = 0; i < js_urls.length; i++) {\n",
       "      var url = js_urls[i];\n",
       "      var element = document.createElement('script');\n",
       "      element.onload = on_load;\n",
       "      element.onerror = on_error;\n",
       "      element.async = false;\n",
       "      element.src = url;\n",
       "      if (url in hashes) {\n",
       "        element.crossOrigin = \"anonymous\";\n",
       "        element.integrity = \"sha384-\" + hashes[url];\n",
       "      }\n",
       "      console.debug(\"Bokeh: injecting script tag for BokehJS library: \", url);\n",
       "      document.head.appendChild(element);\n",
       "    }\n",
       "  };\n",
       "\n",
       "  function inject_raw_css(css) {\n",
       "    const element = document.createElement(\"style\");\n",
       "    element.appendChild(document.createTextNode(css));\n",
       "    document.body.appendChild(element);\n",
       "  }\n",
       "\n",
       "  \n",
       "  var js_urls = [\"https://cdn.bokeh.org/bokeh/release/bokeh-2.2.3.min.js\", \"https://cdn.bokeh.org/bokeh/release/bokeh-widgets-2.2.3.min.js\", \"https://cdn.bokeh.org/bokeh/release/bokeh-tables-2.2.3.min.js\"];\n",
       "  var css_urls = [];\n",
       "  \n",
       "\n",
       "  var inline_js = [\n",
       "    function(Bokeh) {\n",
       "      Bokeh.set_log_level(\"info\");\n",
       "    },\n",
       "    function(Bokeh) {\n",
       "    \n",
       "    \n",
       "    }\n",
       "  ];\n",
       "\n",
       "  function run_inline_js() {\n",
       "    \n",
       "    if (root.Bokeh !== undefined || force === true) {\n",
       "      \n",
       "    for (var i = 0; i < inline_js.length; i++) {\n",
       "      inline_js[i].call(root, root.Bokeh);\n",
       "    }\n",
       "    if (force === true) {\n",
       "        display_loaded();\n",
       "      }} else if (Date.now() < root._bokeh_timeout) {\n",
       "      setTimeout(run_inline_js, 100);\n",
       "    } else if (!root._bokeh_failed_load) {\n",
       "      console.log(\"Bokeh: BokehJS failed to load within specified timeout.\");\n",
       "      root._bokeh_failed_load = true;\n",
       "    } else if (force !== true) {\n",
       "      var cell = $(document.getElementById(\"1001\")).parents('.cell').data().cell;\n",
       "      cell.output_area.append_execute_result(NB_LOAD_WARNING)\n",
       "    }\n",
       "\n",
       "  }\n",
       "\n",
       "  if (root._bokeh_is_loading === 0) {\n",
       "    console.debug(\"Bokeh: BokehJS loaded, going straight to plotting\");\n",
       "    run_inline_js();\n",
       "  } else {\n",
       "    load_libs(css_urls, js_urls, function() {\n",
       "      console.debug(\"Bokeh: BokehJS plotting callback run at\", now());\n",
       "      run_inline_js();\n",
       "    });\n",
       "  }\n",
       "}(window));"
      ],
      "application/vnd.bokehjs_load.v0+json": "\n(function(root) {\n  function now() {\n    return new Date();\n  }\n\n  var force = true;\n\n  if (typeof root._bokeh_onload_callbacks === \"undefined\" || force === true) {\n    root._bokeh_onload_callbacks = [];\n    root._bokeh_is_loading = undefined;\n  }\n\n  \n\n  \n  if (typeof (root._bokeh_timeout) === \"undefined\" || force === true) {\n    root._bokeh_timeout = Date.now() + 5000;\n    root._bokeh_failed_load = false;\n  }\n\n  var NB_LOAD_WARNING = {'data': {'text/html':\n     \"<div style='background-color: #fdd'>\\n\"+\n     \"<p>\\n\"+\n     \"BokehJS does not appear to have successfully loaded. If loading BokehJS from CDN, this \\n\"+\n     \"may be due to a slow or bad network connection. Possible fixes:\\n\"+\n     \"</p>\\n\"+\n     \"<ul>\\n\"+\n     \"<li>re-rerun `output_notebook()` to attempt to load from CDN again, or</li>\\n\"+\n     \"<li>use INLINE resources instead, as so:</li>\\n\"+\n     \"</ul>\\n\"+\n     \"<code>\\n\"+\n     \"from bokeh.resources import INLINE\\n\"+\n     \"output_notebook(resources=INLINE)\\n\"+\n     \"</code>\\n\"+\n     \"</div>\"}};\n\n  function display_loaded() {\n    var el = document.getElementById(\"1001\");\n    if (el != null) {\n      el.textContent = \"BokehJS is loading...\";\n    }\n    if (root.Bokeh !== undefined) {\n      if (el != null) {\n        el.textContent = \"BokehJS \" + root.Bokeh.version + \" successfully loaded.\";\n      }\n    } else if (Date.now() < root._bokeh_timeout) {\n      setTimeout(display_loaded, 100)\n    }\n  }\n\n\n  function run_callbacks() {\n    try {\n      root._bokeh_onload_callbacks.forEach(function(callback) {\n        if (callback != null)\n          callback();\n      });\n    } finally {\n      delete root._bokeh_onload_callbacks\n    }\n    console.debug(\"Bokeh: all callbacks have finished\");\n  }\n\n  function load_libs(css_urls, js_urls, callback) {\n    if (css_urls == null) css_urls = [];\n    if (js_urls == null) js_urls = [];\n\n    root._bokeh_onload_callbacks.push(callback);\n    if (root._bokeh_is_loading > 0) {\n      console.debug(\"Bokeh: BokehJS is being loaded, scheduling callback at\", now());\n      return null;\n    }\n    if (js_urls == null || js_urls.length === 0) {\n      run_callbacks();\n      return null;\n    }\n    console.debug(\"Bokeh: BokehJS not loaded, scheduling load and callback at\", now());\n    root._bokeh_is_loading = css_urls.length + js_urls.length;\n\n    function on_load() {\n      root._bokeh_is_loading--;\n      if (root._bokeh_is_loading === 0) {\n        console.debug(\"Bokeh: all BokehJS libraries/stylesheets loaded\");\n        run_callbacks()\n      }\n    }\n\n    function on_error() {\n      console.error(\"failed to load \" + url);\n    }\n\n    for (var i = 0; i < css_urls.length; i++) {\n      var url = css_urls[i];\n      const element = document.createElement(\"link\");\n      element.onload = on_load;\n      element.onerror = on_error;\n      element.rel = \"stylesheet\";\n      element.type = \"text/css\";\n      element.href = url;\n      console.debug(\"Bokeh: injecting link tag for BokehJS stylesheet: \", url);\n      document.body.appendChild(element);\n    }\n\n    const hashes = {\"https://cdn.bokeh.org/bokeh/release/bokeh-2.2.3.min.js\": \"T2yuo9Oe71Cz/I4X9Ac5+gpEa5a8PpJCDlqKYO0CfAuEszu1JrXLl8YugMqYe3sM\", \"https://cdn.bokeh.org/bokeh/release/bokeh-widgets-2.2.3.min.js\": \"98GDGJ0kOMCUMUePhksaQ/GYgB3+NH9h996V88sh3aOiUNX3N+fLXAtry6xctSZ6\", \"https://cdn.bokeh.org/bokeh/release/bokeh-tables-2.2.3.min.js\": \"89bArO+nlbP3sgakeHjCo1JYxYR5wufVgA3IbUvDY+K7w4zyxJqssu7wVnfeKCq8\"};\n\n    for (var i = 0; i < js_urls.length; i++) {\n      var url = js_urls[i];\n      var element = document.createElement('script');\n      element.onload = on_load;\n      element.onerror = on_error;\n      element.async = false;\n      element.src = url;\n      if (url in hashes) {\n        element.crossOrigin = \"anonymous\";\n        element.integrity = \"sha384-\" + hashes[url];\n      }\n      console.debug(\"Bokeh: injecting script tag for BokehJS library: \", url);\n      document.head.appendChild(element);\n    }\n  };\n\n  function inject_raw_css(css) {\n    const element = document.createElement(\"style\");\n    element.appendChild(document.createTextNode(css));\n    document.body.appendChild(element);\n  }\n\n  \n  var js_urls = [\"https://cdn.bokeh.org/bokeh/release/bokeh-2.2.3.min.js\", \"https://cdn.bokeh.org/bokeh/release/bokeh-widgets-2.2.3.min.js\", \"https://cdn.bokeh.org/bokeh/release/bokeh-tables-2.2.3.min.js\"];\n  var css_urls = [];\n  \n\n  var inline_js = [\n    function(Bokeh) {\n      Bokeh.set_log_level(\"info\");\n    },\n    function(Bokeh) {\n    \n    \n    }\n  ];\n\n  function run_inline_js() {\n    \n    if (root.Bokeh !== undefined || force === true) {\n      \n    for (var i = 0; i < inline_js.length; i++) {\n      inline_js[i].call(root, root.Bokeh);\n    }\n    if (force === true) {\n        display_loaded();\n      }} else if (Date.now() < root._bokeh_timeout) {\n      setTimeout(run_inline_js, 100);\n    } else if (!root._bokeh_failed_load) {\n      console.log(\"Bokeh: BokehJS failed to load within specified timeout.\");\n      root._bokeh_failed_load = true;\n    } else if (force !== true) {\n      var cell = $(document.getElementById(\"1001\")).parents('.cell').data().cell;\n      cell.output_area.append_execute_result(NB_LOAD_WARNING)\n    }\n\n  }\n\n  if (root._bokeh_is_loading === 0) {\n    console.debug(\"Bokeh: BokehJS loaded, going straight to plotting\");\n    run_inline_js();\n  } else {\n    load_libs(css_urls, js_urls, function() {\n      console.debug(\"Bokeh: BokehJS plotting callback run at\", now());\n      run_inline_js();\n    });\n  }\n}(window));"
     },
     "metadata": {},
     "output_type": "display_data"
    }
   ],
   "source": [
    "import bokeh\n",
    "import bokeh.io\n",
    "bokeh.io.output_notebook()\n",
    "from bokeh.plotting import  figure, show\n",
    "from bokeh.models import HoverTool   \n",
    "class HoverHelper():\n",
    "\n",
    "    def hovertool(self):\n",
    "        tooltips = [\n",
    "            ('pd','@pd'),\n",
    "            ('value','@value2'),\n",
    "        ]\n",
    "        ht = HoverTool(tooltips=tooltips)\n",
    "        return ht\n",
    "    def tools(self, standard_tools='pan,crosshair,wheel_zoom,zoom_in,zoom_out,undo,reset'):\n",
    "        return [self.hovertool(), standard_tools]\n",
    "hover = HoverHelper()    "
   ]
  },
  {
   "cell_type": "code",
   "execution_count": 29,
   "metadata": {},
   "outputs": [
    {
     "data": {
      "text/html": [
       "\n",
       "\n",
       "\n",
       "\n",
       "\n",
       "\n",
       "  <div class=\"bk-root\" id=\"1ce7d8e5-b6a5-4a11-8a76-8fd123425a4f\" data-root-id=\"1003\"></div>\n"
      ]
     },
     "metadata": {},
     "output_type": "display_data"
    },
    {
     "data": {
      "application/javascript": [
       "(function(root) {\n",
       "  function embed_document(root) {\n",
       "    \n",
       "  var docs_json = {\"5e98d5f3-65e2-49b8-bc9d-1885c7fcd9f6\":{\"roots\":{\"references\":[{\"attributes\":{\"below\":[{\"id\":\"1014\"}],\"center\":[{\"id\":\"1017\"},{\"id\":\"1021\"}],\"left\":[{\"id\":\"1018\"}],\"plot_height\":400,\"plot_width\":900,\"renderers\":[{\"id\":\"1042\"}],\"title\":{\"id\":\"1004\"},\"toolbar\":{\"id\":\"1029\"},\"x_range\":{\"id\":\"1006\"},\"x_scale\":{\"id\":\"1010\"},\"y_range\":{\"id\":\"1008\"},\"y_scale\":{\"id\":\"1012\"}},\"id\":\"1003\",\"subtype\":\"Figure\",\"type\":\"Plot\"},{\"attributes\":{\"axis_label\":\"Values\",\"formatter\":{\"id\":\"1048\"},\"ticker\":{\"id\":\"1015\"}},\"id\":\"1014\",\"type\":\"LinearAxis\"},{\"attributes\":{},\"id\":\"1015\",\"type\":\"BasicTicker\"},{\"attributes\":{},\"id\":\"1023\",\"type\":\"CrosshairTool\"},{\"attributes\":{\"axis\":{\"id\":\"1014\"},\"ticker\":null},\"id\":\"1017\",\"type\":\"Grid\"},{\"attributes\":{\"axis_label\":\"Partial Dependency\",\"formatter\":{\"id\":\"1046\"},\"ticker\":{\"id\":\"1019\"}},\"id\":\"1018\",\"type\":\"LinearAxis\"},{\"attributes\":{\"axis\":{\"id\":\"1018\"},\"dimension\":1,\"ticker\":null},\"id\":\"1021\",\"type\":\"Grid\"},{\"attributes\":{},\"id\":\"1019\",\"type\":\"BasicTicker\"},{\"attributes\":{},\"id\":\"1010\",\"type\":\"LinearScale\"},{\"attributes\":{\"text\":\"cova_deductible Partial Dependency\"},\"id\":\"1004\",\"type\":\"Title\"},{\"attributes\":{},\"id\":\"1025\",\"type\":\"ZoomInTool\"},{\"attributes\":{},\"id\":\"1049\",\"type\":\"Selection\"},{\"attributes\":{},\"id\":\"1012\",\"type\":\"LinearScale\"},{\"attributes\":{},\"id\":\"1022\",\"type\":\"PanTool\"},{\"attributes\":{},\"id\":\"1024\",\"type\":\"WheelZoomTool\"},{\"attributes\":{},\"id\":\"1050\",\"type\":\"UnionRenderers\"},{\"attributes\":{},\"id\":\"1026\",\"type\":\"ZoomOutTool\"},{\"attributes\":{},\"id\":\"1027\",\"type\":\"UndoTool\"},{\"attributes\":{},\"id\":\"1028\",\"type\":\"ResetTool\"},{\"attributes\":{},\"id\":\"1046\",\"type\":\"BasicTickFormatter\"},{\"attributes\":{},\"id\":\"1008\",\"type\":\"DataRange1d\"},{\"attributes\":{\"active_drag\":\"auto\",\"active_inspect\":\"auto\",\"active_multi\":null,\"active_scroll\":\"auto\",\"active_tap\":\"auto\",\"tools\":[{\"id\":\"1002\"},{\"id\":\"1022\"},{\"id\":\"1023\"},{\"id\":\"1024\"},{\"id\":\"1025\"},{\"id\":\"1026\"},{\"id\":\"1027\"},{\"id\":\"1028\"}]},\"id\":\"1029\",\"type\":\"Toolbar\"},{\"attributes\":{},\"id\":\"1048\",\"type\":\"BasicTickFormatter\"},{\"attributes\":{},\"id\":\"1006\",\"type\":\"DataRange1d\"},{\"attributes\":{\"data\":{\"PropertyAgeFold0_pd\":{\"__ndarray__\":\"A8UQHjQjZT8DxRAeNCNlPzFPrBe/O1w/YeoaiOrXXT/DqddPlI1ZP7gy+Lbf9Uo/Po8848vMOD8+jzzjy8w4Pz6PPOPLzDg/\",\"dtype\":\"float64\",\"order\":\"little\",\"shape\":[9]},\"feature\":[\"cova_deductible\",\"cova_deductible\",\"cova_deductible\",\"cova_deductible\",\"cova_deductible\",\"cova_deductible\",\"cova_deductible\",\"cova_deductible\",\"cova_deductible\"],\"index\":[0,1,2,3,4,5,6,7,8],\"pd\":{\"__ndarray__\":\"A8UQHjQjZT8DxRAeNCNlPzFPrBe/O1w/YeoaiOrXXT/DqddPlI1ZP7gy+Lbf9Uo/Po8848vMOD8+jzzjy8w4Pz6PPOPLzDg/\",\"dtype\":\"float64\",\"order\":\"little\",\"shape\":[9]},\"value\":{\"__ndarray__\":\"AAAAAAAAAAAAAAAAAABZQAAAAAAAQG9AAAAAAABAf0AAAAAAAECPQAAAAAAAiKNAAAAAAACIs0AAAAAAAEy9QAAAAAAAiMNA\",\"dtype\":\"float64\",\"order\":\"little\",\"shape\":[9]},\"value2\":{\"__ndarray__\":\"AAAAAAAAAAAAAAAAAABZQAAAAAAAQG9AAAAAAABAf0AAAAAAAECPQAAAAAAAiKNAAAAAAACIs0AAAAAAAEy9QAAAAAAAiMNA\",\"dtype\":\"float64\",\"order\":\"little\",\"shape\":[9]}},\"selected\":{\"id\":\"1049\"},\"selection_policy\":{\"id\":\"1050\"}},\"id\":\"1038\",\"type\":\"ColumnDataSource\"},{\"attributes\":{\"callback\":null,\"tooltips\":[[\"pd\",\"@pd\"],[\"value\",\"@value2\"]]},\"id\":\"1002\",\"type\":\"HoverTool\"},{\"attributes\":{\"fill_color\":{\"value\":\"#1f77b4\"},\"line_color\":{\"value\":\"#1f77b4\"},\"x\":{\"field\":\"value\"},\"y\":{\"field\":\"pd\"}},\"id\":\"1040\",\"type\":\"Circle\"},{\"attributes\":{\"source\":{\"id\":\"1038\"}},\"id\":\"1043\",\"type\":\"CDSView\"},{\"attributes\":{\"fill_alpha\":{\"value\":0.1},\"fill_color\":{\"value\":\"#1f77b4\"},\"line_alpha\":{\"value\":0.1},\"line_color\":{\"value\":\"#1f77b4\"},\"x\":{\"field\":\"value\"},\"y\":{\"field\":\"pd\"}},\"id\":\"1041\",\"type\":\"Circle\"},{\"attributes\":{\"data_source\":{\"id\":\"1038\"},\"glyph\":{\"id\":\"1040\"},\"hover_glyph\":null,\"muted_glyph\":null,\"nonselection_glyph\":{\"id\":\"1041\"},\"selection_glyph\":null,\"view\":{\"id\":\"1043\"}},\"id\":\"1042\",\"type\":\"GlyphRenderer\"}],\"root_ids\":[\"1003\"]},\"title\":\"Bokeh Application\",\"version\":\"2.2.3\"}};\n",
       "  var render_items = [{\"docid\":\"5e98d5f3-65e2-49b8-bc9d-1885c7fcd9f6\",\"root_ids\":[\"1003\"],\"roots\":{\"1003\":\"1ce7d8e5-b6a5-4a11-8a76-8fd123425a4f\"}}];\n",
       "  root.Bokeh.embed.embed_items_notebook(docs_json, render_items);\n",
       "\n",
       "  }\n",
       "  if (root.Bokeh !== undefined) {\n",
       "    embed_document(root);\n",
       "  } else {\n",
       "    var attempts = 0;\n",
       "    var timer = setInterval(function(root) {\n",
       "      if (root.Bokeh !== undefined) {\n",
       "        clearInterval(timer);\n",
       "        embed_document(root);\n",
       "      } else {\n",
       "        attempts++;\n",
       "        if (attempts > 100) {\n",
       "          clearInterval(timer);\n",
       "          console.log(\"Bokeh: ERROR: Unable to run BokehJS code because BokehJS library is missing\");\n",
       "        }\n",
       "      }\n",
       "    }, 10, root)\n",
       "  }\n",
       "})(window);"
      ],
      "application/vnd.bokehjs_exec.v0+json": ""
     },
     "metadata": {
      "application/vnd.bokehjs_exec.v0+json": {
       "id": "1003"
      }
     },
     "output_type": "display_data"
    }
   ],
   "source": [
    "f='cova_deductible'\n",
    "p = figure(plot_width=900, \n",
    "               plot_height=400, \n",
    "               tools=hover.tools(),\n",
    "               x_axis_label='Values',\n",
    "               y_axis_label='Partial Dependency',\n",
    "               title='%s Partial Dependency'%f)\n",
    "p.circle(source=pdf_dataset[pdf_dataset['feature']==f], x='value', y='pd')\n",
    "show(p)"
   ]
  },
  {
   "cell_type": "code",
   "execution_count": 30,
   "metadata": {},
   "outputs": [
    {
     "data": {
      "text/html": [
       "\n",
       "\n",
       "\n",
       "\n",
       "\n",
       "\n",
       "  <div class=\"bk-root\" id=\"d26b43be-4152-42f3-b51e-58d0c26bffbb\" data-root-id=\"1087\"></div>\n"
      ]
     },
     "metadata": {},
     "output_type": "display_data"
    },
    {
     "data": {
      "application/javascript": [
       "(function(root) {\n",
       "  function embed_document(root) {\n",
       "    \n",
       "  var docs_json = {\"601c0117-268a-4da2-af64-e6761a68ac3c\":{\"roots\":{\"references\":[{\"attributes\":{\"below\":[{\"id\":\"1098\"}],\"center\":[{\"id\":\"1101\"},{\"id\":\"1105\"}],\"left\":[{\"id\":\"1102\"}],\"plot_height\":400,\"plot_width\":900,\"renderers\":[{\"id\":\"1126\"}],\"title\":{\"id\":\"1088\"},\"toolbar\":{\"id\":\"1113\"},\"x_range\":{\"id\":\"1090\"},\"x_scale\":{\"id\":\"1094\"},\"y_range\":{\"id\":\"1092\"},\"y_scale\":{\"id\":\"1096\"}},\"id\":\"1087\",\"subtype\":\"Figure\",\"type\":\"Plot\"},{\"attributes\":{},\"id\":\"1109\",\"type\":\"ZoomInTool\"},{\"attributes\":{},\"id\":\"1108\",\"type\":\"WheelZoomTool\"},{\"attributes\":{},\"id\":\"1110\",\"type\":\"ZoomOutTool\"},{\"attributes\":{},\"id\":\"1111\",\"type\":\"UndoTool\"},{\"attributes\":{},\"id\":\"1112\",\"type\":\"ResetTool\"},{\"attributes\":{\"active_drag\":\"auto\",\"active_inspect\":\"auto\",\"active_multi\":null,\"active_scroll\":\"auto\",\"active_tap\":\"auto\",\"tools\":[{\"id\":\"1086\"},{\"id\":\"1106\"},{\"id\":\"1107\"},{\"id\":\"1108\"},{\"id\":\"1109\"},{\"id\":\"1110\"},{\"id\":\"1111\"},{\"id\":\"1112\"}]},\"id\":\"1113\",\"type\":\"Toolbar\"},{\"attributes\":{},\"id\":\"1137\",\"type\":\"BasicTickFormatter\"},{\"attributes\":{},\"id\":\"1107\",\"type\":\"CrosshairTool\"},{\"attributes\":{\"data\":{\"PropertyAgeFold0_pd\":{\"__ndarray__\":\"bPTXkx9DUD+MH2f/eSNSP52EyuTCelI/IdaQ6mk9UT+htj/WqR9RP21DmTaTik8/MVFgnqtvUT8sJ5uIOLdPP4IchfWNSFA/BhyyIBgeUD9LRs2ixGhRPxRqIX4N2FI/CkKrtTcfVz/+a47Ef31YPz3V+FN5bVc/B0WX9bCoWD/GPXozIrxYP0TyHZh7c1k/xvcAtr9BWT9+NjcfuN1WP5pXBFTCflc/Zjs4x1++XD86udu5HAxhP1uCnV3esl8/orm+4tm4Xj97xjVOE6tgPwO9WLKZY2E/fWH8HI4hYT+rP6lNg8NhPwkRlyApXGE/rFk2ktA0Yj9coMZVNmZiP0Jt3dU5qGU/GasBUb7xYz+zDWncDsFjPzkDAh/nMmY/V+SO9evlZT8Rr4sZqEpjP77FepBv1WI/7vWiKRdvZj8afNs9UxZjPyJLDfa/12I/cHTnPWtWYz++oEzRBNpkP6L9dfjZl2Q/9pnTP5YfZD9LXjmep+VjP2qNDQS042Y/crs9pVCGZz+Wr2+pEJ9mPw==\",\"dtype\":\"float64\",\"order\":\"little\",\"shape\":[50]},\"feature\":[\"sqft\",\"sqft\",\"sqft\",\"sqft\",\"sqft\",\"sqft\",\"sqft\",\"sqft\",\"sqft\",\"sqft\",\"sqft\",\"sqft\",\"sqft\",\"sqft\",\"sqft\",\"sqft\",\"sqft\",\"sqft\",\"sqft\",\"sqft\",\"sqft\",\"sqft\",\"sqft\",\"sqft\",\"sqft\",\"sqft\",\"sqft\",\"sqft\",\"sqft\",\"sqft\",\"sqft\",\"sqft\",\"sqft\",\"sqft\",\"sqft\",\"sqft\",\"sqft\",\"sqft\",\"sqft\",\"sqft\",\"sqft\",\"sqft\",\"sqft\",\"sqft\",\"sqft\",\"sqft\",\"sqft\",\"sqft\",\"sqft\",\"sqft\"],\"index\":[9,10,11,12,13,14,15,16,17,18,19,20,21,22,23,24,25,26,27,28,29,30,31,32,33,34,35,36,37,38,39,40,41,42,43,44,45,46,47,48,49,50,51,52,53,54,55,56,57,58],\"pd\":{\"__ndarray__\":\"bPTXkx9DUD+MH2f/eSNSP52EyuTCelI/IdaQ6mk9UT+htj/WqR9RP21DmTaTik8/MVFgnqtvUT8sJ5uIOLdPP4IchfWNSFA/BhyyIBgeUD9LRs2ixGhRPxRqIX4N2FI/CkKrtTcfVz/+a47Ef31YPz3V+FN5bVc/B0WX9bCoWD/GPXozIrxYP0TyHZh7c1k/xvcAtr9BWT9+NjcfuN1WP5pXBFTCflc/Zjs4x1++XD86udu5HAxhP1uCnV3esl8/orm+4tm4Xj97xjVOE6tgPwO9WLKZY2E/fWH8HI4hYT+rP6lNg8NhPwkRlyApXGE/rFk2ktA0Yj9coMZVNmZiP0Jt3dU5qGU/GasBUb7xYz+zDWncDsFjPzkDAh/nMmY/V+SO9evlZT8Rr4sZqEpjP77FepBv1WI/7vWiKRdvZj8afNs9UxZjPyJLDfa/12I/cHTnPWtWYz++oEzRBNpkP6L9dfjZl2Q/9pnTP5YfZD9LXjmep+VjP2qNDQS042Y/crs9pVCGZz+Wr2+pEJ9mPw==\",\"dtype\":\"float64\",\"order\":\"little\",\"shape\":[50]},\"value\":{\"__ndarray__\":\"AAAAAADAgkDwcgpeToGFQN/lFLycQohA0VgfGusDi0DEyyl4OcWNQFkfGutDQ5BA0VgfGuujkUBJkiRJkgSTQMHLKXg5ZZRAOgUvp+DFlUCxPjTWhyaXQCt4OQUvh5hAo7E+NNbnmUAY60NjfUibQJMkSZIkqZxAC15OwcsJnkCEl1PwcmqfQH5orA+NZaBAOgUvp+AVoUD2obE+NMahQLI+NNaHdqJAb9u2bdsmo0AqeDkFL9ejQOcUvJyCh6RAo7E+NNY3pUBdTsHLKeilQBvrQ2N9mKZA14fG+tBIp0CTJEmSJPmnQE/Byyl4qahAC15OwctZqUDH+tBYHwqqQIOXU/ByuqpAPzTWh8Zqq0D70FgfGhusQLdt27Zty6xAcgpeTsF7rUAvp+DlFCyuQOtDY31o3K5AqeDlFLyMr0CyPjTWhx6wQBCN9aGxdrBAbtu2bdvOsEDMKXg5BSexQCp4OQUvf7FAiMb60FjXsUDnFLycgi+yQERjfWish7JAo7E+NNbfskAAAAAAADizQA==\",\"dtype\":\"float64\",\"order\":\"little\",\"shape\":[50]},\"value2\":{\"__ndarray__\":\"AAAAAADAgkDwcgpeToGFQN/lFLycQohA0VgfGusDi0DEyyl4OcWNQFkfGutDQ5BA0VgfGuujkUBJkiRJkgSTQMHLKXg5ZZRAOgUvp+DFlUCxPjTWhyaXQCt4OQUvh5hAo7E+NNbnmUAY60NjfUibQJMkSZIkqZxAC15OwcsJnkCEl1PwcmqfQH5orA+NZaBAOgUvp+AVoUD2obE+NMahQLI+NNaHdqJAb9u2bdsmo0AqeDkFL9ejQOcUvJyCh6RAo7E+NNY3pUBdTsHLKeilQBvrQ2N9mKZA14fG+tBIp0CTJEmSJPmnQE/Byyl4qahAC15OwctZqUDH+tBYHwqqQIOXU/ByuqpAPzTWh8Zqq0D70FgfGhusQLdt27Zty6xAcgpeTsF7rUAvp+DlFCyuQOtDY31o3K5AqeDlFLyMr0CyPjTWhx6wQBCN9aGxdrBAbtu2bdvOsEDMKXg5BSexQCp4OQUvf7FAiMb60FjXsUDnFLycgi+yQERjfWish7JAo7E+NNbfskAAAAAAADizQA==\",\"dtype\":\"float64\",\"order\":\"little\",\"shape\":[50]}},\"selected\":{\"id\":\"1140\"},\"selection_policy\":{\"id\":\"1141\"}},\"id\":\"1122\",\"type\":\"ColumnDataSource\"},{\"attributes\":{},\"id\":\"1140\",\"type\":\"Selection\"},{\"attributes\":{},\"id\":\"1141\",\"type\":\"UnionRenderers\"},{\"attributes\":{\"data_source\":{\"id\":\"1122\"},\"glyph\":{\"id\":\"1124\"},\"hover_glyph\":null,\"muted_glyph\":null,\"nonselection_glyph\":{\"id\":\"1125\"},\"selection_glyph\":null,\"view\":{\"id\":\"1127\"}},\"id\":\"1126\",\"type\":\"GlyphRenderer\"},{\"attributes\":{},\"id\":\"1106\",\"type\":\"PanTool\"},{\"attributes\":{\"axis\":{\"id\":\"1102\"},\"dimension\":1,\"ticker\":null},\"id\":\"1105\",\"type\":\"Grid\"},{\"attributes\":{},\"id\":\"1092\",\"type\":\"DataRange1d\"},{\"attributes\":{},\"id\":\"1139\",\"type\":\"BasicTickFormatter\"},{\"attributes\":{},\"id\":\"1103\",\"type\":\"BasicTicker\"},{\"attributes\":{\"callback\":null,\"tooltips\":[[\"pd\",\"@pd\"],[\"value\",\"@value2\"]]},\"id\":\"1086\",\"type\":\"HoverTool\"},{\"attributes\":{\"axis_label\":\"Values\",\"formatter\":{\"id\":\"1139\"},\"ticker\":{\"id\":\"1099\"}},\"id\":\"1098\",\"type\":\"LinearAxis\"},{\"attributes\":{},\"id\":\"1099\",\"type\":\"BasicTicker\"},{\"attributes\":{},\"id\":\"1096\",\"type\":\"LinearScale\"},{\"attributes\":{\"text\":\"sqft Partial Dependency\"},\"id\":\"1088\",\"type\":\"Title\"},{\"attributes\":{\"source\":{\"id\":\"1122\"}},\"id\":\"1127\",\"type\":\"CDSView\"},{\"attributes\":{},\"id\":\"1090\",\"type\":\"DataRange1d\"},{\"attributes\":{\"fill_alpha\":{\"value\":0.1},\"fill_color\":{\"value\":\"#1f77b4\"},\"line_alpha\":{\"value\":0.1},\"line_color\":{\"value\":\"#1f77b4\"},\"x\":{\"field\":\"value\"},\"y\":{\"field\":\"pd\"}},\"id\":\"1125\",\"type\":\"Circle\"},{\"attributes\":{\"axis_label\":\"Partial Dependency\",\"formatter\":{\"id\":\"1137\"},\"ticker\":{\"id\":\"1103\"}},\"id\":\"1102\",\"type\":\"LinearAxis\"},{\"attributes\":{\"fill_color\":{\"value\":\"#1f77b4\"},\"line_color\":{\"value\":\"#1f77b4\"},\"x\":{\"field\":\"value\"},\"y\":{\"field\":\"pd\"}},\"id\":\"1124\",\"type\":\"Circle\"},{\"attributes\":{},\"id\":\"1094\",\"type\":\"LinearScale\"},{\"attributes\":{\"axis\":{\"id\":\"1098\"},\"ticker\":null},\"id\":\"1101\",\"type\":\"Grid\"}],\"root_ids\":[\"1087\"]},\"title\":\"Bokeh Application\",\"version\":\"2.2.3\"}};\n",
       "  var render_items = [{\"docid\":\"601c0117-268a-4da2-af64-e6761a68ac3c\",\"root_ids\":[\"1087\"],\"roots\":{\"1087\":\"d26b43be-4152-42f3-b51e-58d0c26bffbb\"}}];\n",
       "  root.Bokeh.embed.embed_items_notebook(docs_json, render_items);\n",
       "\n",
       "  }\n",
       "  if (root.Bokeh !== undefined) {\n",
       "    embed_document(root);\n",
       "  } else {\n",
       "    var attempts = 0;\n",
       "    var timer = setInterval(function(root) {\n",
       "      if (root.Bokeh !== undefined) {\n",
       "        clearInterval(timer);\n",
       "        embed_document(root);\n",
       "      } else {\n",
       "        attempts++;\n",
       "        if (attempts > 100) {\n",
       "          clearInterval(timer);\n",
       "          console.log(\"Bokeh: ERROR: Unable to run BokehJS code because BokehJS library is missing\");\n",
       "        }\n",
       "      }\n",
       "    }, 10, root)\n",
       "  }\n",
       "})(window);"
      ],
      "application/vnd.bokehjs_exec.v0+json": ""
     },
     "metadata": {
      "application/vnd.bokehjs_exec.v0+json": {
       "id": "1087"
      }
     },
     "output_type": "display_data"
    }
   ],
   "source": [
    "f='sqft'\n",
    "p = figure(plot_width=900, \n",
    "               plot_height=400, \n",
    "               tools=hover.tools(),\n",
    "               x_axis_label='Values',\n",
    "               y_axis_label='Partial Dependency',\n",
    "               title='%s Partial Dependency'%f)\n",
    "p.circle(source=pdf_dataset[pdf_dataset['feature']==f], x='value', y='pd')\n",
    "show(p)"
   ]
  },
  {
   "cell_type": "code",
   "execution_count": 31,
   "metadata": {},
   "outputs": [
    {
     "data": {
      "text/html": [
       "\n",
       "\n",
       "\n",
       "\n",
       "\n",
       "\n",
       "  <div class=\"bk-root\" id=\"e60a2051-5348-4969-9137-8d31e12dc14d\" data-root-id=\"1178\"></div>\n"
      ]
     },
     "metadata": {},
     "output_type": "display_data"
    },
    {
     "data": {
      "application/javascript": [
       "(function(root) {\n",
       "  function embed_document(root) {\n",
       "    \n",
       "  var docs_json = {\"f6e00e3d-7746-48c9-909f-9b4beff4d286\":{\"roots\":{\"references\":[{\"attributes\":{\"below\":[{\"id\":\"1189\"}],\"center\":[{\"id\":\"1192\"},{\"id\":\"1196\"}],\"left\":[{\"id\":\"1193\"}],\"plot_height\":400,\"plot_width\":900,\"renderers\":[{\"id\":\"1217\"}],\"title\":{\"id\":\"1179\"},\"toolbar\":{\"id\":\"1204\"},\"x_range\":{\"id\":\"1181\"},\"x_scale\":{\"id\":\"1185\"},\"y_range\":{\"id\":\"1183\"},\"y_scale\":{\"id\":\"1187\"}},\"id\":\"1178\",\"subtype\":\"Figure\",\"type\":\"Plot\"},{\"attributes\":{},\"id\":\"1239\",\"type\":\"UnionRenderers\"},{\"attributes\":{},\"id\":\"1198\",\"type\":\"CrosshairTool\"},{\"attributes\":{\"fill_alpha\":{\"value\":0.1},\"fill_color\":{\"value\":\"#1f77b4\"},\"line_alpha\":{\"value\":0.1},\"line_color\":{\"value\":\"#1f77b4\"},\"x\":{\"field\":\"value\"},\"y\":{\"field\":\"pd\"}},\"id\":\"1216\",\"type\":\"Circle\"},{\"attributes\":{\"data\":{\"PropertyAgeFold0_pd\":{\"__ndarray__\":\"o/C7eFreQD/vBtzChrZBP6E3KnGfckU/y/FtG0gYSj/qqZvB5i1RP7Ix2OHeGVg/SgMyXKuJWj8snTAwa6RcPwOJxVIBSl8/aTxD3cvxYD88QlAlCA9hP0+O/lR9NWE//5uViaeeYD8vi7mWfvhZP6r25m66vFk/cvrUD1z7Vj+8h/yuEQxYP2mNvIckbVc/0PoEIwBxVz9+78zkSmxWP9uNKUcsmFY//Ehn+/rtVT9lL6eIQWtWP9Ugt5WmO1Q/ZKtAIX5BVD9C0ScnOOhRPyDrHjYA/1A/VpnaW5QpTD8lQ40TAAxIPykN0Yrs/EY/H4gIla2cRT+oRWYPnjxFP3/jo3hI2UQ/fatgJoVKRD8sLpxm4dlEP+l2MOBTI0U/fM6QrBoCRT+xUXEpe05FP5lQZNcYBUM/N9ReSy3NQD/fHMt3aVBBP9Rav5+P60A/mcLzV/IvPz/QTeBDHAE/P+sNgMkagkA//BxSMQpDQD9Jy8iIkAc/Px5MH1kjSEA/w8bPSNsfQz/+HLeSxf9DPw==\",\"dtype\":\"float64\",\"order\":\"little\",\"shape\":[50]},\"feature\":[\"cal_year-yearbuilt\",\"cal_year-yearbuilt\",\"cal_year-yearbuilt\",\"cal_year-yearbuilt\",\"cal_year-yearbuilt\",\"cal_year-yearbuilt\",\"cal_year-yearbuilt\",\"cal_year-yearbuilt\",\"cal_year-yearbuilt\",\"cal_year-yearbuilt\",\"cal_year-yearbuilt\",\"cal_year-yearbuilt\",\"cal_year-yearbuilt\",\"cal_year-yearbuilt\",\"cal_year-yearbuilt\",\"cal_year-yearbuilt\",\"cal_year-yearbuilt\",\"cal_year-yearbuilt\",\"cal_year-yearbuilt\",\"cal_year-yearbuilt\",\"cal_year-yearbuilt\",\"cal_year-yearbuilt\",\"cal_year-yearbuilt\",\"cal_year-yearbuilt\",\"cal_year-yearbuilt\",\"cal_year-yearbuilt\",\"cal_year-yearbuilt\",\"cal_year-yearbuilt\",\"cal_year-yearbuilt\",\"cal_year-yearbuilt\",\"cal_year-yearbuilt\",\"cal_year-yearbuilt\",\"cal_year-yearbuilt\",\"cal_year-yearbuilt\",\"cal_year-yearbuilt\",\"cal_year-yearbuilt\",\"cal_year-yearbuilt\",\"cal_year-yearbuilt\",\"cal_year-yearbuilt\",\"cal_year-yearbuilt\",\"cal_year-yearbuilt\",\"cal_year-yearbuilt\",\"cal_year-yearbuilt\",\"cal_year-yearbuilt\",\"cal_year-yearbuilt\",\"cal_year-yearbuilt\",\"cal_year-yearbuilt\",\"cal_year-yearbuilt\",\"cal_year-yearbuilt\",\"cal_year-yearbuilt\"],\"index\":[59,60,61,62,63,64,65,66,67,68,69,70,71,72,73,74,75,76,77,78,79,80,81,82,83,84,85,86,87,88,89,90,91,92,93,94,95,96,97,98,99,100,101,102,103,104,105,106,107,108],\"pd\":{\"__ndarray__\":\"o/C7eFreQD/vBtzChrZBP6E3KnGfckU/y/FtG0gYSj/qqZvB5i1RP7Ix2OHeGVg/SgMyXKuJWj8snTAwa6RcPwOJxVIBSl8/aTxD3cvxYD88QlAlCA9hP0+O/lR9NWE//5uViaeeYD8vi7mWfvhZP6r25m66vFk/cvrUD1z7Vj+8h/yuEQxYP2mNvIckbVc/0PoEIwBxVz9+78zkSmxWP9uNKUcsmFY//Ehn+/rtVT9lL6eIQWtWP9Ugt5WmO1Q/ZKtAIX5BVD9C0ScnOOhRPyDrHjYA/1A/VpnaW5QpTD8lQ40TAAxIPykN0Yrs/EY/H4gIla2cRT+oRWYPnjxFP3/jo3hI2UQ/fatgJoVKRD8sLpxm4dlEP+l2MOBTI0U/fM6QrBoCRT+xUXEpe05FP5lQZNcYBUM/N9ReSy3NQD/fHMt3aVBBP9Rav5+P60A/mcLzV/IvPz/QTeBDHAE/P+sNgMkagkA//BxSMQpDQD9Jy8iIkAc/Px5MH1kjSEA/w8bPSNsfQz/+HLeSxf9DPw==\",\"dtype\":\"float64\",\"order\":\"little\",\"shape\":[50]},\"value\":{\"__ndarray__\":\"AAAAAAAAAACyPjTWh8YCQLI+NNaHxhJAC15OwcspHECyPjTWh8YiQF1OwcspeCdAC15OwcspLEDctm3btm0wQLQ+NNaHxjJAicb60FgfNUBdTsHLKXg3QDbWh8b60DlAC15OwcspPEDf5RS8nII+QNy2bdu2bUBAx/rQWB+aQUC0PjTWh8ZCQJqCl1Pw8kNAicb60FgfRUBzCl5OwUtGQF1OwcspeEdASpIkSZKkSEA21ofG+tBJQCIa60Nj/UpAC15OwcspTED2obE+NFZNQOPlFLycgk5AzCl4OQWvT0Dctm3btm1QQNFYHxrrA1FAx/rQWB+aUUC8nIKXUzBSQLM+NNaHxlJAqODlFLxcU0CcgpdT8PJTQJQkSZIkiVRAiMb60FgfVUB+aKwPjbVVQHMKXk7BS1ZAaKwPjfXhVkBdTsHLKXhXQFLwcgpeDlhASpIkSZKkWEA/NNaHxjpZQDbWh8b60FlAK3g5BS9nWkAhGutDY/1aQBW8nIKXk1tAC15OwcspXEAAAAAAAMBcQA==\",\"dtype\":\"float64\",\"order\":\"little\",\"shape\":[50]},\"value2\":{\"__ndarray__\":\"AAAAAAAAAACyPjTWh8YCQLI+NNaHxhJAC15OwcspHECyPjTWh8YiQF1OwcspeCdAC15OwcspLEDctm3btm0wQLQ+NNaHxjJAicb60FgfNUBdTsHLKXg3QDbWh8b60DlAC15OwcspPEDf5RS8nII+QNy2bdu2bUBAx/rQWB+aQUC0PjTWh8ZCQJqCl1Pw8kNAicb60FgfRUBzCl5OwUtGQF1OwcspeEdASpIkSZKkSEA21ofG+tBJQCIa60Nj/UpAC15OwcspTED2obE+NFZNQOPlFLycgk5AzCl4OQWvT0Dctm3btm1QQNFYHxrrA1FAx/rQWB+aUUC8nIKXUzBSQLM+NNaHxlJAqODlFLxcU0CcgpdT8PJTQJQkSZIkiVRAiMb60FgfVUB+aKwPjbVVQHMKXk7BS1ZAaKwPjfXhVkBdTsHLKXhXQFLwcgpeDlhASpIkSZKkWEA/NNaHxjpZQDbWh8b60FlAK3g5BS9nWkAhGutDY/1aQBW8nIKXk1tAC15OwcspXEAAAAAAAMBcQA==\",\"dtype\":\"float64\",\"order\":\"little\",\"shape\":[50]}},\"selected\":{\"id\":\"1238\"},\"selection_policy\":{\"id\":\"1239\"}},\"id\":\"1213\",\"type\":\"ColumnDataSource\"},{\"attributes\":{},\"id\":\"1238\",\"type\":\"Selection\"},{\"attributes\":{\"data_source\":{\"id\":\"1213\"},\"glyph\":{\"id\":\"1215\"},\"hover_glyph\":null,\"muted_glyph\":null,\"nonselection_glyph\":{\"id\":\"1216\"},\"selection_glyph\":null,\"view\":{\"id\":\"1218\"}},\"id\":\"1217\",\"type\":\"GlyphRenderer\"},{\"attributes\":{\"source\":{\"id\":\"1213\"}},\"id\":\"1218\",\"type\":\"CDSView\"},{\"attributes\":{},\"id\":\"1197\",\"type\":\"PanTool\"},{\"attributes\":{},\"id\":\"1235\",\"type\":\"BasicTickFormatter\"},{\"attributes\":{},\"id\":\"1181\",\"type\":\"DataRange1d\"},{\"attributes\":{},\"id\":\"1203\",\"type\":\"ResetTool\"},{\"attributes\":{\"axis\":{\"id\":\"1189\"},\"ticker\":null},\"id\":\"1192\",\"type\":\"Grid\"},{\"attributes\":{},\"id\":\"1200\",\"type\":\"ZoomInTool\"},{\"attributes\":{\"axis_label\":\"Partial Dependency\",\"formatter\":{\"id\":\"1235\"},\"ticker\":{\"id\":\"1194\"}},\"id\":\"1193\",\"type\":\"LinearAxis\"},{\"attributes\":{\"fill_color\":{\"value\":\"#1f77b4\"},\"line_color\":{\"value\":\"#1f77b4\"},\"x\":{\"field\":\"value\"},\"y\":{\"field\":\"pd\"}},\"id\":\"1215\",\"type\":\"Circle\"},{\"attributes\":{},\"id\":\"1201\",\"type\":\"ZoomOutTool\"},{\"attributes\":{},\"id\":\"1183\",\"type\":\"DataRange1d\"},{\"attributes\":{},\"id\":\"1202\",\"type\":\"UndoTool\"},{\"attributes\":{\"axis_label\":\"Values\",\"formatter\":{\"id\":\"1237\"},\"ticker\":{\"id\":\"1190\"}},\"id\":\"1189\",\"type\":\"LinearAxis\"},{\"attributes\":{},\"id\":\"1237\",\"type\":\"BasicTickFormatter\"},{\"attributes\":{\"axis\":{\"id\":\"1193\"},\"dimension\":1,\"ticker\":null},\"id\":\"1196\",\"type\":\"Grid\"},{\"attributes\":{},\"id\":\"1194\",\"type\":\"BasicTicker\"},{\"attributes\":{\"callback\":null,\"tooltips\":[[\"pd\",\"@pd\"],[\"value\",\"@value2\"]]},\"id\":\"1177\",\"type\":\"HoverTool\"},{\"attributes\":{},\"id\":\"1199\",\"type\":\"WheelZoomTool\"},{\"attributes\":{\"text\":\"cal_year-yearbuilt Partial Dependency\"},\"id\":\"1179\",\"type\":\"Title\"},{\"attributes\":{\"active_drag\":\"auto\",\"active_inspect\":\"auto\",\"active_multi\":null,\"active_scroll\":\"auto\",\"active_tap\":\"auto\",\"tools\":[{\"id\":\"1177\"},{\"id\":\"1197\"},{\"id\":\"1198\"},{\"id\":\"1199\"},{\"id\":\"1200\"},{\"id\":\"1201\"},{\"id\":\"1202\"},{\"id\":\"1203\"}]},\"id\":\"1204\",\"type\":\"Toolbar\"},{\"attributes\":{},\"id\":\"1187\",\"type\":\"LinearScale\"},{\"attributes\":{},\"id\":\"1190\",\"type\":\"BasicTicker\"},{\"attributes\":{},\"id\":\"1185\",\"type\":\"LinearScale\"}],\"root_ids\":[\"1178\"]},\"title\":\"Bokeh Application\",\"version\":\"2.2.3\"}};\n",
       "  var render_items = [{\"docid\":\"f6e00e3d-7746-48c9-909f-9b4beff4d286\",\"root_ids\":[\"1178\"],\"roots\":{\"1178\":\"e60a2051-5348-4969-9137-8d31e12dc14d\"}}];\n",
       "  root.Bokeh.embed.embed_items_notebook(docs_json, render_items);\n",
       "\n",
       "  }\n",
       "  if (root.Bokeh !== undefined) {\n",
       "    embed_document(root);\n",
       "  } else {\n",
       "    var attempts = 0;\n",
       "    var timer = setInterval(function(root) {\n",
       "      if (root.Bokeh !== undefined) {\n",
       "        clearInterval(timer);\n",
       "        embed_document(root);\n",
       "      } else {\n",
       "        attempts++;\n",
       "        if (attempts > 100) {\n",
       "          clearInterval(timer);\n",
       "          console.log(\"Bokeh: ERROR: Unable to run BokehJS code because BokehJS library is missing\");\n",
       "        }\n",
       "      }\n",
       "    }, 10, root)\n",
       "  }\n",
       "})(window);"
      ],
      "application/vnd.bokehjs_exec.v0+json": ""
     },
     "metadata": {
      "application/vnd.bokehjs_exec.v0+json": {
       "id": "1178"
      }
     },
     "output_type": "display_data"
    }
   ],
   "source": [
    "f='cal_year-yearbuilt'\n",
    "p = figure(plot_width=900, \n",
    "               plot_height=400, \n",
    "               tools=hover.tools(),\n",
    "               x_axis_label='Values',\n",
    "               y_axis_label='Partial Dependency',\n",
    "               title='%s Partial Dependency'%f)\n",
    "p.circle(source=pdf_dataset[pdf_dataset['feature']==f], x='value', y='pd')\n",
    "show(p)"
   ]
  },
  {
   "cell_type": "code",
   "execution_count": 32,
   "metadata": {},
   "outputs": [
    {
     "data": {
      "text/html": [
       "\n",
       "\n",
       "\n",
       "\n",
       "\n",
       "\n",
       "  <div class=\"bk-root\" id=\"f6bd0ac7-c5ad-4577-9bcf-b9b0fc4c1b62\" data-root-id=\"1276\"></div>\n"
      ]
     },
     "metadata": {},
     "output_type": "display_data"
    },
    {
     "data": {
      "application/javascript": [
       "(function(root) {\n",
       "  function embed_document(root) {\n",
       "    \n",
       "  var docs_json = {\"90231c9f-55d9-4d64-a9a2-b51e87432da4\":{\"roots\":{\"references\":[{\"attributes\":{\"below\":[{\"id\":\"1287\"}],\"center\":[{\"id\":\"1290\"},{\"id\":\"1294\"}],\"left\":[{\"id\":\"1291\"}],\"plot_height\":400,\"plot_width\":900,\"renderers\":[{\"id\":\"1315\"}],\"title\":{\"id\":\"1277\"},\"toolbar\":{\"id\":\"1302\"},\"x_range\":{\"id\":\"1279\"},\"x_scale\":{\"id\":\"1283\"},\"y_range\":{\"id\":\"1281\"},\"y_scale\":{\"id\":\"1285\"}},\"id\":\"1276\",\"subtype\":\"Figure\",\"type\":\"Plot\"},{\"attributes\":{\"data\":{\"PropertyAgeFold0_pd\":{\"__ndarray__\":\"SPzwaX1jUT+11QG2551LP3TF3lVrlks/jrsa+2OSSz+GBTQ04k9KP/ak2ZftElA/3TzrIzU+Uj/Yh2qbsxJQP5MIwZG9glA/CxS3DfBLUD+a2GC2Z9FRPwvQrwv2mVI/pXcXmKUJVD/zmwKLjkxUPw65daSRb1U/DAvdnC5cVD/qiVIiELZWP8vRvT7mwlc/WWflOOvwVz81LH8Zmr5XP3z/L8eTAFg/1Nqp0yadXD/8sKvkcxlXP0uzXQ5V7F8/gvs+6J6tYD+EQQOhSplgP7z3MqX0TWA/x39wI1zQYD/iZGDO0i1gP90WinYNX2A/8H8YcshCXz8oCrclNPReP/B83iTt+F4/YSgnEy5HXj/cI5FfecheP7kij+QwQmU/9QJ9SXXzZT8wyiaAUkFnPxMmoR6aBGc/IIi9L7OiZD/AymKwGJ1jP1hDBg5zCWM/RSLkaIqDYj878V5ExRliP3fhOEnC42E/wssfPlO+Yj9S7wjBL0ljP+VNz3sNhWU/JL512LpoZj+HISXCEatlPw==\",\"dtype\":\"float64\",\"order\":\"little\",\"shape\":[50]},\"feature\":[\"water_risk_3_blk\",\"water_risk_3_blk\",\"water_risk_3_blk\",\"water_risk_3_blk\",\"water_risk_3_blk\",\"water_risk_3_blk\",\"water_risk_3_blk\",\"water_risk_3_blk\",\"water_risk_3_blk\",\"water_risk_3_blk\",\"water_risk_3_blk\",\"water_risk_3_blk\",\"water_risk_3_blk\",\"water_risk_3_blk\",\"water_risk_3_blk\",\"water_risk_3_blk\",\"water_risk_3_blk\",\"water_risk_3_blk\",\"water_risk_3_blk\",\"water_risk_3_blk\",\"water_risk_3_blk\",\"water_risk_3_blk\",\"water_risk_3_blk\",\"water_risk_3_blk\",\"water_risk_3_blk\",\"water_risk_3_blk\",\"water_risk_3_blk\",\"water_risk_3_blk\",\"water_risk_3_blk\",\"water_risk_3_blk\",\"water_risk_3_blk\",\"water_risk_3_blk\",\"water_risk_3_blk\",\"water_risk_3_blk\",\"water_risk_3_blk\",\"water_risk_3_blk\",\"water_risk_3_blk\",\"water_risk_3_blk\",\"water_risk_3_blk\",\"water_risk_3_blk\",\"water_risk_3_blk\",\"water_risk_3_blk\",\"water_risk_3_blk\",\"water_risk_3_blk\",\"water_risk_3_blk\",\"water_risk_3_blk\",\"water_risk_3_blk\",\"water_risk_3_blk\",\"water_risk_3_blk\",\"water_risk_3_blk\"],\"index\":[109,110,111,112,113,114,115,116,117,118,119,120,121,122,123,124,125,126,127,128,129,130,131,132,133,134,135,136,137,138,139,140,141,142,143,144,145,146,147,148,149,150,151,152,153,154,155,156,157,158],\"pd\":{\"__ndarray__\":\"SPzwaX1jUT+11QG2551LP3TF3lVrlks/jrsa+2OSSz+GBTQ04k9KP/ak2ZftElA/3TzrIzU+Uj/Yh2qbsxJQP5MIwZG9glA/CxS3DfBLUD+a2GC2Z9FRPwvQrwv2mVI/pXcXmKUJVD/zmwKLjkxUPw65daSRb1U/DAvdnC5cVD/qiVIiELZWP8vRvT7mwlc/WWflOOvwVz81LH8Zmr5XP3z/L8eTAFg/1Nqp0yadXD/8sKvkcxlXP0uzXQ5V7F8/gvs+6J6tYD+EQQOhSplgP7z3MqX0TWA/x39wI1zQYD/iZGDO0i1gP90WinYNX2A/8H8YcshCXz8oCrclNPReP/B83iTt+F4/YSgnEy5HXj/cI5FfecheP7kij+QwQmU/9QJ9SXXzZT8wyiaAUkFnPxMmoR6aBGc/IIi9L7OiZD/AymKwGJ1jP1hDBg5zCWM/RSLkaIqDYj878V5ExRliP3fhOEnC42E/wssfPlO+Yj9S7wjBL0ljP+VNz3sNhWU/JL512LpoZj+HISXCEatlPw==\",\"dtype\":\"float64\",\"order\":\"little\",\"shape\":[50]},\"value\":{\"__ndarray__\":\"AAAAAAAAAAAeGutDY30uQB4a60NjfT5AmFPwcgreRkAeGutDY31OQFPwcgpeDlNAmFPwcgreVkDctm3btq1aQB0a60NjfV5AsT401ocmYUBT8HIKXg5jQPahsT409mRAmFPwcgreZkA4BS+n4MVoQNy2bdu2rWpAfWisD42VbEAhGutDY31uQODlFLycMnBAsT401ocmcUCCl1PwchpyQFPwcgpeDnNAJEmSJEkCdED2obE+NPZ0QMf60Fgf6nVAllPwcgredkBorA+N9dF3QDkFL6fgxXhAC15Owcu5eUDatm3btq16QKwPjfWhoXtAfWisD42VfEBOwcspeIl9QB4a60NjfX5A8HIKXk5xf0Dg5RS8nDKAQEmSJEmSrIBAsT401ocmgUAZ60NjfaCBQIKXU/ByGoJA60NjfWiUgkBT8HIKXg6DQLycgpdTiINAJEmSJEkChECN9aGxPnyEQPahsT409oRAXU7ByylwhUDG+tBYH+qFQC+n4OUUZIZAllPwcgrehkAAAAAAAFiHQA==\",\"dtype\":\"float64\",\"order\":\"little\",\"shape\":[50]},\"value2\":{\"__ndarray__\":\"AAAAAAAAAAAeGutDY30uQB4a60NjfT5AmFPwcgreRkAeGutDY31OQFPwcgpeDlNAmFPwcgreVkDctm3btq1aQB0a60NjfV5AsT401ocmYUBT8HIKXg5jQPahsT409mRAmFPwcgreZkA4BS+n4MVoQNy2bdu2rWpAfWisD42VbEAhGutDY31uQODlFLycMnBAsT401ocmcUCCl1PwchpyQFPwcgpeDnNAJEmSJEkCdED2obE+NPZ0QMf60Fgf6nVAllPwcgredkBorA+N9dF3QDkFL6fgxXhAC15Owcu5eUDatm3btq16QKwPjfWhoXtAfWisD42VfEBOwcspeIl9QB4a60NjfX5A8HIKXk5xf0Dg5RS8nDKAQEmSJEmSrIBAsT401ocmgUAZ60NjfaCBQIKXU/ByGoJA60NjfWiUgkBT8HIKXg6DQLycgpdTiINAJEmSJEkChECN9aGxPnyEQPahsT409oRAXU7ByylwhUDG+tBYH+qFQC+n4OUUZIZAllPwcgrehkAAAAAAAFiHQA==\",\"dtype\":\"float64\",\"order\":\"little\",\"shape\":[50]}},\"selected\":{\"id\":\"1343\"},\"selection_policy\":{\"id\":\"1344\"}},\"id\":\"1311\",\"type\":\"ColumnDataSource\"},{\"attributes\":{},\"id\":\"1281\",\"type\":\"DataRange1d\"},{\"attributes\":{\"data_source\":{\"id\":\"1311\"},\"glyph\":{\"id\":\"1313\"},\"hover_glyph\":null,\"muted_glyph\":null,\"nonselection_glyph\":{\"id\":\"1314\"},\"selection_glyph\":null,\"view\":{\"id\":\"1316\"}},\"id\":\"1315\",\"type\":\"GlyphRenderer\"},{\"attributes\":{\"source\":{\"id\":\"1311\"}},\"id\":\"1316\",\"type\":\"CDSView\"},{\"attributes\":{},\"id\":\"1296\",\"type\":\"CrosshairTool\"},{\"attributes\":{\"fill_alpha\":{\"value\":0.1},\"fill_color\":{\"value\":\"#1f77b4\"},\"line_alpha\":{\"value\":0.1},\"line_color\":{\"value\":\"#1f77b4\"},\"x\":{\"field\":\"value\"},\"y\":{\"field\":\"pd\"}},\"id\":\"1314\",\"type\":\"Circle\"},{\"attributes\":{\"fill_color\":{\"value\":\"#1f77b4\"},\"line_color\":{\"value\":\"#1f77b4\"},\"x\":{\"field\":\"value\"},\"y\":{\"field\":\"pd\"}},\"id\":\"1313\",\"type\":\"Circle\"},{\"attributes\":{\"callback\":null,\"tooltips\":[[\"pd\",\"@pd\"],[\"value\",\"@value2\"]]},\"id\":\"1275\",\"type\":\"HoverTool\"},{\"attributes\":{\"text\":\"water_risk_3_blk Partial Dependency\"},\"id\":\"1277\",\"type\":\"Title\"},{\"attributes\":{},\"id\":\"1279\",\"type\":\"DataRange1d\"},{\"attributes\":{\"axis_label\":\"Values\",\"formatter\":{\"id\":\"1342\"},\"ticker\":{\"id\":\"1288\"}},\"id\":\"1287\",\"type\":\"LinearAxis\"},{\"attributes\":{},\"id\":\"1340\",\"type\":\"BasicTickFormatter\"},{\"attributes\":{},\"id\":\"1285\",\"type\":\"LinearScale\"},{\"attributes\":{},\"id\":\"1300\",\"type\":\"UndoTool\"},{\"attributes\":{},\"id\":\"1342\",\"type\":\"BasicTickFormatter\"},{\"attributes\":{},\"id\":\"1283\",\"type\":\"LinearScale\"},{\"attributes\":{},\"id\":\"1288\",\"type\":\"BasicTicker\"},{\"attributes\":{\"axis\":{\"id\":\"1287\"},\"ticker\":null},\"id\":\"1290\",\"type\":\"Grid\"},{\"attributes\":{\"axis_label\":\"Partial Dependency\",\"formatter\":{\"id\":\"1340\"},\"ticker\":{\"id\":\"1292\"}},\"id\":\"1291\",\"type\":\"LinearAxis\"},{\"attributes\":{\"axis\":{\"id\":\"1291\"},\"dimension\":1,\"ticker\":null},\"id\":\"1294\",\"type\":\"Grid\"},{\"attributes\":{},\"id\":\"1292\",\"type\":\"BasicTicker\"},{\"attributes\":{},\"id\":\"1298\",\"type\":\"ZoomInTool\"},{\"attributes\":{},\"id\":\"1295\",\"type\":\"PanTool\"},{\"attributes\":{},\"id\":\"1297\",\"type\":\"WheelZoomTool\"},{\"attributes\":{\"active_drag\":\"auto\",\"active_inspect\":\"auto\",\"active_multi\":null,\"active_scroll\":\"auto\",\"active_tap\":\"auto\",\"tools\":[{\"id\":\"1275\"},{\"id\":\"1295\"},{\"id\":\"1296\"},{\"id\":\"1297\"},{\"id\":\"1298\"},{\"id\":\"1299\"},{\"id\":\"1300\"},{\"id\":\"1301\"}]},\"id\":\"1302\",\"type\":\"Toolbar\"},{\"attributes\":{},\"id\":\"1343\",\"type\":\"Selection\"},{\"attributes\":{},\"id\":\"1299\",\"type\":\"ZoomOutTool\"},{\"attributes\":{},\"id\":\"1301\",\"type\":\"ResetTool\"},{\"attributes\":{},\"id\":\"1344\",\"type\":\"UnionRenderers\"}],\"root_ids\":[\"1276\"]},\"title\":\"Bokeh Application\",\"version\":\"2.2.3\"}};\n",
       "  var render_items = [{\"docid\":\"90231c9f-55d9-4d64-a9a2-b51e87432da4\",\"root_ids\":[\"1276\"],\"roots\":{\"1276\":\"f6bd0ac7-c5ad-4577-9bcf-b9b0fc4c1b62\"}}];\n",
       "  root.Bokeh.embed.embed_items_notebook(docs_json, render_items);\n",
       "\n",
       "  }\n",
       "  if (root.Bokeh !== undefined) {\n",
       "    embed_document(root);\n",
       "  } else {\n",
       "    var attempts = 0;\n",
       "    var timer = setInterval(function(root) {\n",
       "      if (root.Bokeh !== undefined) {\n",
       "        clearInterval(timer);\n",
       "        embed_document(root);\n",
       "      } else {\n",
       "        attempts++;\n",
       "        if (attempts > 100) {\n",
       "          clearInterval(timer);\n",
       "          console.log(\"Bokeh: ERROR: Unable to run BokehJS code because BokehJS library is missing\");\n",
       "        }\n",
       "      }\n",
       "    }, 10, root)\n",
       "  }\n",
       "})(window);"
      ],
      "application/vnd.bokehjs_exec.v0+json": ""
     },
     "metadata": {
      "application/vnd.bokehjs_exec.v0+json": {
       "id": "1276"
      }
     },
     "output_type": "display_data"
    }
   ],
   "source": [
    "f='water_risk_3_blk'\n",
    "p = figure(plot_width=900, \n",
    "               plot_height=400, \n",
    "               tools=hover.tools(),\n",
    "               x_axis_label='Values',\n",
    "               y_axis_label='Partial Dependency',\n",
    "               title='%s Partial Dependency'%f)\n",
    "p.circle(source=pdf_dataset[pdf_dataset['feature']==f], x='value', y='pd')\n",
    "show(p)"
   ]
  }
 ],
 "metadata": {
  "kernelspec": {
   "display_name": "Python 3",
   "language": "python",
   "name": "python3"
  },
  "language_info": {
   "codemirror_mode": {
    "name": "ipython",
    "version": 3
   },
   "file_extension": ".py",
   "mimetype": "text/x-python",
   "name": "python",
   "nbconvert_exporter": "python",
   "pygments_lexer": "ipython3",
   "version": "3.8.5"
  }
 },
 "nbformat": 4,
 "nbformat_minor": 4
}
