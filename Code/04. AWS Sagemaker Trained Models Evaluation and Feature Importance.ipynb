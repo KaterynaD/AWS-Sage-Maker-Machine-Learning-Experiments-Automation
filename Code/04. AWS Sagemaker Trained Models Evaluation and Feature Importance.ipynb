{
 "cells": [
  {
   "cell_type": "markdown",
   "metadata": {},
   "source": [
    "### AWS Sagemaker Trained Models Evaluation and Feature Importance\n",
    "\n",
    "Purpose: perform prediction, evaluate (ROC-AUC and Gini) the results and extract feature importance and feature iterations from an XGBoost classification model in a tar gz file in S3. ScriptProcessor based on xgboost image and processing job is used instead Transformer and transform job. SageMaker Model object is not used. It's still kind of an evaluation, searching of a best model process, not yet a final step.\n",
    "\n",
    "Model scores and feature importance are extracted from S3, visualized and saved into a log file. Feature Interaction files as well as a file with predictions just exist in the output S3 bucket.\n",
    "\n",
    "If it's configured to run on more then one model, the models can be considered as folds of the same model and the final result is an average of all models."
   ]
  },
  {
   "cell_type": "code",
   "execution_count": 1,
   "metadata": {},
   "outputs": [],
   "source": [
    "Experiments_file='/home/kate/Research/YearBuilt/Experiments/DevExperiments.xlsx'\n",
    "AllExperiments_tab='Experiments'\n",
    "Experiment_name='Fold1Eval'\n",
    "#Experiment configuration:  \n",
    "#Predict on the same dataset set but possible for different models (ModelFiles)\n",
    "#1.Models: each line in the file contains the model name and set of features to built a dataset for prediction\n",
    "Experiment_Features_tab='%s Models'%Experiment_name\n",
    "#2.ModelFiles: each line is a model name (Model) and full model file name (ModelData - model.tar.gz) in an S3 bucket\n",
    "Experiment_ModelFiles_tab='%s ModelFiles'%Experiment_name\n",
    "\n",
    "path_to_model_evals='Data/Experiments/%s'%Experiment_name\n",
    " \n",
    "bucket='kdproperty'\n",
    "path_to_data_file='/Data/'\n",
    "\n",
    "instance_type='ml.m5.xlarge'\n",
    "instance_count=1\n",
    "\n",
    "Trial_name_processing='%s-Processing'%Experiment_name\n",
    "# the data used in the testing is insurance based and splitted by an accidents/claims calendar years to train/test\n",
    "split_year='2020'"
   ]
  },
  {
   "cell_type": "code",
   "execution_count": 2,
   "metadata": {},
   "outputs": [],
   "source": [
    "import boto3\n",
    "import sys\n",
    "import time\n",
    "import pandas as pd\n",
    "import numpy as np\n",
    "\n",
    "import re\n",
    "\n",
    "#to read data from S3 with pandas\n",
    "import s3fs\n",
    "\n",
    "import matplotlib.pyplot as plt\n",
    "\n",
    "import sagemaker\n",
    "from sagemaker import get_execution_role\n",
    "from sagemaker.processing import ScriptProcessor\n",
    "from sagemaker.processing import ProcessingInput, ProcessingOutput"
   ]
  },
  {
   "cell_type": "code",
   "execution_count": 3,
   "metadata": {},
   "outputs": [],
   "source": [
    "region = boto3.session.Session().region_name\n",
    "role = 'arn:aws:iam::XYZ:role/service-role/AmazonSageMaker-ExecutionRole-20200819T131882'\n",
    "sagemaker_session = sagemaker.session.Session(default_bucket=bucket)\n",
    "s3 = s3fs.S3FileSystem()"
   ]
  },
  {
   "cell_type": "code",
   "execution_count": 4,
   "metadata": {},
   "outputs": [],
   "source": [
    "#sys.path.append('/home/kate/Research/YearBuilt/Notebooks/Experiments')\n",
    "import ExperimentsUtils as eu"
   ]
  },
  {
   "cell_type": "markdown",
   "metadata": {},
   "source": [
    "1. Reading experiment configuration from an excel file"
   ]
  },
  {
   "cell_type": "code",
   "execution_count": 5,
   "metadata": {},
   "outputs": [],
   "source": [
    "experiments = pd.read_excel(open(Experiments_file, 'rb'), sheet_name=AllExperiments_tab)"
   ]
  },
  {
   "cell_type": "markdown",
   "metadata": {},
   "source": [
    "1.1 Target variable and data file name"
   ]
  },
  {
   "cell_type": "code",
   "execution_count": 6,
   "metadata": {},
   "outputs": [
    {
     "name": "stdout",
     "output_type": "stream",
     "text": [
      "Target of models in Fold1Eval experiment is hasclaim_water\n",
      "Datafile used in Fold1Eval experiment is dwelling_basedata_v4.csv\n"
     ]
    }
   ],
   "source": [
    "target=experiments[experiments['Experiment']==Experiment_name]['Target'].values[0]\n",
    "print('Target of models in %s experiment is %s'%(Experiment_name,target))\n",
    "data_file=experiments[experiments['Experiment']==Experiment_name]['Dataset'].values[0]\n",
    "print('Datafile used in %s experiment is %s'%(Experiment_name,data_file))"
   ]
  },
  {
   "cell_type": "markdown",
   "metadata": {},
   "source": [
    "1.2 Model files (usually model.tar.gz produced from training)\n",
    "I do not create SageMaker Models in this process. It's still evaluation part and a simple ScriptProcessor is used for prediction which does not need Sagemaker Model object"
   ]
  },
  {
   "cell_type": "code",
   "execution_count": 7,
   "metadata": {},
   "outputs": [
    {
     "data": {
      "text/html": [
       "<div>\n",
       "<style scoped>\n",
       "    .dataframe tbody tr th:only-of-type {\n",
       "        vertical-align: middle;\n",
       "    }\n",
       "\n",
       "    .dataframe tbody tr th {\n",
       "        vertical-align: top;\n",
       "    }\n",
       "\n",
       "    .dataframe thead th {\n",
       "        text-align: right;\n",
       "    }\n",
       "</style>\n",
       "<table border=\"1\" class=\"dataframe\">\n",
       "  <thead>\n",
       "    <tr style=\"text-align: right;\">\n",
       "      <th></th>\n",
       "      <th>Model</th>\n",
       "      <th>ModelData</th>\n",
       "    </tr>\n",
       "  </thead>\n",
       "  <tbody>\n",
       "    <tr>\n",
       "      <th>0</th>\n",
       "      <td>PropertyAge</td>\n",
       "      <td>s3://kdproperty/Models/Experiments/bf2/Propert...</td>\n",
       "    </tr>\n",
       "  </tbody>\n",
       "</table>\n",
       "</div>"
      ],
      "text/plain": [
       "         Model                                          ModelData\n",
       "0  PropertyAge  s3://kdproperty/Models/Experiments/bf2/Propert..."
      ]
     },
     "execution_count": 7,
     "metadata": {},
     "output_type": "execute_result"
    }
   ],
   "source": [
    "model_files = pd.read_excel(open(Experiments_file, 'rb'), sheet_name=Experiment_ModelFiles_tab)\n",
    "model_files"
   ]
  },
  {
   "cell_type": "markdown",
   "metadata": {},
   "source": [
    "1.3 Model features. The process will use this info to create a data file with all needed features and map feature importance"
   ]
  },
  {
   "cell_type": "code",
   "execution_count": 8,
   "metadata": {},
   "outputs": [
    {
     "data": {
      "text/html": [
       "<div>\n",
       "<style scoped>\n",
       "    .dataframe tbody tr th:only-of-type {\n",
       "        vertical-align: middle;\n",
       "    }\n",
       "\n",
       "    .dataframe tbody tr th {\n",
       "        vertical-align: top;\n",
       "    }\n",
       "\n",
       "    .dataframe thead th {\n",
       "        text-align: right;\n",
       "    }\n",
       "</style>\n",
       "<table border=\"1\" class=\"dataframe\">\n",
       "  <thead>\n",
       "    <tr style=\"text-align: right;\">\n",
       "      <th></th>\n",
       "      <th>Model</th>\n",
       "      <th>F1</th>\n",
       "      <th>F2</th>\n",
       "      <th>F3</th>\n",
       "      <th>F4</th>\n",
       "    </tr>\n",
       "  </thead>\n",
       "  <tbody>\n",
       "    <tr>\n",
       "      <th>0</th>\n",
       "      <td>PropertyAge</td>\n",
       "      <td>cal_year-yearbuilt</td>\n",
       "      <td>cova_deductible</td>\n",
       "      <td>sqft</td>\n",
       "      <td>water_risk_3_blk</td>\n",
       "    </tr>\n",
       "  </tbody>\n",
       "</table>\n",
       "</div>"
      ],
      "text/plain": [
       "         Model                  F1               F2    F3                F4\n",
       "0  PropertyAge  cal_year-yearbuilt  cova_deductible  sqft  water_risk_3_blk"
      ]
     },
     "execution_count": 8,
     "metadata": {},
     "output_type": "execute_result"
    }
   ],
   "source": [
    "model_features = pd.read_excel(open(Experiments_file, 'rb'), sheet_name=Experiment_Features_tab)\n",
    "model_features"
   ]
  },
  {
   "cell_type": "markdown",
   "metadata": {},
   "source": [
    "2.Verification if we have the same set of models in both configurations"
   ]
  },
  {
   "cell_type": "code",
   "execution_count": 9,
   "metadata": {},
   "outputs": [],
   "source": [
    "models_from_model_features=model_features['Model'].tolist()\n",
    "models_from_models_files=model_files['Model'].tolist()\n",
    "if len([x for x in models_from_model_features if x not in models_from_models_files])!=0:\n",
    "    raise Exception('Different set of models in featuresets and files!')"
   ]
  },
  {
   "cell_type": "markdown",
   "metadata": {},
   "source": [
    "3.Creating experiments and trials in SageMaker. SageMaker Experiment object does not contain useful info from the process except name of the job. "
   ]
  },
  {
   "cell_type": "code",
   "execution_count": 10,
   "metadata": {},
   "outputs": [
    {
     "name": "stderr",
     "output_type": "stream",
     "text": [
      "INFO:botocore.credentials:Found credentials in shared credentials file: ~/.aws/credentials\n",
      "INFO:botocore.credentials:Found credentials in shared credentials file: ~/.aws/credentials\n"
     ]
    },
    {
     "name": "stdout",
     "output_type": "stream",
     "text": [
      "Fold1Eval is a new experiment. Nothing to delete\n"
     ]
    },
    {
     "name": "stderr",
     "output_type": "stream",
     "text": [
      "INFO:botocore.credentials:Found credentials in shared credentials file: ~/.aws/credentials\n",
      "INFO:botocore.credentials:Found credentials in shared credentials file: ~/.aws/credentials\n",
      "INFO:botocore.credentials:Found credentials in shared credentials file: ~/.aws/credentials\n"
     ]
    }
   ],
   "source": [
    "eu.cleanup_experiment(Experiment_name)\n",
    "eu.create_experiment(Experiment_name)\n",
    "eu.create_trial(Experiment_name,Trial_name_processing)"
   ]
  },
  {
   "cell_type": "markdown",
   "metadata": {},
   "source": [
    "4. Processing jobs"
   ]
  },
  {
   "cell_type": "code",
   "execution_count": 11,
   "metadata": {},
   "outputs": [
    {
     "name": "stdout",
     "output_type": "stream",
     "text": [
      "Overwriting TrainedModelEvaluation.py\n"
     ]
    }
   ],
   "source": [
    "%%writefile TrainedModelEvaluation.py\n",
    "import argparse\n",
    "import os\n",
    "import sys\n",
    "import subprocess\n",
    "import pathlib\n",
    "import pickle\n",
    "import tarfile\n",
    "import joblib\n",
    "import numpy as np\n",
    "import pandas as pd\n",
    "import xgboost\n",
    "\n",
    "\n",
    "#Evaluation metric\n",
    "from sklearn.metrics import roc_auc_score\n",
    "#To estimate models performance we need a custom gini function\n",
    "def gini(y, pred):\n",
    "    g = np.asarray(np.c_[y, pred, np.arange(len(y)) ], dtype=np.float)\n",
    "    g = g[np.lexsort((g[:,2], -1*g[:,1]))]\n",
    "    gs = g[:,0].cumsum().sum() / g[:,0].sum()\n",
    "    gs -= (len(y) + 1) / 2.\n",
    "    return gs / len(y)\n",
    "\n",
    "def create_fmap(ModelName,featureset):\n",
    "    fmap_filename='%s.fmap'%ModelName\n",
    "    outfile = open(fmap_filename, 'w')\n",
    "    for i, feat in enumerate(featureset):\n",
    "        outfile.write('{0}\\t{1}\\tq\\n'.format(i, feat))\n",
    "    outfile.close()\n",
    "    return fmap_filename\n",
    "\n",
    "if __name__=='__main__':\n",
    "    \n",
    "    #installing XGBFir\n",
    "    XGBFirFlg = False\n",
    "    try:\n",
    "        xgbfir_installed = subprocess.check_call([sys.executable, '-m', 'pip', 'install', 'xgbfir'])\n",
    "        if xgbfir_installed == 0:\n",
    "            import xgbfir\n",
    "            XGBFirFlg = True\n",
    "            print('Successfully installed XGBfir')\n",
    "        else:\n",
    "            print('XGBfir was not installed')\n",
    "    except:\n",
    "        print('XGBfir was not installed')\n",
    "    parser = argparse.ArgumentParser()\n",
    "    parser.add_argument('--data_file', type=str)\n",
    "    parser.add_argument('--split_year', type=int)       \n",
    "    parser.add_argument('--model', type=str)\n",
    "    parser.add_argument('--featureset', type=str)     \n",
    "    parser.add_argument('--target', type=str)\n",
    "    args, _ = parser.parse_known_args()    \n",
    "    print('Received arguments {}'.format(args))\n",
    "    \n",
    "    featureset=args.featureset.split(',')\n",
    "    target_column=args.target\n",
    "    #prediction will be added into the dataset in column \"model_name\"\n",
    "    model_name=args.model\n",
    "    model_path = '/opt/ml/processing/input/model/model.tar.gz'\n",
    "    input_data_path = os.path.join('/opt/ml/processing/input', args.data_file)\n",
    "    metrics_data_path = '/opt/ml/processing/output_metrics/metrics.csv'\n",
    "    importance_data_path = '/opt/ml/processing/output_importance/importance.csv'\n",
    "    interactions_data_path = '/opt/ml/processing/output_importance/interactions_%s.xlsx'%model_name\n",
    "    prediction_data_path = '/opt/ml/processing/output_prediction/prediction.csv' \n",
    "    \n",
    "    print('Reading model from file %s'%model_path)\n",
    "    with tarfile.open(model_path) as tar:\n",
    "        tar.extractall(path=\".\")\n",
    "    \n",
    "    model = pickle.load(open('xgboost-model','rb'))\n",
    "\n",
    "    print('Reading dataset from %s'%input_data_path)\n",
    "    dataset = pd.read_csv(input_data_path, error_bad_lines=False, index_col=False)\n",
    "    \n",
    "    print('Creating dataset for prediction')\n",
    "    test_dataset = pd.DataFrame()\n",
    "    for f in featureset:\n",
    "        print(f)\n",
    "        test_dataset[f]=dataset.eval(f)\n",
    "    dataset[target_column]=dataset.eval(target_column) \n",
    "    \n",
    "    print('Creating DMatrix from dataset for prediction')\n",
    "    X_test = xgboost.DMatrix(test_dataset.values)\n",
    "    \n",
    "    print('Prediction')\n",
    "    predictions = model.predict(X_test)\n",
    "    dataset[model_name]=predictions\n",
    "    dataset[[model_name]].to_csv(prediction_data_path, header=True, index=False)\n",
    "    \n",
    "    print('Evaluation')\n",
    "    test_roc_auc=roc_auc_score(dataset[(dataset.cal_year == args.split_year)][target_column], dataset[(dataset.cal_year == args.split_year)][model_name])\n",
    "    train_roc_auc=roc_auc_score(dataset[(dataset.cal_year < args.split_year)][target_column], dataset[(dataset.cal_year < args.split_year)][model_name])\n",
    "    \n",
    "    test_gini=gini(dataset[(dataset.cal_year == args.split_year)][target_column],dataset[(dataset.cal_year == args.split_year)][model_name])/gini(dataset[(dataset.cal_year == args.split_year)][target_column],dataset[(dataset.cal_year == args.split_year)][target_column])\n",
    "    train_gini=gini(dataset[(dataset.cal_year < args.split_year)][target_column],dataset[(dataset.cal_year < args.split_year)][model_name])/gini(dataset[(dataset.cal_year < args.split_year)][target_column],dataset[(dataset.cal_year < args.split_year)][target_column])\n",
    "    \n",
    "    TestingDataResults = pd.DataFrame(list(zip([model_name],[train_roc_auc],[test_roc_auc],[train_gini],[test_gini])), \n",
    "               columns =['Model','Train ROC-AUC','Test ROC-AUC','Train gini','Test gini'])\n",
    "    \n",
    "    TestingDataResults.to_csv(metrics_data_path, header=True, index=False)\n",
    "    \n",
    "    print('Feature Importance')\n",
    "    \n",
    "    fmap_filename=create_fmap(model_name,featureset)\n",
    "    feat_imp = pd.Series(model.get_score(fmap=fmap_filename,importance_type='weight')).to_frame()\n",
    "    feat_imp.columns=['Weight']\n",
    "    feat_imp = feat_imp.join(pd.Series(model.get_score(fmap=fmap_filename,importance_type='gain')).to_frame())\n",
    "    feat_imp.columns=['Weight','Gain']\n",
    "    feat_imp = feat_imp.join(pd.Series(model.get_score(fmap=fmap_filename,importance_type='cover')).to_frame())\n",
    "    feat_imp.columns=['Weight','Gain','Cover']\n",
    "    feat_imp['FeatureName'] = feat_imp.index\n",
    "    feat_imp['Model'] = model_name\n",
    "    \n",
    "    feat_imp.to_csv(importance_data_path, header=True, index=False)\n",
    "    \n",
    "    if XGBFirFlg:\n",
    "        print('Feature Interaction')\n",
    "        xgbfir.saveXgbFI(model, feature_names=featureset,  TopK = 500,  MaxTrees = 500, MaxInteractionDepth = 2, OutputXlsxFile = interactions_data_path)"
   ]
  },
  {
   "cell_type": "code",
   "execution_count": 12,
   "metadata": {},
   "outputs": [
    {
     "data": {
      "text/html": [
       "<div>\n",
       "<style scoped>\n",
       "    .dataframe tbody tr th:only-of-type {\n",
       "        vertical-align: middle;\n",
       "    }\n",
       "\n",
       "    .dataframe tbody tr th {\n",
       "        vertical-align: top;\n",
       "    }\n",
       "\n",
       "    .dataframe thead th {\n",
       "        text-align: right;\n",
       "    }\n",
       "</style>\n",
       "<table border=\"1\" class=\"dataframe\">\n",
       "  <thead>\n",
       "    <tr style=\"text-align: right;\">\n",
       "      <th></th>\n",
       "      <th>Model</th>\n",
       "      <th>F1</th>\n",
       "      <th>F2</th>\n",
       "      <th>F3</th>\n",
       "      <th>F4</th>\n",
       "      <th>ModelData</th>\n",
       "    </tr>\n",
       "  </thead>\n",
       "  <tbody>\n",
       "    <tr>\n",
       "      <th>0</th>\n",
       "      <td>PropertyAge</td>\n",
       "      <td>cal_year-yearbuilt</td>\n",
       "      <td>cova_deductible</td>\n",
       "      <td>sqft</td>\n",
       "      <td>water_risk_3_blk</td>\n",
       "      <td>s3://kdproperty/Models/Experiments/bf2/Propert...</td>\n",
       "    </tr>\n",
       "  </tbody>\n",
       "</table>\n",
       "</div>"
      ],
      "text/plain": [
       "         Model                  F1               F2    F3                F4  \\\n",
       "0  PropertyAge  cal_year-yearbuilt  cova_deductible  sqft  water_risk_3_blk   \n",
       "\n",
       "                                           ModelData  \n",
       "0  s3://kdproperty/Models/Experiments/bf2/Propert...  "
      ]
     },
     "execution_count": 12,
     "metadata": {},
     "output_type": "execute_result"
    }
   ],
   "source": [
    "#joining together features and model file name for easy looping\n",
    "models = pd.merge(model_features, model_files, on='Model', how='inner')\n",
    "models"
   ]
  },
  {
   "cell_type": "code",
   "execution_count": 13,
   "metadata": {},
   "outputs": [
    {
     "name": "stderr",
     "output_type": "stream",
     "text": [
      "WARNING:sagemaker.deprecations:The method get_image_uri has been renamed in sagemaker>=2.\n",
      "See: https://sagemaker.readthedocs.io/en/stable/v2.html for details.\n",
      "INFO:sagemaker.image_uris:Same images used for training and inference. Defaulting to image scope: inference.\n",
      "INFO:sagemaker.image_uris:Defaulting to only available Python version: py3\n",
      "INFO:sagemaker.image_uris:Defaulting to only supported image scope: cpu.\n",
      "INFO:botocore.credentials:Found credentials in shared credentials file: ~/.aws/credentials\n"
     ]
    },
    {
     "name": "stdout",
     "output_type": "stream",
     "text": [
      "0 : Prediction from model PropertyAge: cal_year-yearbuilt,cova_deductible,sqft,water_risk_3_blk\n"
     ]
    },
    {
     "name": "stderr",
     "output_type": "stream",
     "text": [
      "INFO:sagemaker:Creating processing-job with name PropertyAge-2021-02-28-19-35-56-301\n"
     ]
    },
    {
     "name": "stdout",
     "output_type": "stream",
     "text": [
      "\n",
      "Job Name:  PropertyAge-2021-02-28-19-35-56-301\n",
      "Inputs:  [{'InputName': 'input-1', 'AppManaged': False, 'S3Input': {'S3Uri': 's3://kdproperty/Data/dwelling_basedata_v4.csv', 'LocalPath': '/opt/ml/processing/input', 'S3DataType': 'S3Prefix', 'S3InputMode': 'File', 'S3DataDistributionType': 'FullyReplicated', 'S3CompressionType': 'None'}}, {'InputName': 'input-2', 'AppManaged': False, 'S3Input': {'S3Uri': 's3://kdproperty/Models/Experiments/bf2/PropertyAge-1-2021-02-16-16-37-37/output/model.tar.gz', 'LocalPath': '/opt/ml/processing/input/model', 'S3DataType': 'S3Prefix', 'S3InputMode': 'File', 'S3DataDistributionType': 'FullyReplicated', 'S3CompressionType': 'None'}}, {'InputName': 'code', 'AppManaged': False, 'S3Input': {'S3Uri': 's3://sagemaker-us-west-2-XYZ/PropertyAge-2021-02-28-19-35-56-301/input/code/TrainedModelEvaluation.py', 'LocalPath': '/opt/ml/processing/input/code', 'S3DataType': 'S3Prefix', 'S3InputMode': 'File', 'S3DataDistributionType': 'FullyReplicated', 'S3CompressionType': 'None'}}]\n",
      "Outputs:  [{'OutputName': 'metrics', 'AppManaged': False, 'S3Output': {'S3Uri': 's3://kdproperty/Data/Experiments/Fold1Eval/output_metrics/PropertyAge', 'LocalPath': '/opt/ml/processing/output_metrics', 'S3UploadMode': 'EndOfJob'}}, {'OutputName': 'importance', 'AppManaged': False, 'S3Output': {'S3Uri': 's3://kdproperty/Data/Experiments/Fold1Eval/output_importance/PropertyAge', 'LocalPath': '/opt/ml/processing/output_importance', 'S3UploadMode': 'EndOfJob'}}, {'OutputName': 'prediction', 'AppManaged': False, 'S3Output': {'S3Uri': 's3://kdproperty/Data/Experiments/Fold1Eval/output_prediction/PropertyAge', 'LocalPath': '/opt/ml/processing/output_prediction', 'S3UploadMode': 'EndOfJob'}}]\n"
     ]
    }
   ],
   "source": [
    "from sagemaker.amazon.amazon_estimator import get_image_uri\n",
    "processors=list()\n",
    "image_uri = get_image_uri(boto3.Session().region_name,\n",
    "                          'xgboost', \n",
    "                          repo_version='1.0-1') \n",
    "regex = re.compile('F[ 0-9]')\n",
    "for index, row in models.iterrows():\n",
    "    model=row['Model']\n",
    "\n",
    "    \n",
    "    featureset = []\n",
    "    for c in models.columns:\n",
    "        if bool(re.match(regex, c)):\n",
    "            featureset.append(row[c])\n",
    "    print (index, ': Prediction from model %s: %s'%(model,','.join(featureset).replace(' ','')))\n",
    "    data_processor = ScriptProcessor(\n",
    "    image_uri=image_uri,\n",
    "    command=['python3'],\n",
    "    instance_type=instance_type,\n",
    "    instance_count=instance_count,\n",
    "    base_job_name=model.replace('_','-'),\n",
    "    role=role)\n",
    "\n",
    "    data_processor.run(code='TrainedModelEvaluation.py',\n",
    "                        inputs=[ProcessingInput(source='s3://%s%s'%(bucket,path_to_data_file+data_file),destination='/opt/ml/processing/input'),\n",
    "                                ProcessingInput(source=row['ModelData'],destination='/opt/ml/processing/input/model'),                              \n",
    "                               ],\n",
    "                        outputs=[ProcessingOutput(output_name='metrics', source='/opt/ml/processing/output_metrics', destination='s3://%s/%s/output_metrics/%s'%(bucket,path_to_model_evals,model)),\n",
    "                        ProcessingOutput(output_name='importance', source='/opt/ml/processing/output_importance', destination='s3://%s/%s/output_importance/%s'%(bucket,path_to_model_evals,model)) ,\n",
    "                        ProcessingOutput(output_name='prediction', source='/opt/ml/processing/output_prediction', destination='s3://%s/%s/output_prediction/%s'%(bucket,path_to_model_evals,model))\n",
    "                                ],\n",
    "                        arguments=['--data_file',data_file,                                 \n",
    "                                 '--model',model,\n",
    "                                 '--featureset', ','.join(featureset).replace(' ',''),\n",
    "                                 '--target',target,\n",
    "                                 '--split_year',split_year],\n",
    "                        experiment_config = {\n",
    "        'ExperimentName': Experiment_name ,\n",
    "        'TrialName' : Trial_name_processing,\n",
    "        'TrialComponentDisplayName' : Trial_name_processing},\n",
    "                        wait=False\n",
    "                        )\n",
    "    processors.append(data_processor)"
   ]
  },
  {
   "cell_type": "code",
   "execution_count": 14,
   "metadata": {},
   "outputs": [
    {
     "name": "stdout",
     "output_type": "stream",
     "text": [
      "Processing job PropertyAge-2021-02-28-19-35-56-301 status: InProgress\n",
      "Continue waiting...\n",
      "Processing job PropertyAge-2021-02-28-19-35-56-301 status: InProgress\n",
      "Continue waiting...\n",
      "All Processing Jobs are Completed\n"
     ]
    }
   ],
   "source": [
    "#wait till the rest of processing jobs complete\n",
    "eu.wait_processing_jobs(processors=processors,check_every_sec=10,print_every_n_output=10,wait_min=60)"
   ]
  },
  {
   "cell_type": "markdown",
   "metadata": {},
   "source": [
    "5. Reading results, visualisation  and saving into the log experiment"
   ]
  },
  {
   "cell_type": "code",
   "execution_count": 15,
   "metadata": {},
   "outputs": [],
   "source": [
    "#Output files locations\n",
    "FileLocations_df=pd.DataFrame(columns=['Model', 'Scores', 'Importance', 'Interactions','Prediction'])\n",
    "for index, row in models.iterrows():\n",
    "    model=row['Model']\n",
    "    ModelScores_location='s3://%s/%s/output_metrics/%s/metrics.csv'%(bucket,path_to_model_evals,model) \n",
    "    FI_location='s3://%s/%s/output_importance/%s/importance.csv'%(bucket,path_to_model_evals,model)\n",
    "    Interactions_location='s3://%s/%s/output_importance/%s/interactions_%s.xlsx'%(bucket,path_to_model_evals,model,model)\n",
    "    Prediction_location='s3://%s/%soutput_prediction/%s/prediction.csv'%(bucket,path_to_model_evals,model)\n",
    "    FileLocations_df.loc[index]=[model, ModelScores_location,FI_location,Interactions_location,Prediction_location]"
   ]
  },
  {
   "cell_type": "code",
   "execution_count": 16,
   "metadata": {},
   "outputs": [],
   "source": [
    "#Saving into the Experiment log \n",
    "eu.SaveToExperimentLog(Experiments_file, '%s OutputData'%Experiment_name, FileLocations_df)"
   ]
  },
  {
   "cell_type": "code",
   "execution_count": 17,
   "metadata": {},
   "outputs": [],
   "source": [
    "Scores = pd.DataFrame()\n",
    "for index, row in models.iterrows():\n",
    "    model=row['Model']\n",
    "    ModelScores_location='s3://%s/%s/output_metrics/%s/metrics.csv'%(bucket,path_to_model_evals,model) \n",
    "    ModelScores=pd.read_csv(ModelScores_location,  error_bad_lines=False, index_col=False) \n",
    "    Scores = Scores.append(ModelScores, ignore_index=True)"
   ]
  },
  {
   "cell_type": "code",
   "execution_count": 18,
   "metadata": {},
   "outputs": [
    {
     "data": {
      "text/html": [
       "<div>\n",
       "<style scoped>\n",
       "    .dataframe tbody tr th:only-of-type {\n",
       "        vertical-align: middle;\n",
       "    }\n",
       "\n",
       "    .dataframe tbody tr th {\n",
       "        vertical-align: top;\n",
       "    }\n",
       "\n",
       "    .dataframe thead th {\n",
       "        text-align: right;\n",
       "    }\n",
       "</style>\n",
       "<table border=\"1\" class=\"dataframe\">\n",
       "  <thead>\n",
       "    <tr style=\"text-align: right;\">\n",
       "      <th></th>\n",
       "      <th>Model</th>\n",
       "      <th>Train ROC-AUC</th>\n",
       "      <th>Test ROC-AUC</th>\n",
       "      <th>Train gini</th>\n",
       "      <th>Test gini</th>\n",
       "    </tr>\n",
       "  </thead>\n",
       "  <tbody>\n",
       "    <tr>\n",
       "      <th>0</th>\n",
       "      <td>PropertyAge</td>\n",
       "      <td>0.706813</td>\n",
       "      <td>0.69613</td>\n",
       "      <td>0.413627</td>\n",
       "      <td>0.392258</td>\n",
       "    </tr>\n",
       "  </tbody>\n",
       "</table>\n",
       "</div>"
      ],
      "text/plain": [
       "         Model  Train ROC-AUC  Test ROC-AUC  Train gini  Test gini\n",
       "0  PropertyAge       0.706813       0.69613    0.413627   0.392258"
      ]
     },
     "execution_count": 18,
     "metadata": {},
     "output_type": "execute_result"
    }
   ],
   "source": [
    "Scores=Scores.sort_values('Test ROC-AUC', ascending=False)\n",
    "Scores"
   ]
  },
  {
   "cell_type": "code",
   "execution_count": 19,
   "metadata": {},
   "outputs": [],
   "source": [
    "#Saving into the Experiment log \n",
    "eu.SaveToExperimentLog(Experiments_file, '%s Scores'%Experiment_name, Scores)"
   ]
  },
  {
   "cell_type": "code",
   "execution_count": 20,
   "metadata": {},
   "outputs": [
    {
     "data": {
      "text/plain": [
       "<AxesSubplot:xlabel='Model'>"
      ]
     },
     "execution_count": 20,
     "metadata": {},
     "output_type": "execute_result"
    },
    {
     "data": {
      "image/png": "[encoded data removed]",
      "text/plain": [
       "<Figure size 1080x720 with 1 Axes>"
      ]
     },
     "metadata": {
      "needs_background": "light"
     },
     "output_type": "display_data"
    }
   ],
   "source": [
    "import matplotlib.pyplot as plt\n",
    "fig = plt.figure()\n",
    "fig.set_size_inches([15, 10])\n",
    "Scores.plot.bar('Model', 'Test ROC-AUC',ax=plt.gca())"
   ]
  },
  {
   "cell_type": "code",
   "execution_count": 21,
   "metadata": {},
   "outputs": [],
   "source": [
    "FeatureImportance = pd.DataFrame()\n",
    "for index, row in models.iterrows():\n",
    "    model=row['Model']\n",
    "    FI_location='s3://%s/%s/output_importance/%s/importance.csv'%(bucket,path_to_model_evals,model) \n",
    "    ModelFeatureImportance=pd.read_csv(FI_location,  error_bad_lines=False, index_col=False) \n",
    "    FeatureImportance = FeatureImportance.append(ModelFeatureImportance, ignore_index=True)"
   ]
  },
  {
   "cell_type": "code",
   "execution_count": 22,
   "metadata": {},
   "outputs": [
    {
     "data": {
      "text/html": [
       "<div>\n",
       "<style scoped>\n",
       "    .dataframe tbody tr th:only-of-type {\n",
       "        vertical-align: middle;\n",
       "    }\n",
       "\n",
       "    .dataframe tbody tr th {\n",
       "        vertical-align: top;\n",
       "    }\n",
       "\n",
       "    .dataframe thead th {\n",
       "        text-align: right;\n",
       "    }\n",
       "</style>\n",
       "<table border=\"1\" class=\"dataframe\">\n",
       "  <thead>\n",
       "    <tr style=\"text-align: right;\">\n",
       "      <th></th>\n",
       "      <th>Weight</th>\n",
       "      <th>Gain</th>\n",
       "      <th>Cover</th>\n",
       "      <th>FeatureName</th>\n",
       "      <th>Model</th>\n",
       "    </tr>\n",
       "  </thead>\n",
       "  <tbody>\n",
       "    <tr>\n",
       "      <th>0</th>\n",
       "      <td>1550</td>\n",
       "      <td>2.156099</td>\n",
       "      <td>717.468080</td>\n",
       "      <td>cal_year-yearbuilt</td>\n",
       "      <td>PropertyAge</td>\n",
       "    </tr>\n",
       "    <tr>\n",
       "      <th>1</th>\n",
       "      <td>1561</td>\n",
       "      <td>1.627673</td>\n",
       "      <td>629.811404</td>\n",
       "      <td>water_risk_3_blk</td>\n",
       "      <td>PropertyAge</td>\n",
       "    </tr>\n",
       "    <tr>\n",
       "      <th>2</th>\n",
       "      <td>1313</td>\n",
       "      <td>1.214732</td>\n",
       "      <td>652.125363</td>\n",
       "      <td>cova_deductible</td>\n",
       "      <td>PropertyAge</td>\n",
       "    </tr>\n",
       "    <tr>\n",
       "      <th>3</th>\n",
       "      <td>1545</td>\n",
       "      <td>1.536305</td>\n",
       "      <td>461.960897</td>\n",
       "      <td>sqft</td>\n",
       "      <td>PropertyAge</td>\n",
       "    </tr>\n",
       "  </tbody>\n",
       "</table>\n",
       "</div>"
      ],
      "text/plain": [
       "   Weight      Gain       Cover         FeatureName        Model\n",
       "0    1550  2.156099  717.468080  cal_year-yearbuilt  PropertyAge\n",
       "1    1561  1.627673  629.811404    water_risk_3_blk  PropertyAge\n",
       "2    1313  1.214732  652.125363     cova_deductible  PropertyAge\n",
       "3    1545  1.536305  461.960897                sqft  PropertyAge"
      ]
     },
     "execution_count": 22,
     "metadata": {},
     "output_type": "execute_result"
    }
   ],
   "source": [
    "FeatureImportance.head()"
   ]
  },
  {
   "cell_type": "code",
   "execution_count": 23,
   "metadata": {},
   "outputs": [],
   "source": [
    "#Saving into the Experiment log \n",
    "eu.SaveToExperimentLog(Experiments_file, '%s FI'%Experiment_name, FeatureImportance)"
   ]
  },
  {
   "cell_type": "code",
   "execution_count": 24,
   "metadata": {},
   "outputs": [
    {
     "data": {
      "image/png": "[encoded data removed]",
      "text/plain": [
       "<Figure size 2160x360 with 3 Axes>"
      ]
     },
     "metadata": {
      "needs_background": "light"
     },
     "output_type": "display_data"
    }
   ],
   "source": [
    "for index, row in models.iterrows():\n",
    "    data=FeatureImportance[(FeatureImportance['Model']==row['Model'])]\n",
    "    fig, axs = plt.subplots(nrows=1, ncols=3,figsize=(30,5)) \n",
    "    fig.suptitle('%s'%(row['Model']))\n",
    "    data=data.sort_values(['Model','Gain'], ascending=True)\n",
    "    ax = axs[0]\n",
    "    ax.set_title('Gain')\n",
    "    data.plot.barh('FeatureName', 'Gain',ax=axs[0])\n",
    "            \n",
    "            \n",
    "    data=data.sort_values(['Model','Weight'], ascending=True)\n",
    "    ax = axs[1]\n",
    "    ax.set_title('Weight')\n",
    "    data.plot.barh('FeatureName', 'Weight',ax=axs[1])\n",
    "            \n",
    "    data=data.sort_values(['Model','Cover'], ascending=True)\n",
    "    ax = axs[2]\n",
    "    ax.set_title('Cover')\n",
    "    data.plot.barh('FeatureName', 'Cover',ax=axs[2])"
   ]
  },
  {
   "cell_type": "markdown",
   "metadata": {},
   "source": [
    "6. Assuming each model is a fold and calculate mean, std and sem (can be NaN if there is just one model configured)"
   ]
  },
  {
   "cell_type": "code",
   "execution_count": 25,
   "metadata": {},
   "outputs": [
    {
     "data": {
      "text/html": [
       "<div>\n",
       "<style scoped>\n",
       "    .dataframe tbody tr th:only-of-type {\n",
       "        vertical-align: middle;\n",
       "    }\n",
       "\n",
       "    .dataframe tbody tr th {\n",
       "        vertical-align: top;\n",
       "    }\n",
       "\n",
       "    .dataframe thead th {\n",
       "        text-align: right;\n",
       "    }\n",
       "</style>\n",
       "<table border=\"1\" class=\"dataframe\">\n",
       "  <thead>\n",
       "    <tr style=\"text-align: right;\">\n",
       "      <th></th>\n",
       "      <th>FeatureName</th>\n",
       "      <th>gain mean</th>\n",
       "    </tr>\n",
       "  </thead>\n",
       "  <tbody>\n",
       "    <tr>\n",
       "      <th>0</th>\n",
       "      <td>cal_year-yearbuilt</td>\n",
       "      <td>2.156099</td>\n",
       "    </tr>\n",
       "    <tr>\n",
       "      <th>1</th>\n",
       "      <td>cova_deductible</td>\n",
       "      <td>1.214732</td>\n",
       "    </tr>\n",
       "    <tr>\n",
       "      <th>2</th>\n",
       "      <td>sqft</td>\n",
       "      <td>1.536305</td>\n",
       "    </tr>\n",
       "    <tr>\n",
       "      <th>3</th>\n",
       "      <td>water_risk_3_blk</td>\n",
       "      <td>1.627673</td>\n",
       "    </tr>\n",
       "  </tbody>\n",
       "</table>\n",
       "</div>"
      ],
      "text/plain": [
       "          FeatureName  gain mean\n",
       "0  cal_year-yearbuilt   2.156099\n",
       "1     cova_deductible   1.214732\n",
       "2                sqft   1.536305\n",
       "3    water_risk_3_blk   1.627673"
      ]
     },
     "execution_count": 25,
     "metadata": {},
     "output_type": "execute_result"
    }
   ],
   "source": [
    "FI_gain_mean=FeatureImportance.groupby(['FeatureName'])['Gain'].mean().to_frame()\n",
    "FI_gain_mean.reset_index( drop=False, inplace=True )\n",
    "FI_gain_mean.columns=['FeatureName','gain mean']\n",
    "FI_gain_mean"
   ]
  },
  {
   "cell_type": "code",
   "execution_count": 26,
   "metadata": {},
   "outputs": [
    {
     "data": {
      "text/html": [
       "<div>\n",
       "<style scoped>\n",
       "    .dataframe tbody tr th:only-of-type {\n",
       "        vertical-align: middle;\n",
       "    }\n",
       "\n",
       "    .dataframe tbody tr th {\n",
       "        vertical-align: top;\n",
       "    }\n",
       "\n",
       "    .dataframe thead th {\n",
       "        text-align: right;\n",
       "    }\n",
       "</style>\n",
       "<table border=\"1\" class=\"dataframe\">\n",
       "  <thead>\n",
       "    <tr style=\"text-align: right;\">\n",
       "      <th></th>\n",
       "      <th>feature</th>\n",
       "      <th>gain-mean</th>\n",
       "      <th>gain-std</th>\n",
       "      <th>gain-sem</th>\n",
       "      <th>weight-mean</th>\n",
       "      <th>weight-std</th>\n",
       "      <th>weight-sem</th>\n",
       "      <th>cover-mean</th>\n",
       "      <th>cover-std</th>\n",
       "      <th>cover-sem</th>\n",
       "    </tr>\n",
       "  </thead>\n",
       "  <tbody>\n",
       "    <tr>\n",
       "      <th>0</th>\n",
       "      <td>cal_year-yearbuilt</td>\n",
       "      <td>2.156099</td>\n",
       "      <td>NaN</td>\n",
       "      <td>NaN</td>\n",
       "      <td>1550</td>\n",
       "      <td>NaN</td>\n",
       "      <td>NaN</td>\n",
       "      <td>717.468080</td>\n",
       "      <td>NaN</td>\n",
       "      <td>NaN</td>\n",
       "    </tr>\n",
       "    <tr>\n",
       "      <th>1</th>\n",
       "      <td>cova_deductible</td>\n",
       "      <td>1.214732</td>\n",
       "      <td>NaN</td>\n",
       "      <td>NaN</td>\n",
       "      <td>1313</td>\n",
       "      <td>NaN</td>\n",
       "      <td>NaN</td>\n",
       "      <td>652.125363</td>\n",
       "      <td>NaN</td>\n",
       "      <td>NaN</td>\n",
       "    </tr>\n",
       "    <tr>\n",
       "      <th>2</th>\n",
       "      <td>sqft</td>\n",
       "      <td>1.536305</td>\n",
       "      <td>NaN</td>\n",
       "      <td>NaN</td>\n",
       "      <td>1545</td>\n",
       "      <td>NaN</td>\n",
       "      <td>NaN</td>\n",
       "      <td>461.960897</td>\n",
       "      <td>NaN</td>\n",
       "      <td>NaN</td>\n",
       "    </tr>\n",
       "    <tr>\n",
       "      <th>3</th>\n",
       "      <td>water_risk_3_blk</td>\n",
       "      <td>1.627673</td>\n",
       "      <td>NaN</td>\n",
       "      <td>NaN</td>\n",
       "      <td>1561</td>\n",
       "      <td>NaN</td>\n",
       "      <td>NaN</td>\n",
       "      <td>629.811404</td>\n",
       "      <td>NaN</td>\n",
       "      <td>NaN</td>\n",
       "    </tr>\n",
       "  </tbody>\n",
       "</table>\n",
       "</div>"
      ],
      "text/plain": [
       "              feature  gain-mean  gain-std  gain-sem  weight-mean  weight-std  \\\n",
       "0  cal_year-yearbuilt   2.156099       NaN       NaN         1550         NaN   \n",
       "1     cova_deductible   1.214732       NaN       NaN         1313         NaN   \n",
       "2                sqft   1.536305       NaN       NaN         1545         NaN   \n",
       "3    water_risk_3_blk   1.627673       NaN       NaN         1561         NaN   \n",
       "\n",
       "   weight-sem  cover-mean  cover-std  cover-sem  \n",
       "0         NaN  717.468080        NaN        NaN  \n",
       "1         NaN  652.125363        NaN        NaN  \n",
       "2         NaN  461.960897        NaN        NaN  \n",
       "3         NaN  629.811404        NaN        NaN  "
      ]
     },
     "execution_count": 26,
     "metadata": {},
     "output_type": "execute_result"
    }
   ],
   "source": [
    "FI_gain_mean=FeatureImportance.groupby(['FeatureName'])['Gain'].mean().to_frame()\n",
    "FI_gain_mean.reset_index( drop=False, inplace=True )\n",
    "FI_gain_mean.columns=['feature','gain-mean']\n",
    "\n",
    "FI_gain_std=FeatureImportance.groupby(['FeatureName'])['Gain'].std().to_frame()\n",
    "FI_gain_std.reset_index( drop=False, inplace=True )\n",
    "FI_gain_std.columns=['feature','gain-std']\n",
    "\n",
    "FI_gain_sem=FeatureImportance.groupby(['FeatureName'])['Gain'].std().to_frame()\n",
    "FI_gain_sem.reset_index( drop=False, inplace=True )\n",
    "FI_gain_sem.columns=['feature','gain-sem']\n",
    "\n",
    "FeatureImportance_df=pd.merge(FI_gain_mean,FI_gain_std,  on=['feature'], how='inner')\n",
    "FeatureImportance_df=pd.merge(FeatureImportance_df,FI_gain_sem,  on=['feature'], how='inner')\n",
    "\n",
    "FI_weight_mean=FeatureImportance.groupby(['FeatureName'])['Weight'].mean().to_frame()\n",
    "FI_weight_mean.reset_index( drop=False, inplace=True )\n",
    "FI_weight_mean.columns=['feature','weight-mean']\n",
    "\n",
    "FI_weight_std=FeatureImportance.groupby(['FeatureName'])['Weight'].std().to_frame()\n",
    "FI_weight_std.reset_index( drop=False, inplace=True )\n",
    "FI_weight_std.columns=['feature','weight-std']\n",
    "\n",
    "FI_weight_sem=FeatureImportance.groupby(['FeatureName'])['Weight'].std().to_frame()\n",
    "FI_weight_sem.reset_index( drop=False, inplace=True )\n",
    "FI_weight_sem.columns=['feature','weight-sem']\n",
    "\n",
    "FeatureImportance_df=pd.merge(FeatureImportance_df,FI_weight_mean,  on=['feature'], how='inner')\n",
    "FeatureImportance_df=pd.merge(FeatureImportance_df,FI_weight_std,  on=['feature'], how='inner')\n",
    "FeatureImportance_df=pd.merge(FeatureImportance_df,FI_weight_sem,  on=['feature'], how='inner')\n",
    "\n",
    "\n",
    "FI_cover_mean=FeatureImportance.groupby(['FeatureName'])['Cover'].mean().to_frame()\n",
    "FI_cover_mean.reset_index( drop=False, inplace=True )\n",
    "FI_cover_mean.columns=['feature','cover-mean']\n",
    "\n",
    "FI_cover_std=FeatureImportance.groupby(['FeatureName'])['Cover'].std().to_frame()\n",
    "FI_cover_std.reset_index( drop=False, inplace=True )\n",
    "FI_cover_std.columns=['feature','cover-std']\n",
    "\n",
    "FI_cover_sem=FeatureImportance.groupby(['FeatureName'])['Cover'].std().to_frame()\n",
    "FI_cover_sem.reset_index( drop=False, inplace=True )\n",
    "FI_cover_sem.columns=['feature','cover-sem']\n",
    "\n",
    "FeatureImportance_df=pd.merge(FeatureImportance_df,FI_cover_mean,  on=['feature'], how='inner')\n",
    "FeatureImportance_df=pd.merge(FeatureImportance_df,FI_cover_std,  on=['feature'], how='inner')\n",
    "FeatureImportance_df=pd.merge(FeatureImportance_df,FI_cover_sem,  on=['feature'], how='inner')\n",
    "\n",
    "FeatureImportance_df"
   ]
  },
  {
   "cell_type": "code",
   "execution_count": 27,
   "metadata": {},
   "outputs": [
    {
     "name": "stderr",
     "output_type": "stream",
     "text": [
      "/home/kate/anaconda3/lib/python3.8/site-packages/numpy/core/_asarray.py:83: UserWarning: Warning: converting a masked element to nan.\n",
      "  return array(a, dtype, copy=False, order=order)\n",
      "<ipython-input-27-1d2fb68247bb>:9: UserWarning: FixedFormatter should only be used together with FixedLocator\n",
      "  ax.set_xticklabels(data['feature'].values,rotation=90)\n",
      "<ipython-input-27-1d2fb68247bb>:16: UserWarning: FixedFormatter should only be used together with FixedLocator\n",
      "  ax.set_xticklabels(data['feature'].values,rotation=90)\n",
      "<ipython-input-27-1d2fb68247bb>:22: UserWarning: FixedFormatter should only be used together with FixedLocator\n",
      "  ax.set_xticklabels(data['feature'].values,rotation=90)\n"
     ]
    },
    {
     "data": {
      "image/png": "[encoded data removed]",
      "text/plain": [
       "<Figure size 1440x360 with 3 Axes>"
      ]
     },
     "metadata": {
      "needs_background": "light"
     },
     "output_type": "display_data"
    }
   ],
   "source": [
    "for index, row in models.iterrows():\n",
    "        data=FeatureImportance_df.sort_values('gain-mean',ascending=False)\n",
    "        fig, axs = plt.subplots(nrows=1, ncols=3,figsize=(20,5)) \n",
    "        fig.suptitle('%s %s'%(row['Model'],index))\n",
    "                \n",
    "        ax = axs[0]\n",
    "        ax.errorbar(data['feature'], data['gain-mean'], color = 'blue',  ecolor='lightgray', elinewidth=3, capsize=0,yerr=data['gain-sem'], fmt='o')\n",
    "        ax.set_title('Gain')\n",
    "        ax.set_xticklabels(data['feature'].values,rotation=90)\n",
    "           \n",
    " \n",
    "        data=data.sort_values('weight-mean',ascending=False)\n",
    "        ax = axs[1]\n",
    "        ax.errorbar(data['feature'], data['weight-mean'], color = 'blue',  ecolor='lightgray', elinewidth=3, capsize=0,yerr=data['weight-sem'], fmt='o')\n",
    "        ax.set_title('Weight')\n",
    "        ax.set_xticklabels(data['feature'].values,rotation=90)\n",
    "                         \n",
    "        data=data.sort_values('cover-mean',ascending=False)\n",
    "        ax = axs[2]\n",
    "        ax.errorbar(data['feature'], data['cover-mean'], color = 'blue',  ecolor='lightgray', elinewidth=3, capsize=0,yerr=data['weight-sem'], fmt='o')\n",
    "        ax.set_title('Cover')\n",
    "        ax.set_xticklabels(data['feature'].values,rotation=90)"
   ]
  },
  {
   "cell_type": "code",
   "execution_count": null,
   "metadata": {},
   "outputs": [],
   "source": [
    "#joining predicted data from each model to the original dataset\n",
    "#maybe no need to download locally but rather run one more ScriptProcessor\n",
    "#to have a complete dataset in S3 and load to Redshift directly\n",
    "#For Shap Values we need a batch transform job"
   ]
  },
  {
   "cell_type": "code",
   "execution_count": 29,
   "metadata": {},
   "outputs": [],
   "source": [
    "#original dataset\n",
    "#can be read from S3: 's3://%s%s'%(bucket,path_to_data_file+data_file)\n",
    "#or locally\n",
    "data_file='dwelling_basedata_v4.csv'\n",
    "dataset=pd.read_csv('/home/kate/Research/YearBuilt/Data/'+data_file,  error_bad_lines=False, index_col=False) "
   ]
  },
  {
   "cell_type": "code",
   "execution_count": 30,
   "metadata": {},
   "outputs": [],
   "source": [
    "columns=list()\n",
    "for index, row in models.iterrows():\n",
    "    model=row['Model']\n",
    "    Prediction_location='s3://%s/%s/output_prediction/%s/prediction.csv'%(bucket,path_to_model_evals,model)\n",
    "    ModelPredictionData=pd.read_csv(Prediction_location,  error_bad_lines=False, index_col=False)\n",
    "    columns.append(ModelPredictionData.columns[0])\n",
    "    dataset = pd.concat([dataset,ModelPredictionData],axis=1)"
   ]
  },
  {
   "cell_type": "markdown",
   "metadata": {},
   "source": [
    "Average prediction from all folds"
   ]
  },
  {
   "cell_type": "code",
   "execution_count": 31,
   "metadata": {},
   "outputs": [],
   "source": [
    "#Evaluation metric\n",
    "from sklearn.metrics import roc_auc_score\n",
    "#To estimate models performance we need a custom gini function\n",
    "def gini(y, pred):\n",
    "    g = np.asarray(np.c_[y, pred, np.arange(len(y)) ], dtype=np.float)\n",
    "    g = g[np.lexsort((g[:,2], -1*g[:,1]))]\n",
    "    gs = g[:,0].cumsum().sum() / g[:,0].sum()\n",
    "    gs -= (len(y) + 1) / 2.\n",
    "    return gs / len(y)"
   ]
  },
  {
   "cell_type": "code",
   "execution_count": 32,
   "metadata": {},
   "outputs": [
    {
     "name": "stderr",
     "output_type": "stream",
     "text": [
      "INFO:numexpr.utils:NumExpr defaulting to 8 threads.\n"
     ]
    }
   ],
   "source": [
    "dataset['Prediction']=0\n",
    "for c in columns:\n",
    "    dataset[c]=pd.to_numeric(dataset[c])\n",
    "    dataset['Prediction']=dataset['Prediction']+dataset[c]\n",
    "dataset['Prediction']=dataset['Prediction']/len(columns)    "
   ]
  },
  {
   "cell_type": "code",
   "execution_count": 33,
   "metadata": {},
   "outputs": [
    {
     "data": {
      "text/html": [
       "<div>\n",
       "<style scoped>\n",
       "    .dataframe tbody tr th:only-of-type {\n",
       "        vertical-align: middle;\n",
       "    }\n",
       "\n",
       "    .dataframe tbody tr th {\n",
       "        vertical-align: top;\n",
       "    }\n",
       "\n",
       "    .dataframe thead th {\n",
       "        text-align: right;\n",
       "    }\n",
       "</style>\n",
       "<table border=\"1\" class=\"dataframe\">\n",
       "  <thead>\n",
       "    <tr style=\"text-align: right;\">\n",
       "      <th></th>\n",
       "      <th>Model</th>\n",
       "      <th>Train ROC-AUC</th>\n",
       "      <th>Test ROC-AUC</th>\n",
       "      <th>Train gini</th>\n",
       "      <th>Test gini</th>\n",
       "    </tr>\n",
       "  </thead>\n",
       "  <tbody>\n",
       "    <tr>\n",
       "      <th>0</th>\n",
       "      <td>Final</td>\n",
       "      <td>0.706813</td>\n",
       "      <td>0.69613</td>\n",
       "      <td>0.413627</td>\n",
       "      <td>0.392258</td>\n",
       "    </tr>\n",
       "  </tbody>\n",
       "</table>\n",
       "</div>"
      ],
      "text/plain": [
       "   Model  Train ROC-AUC  Test ROC-AUC  Train gini  Test gini\n",
       "0  Final       0.706813       0.69613    0.413627   0.392258"
      ]
     },
     "execution_count": 33,
     "metadata": {},
     "output_type": "execute_result"
    }
   ],
   "source": [
    "model='Prediction'\n",
    "test_roc_auc=roc_auc_score(dataset[(dataset.cal_year == int(split_year))][target], dataset[(dataset.cal_year == int(split_year))][model])\n",
    "train_roc_auc=roc_auc_score(dataset[(dataset.cal_year < int(split_year))][target], dataset[(dataset.cal_year < int(split_year))][model])\n",
    "    \n",
    "test_gini=gini(dataset[(dataset.cal_year == int(split_year))][target],dataset[(dataset.cal_year == int(split_year))][model])/gini(dataset[(dataset.cal_year == int(split_year))][target],dataset[(dataset.cal_year == int(split_year))][target])\n",
    "train_gini=gini(dataset[(dataset.cal_year < int(split_year))][target],dataset[(dataset.cal_year < int(split_year))][model])/gini(dataset[(dataset.cal_year < int(split_year))][target],dataset[(dataset.cal_year < int(split_year))][target])\n",
    "    \n",
    "TestingDataResults = pd.DataFrame(list(zip(['Final'],[train_roc_auc],[test_roc_auc],[train_gini],[test_gini])), \n",
    "               columns =['Model','Train ROC-AUC','Test ROC-AUC','Train gini','Test gini'])\n",
    "TestingDataResults"
   ]
  },
  {
   "cell_type": "code",
   "execution_count": 34,
   "metadata": {},
   "outputs": [],
   "source": [
    "Scores=Scores.append(TestingDataResults, ignore_index=True)"
   ]
  },
  {
   "cell_type": "code",
   "execution_count": 35,
   "metadata": {},
   "outputs": [
    {
     "data": {
      "text/html": [
       "<div>\n",
       "<style scoped>\n",
       "    .dataframe tbody tr th:only-of-type {\n",
       "        vertical-align: middle;\n",
       "    }\n",
       "\n",
       "    .dataframe tbody tr th {\n",
       "        vertical-align: top;\n",
       "    }\n",
       "\n",
       "    .dataframe thead th {\n",
       "        text-align: right;\n",
       "    }\n",
       "</style>\n",
       "<table border=\"1\" class=\"dataframe\">\n",
       "  <thead>\n",
       "    <tr style=\"text-align: right;\">\n",
       "      <th></th>\n",
       "      <th>Model</th>\n",
       "      <th>Train ROC-AUC</th>\n",
       "      <th>Test ROC-AUC</th>\n",
       "      <th>Train gini</th>\n",
       "      <th>Test gini</th>\n",
       "    </tr>\n",
       "  </thead>\n",
       "  <tbody>\n",
       "    <tr>\n",
       "      <th>0</th>\n",
       "      <td>PropertyAge</td>\n",
       "      <td>0.706813</td>\n",
       "      <td>0.69613</td>\n",
       "      <td>0.413627</td>\n",
       "      <td>0.392258</td>\n",
       "    </tr>\n",
       "    <tr>\n",
       "      <th>1</th>\n",
       "      <td>Final</td>\n",
       "      <td>0.706813</td>\n",
       "      <td>0.69613</td>\n",
       "      <td>0.413627</td>\n",
       "      <td>0.392258</td>\n",
       "    </tr>\n",
       "  </tbody>\n",
       "</table>\n",
       "</div>"
      ],
      "text/plain": [
       "         Model  Train ROC-AUC  Test ROC-AUC  Train gini  Test gini\n",
       "0  PropertyAge       0.706813       0.69613    0.413627   0.392258\n",
       "1        Final       0.706813       0.69613    0.413627   0.392258"
      ]
     },
     "execution_count": 35,
     "metadata": {},
     "output_type": "execute_result"
    }
   ],
   "source": [
    "Scores=Scores.sort_values('Test ROC-AUC', ascending=False)\n",
    "Scores"
   ]
  },
  {
   "cell_type": "code",
   "execution_count": 36,
   "metadata": {},
   "outputs": [],
   "source": [
    "#Saving into the Experiment log \n",
    "eu.SaveToExperimentLog(Experiments_file, '%s Scores'%Experiment_name, Scores)"
   ]
  },
  {
   "cell_type": "code",
   "execution_count": 37,
   "metadata": {},
   "outputs": [
    {
     "data": {
      "text/plain": [
       "<AxesSubplot:xlabel='Model'>"
      ]
     },
     "execution_count": 37,
     "metadata": {},
     "output_type": "execute_result"
    },
    {
     "data": {
      "image/png": "[encoded data removed]",
      "text/plain": [
       "<Figure size 1080x720 with 1 Axes>"
      ]
     },
     "metadata": {
      "needs_background": "light"
     },
     "output_type": "display_data"
    }
   ],
   "source": [
    "import matplotlib.pyplot as plt\n",
    "fig = plt.figure()\n",
    "fig.set_size_inches([15, 10])\n",
    "Scores.plot.bar('Model', 'Test ROC-AUC',ax=plt.gca())"
   ]
  }
 ],
 "metadata": {
  "kernelspec": {
   "display_name": "Python 3",
   "language": "python",
   "name": "python3"
  },
  "language_info": {
   "codemirror_mode": {
    "name": "ipython",
    "version": 3
   },
   "file_extension": ".py",
   "mimetype": "text/x-python",
   "name": "python",
   "nbconvert_exporter": "python",
   "pygments_lexer": "ipython3",
   "version": "3.8.5"
  }
 },
 "nbformat": 4,
 "nbformat_minor": 4
}
